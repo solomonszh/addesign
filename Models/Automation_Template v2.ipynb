{
 "cells": [
  {
   "cell_type": "markdown",
   "metadata": {},
   "source": [
    "# Set up"
   ]
  },
  {
   "cell_type": "code",
   "execution_count": 1,
   "metadata": {
    "ExecuteTime": {
     "end_time": "2020-06-21T14:28:59.481402Z",
     "start_time": "2020-06-21T14:28:58.063166Z"
    }
   },
   "outputs": [
    {
     "name": "stderr",
     "output_type": "stream",
     "text": [
      "C:\\Users\\User\\Anaconda3\\lib\\site-packages\\statsmodels\\tools\\_testing.py:19: FutureWarning: pandas.util.testing is deprecated. Use the functions in the public API at pandas.testing instead.\n",
      "  import pandas.util.testing as tm\n"
     ]
    }
   ],
   "source": [
    "import pandas as pd\n",
    "import numpy as np\n",
    "import seaborn as sns\n",
    "import matplotlib.pyplot as plt\n",
    "log_data = pd.read_excel(r'Master_session_log_template.xlsx', skiprows=14)"
   ]
  },
  {
   "cell_type": "code",
   "execution_count": 2,
   "metadata": {
    "ExecuteTime": {
     "end_time": "2020-06-21T14:28:59.492366Z",
     "start_time": "2020-06-21T14:28:59.482368Z"
    }
   },
   "outputs": [],
   "source": [
    "import six\n",
    "\n",
    "def render_mpl_table(data, filesave=None, col_width=3.0, row_height=0.625, font_size=14,\n",
    "                     header_color='#40466e', row_colors=['#f1f1f2', 'w'], edge_color='w',\n",
    "                     bbox=[0, 0, 1, 1], header_columns=0,\n",
    "                     ax=None, **kwargs):\n",
    "    if ax is None:\n",
    "        size = (np.array(data.shape[::-1]) + np.array([0, 1])) * np.array([col_width, row_height])\n",
    "        fig, ax = plt.subplots(figsize=size)\n",
    "        ax.axis('off')\n",
    "\n",
    "    mpl_table = ax.table(cellText=data.values, bbox=bbox, colLabels=data.columns, **kwargs)\n",
    "\n",
    "    mpl_table.auto_set_font_size(False)\n",
    "    mpl_table.set_fontsize(font_size)\n",
    "\n",
    "    for k, cell in six.iteritems(mpl_table._cells):\n",
    "        cell.set_edgecolor(edge_color)\n",
    "        if k[0] == 0 or k[1] < header_columns:\n",
    "            cell.set_text_props(weight='bold', color='w')\n",
    "            cell.set_facecolor(header_color)\n",
    "        else:\n",
    "            cell.set_facecolor(row_colors[k[0]%len(row_colors) ])\n",
    "    ax.figure.savefig(str(filesave), bbox_inches='tight')\n",
    "    return ax"
   ]
  },
  {
   "cell_type": "code",
   "execution_count": 3,
   "metadata": {
    "ExecuteTime": {
     "end_time": "2020-06-21T14:28:59.518307Z",
     "start_time": "2020-06-21T14:28:59.494336Z"
    }
   },
   "outputs": [
    {
     "data": {
      "text/html": [
       "<div>\n",
       "<style scoped>\n",
       "    .dataframe tbody tr th:only-of-type {\n",
       "        vertical-align: middle;\n",
       "    }\n",
       "\n",
       "    .dataframe tbody tr th {\n",
       "        vertical-align: top;\n",
       "    }\n",
       "\n",
       "    .dataframe thead th {\n",
       "        text-align: right;\n",
       "    }\n",
       "</style>\n",
       "<table border=\"1\" class=\"dataframe\">\n",
       "  <thead>\n",
       "    <tr style=\"text-align: right;\">\n",
       "      <th></th>\n",
       "      <th>Analyst ID</th>\n",
       "      <th>Name</th>\n",
       "      <th>Phone Model</th>\n",
       "      <th>Location</th>\n",
       "      <th>VPN?</th>\n",
       "      <th>Session Number</th>\n",
       "      <th>Date (D/M/Y)</th>\n",
       "      <th>Session Duration</th>\n",
       "      <th>Game</th>\n",
       "      <th>Nudge Time (HH:MM:SS)</th>\n",
       "      <th>...</th>\n",
       "      <th>Did you Purchase?</th>\n",
       "      <th>IAP Stacked reward</th>\n",
       "      <th>AD Format:</th>\n",
       "      <th>AD type</th>\n",
       "      <th>Watched</th>\n",
       "      <th>If Rewarded? Type?</th>\n",
       "      <th>AD Stacked Rewards (Y/N)</th>\n",
       "      <th>Advertiser</th>\n",
       "      <th>Notes/Comments</th>\n",
       "      <th>Link to Recording</th>\n",
       "    </tr>\n",
       "  </thead>\n",
       "  <tbody>\n",
       "    <tr>\n",
       "      <th>0</th>\n",
       "      <td>2</td>\n",
       "      <td>Solomon</td>\n",
       "      <td>Android</td>\n",
       "      <td>Singapore</td>\n",
       "      <td>no</td>\n",
       "      <td>1</td>\n",
       "      <td>15/05/2020</td>\n",
       "      <td>00:11:37</td>\n",
       "      <td>Word Stack</td>\n",
       "      <td>00:00:04</td>\n",
       "      <td>...</td>\n",
       "      <td>NaN</td>\n",
       "      <td>NaN</td>\n",
       "      <td>NaN</td>\n",
       "      <td>NaN</td>\n",
       "      <td>NaN</td>\n",
       "      <td>NaN</td>\n",
       "      <td>NaN</td>\n",
       "      <td>NaN</td>\n",
       "      <td>NaN</td>\n",
       "      <td>NaN</td>\n",
       "    </tr>\n",
       "    <tr>\n",
       "      <th>1</th>\n",
       "      <td>2</td>\n",
       "      <td>Solomon</td>\n",
       "      <td>Android</td>\n",
       "      <td>Singapore</td>\n",
       "      <td>no</td>\n",
       "      <td>1</td>\n",
       "      <td>15/05/2020</td>\n",
       "      <td>00:11:37</td>\n",
       "      <td>Word Stack</td>\n",
       "      <td>00:00:15</td>\n",
       "      <td>...</td>\n",
       "      <td>NaN</td>\n",
       "      <td>NaN</td>\n",
       "      <td>NaN</td>\n",
       "      <td>NaN</td>\n",
       "      <td>NaN</td>\n",
       "      <td>NaN</td>\n",
       "      <td>NaN</td>\n",
       "      <td>NaN</td>\n",
       "      <td>NaN</td>\n",
       "      <td>NaN</td>\n",
       "    </tr>\n",
       "    <tr>\n",
       "      <th>2</th>\n",
       "      <td>2</td>\n",
       "      <td>Solomon</td>\n",
       "      <td>Android</td>\n",
       "      <td>Singapore</td>\n",
       "      <td>no</td>\n",
       "      <td>1</td>\n",
       "      <td>15/05/2020</td>\n",
       "      <td>00:11:37</td>\n",
       "      <td>Word Stack</td>\n",
       "      <td>00:00:30</td>\n",
       "      <td>...</td>\n",
       "      <td>NaN</td>\n",
       "      <td>NaN</td>\n",
       "      <td>NaN</td>\n",
       "      <td>NaN</td>\n",
       "      <td>NaN</td>\n",
       "      <td>NaN</td>\n",
       "      <td>NaN</td>\n",
       "      <td>NaN</td>\n",
       "      <td>NaN</td>\n",
       "      <td>NaN</td>\n",
       "    </tr>\n",
       "    <tr>\n",
       "      <th>3</th>\n",
       "      <td>2</td>\n",
       "      <td>Solomon</td>\n",
       "      <td>Android</td>\n",
       "      <td>Singapore</td>\n",
       "      <td>no</td>\n",
       "      <td>1</td>\n",
       "      <td>15/05/2020</td>\n",
       "      <td>00:11:37</td>\n",
       "      <td>Word Stack</td>\n",
       "      <td>00:00:32</td>\n",
       "      <td>...</td>\n",
       "      <td>NaN</td>\n",
       "      <td>NaN</td>\n",
       "      <td>Rewarded</td>\n",
       "      <td>Static</td>\n",
       "      <td>y</td>\n",
       "      <td>In-game Currency</td>\n",
       "      <td>NaN</td>\n",
       "      <td>Word Stack</td>\n",
       "      <td>NaN</td>\n",
       "      <td>NaN</td>\n",
       "    </tr>\n",
       "    <tr>\n",
       "      <th>4</th>\n",
       "      <td>2</td>\n",
       "      <td>Solomon</td>\n",
       "      <td>Android</td>\n",
       "      <td>Singapore</td>\n",
       "      <td>no</td>\n",
       "      <td>1</td>\n",
       "      <td>15/05/2020</td>\n",
       "      <td>00:11:37</td>\n",
       "      <td>Word Stack</td>\n",
       "      <td>00:00:35</td>\n",
       "      <td>...</td>\n",
       "      <td>NaN</td>\n",
       "      <td>NaN</td>\n",
       "      <td>Rewarded</td>\n",
       "      <td>Video</td>\n",
       "      <td>y</td>\n",
       "      <td>In-game Currency</td>\n",
       "      <td>NaN</td>\n",
       "      <td>Word Jump</td>\n",
       "      <td>NaN</td>\n",
       "      <td>NaN</td>\n",
       "    </tr>\n",
       "  </tbody>\n",
       "</table>\n",
       "<p>5 rows × 29 columns</p>\n",
       "</div>"
      ],
      "text/plain": [
       "   Analyst ID     Name Phone Model   Location VPN?  Session Number  \\\n",
       "0           2  Solomon     Android  Singapore   no               1   \n",
       "1           2  Solomon     Android  Singapore   no               1   \n",
       "2           2  Solomon     Android  Singapore   no               1   \n",
       "3           2  Solomon     Android  Singapore   no               1   \n",
       "4           2  Solomon     Android  Singapore   no               1   \n",
       "\n",
       "  Date (D/M/Y) Session Duration        Game Nudge Time (HH:MM:SS)  ...  \\\n",
       "0   15/05/2020         00:11:37  Word Stack              00:00:04  ...   \n",
       "1   15/05/2020         00:11:37  Word Stack              00:00:15  ...   \n",
       "2   15/05/2020         00:11:37  Word Stack              00:00:30  ...   \n",
       "3   15/05/2020         00:11:37  Word Stack              00:00:32  ...   \n",
       "4   15/05/2020         00:11:37  Word Stack              00:00:35  ...   \n",
       "\n",
       "  Did you Purchase? IAP Stacked reward AD Format: AD type  Watched   \\\n",
       "0               NaN                NaN        NaN     NaN       NaN   \n",
       "1               NaN                NaN        NaN     NaN       NaN   \n",
       "2               NaN                NaN        NaN     NaN       NaN   \n",
       "3               NaN                NaN   Rewarded  Static         y   \n",
       "4               NaN                NaN   Rewarded   Video         y   \n",
       "\n",
       "   If Rewarded? Type? AD Stacked Rewards (Y/N)  Advertiser Notes/Comments  \\\n",
       "0                 NaN                      NaN         NaN            NaN   \n",
       "1                 NaN                      NaN         NaN            NaN   \n",
       "2                 NaN                      NaN         NaN            NaN   \n",
       "3    In-game Currency                      NaN  Word Stack            NaN   \n",
       "4    In-game Currency                      NaN   Word Jump            NaN   \n",
       "\n",
       "   Link to Recording  \n",
       "0                NaN  \n",
       "1                NaN  \n",
       "2                NaN  \n",
       "3                NaN  \n",
       "4                NaN  \n",
       "\n",
       "[5 rows x 29 columns]"
      ]
     },
     "execution_count": 3,
     "metadata": {},
     "output_type": "execute_result"
    }
   ],
   "source": [
    "log_data = log_data[log_data.columns.drop(list(log_data.filter(regex='Unnamed')))]\n",
    "log_data.head()"
   ]
  },
  {
   "cell_type": "code",
   "execution_count": 4,
   "metadata": {
    "ExecuteTime": {
     "end_time": "2020-06-21T14:28:59.524258Z",
     "start_time": "2020-06-21T14:28:59.519269Z"
    }
   },
   "outputs": [
    {
     "data": {
      "text/plain": [
       "'Word Stack'"
      ]
     },
     "execution_count": 4,
     "metadata": {},
     "output_type": "execute_result"
    }
   ],
   "source": [
    "game = str(log_data['Game'][0])\n",
    "game"
   ]
  },
  {
   "cell_type": "markdown",
   "metadata": {},
   "source": [
    "# Internal SME"
   ]
  },
  {
   "cell_type": "code",
   "execution_count": 5,
   "metadata": {
    "ExecuteTime": {
     "end_time": "2020-06-21T14:28:59.538218Z",
     "start_time": "2020-06-21T14:28:59.526251Z"
    }
   },
   "outputs": [],
   "source": [
    "from datetime import datetime, timedelta\n",
    "\n",
    "\n",
    "###Split the ad design score into rewarded, interstitial, banner score! --> If I only care about some \n",
    "###The green one may not be needed \n",
    "###Organize\n",
    "###Split ad type\n",
    "###Ad display he wont know\n",
    "\n",
    "\n",
    "\n",
    "#explore renaming\n",
    "sme_ad_occurence_ad = 20 #by a specific timeframe/per mins\n",
    "sme_banner_occurence_ad = 7\n",
    "sme_interstitial_occurence_ad = 7\n",
    "sme_rewarded_occurence_ad = 7\n",
    "sme_ad_velocity_ad = 30\n",
    "sme_banner_velocity_ad = 30\n",
    "sme_interstitial_velocity_ad = 30\n",
    "sme_rewarded_velocity_ad = 30\n",
    "sme_ad_proactiveness_ad = 0.5\n",
    "sme_banner_proactiveness_ad = 0.5\n",
    "sme_interstitial_proactiveness_ad = 0.5\n",
    "sme_rewarded_proactiveness_ad = 0.5\n",
    "sme_ad_variety_score_ad = 1\n",
    "sme_ad_placement_variety_score_ad = 1\n",
    "sme_time_to_first_ad_ad = 30\n",
    "sme_time_to_first_banner_ad = 15\n",
    "sme_time_to_first_interstitial_ad = 30\n",
    "sme_time_to_first_rewarded_ad = 15\n",
    "sme_rv_rewards_stacked_ad = 0.5\n",
    "#Ad penetration (DAV(Daily Active Viewers)/DAU(Daily Active Users))\n",
    "\n",
    "sme_ad_occurence_iap = 20\n",
    "sme_banner_occurence_iap = 7\n",
    "sme_interstitial_occurence_iap = 7\n",
    "sme_rewarded_occurence_iap = 7\n",
    "sme_ad_velocity_iap = 30\n",
    "sme_banner_velocity_iap = 30\n",
    "sme_interstitial_velocity_iap = 30\n",
    "sme_rewarded_velocity_iap = 30\n",
    "sme_ad_proactiveness_iap = 0.5\n",
    "sme_banner_proactiveness_iap = 0.5\n",
    "sme_interstitial_proactiveness_iap = 0.5\n",
    "sme_rewarded_proactiveness_iap = 0.5\n",
    "sme_ad_variety_score_iap = 1\n",
    "sme_ad_placement_variety_score_iap = 1\n",
    "sme_time_to_first_ad_iap = 30\n",
    "sme_time_to_first_banner_iap = 15\n",
    "sme_time_to_first_interstitial_iap = 30\n",
    "sme_time_to_first_rewarded_iap = 15\n",
    "sme_rv_rewards_stacked_iap = 0.5"
   ]
  },
  {
   "cell_type": "markdown",
   "metadata": {},
   "source": [
    "# Macro Metrics"
   ]
  },
  {
   "cell_type": "code",
   "execution_count": 6,
   "metadata": {
    "ExecuteTime": {
     "end_time": "2020-06-21T14:28:59.546197Z",
     "start_time": "2020-06-21T14:28:59.539215Z"
    }
   },
   "outputs": [
    {
     "data": {
      "text/plain": [
       "Index(['Analyst ID', 'Name', 'Phone Model', 'Location', 'VPN?',\n",
       "       'Session Number', 'Date (D/M/Y)', 'Session Duration', 'Game',\n",
       "       'Nudge Time (HH:MM:SS)', 'Start Type', 'Location in game', 'Game Push',\n",
       "       'Gift', 'What is Gifted', 'Gift Stacked reward', 'IAP Type',\n",
       "       'IAP Purchased With?', 'What was for sale?', 'Did you Purchase?',\n",
       "       'IAP Stacked reward', 'AD Format:', 'AD type', 'Watched ',\n",
       "       'If Rewarded? Type?', 'AD Stacked Rewards (Y/N)', 'Advertiser',\n",
       "       'Notes/Comments', 'Link to Recording'],\n",
       "      dtype='object')"
      ]
     },
     "execution_count": 6,
     "metadata": {},
     "output_type": "execute_result"
    }
   ],
   "source": [
    "log_data.columns"
   ]
  },
  {
   "cell_type": "code",
   "execution_count": 7,
   "metadata": {
    "ExecuteTime": {
     "end_time": "2020-06-21T14:28:59.553214Z",
     "start_time": "2020-06-21T14:28:59.548192Z"
    }
   },
   "outputs": [
    {
     "data": {
      "text/plain": [
       "0.6666666666666666"
      ]
     },
     "execution_count": 7,
     "metadata": {},
     "output_type": "execute_result"
    }
   ],
   "source": [
    "ad_cols = ['Banner', 'Interstitial', 'Rewarded']\n",
    "\n",
    "ad_variety_score = log_data['AD Format:'].nunique()/len(ad_cols)\n",
    "ad_variety_score"
   ]
  },
  {
   "cell_type": "code",
   "execution_count": 8,
   "metadata": {
    "ExecuteTime": {
     "end_time": "2020-06-21T14:28:59.561194Z",
     "start_time": "2020-06-21T14:28:59.554176Z"
    }
   },
   "outputs": [
    {
     "data": {
      "text/plain": [
       "0.2"
      ]
     },
     "execution_count": 8,
     "metadata": {},
     "output_type": "execute_result"
    }
   ],
   "source": [
    "game_location_cols = ['AD', 'App Start', 'Death/Mission', 'Game Pause', 'Game Play', 'Game Store', 'Level End', 'Load Screen',\n",
    "                     'Menu', 'Other']\n",
    "\n",
    "ad_placement_variety_score = log_data[log_data['AD Format:'].notnull()]['Location in game'].nunique()/len(game_location_cols)\n",
    "ad_placement_variety_score"
   ]
  },
  {
   "cell_type": "code",
   "execution_count": 9,
   "metadata": {
    "ExecuteTime": {
     "end_time": "2020-06-21T14:28:59.567175Z",
     "start_time": "2020-06-21T14:28:59.562154Z"
    }
   },
   "outputs": [
    {
     "data": {
      "text/plain": [
       "'AD Focused'"
      ]
     },
     "execution_count": 9,
     "metadata": {},
     "output_type": "execute_result"
    }
   ],
   "source": [
    "if log_data['AD Format:'].count()/log_data['Start Type'].count() > 0.5:\n",
    "    monetization_strategy = 'AD Focused'\n",
    "else:\n",
    "    monetization_strategy = 'IAP Focused'\n",
    "monetization_strategy"
   ]
  },
  {
   "cell_type": "markdown",
   "metadata": {},
   "source": [
    "# Time to first "
   ]
  },
  {
   "cell_type": "markdown",
   "metadata": {},
   "source": [
    "## Time to first ad "
   ]
  },
  {
   "cell_type": "code",
   "execution_count": 10,
   "metadata": {
    "ExecuteTime": {
     "end_time": "2020-06-21T14:28:59.573131Z",
     "start_time": "2020-06-21T14:28:59.568138Z"
    }
   },
   "outputs": [
    {
     "name": "stdout",
     "output_type": "stream",
     "text": [
      "00:00:32\n"
     ]
    }
   ],
   "source": [
    "if log_data['AD Format:'].notnull().sum():\n",
    "    first_ad_index = log_data['AD Format:'].first_valid_index()\n",
    "    time_to_first_ad = log_data['Nudge Time (HH:MM:SS)'][first_ad_index ]\n",
    "    print(time_to_first_ad)"
   ]
  },
  {
   "cell_type": "markdown",
   "metadata": {},
   "source": [
    "## Time to first Banner"
   ]
  },
  {
   "cell_type": "code",
   "execution_count": 11,
   "metadata": {
    "ExecuteTime": {
     "end_time": "2020-06-21T14:28:59.579133Z",
     "start_time": "2020-06-21T14:28:59.574123Z"
    }
   },
   "outputs": [
    {
     "data": {
      "text/plain": [
       "nan"
      ]
     },
     "execution_count": 11,
     "metadata": {},
     "output_type": "execute_result"
    }
   ],
   "source": [
    "if 'Banner' in log_data['AD Format:'].values: \n",
    "    first_banner = log_data[log_data['AD Format:'] == 'banner'].index[0]\n",
    "    time_to_first_banner = log_data['Nudge Time (HH:MM:SS)'][first_banner]\n",
    "    print(time_to_first_banner)\n",
    "else:\n",
    "    time_to_first_banner = np.nan\n",
    "time_to_first_banner"
   ]
  },
  {
   "cell_type": "markdown",
   "metadata": {},
   "source": [
    "## Time to first Interstitial "
   ]
  },
  {
   "cell_type": "code",
   "execution_count": 12,
   "metadata": {
    "ExecuteTime": {
     "end_time": "2020-06-21T14:28:59.585118Z",
     "start_time": "2020-06-21T14:28:59.580107Z"
    }
   },
   "outputs": [],
   "source": [
    "if 'Interstitial' in log_data['AD Format:'].values: \n",
    "    first_interstitial = log_data[log_data['AD Format:'] == 'Interstitial'].index[0]\n",
    "    time_to_first_interstitial = log_data['Nudge Time (HH:MM:SS)'][first_interstitial]\n",
    "else:\n",
    "    time_to_first_interstitial = np.nan"
   ]
  },
  {
   "cell_type": "markdown",
   "metadata": {},
   "source": [
    "## Time to first Rewarded"
   ]
  },
  {
   "cell_type": "code",
   "execution_count": 13,
   "metadata": {
    "ExecuteTime": {
     "end_time": "2020-06-21T14:28:59.595098Z",
     "start_time": "2020-06-21T14:28:59.586091Z"
    }
   },
   "outputs": [
    {
     "name": "stdout",
     "output_type": "stream",
     "text": [
      "00:00:32\n"
     ]
    }
   ],
   "source": [
    "if 'Rewarded' in log_data['AD Format:'].values: \n",
    "    first_rewarded = log_data[log_data['AD Format:'] == 'Rewarded'].index[0]\n",
    "    time_to_first_rewarded = log_data['Nudge Time (HH:MM:SS)'][first_rewarded]\n",
    "    print(time_to_first_rewarded)\n",
    "else:\n",
    "    time_to_first_rewarded = np.nan"
   ]
  },
  {
   "cell_type": "markdown",
   "metadata": {},
   "source": [
    "# Nudge Stats "
   ]
  },
  {
   "cell_type": "code",
   "execution_count": 14,
   "metadata": {
    "ExecuteTime": {
     "end_time": "2020-06-21T14:28:59.611024Z",
     "start_time": "2020-06-21T14:28:59.596063Z"
    }
   },
   "outputs": [
    {
     "data": {
      "text/html": [
       "<div>\n",
       "<style scoped>\n",
       "    .dataframe tbody tr th:only-of-type {\n",
       "        vertical-align: middle;\n",
       "    }\n",
       "\n",
       "    .dataframe tbody tr th {\n",
       "        vertical-align: top;\n",
       "    }\n",
       "\n",
       "    .dataframe thead th {\n",
       "        text-align: right;\n",
       "    }\n",
       "</style>\n",
       "<table border=\"1\" class=\"dataframe\">\n",
       "  <thead>\n",
       "    <tr style=\"text-align: right;\">\n",
       "      <th></th>\n",
       "      <th>Session Number</th>\n",
       "      <th>Start Type</th>\n",
       "      <th>AD Format:</th>\n",
       "    </tr>\n",
       "  </thead>\n",
       "  <tbody>\n",
       "    <tr>\n",
       "      <th>0</th>\n",
       "      <td>1</td>\n",
       "      <td>27</td>\n",
       "      <td>26</td>\n",
       "    </tr>\n",
       "    <tr>\n",
       "      <th>1</th>\n",
       "      <td>2</td>\n",
       "      <td>21</td>\n",
       "      <td>15</td>\n",
       "    </tr>\n",
       "    <tr>\n",
       "      <th>2</th>\n",
       "      <td>3</td>\n",
       "      <td>20</td>\n",
       "      <td>13</td>\n",
       "    </tr>\n",
       "    <tr>\n",
       "      <th>3</th>\n",
       "      <td>4</td>\n",
       "      <td>19</td>\n",
       "      <td>11</td>\n",
       "    </tr>\n",
       "    <tr>\n",
       "      <th>4</th>\n",
       "      <td>5</td>\n",
       "      <td>18</td>\n",
       "      <td>16</td>\n",
       "    </tr>\n",
       "    <tr>\n",
       "      <th>5</th>\n",
       "      <td>6</td>\n",
       "      <td>17</td>\n",
       "      <td>12</td>\n",
       "    </tr>\n",
       "  </tbody>\n",
       "</table>\n",
       "</div>"
      ],
      "text/plain": [
       "   Session Number  Start Type  AD Format:\n",
       "0               1          27          26\n",
       "1               2          21          15\n",
       "2               3          20          13\n",
       "3               4          19          11\n",
       "4               5          18          16\n",
       "5               6          17          12"
      ]
     },
     "execution_count": 14,
     "metadata": {},
     "output_type": "execute_result"
    }
   ],
   "source": [
    "nudge_stats = log_data.pivot_table(index='Session Number', aggfunc='count').reset_index()\n",
    "nudge_stats = nudge_stats[['Session Number', 'Start Type', 'AD Format:']]\n",
    "nudge_stats"
   ]
  },
  {
   "cell_type": "code",
   "execution_count": 15,
   "metadata": {
    "ExecuteTime": {
     "end_time": "2020-06-21T14:28:59.617040Z",
     "start_time": "2020-06-21T14:28:59.612021Z"
    }
   },
   "outputs": [],
   "source": [
    "log_data['Session Duration'] = pd.to_timedelta(log_data['Session Duration'].astype(str)).dt.total_seconds()"
   ]
  },
  {
   "cell_type": "code",
   "execution_count": 16,
   "metadata": {
    "ExecuteTime": {
     "end_time": "2020-06-21T14:28:59.669866Z",
     "start_time": "2020-06-21T14:28:59.618005Z"
    }
   },
   "outputs": [
    {
     "data": {
      "text/html": [
       "<div>\n",
       "<style scoped>\n",
       "    .dataframe tbody tr th:only-of-type {\n",
       "        vertical-align: middle;\n",
       "    }\n",
       "\n",
       "    .dataframe tbody tr th {\n",
       "        vertical-align: top;\n",
       "    }\n",
       "\n",
       "    .dataframe thead th {\n",
       "        text-align: right;\n",
       "    }\n",
       "</style>\n",
       "<table border=\"1\" class=\"dataframe\">\n",
       "  <thead>\n",
       "    <tr style=\"text-align: right;\">\n",
       "      <th></th>\n",
       "      <th>Session Number</th>\n",
       "      <th>Start Type</th>\n",
       "      <th>AD Format:</th>\n",
       "      <th>Interstitial</th>\n",
       "      <th>Rewarded</th>\n",
       "      <th>Static</th>\n",
       "      <th>Video</th>\n",
       "      <th>Session Duration</th>\n",
       "      <th>Game Initiated</th>\n",
       "      <th>Player Initiated</th>\n",
       "      <th>Rewarded_Game Initiated</th>\n",
       "      <th>Rewarded_Player Initiated</th>\n",
       "      <th>Interstitial_Game Initiated</th>\n",
       "    </tr>\n",
       "  </thead>\n",
       "  <tbody>\n",
       "    <tr>\n",
       "      <th>0</th>\n",
       "      <td>1</td>\n",
       "      <td>27</td>\n",
       "      <td>26</td>\n",
       "      <td>NaN</td>\n",
       "      <td>26.0</td>\n",
       "      <td>12.0</td>\n",
       "      <td>14.0</td>\n",
       "      <td>00:11:37</td>\n",
       "      <td>20.0</td>\n",
       "      <td>6.0</td>\n",
       "      <td>20.0</td>\n",
       "      <td>6.0</td>\n",
       "      <td>NaN</td>\n",
       "    </tr>\n",
       "    <tr>\n",
       "      <th>1</th>\n",
       "      <td>2</td>\n",
       "      <td>21</td>\n",
       "      <td>15</td>\n",
       "      <td>NaN</td>\n",
       "      <td>15.0</td>\n",
       "      <td>NaN</td>\n",
       "      <td>15.0</td>\n",
       "      <td>00:12:02</td>\n",
       "      <td>8.0</td>\n",
       "      <td>7.0</td>\n",
       "      <td>8.0</td>\n",
       "      <td>7.0</td>\n",
       "      <td>NaN</td>\n",
       "    </tr>\n",
       "    <tr>\n",
       "      <th>2</th>\n",
       "      <td>3</td>\n",
       "      <td>20</td>\n",
       "      <td>13</td>\n",
       "      <td>NaN</td>\n",
       "      <td>13.0</td>\n",
       "      <td>NaN</td>\n",
       "      <td>13.0</td>\n",
       "      <td>00:10:07</td>\n",
       "      <td>6.0</td>\n",
       "      <td>7.0</td>\n",
       "      <td>6.0</td>\n",
       "      <td>7.0</td>\n",
       "      <td>NaN</td>\n",
       "    </tr>\n",
       "    <tr>\n",
       "      <th>3</th>\n",
       "      <td>4</td>\n",
       "      <td>19</td>\n",
       "      <td>11</td>\n",
       "      <td>1.0</td>\n",
       "      <td>10.0</td>\n",
       "      <td>NaN</td>\n",
       "      <td>11.0</td>\n",
       "      <td>00:11:25</td>\n",
       "      <td>7.0</td>\n",
       "      <td>4.0</td>\n",
       "      <td>6.0</td>\n",
       "      <td>4.0</td>\n",
       "      <td>1.0</td>\n",
       "    </tr>\n",
       "    <tr>\n",
       "      <th>4</th>\n",
       "      <td>5</td>\n",
       "      <td>18</td>\n",
       "      <td>16</td>\n",
       "      <td>1.0</td>\n",
       "      <td>15.0</td>\n",
       "      <td>NaN</td>\n",
       "      <td>16.0</td>\n",
       "      <td>00:10:19</td>\n",
       "      <td>2.0</td>\n",
       "      <td>14.0</td>\n",
       "      <td>1.0</td>\n",
       "      <td>14.0</td>\n",
       "      <td>1.0</td>\n",
       "    </tr>\n",
       "    <tr>\n",
       "      <th>5</th>\n",
       "      <td>6</td>\n",
       "      <td>17</td>\n",
       "      <td>12</td>\n",
       "      <td>3.0</td>\n",
       "      <td>9.0</td>\n",
       "      <td>NaN</td>\n",
       "      <td>12.0</td>\n",
       "      <td>00:11:30</td>\n",
       "      <td>7.0</td>\n",
       "      <td>5.0</td>\n",
       "      <td>4.0</td>\n",
       "      <td>5.0</td>\n",
       "      <td>3.0</td>\n",
       "    </tr>\n",
       "  </tbody>\n",
       "</table>\n",
       "</div>"
      ],
      "text/plain": [
       "   Session Number  Start Type  AD Format:  Interstitial  Rewarded  Static  \\\n",
       "0               1          27          26           NaN      26.0    12.0   \n",
       "1               2          21          15           NaN      15.0     NaN   \n",
       "2               3          20          13           NaN      13.0     NaN   \n",
       "3               4          19          11           1.0      10.0     NaN   \n",
       "4               5          18          16           1.0      15.0     NaN   \n",
       "5               6          17          12           3.0       9.0     NaN   \n",
       "\n",
       "   Video Session Duration  Game Initiated  Player Initiated  \\\n",
       "0   14.0         00:11:37            20.0               6.0   \n",
       "1   15.0         00:12:02             8.0               7.0   \n",
       "2   13.0         00:10:07             6.0               7.0   \n",
       "3   11.0         00:11:25             7.0               4.0   \n",
       "4   16.0         00:10:19             2.0              14.0   \n",
       "5   12.0         00:11:30             7.0               5.0   \n",
       "\n",
       "   Rewarded_Game Initiated  Rewarded_Player Initiated  \\\n",
       "0                     20.0                        6.0   \n",
       "1                      8.0                        7.0   \n",
       "2                      6.0                        7.0   \n",
       "3                      6.0                        4.0   \n",
       "4                      1.0                       14.0   \n",
       "5                      4.0                        5.0   \n",
       "\n",
       "   Interstitial_Game Initiated  \n",
       "0                          NaN  \n",
       "1                          NaN  \n",
       "2                          NaN  \n",
       "3                          1.0  \n",
       "4                          1.0  \n",
       "5                          3.0  "
      ]
     },
     "execution_count": 16,
     "metadata": {},
     "output_type": "execute_result"
    }
   ],
   "source": [
    "nudge_stats_minor1 = log_data.pivot_table(index='Session Number', columns='AD Format:', aggfunc='size').reset_index()\n",
    "nudge_stats_minor1.columns = tuple(nudge_stats_minor1.columns)\n",
    "\n",
    "nudge_stats_minor2 = log_data.pivot_table(index='Session Number', columns='AD type', aggfunc='size').reset_index()\n",
    "nudge_stats_minor2.columns = tuple(nudge_stats_minor2.columns)\n",
    "\n",
    "nudge_stats_minor3 = log_data.pivot_table(index='Session Number', aggfunc='mean')\n",
    "nudge_stats_minor3 = nudge_stats_minor3[['Session Duration']].reset_index()\n",
    "nudge_stats_minor3['Session Duration'] = pd.to_timedelta(nudge_stats_minor3['Session Duration'], unit='s')\n",
    "\n",
    "nudge_stats_minor4 = log_data.groupby(['Session Number', 'AD Format:', 'Start Type']).size().unstack('Start Type').reset_index().groupby('Session Number').sum().reset_index()\n",
    "nudge_stats_minor4.columns = tuple(nudge_stats_minor4.columns)\n",
    "\n",
    "nudge_stats_minor5 = log_data.groupby(['Session Number', 'AD Format:', 'Start Type']).size().unstack(['AD Format:', 'Start Type']).reset_index()\n",
    "nudge_stats_minor5.columns = nudge_stats_minor5.columns.map('_'.join).str.strip('')\n",
    "nudge_stats_minor5 = nudge_stats_minor5.rename(columns={'Session Number_':'Session Number'})\n",
    "\n",
    "nudge_stats = pd.merge(nudge_stats, nudge_stats_minor1)\n",
    "nudge_stats = pd.merge(nudge_stats, nudge_stats_minor2)\n",
    "nudge_stats = pd.merge(nudge_stats, nudge_stats_minor3)\n",
    "nudge_stats = pd.merge(nudge_stats, nudge_stats_minor4)\n",
    "nudge_stats = pd.merge(nudge_stats, nudge_stats_minor5)\n",
    "nudge_stats"
   ]
  },
  {
   "cell_type": "markdown",
   "metadata": {},
   "source": [
    "## Transformations "
   ]
  },
  {
   "cell_type": "code",
   "execution_count": 17,
   "metadata": {
    "ExecuteTime": {
     "end_time": "2020-06-21T14:28:59.683829Z",
     "start_time": "2020-06-21T14:28:59.670863Z"
    }
   },
   "outputs": [
    {
     "data": {
      "text/html": [
       "<div>\n",
       "<style scoped>\n",
       "    .dataframe tbody tr th:only-of-type {\n",
       "        vertical-align: middle;\n",
       "    }\n",
       "\n",
       "    .dataframe tbody tr th {\n",
       "        vertical-align: top;\n",
       "    }\n",
       "\n",
       "    .dataframe thead th {\n",
       "        text-align: right;\n",
       "    }\n",
       "</style>\n",
       "<table border=\"1\" class=\"dataframe\">\n",
       "  <thead>\n",
       "    <tr style=\"text-align: right;\">\n",
       "      <th></th>\n",
       "      <th>Session Number</th>\n",
       "      <th>Start Type</th>\n",
       "      <th>AD Format:</th>\n",
       "      <th>Interstitial</th>\n",
       "      <th>Rewarded</th>\n",
       "      <th>Static</th>\n",
       "      <th>Video</th>\n",
       "      <th>Session Duration</th>\n",
       "      <th>Game Initiated</th>\n",
       "      <th>Player Initiated</th>\n",
       "      <th>Rewarded_Game Initiated</th>\n",
       "      <th>Rewarded_Player Initiated</th>\n",
       "      <th>Interstitial_Game Initiated</th>\n",
       "    </tr>\n",
       "  </thead>\n",
       "  <tbody>\n",
       "    <tr>\n",
       "      <th>0</th>\n",
       "      <td>1</td>\n",
       "      <td>27</td>\n",
       "      <td>26</td>\n",
       "      <td>NaN</td>\n",
       "      <td>26.0</td>\n",
       "      <td>12.0</td>\n",
       "      <td>14.0</td>\n",
       "      <td>00:11:37</td>\n",
       "      <td>20.0</td>\n",
       "      <td>6.0</td>\n",
       "      <td>20.0</td>\n",
       "      <td>6.0</td>\n",
       "      <td>NaN</td>\n",
       "    </tr>\n",
       "    <tr>\n",
       "      <th>1</th>\n",
       "      <td>2</td>\n",
       "      <td>21</td>\n",
       "      <td>15</td>\n",
       "      <td>NaN</td>\n",
       "      <td>15.0</td>\n",
       "      <td>NaN</td>\n",
       "      <td>15.0</td>\n",
       "      <td>00:12:02</td>\n",
       "      <td>8.0</td>\n",
       "      <td>7.0</td>\n",
       "      <td>8.0</td>\n",
       "      <td>7.0</td>\n",
       "      <td>NaN</td>\n",
       "    </tr>\n",
       "    <tr>\n",
       "      <th>2</th>\n",
       "      <td>3</td>\n",
       "      <td>20</td>\n",
       "      <td>13</td>\n",
       "      <td>NaN</td>\n",
       "      <td>13.0</td>\n",
       "      <td>NaN</td>\n",
       "      <td>13.0</td>\n",
       "      <td>00:10:07</td>\n",
       "      <td>6.0</td>\n",
       "      <td>7.0</td>\n",
       "      <td>6.0</td>\n",
       "      <td>7.0</td>\n",
       "      <td>NaN</td>\n",
       "    </tr>\n",
       "    <tr>\n",
       "      <th>3</th>\n",
       "      <td>4</td>\n",
       "      <td>19</td>\n",
       "      <td>11</td>\n",
       "      <td>1.0</td>\n",
       "      <td>10.0</td>\n",
       "      <td>NaN</td>\n",
       "      <td>11.0</td>\n",
       "      <td>00:11:25</td>\n",
       "      <td>7.0</td>\n",
       "      <td>4.0</td>\n",
       "      <td>6.0</td>\n",
       "      <td>4.0</td>\n",
       "      <td>1.0</td>\n",
       "    </tr>\n",
       "    <tr>\n",
       "      <th>4</th>\n",
       "      <td>5</td>\n",
       "      <td>18</td>\n",
       "      <td>16</td>\n",
       "      <td>1.0</td>\n",
       "      <td>15.0</td>\n",
       "      <td>NaN</td>\n",
       "      <td>16.0</td>\n",
       "      <td>00:10:19</td>\n",
       "      <td>2.0</td>\n",
       "      <td>14.0</td>\n",
       "      <td>1.0</td>\n",
       "      <td>14.0</td>\n",
       "      <td>1.0</td>\n",
       "    </tr>\n",
       "    <tr>\n",
       "      <th>5</th>\n",
       "      <td>6</td>\n",
       "      <td>17</td>\n",
       "      <td>12</td>\n",
       "      <td>3.0</td>\n",
       "      <td>9.0</td>\n",
       "      <td>NaN</td>\n",
       "      <td>12.0</td>\n",
       "      <td>00:11:30</td>\n",
       "      <td>7.0</td>\n",
       "      <td>5.0</td>\n",
       "      <td>4.0</td>\n",
       "      <td>5.0</td>\n",
       "      <td>3.0</td>\n",
       "    </tr>\n",
       "  </tbody>\n",
       "</table>\n",
       "</div>"
      ],
      "text/plain": [
       "   Session Number  Start Type  AD Format:  Interstitial  Rewarded  Static  \\\n",
       "0               1          27          26           NaN      26.0    12.0   \n",
       "1               2          21          15           NaN      15.0     NaN   \n",
       "2               3          20          13           NaN      13.0     NaN   \n",
       "3               4          19          11           1.0      10.0     NaN   \n",
       "4               5          18          16           1.0      15.0     NaN   \n",
       "5               6          17          12           3.0       9.0     NaN   \n",
       "\n",
       "   Video Session Duration  Game Initiated  Player Initiated  \\\n",
       "0   14.0         00:11:37            20.0               6.0   \n",
       "1   15.0         00:12:02             8.0               7.0   \n",
       "2   13.0         00:10:07             6.0               7.0   \n",
       "3   11.0         00:11:25             7.0               4.0   \n",
       "4   16.0         00:10:19             2.0              14.0   \n",
       "5   12.0         00:11:30             7.0               5.0   \n",
       "\n",
       "   Rewarded_Game Initiated  Rewarded_Player Initiated  \\\n",
       "0                     20.0                        6.0   \n",
       "1                      8.0                        7.0   \n",
       "2                      6.0                        7.0   \n",
       "3                      6.0                        4.0   \n",
       "4                      1.0                       14.0   \n",
       "5                      4.0                        5.0   \n",
       "\n",
       "   Interstitial_Game Initiated  \n",
       "0                          NaN  \n",
       "1                          NaN  \n",
       "2                          NaN  \n",
       "3                          1.0  \n",
       "4                          1.0  \n",
       "5                          3.0  "
      ]
     },
     "execution_count": 17,
     "metadata": {},
     "output_type": "execute_result"
    }
   ],
   "source": [
    "nudge_stats"
   ]
  },
  {
   "cell_type": "code",
   "execution_count": 18,
   "metadata": {
    "ExecuteTime": {
     "end_time": "2020-06-21T14:28:59.700784Z",
     "start_time": "2020-06-21T14:28:59.684826Z"
    }
   },
   "outputs": [
    {
     "data": {
      "text/html": [
       "<div>\n",
       "<style scoped>\n",
       "    .dataframe tbody tr th:only-of-type {\n",
       "        vertical-align: middle;\n",
       "    }\n",
       "\n",
       "    .dataframe tbody tr th {\n",
       "        vertical-align: top;\n",
       "    }\n",
       "\n",
       "    .dataframe thead th {\n",
       "        text-align: right;\n",
       "    }\n",
       "</style>\n",
       "<table border=\"1\" class=\"dataframe\">\n",
       "  <thead>\n",
       "    <tr style=\"text-align: right;\">\n",
       "      <th></th>\n",
       "      <th>Session Number</th>\n",
       "      <th>Start Type</th>\n",
       "      <th>AD Format:</th>\n",
       "      <th>Interstitial</th>\n",
       "      <th>Rewarded</th>\n",
       "      <th>Static</th>\n",
       "      <th>Video</th>\n",
       "      <th>Session Duration</th>\n",
       "      <th>Game Initiated</th>\n",
       "      <th>Player Initiated</th>\n",
       "      <th>Rewarded_Game Initiated</th>\n",
       "      <th>Rewarded_Player Initiated</th>\n",
       "      <th>Interstitial_Game Initiated</th>\n",
       "      <th>Banner</th>\n",
       "      <th>Banner_Game Initiated</th>\n",
       "    </tr>\n",
       "  </thead>\n",
       "  <tbody>\n",
       "    <tr>\n",
       "      <th>0</th>\n",
       "      <td>1</td>\n",
       "      <td>27</td>\n",
       "      <td>26</td>\n",
       "      <td>NaN</td>\n",
       "      <td>26.0</td>\n",
       "      <td>12.0</td>\n",
       "      <td>14.0</td>\n",
       "      <td>00:11:37</td>\n",
       "      <td>20.0</td>\n",
       "      <td>6.0</td>\n",
       "      <td>20.0</td>\n",
       "      <td>6.0</td>\n",
       "      <td>NaN</td>\n",
       "      <td>NaN</td>\n",
       "      <td>NaN</td>\n",
       "    </tr>\n",
       "    <tr>\n",
       "      <th>1</th>\n",
       "      <td>2</td>\n",
       "      <td>21</td>\n",
       "      <td>15</td>\n",
       "      <td>NaN</td>\n",
       "      <td>15.0</td>\n",
       "      <td>NaN</td>\n",
       "      <td>15.0</td>\n",
       "      <td>00:12:02</td>\n",
       "      <td>8.0</td>\n",
       "      <td>7.0</td>\n",
       "      <td>8.0</td>\n",
       "      <td>7.0</td>\n",
       "      <td>NaN</td>\n",
       "      <td>NaN</td>\n",
       "      <td>NaN</td>\n",
       "    </tr>\n",
       "    <tr>\n",
       "      <th>2</th>\n",
       "      <td>3</td>\n",
       "      <td>20</td>\n",
       "      <td>13</td>\n",
       "      <td>NaN</td>\n",
       "      <td>13.0</td>\n",
       "      <td>NaN</td>\n",
       "      <td>13.0</td>\n",
       "      <td>00:10:07</td>\n",
       "      <td>6.0</td>\n",
       "      <td>7.0</td>\n",
       "      <td>6.0</td>\n",
       "      <td>7.0</td>\n",
       "      <td>NaN</td>\n",
       "      <td>NaN</td>\n",
       "      <td>NaN</td>\n",
       "    </tr>\n",
       "    <tr>\n",
       "      <th>3</th>\n",
       "      <td>4</td>\n",
       "      <td>19</td>\n",
       "      <td>11</td>\n",
       "      <td>1.0</td>\n",
       "      <td>10.0</td>\n",
       "      <td>NaN</td>\n",
       "      <td>11.0</td>\n",
       "      <td>00:11:25</td>\n",
       "      <td>7.0</td>\n",
       "      <td>4.0</td>\n",
       "      <td>6.0</td>\n",
       "      <td>4.0</td>\n",
       "      <td>1.0</td>\n",
       "      <td>NaN</td>\n",
       "      <td>NaN</td>\n",
       "    </tr>\n",
       "    <tr>\n",
       "      <th>4</th>\n",
       "      <td>5</td>\n",
       "      <td>18</td>\n",
       "      <td>16</td>\n",
       "      <td>1.0</td>\n",
       "      <td>15.0</td>\n",
       "      <td>NaN</td>\n",
       "      <td>16.0</td>\n",
       "      <td>00:10:19</td>\n",
       "      <td>2.0</td>\n",
       "      <td>14.0</td>\n",
       "      <td>1.0</td>\n",
       "      <td>14.0</td>\n",
       "      <td>1.0</td>\n",
       "      <td>NaN</td>\n",
       "      <td>NaN</td>\n",
       "    </tr>\n",
       "    <tr>\n",
       "      <th>5</th>\n",
       "      <td>6</td>\n",
       "      <td>17</td>\n",
       "      <td>12</td>\n",
       "      <td>3.0</td>\n",
       "      <td>9.0</td>\n",
       "      <td>NaN</td>\n",
       "      <td>12.0</td>\n",
       "      <td>00:11:30</td>\n",
       "      <td>7.0</td>\n",
       "      <td>5.0</td>\n",
       "      <td>4.0</td>\n",
       "      <td>5.0</td>\n",
       "      <td>3.0</td>\n",
       "      <td>NaN</td>\n",
       "      <td>NaN</td>\n",
       "    </tr>\n",
       "  </tbody>\n",
       "</table>\n",
       "</div>"
      ],
      "text/plain": [
       "   Session Number  Start Type  AD Format:  Interstitial  Rewarded  Static  \\\n",
       "0               1          27          26           NaN      26.0    12.0   \n",
       "1               2          21          15           NaN      15.0     NaN   \n",
       "2               3          20          13           NaN      13.0     NaN   \n",
       "3               4          19          11           1.0      10.0     NaN   \n",
       "4               5          18          16           1.0      15.0     NaN   \n",
       "5               6          17          12           3.0       9.0     NaN   \n",
       "\n",
       "   Video Session Duration  Game Initiated  Player Initiated  \\\n",
       "0   14.0         00:11:37            20.0               6.0   \n",
       "1   15.0         00:12:02             8.0               7.0   \n",
       "2   13.0         00:10:07             6.0               7.0   \n",
       "3   11.0         00:11:25             7.0               4.0   \n",
       "4   16.0         00:10:19             2.0              14.0   \n",
       "5   12.0         00:11:30             7.0               5.0   \n",
       "\n",
       "   Rewarded_Game Initiated  Rewarded_Player Initiated  \\\n",
       "0                     20.0                        6.0   \n",
       "1                      8.0                        7.0   \n",
       "2                      6.0                        7.0   \n",
       "3                      6.0                        4.0   \n",
       "4                      1.0                       14.0   \n",
       "5                      4.0                        5.0   \n",
       "\n",
       "   Interstitial_Game Initiated  Banner  Banner_Game Initiated  \n",
       "0                          NaN     NaN                    NaN  \n",
       "1                          NaN     NaN                    NaN  \n",
       "2                          NaN     NaN                    NaN  \n",
       "3                          1.0     NaN                    NaN  \n",
       "4                          1.0     NaN                    NaN  \n",
       "5                          3.0     NaN                    NaN  "
      ]
     },
     "execution_count": 18,
     "metadata": {},
     "output_type": "execute_result"
    }
   ],
   "source": [
    "import numpy as np\n",
    "nudge_ad_cols = ['Banner', 'Interstitial', 'Rewarded', 'Banner_Game Initiated', 'Interstitial_Game Initiated', \n",
    "                 'Rewarded_Game Initiated']\n",
    "\n",
    "for col in nudge_ad_cols:\n",
    "    if col not in nudge_stats.columns:\n",
    "        nudge_stats[col] = np.nan\n",
    "nudge_stats"
   ]
  },
  {
   "cell_type": "code",
   "execution_count": 19,
   "metadata": {
    "ExecuteTime": {
     "end_time": "2020-06-21T14:28:59.726714Z",
     "start_time": "2020-06-21T14:28:59.701794Z"
    }
   },
   "outputs": [],
   "source": [
    "nudge_stats['Ad velocity'] = nudge_stats['Session Duration']/nudge_stats['AD Format:']  \n",
    "nudge_stats['Banner velocity'] = nudge_stats['Session Duration']/nudge_stats['Banner']  \n",
    "nudge_stats['Interstitial velocity'] = nudge_stats['Session Duration']/nudge_stats['Interstitial']\n",
    "nudge_stats['Rewarded velocity'] = nudge_stats['Session Duration']/nudge_stats['Rewarded']\n",
    "nudge_stats['Ad proactiveness'] = nudge_stats['Game Initiated']/nudge_stats['AD Format:']\n",
    "nudge_stats['Banner proactiveness'] = nudge_stats['Banner_Game Initiated']/nudge_stats['Banner']\n",
    "nudge_stats['Interstitial proactiveness'] = nudge_stats['Interstitial_Game Initiated']/nudge_stats['Interstitial']\n",
    "nudge_stats['Rewarded proactiveness'] = nudge_stats['Rewarded_Game Initiated']/nudge_stats['Rewarded']"
   ]
  },
  {
   "cell_type": "code",
   "execution_count": 20,
   "metadata": {
    "ExecuteTime": {
     "end_time": "2020-06-21T14:28:59.733695Z",
     "start_time": "2020-06-21T14:28:59.727711Z"
    }
   },
   "outputs": [],
   "source": [
    "nudge_stats['Ad velocity'] = nudge_stats['Ad velocity'].fillna(pd.Timedelta(seconds=0))\n",
    "nudge_stats['Banner velocity'] = nudge_stats['Banner velocity'].fillna(pd.Timedelta(seconds=0))\n",
    "nudge_stats['Interstitial velocity'] = nudge_stats['Interstitial velocity'].fillna(pd.Timedelta(seconds=0))\n",
    "nudge_stats['Rewarded velocity'] = nudge_stats['Rewarded velocity'].fillna(pd.Timedelta(seconds=0))"
   ]
  },
  {
   "cell_type": "code",
   "execution_count": 21,
   "metadata": {
    "ExecuteTime": {
     "end_time": "2020-06-21T14:28:59.739683Z",
     "start_time": "2020-06-21T14:28:59.734694Z"
    }
   },
   "outputs": [],
   "source": [
    "nudge_stats_plot = nudge_stats[['Ad velocity', 'Banner velocity',\n",
    "       'Interstitial velocity', 'Rewarded velocity', 'Ad proactiveness',\n",
    "       'Banner proactiveness', 'Interstitial proactiveness',\n",
    "       'Rewarded proactiveness']]"
   ]
  },
  {
   "cell_type": "code",
   "execution_count": 22,
   "metadata": {
    "ExecuteTime": {
     "end_time": "2020-06-21T14:29:00.378969Z",
     "start_time": "2020-06-21T14:28:59.743669Z"
    }
   },
   "outputs": [
    {
     "data": {
      "text/plain": [
       "<Figure size 432x288 with 0 Axes>"
      ]
     },
     "metadata": {},
     "output_type": "display_data"
    },
    {
     "data": {
      "image/png": "[encoded data removed]",
      "text/plain": [
       "<Figure size 1152x1152 with 2 Axes>"
      ]
     },
     "metadata": {
      "needs_background": "light"
     },
     "output_type": "display_data"
    }
   ],
   "source": [
    "plt.figure()\n",
    "ax = nudge_stats_plot.plot(secondary_y=['Ad velocity', 'Banner velocity', 'Interstitial velocity', 'Rewarded velocity'], \n",
    "                           figsize=(16, 16))\n",
    "\n",
    "# nudge_stats[''].plot(secondary_y=True)\n",
    "# nudge_stats['Banner velocity'].plot(secondary_y=True)\n",
    "# nudge_stats['Interstitial velocity'].plot(secondary_y=True)\n",
    "# nudge_stats['Rewarded velocity'].plot(secondary_y=True)\n",
    "# nudge_stats['Ad nudges proactiveness'].plot()\n",
    "# nudge_stats['Banner proactiveness'].plot()\n",
    "# nudge_stats['Interstitial proactiveness'].plot()\n",
    "# nudge_stats['Rewarded proactiveness'].plot()\n",
    "ax.set_xlabel('Game Play')\n",
    "ax.set_ylabel('Proactiveness')\n",
    "ax.right_ax.set_ylabel('Velocity')\n",
    "ax.figure.savefig('proactiveness_and_velocity_over_game.png', bbox_inches='tight')"
   ]
  },
  {
   "cell_type": "code",
   "execution_count": 23,
   "metadata": {
    "ExecuteTime": {
     "end_time": "2020-06-21T14:29:00.400911Z",
     "start_time": "2020-06-21T14:29:00.380964Z"
    }
   },
   "outputs": [
    {
     "data": {
      "text/html": [
       "<div>\n",
       "<style scoped>\n",
       "    .dataframe tbody tr th:only-of-type {\n",
       "        vertical-align: middle;\n",
       "    }\n",
       "\n",
       "    .dataframe tbody tr th {\n",
       "        vertical-align: top;\n",
       "    }\n",
       "\n",
       "    .dataframe thead th {\n",
       "        text-align: right;\n",
       "    }\n",
       "</style>\n",
       "<table border=\"1\" class=\"dataframe\">\n",
       "  <thead>\n",
       "    <tr style=\"text-align: right;\">\n",
       "      <th></th>\n",
       "      <th>Session Number</th>\n",
       "      <th>Start Type</th>\n",
       "      <th>AD Format:</th>\n",
       "      <th>Interstitial</th>\n",
       "      <th>Rewarded</th>\n",
       "      <th>Static</th>\n",
       "      <th>Video</th>\n",
       "      <th>Session Duration</th>\n",
       "      <th>Game Initiated</th>\n",
       "      <th>Player Initiated</th>\n",
       "      <th>...</th>\n",
       "      <th>Banner</th>\n",
       "      <th>Banner_Game Initiated</th>\n",
       "      <th>Ad velocity</th>\n",
       "      <th>Banner velocity</th>\n",
       "      <th>Interstitial velocity</th>\n",
       "      <th>Rewarded velocity</th>\n",
       "      <th>Ad proactiveness</th>\n",
       "      <th>Banner proactiveness</th>\n",
       "      <th>Interstitial proactiveness</th>\n",
       "      <th>Rewarded proactiveness</th>\n",
       "    </tr>\n",
       "  </thead>\n",
       "  <tbody>\n",
       "    <tr>\n",
       "      <th>0</th>\n",
       "      <td>1</td>\n",
       "      <td>27</td>\n",
       "      <td>26</td>\n",
       "      <td>NaN</td>\n",
       "      <td>26.0</td>\n",
       "      <td>12.0</td>\n",
       "      <td>14.0</td>\n",
       "      <td>00:11:37</td>\n",
       "      <td>20.0</td>\n",
       "      <td>6.0</td>\n",
       "      <td>...</td>\n",
       "      <td>NaN</td>\n",
       "      <td>NaN</td>\n",
       "      <td>00:00:26.807692</td>\n",
       "      <td>0 days</td>\n",
       "      <td>00:00:00</td>\n",
       "      <td>00:00:26.807692</td>\n",
       "      <td>0.769231</td>\n",
       "      <td>NaN</td>\n",
       "      <td>NaN</td>\n",
       "      <td>0.769231</td>\n",
       "    </tr>\n",
       "    <tr>\n",
       "      <th>1</th>\n",
       "      <td>2</td>\n",
       "      <td>21</td>\n",
       "      <td>15</td>\n",
       "      <td>NaN</td>\n",
       "      <td>15.0</td>\n",
       "      <td>NaN</td>\n",
       "      <td>15.0</td>\n",
       "      <td>00:12:02</td>\n",
       "      <td>8.0</td>\n",
       "      <td>7.0</td>\n",
       "      <td>...</td>\n",
       "      <td>NaN</td>\n",
       "      <td>NaN</td>\n",
       "      <td>00:00:48.133333</td>\n",
       "      <td>0 days</td>\n",
       "      <td>00:00:00</td>\n",
       "      <td>00:00:48.133333</td>\n",
       "      <td>0.533333</td>\n",
       "      <td>NaN</td>\n",
       "      <td>NaN</td>\n",
       "      <td>0.533333</td>\n",
       "    </tr>\n",
       "    <tr>\n",
       "      <th>2</th>\n",
       "      <td>3</td>\n",
       "      <td>20</td>\n",
       "      <td>13</td>\n",
       "      <td>NaN</td>\n",
       "      <td>13.0</td>\n",
       "      <td>NaN</td>\n",
       "      <td>13.0</td>\n",
       "      <td>00:10:07</td>\n",
       "      <td>6.0</td>\n",
       "      <td>7.0</td>\n",
       "      <td>...</td>\n",
       "      <td>NaN</td>\n",
       "      <td>NaN</td>\n",
       "      <td>00:00:46.692307</td>\n",
       "      <td>0 days</td>\n",
       "      <td>00:00:00</td>\n",
       "      <td>00:00:46.692307</td>\n",
       "      <td>0.461538</td>\n",
       "      <td>NaN</td>\n",
       "      <td>NaN</td>\n",
       "      <td>0.461538</td>\n",
       "    </tr>\n",
       "    <tr>\n",
       "      <th>3</th>\n",
       "      <td>4</td>\n",
       "      <td>19</td>\n",
       "      <td>11</td>\n",
       "      <td>1.0</td>\n",
       "      <td>10.0</td>\n",
       "      <td>NaN</td>\n",
       "      <td>11.0</td>\n",
       "      <td>00:11:25</td>\n",
       "      <td>7.0</td>\n",
       "      <td>4.0</td>\n",
       "      <td>...</td>\n",
       "      <td>NaN</td>\n",
       "      <td>NaN</td>\n",
       "      <td>00:01:02.272727</td>\n",
       "      <td>0 days</td>\n",
       "      <td>00:11:25</td>\n",
       "      <td>00:01:08.500000</td>\n",
       "      <td>0.636364</td>\n",
       "      <td>NaN</td>\n",
       "      <td>1.0</td>\n",
       "      <td>0.600000</td>\n",
       "    </tr>\n",
       "    <tr>\n",
       "      <th>4</th>\n",
       "      <td>5</td>\n",
       "      <td>18</td>\n",
       "      <td>16</td>\n",
       "      <td>1.0</td>\n",
       "      <td>15.0</td>\n",
       "      <td>NaN</td>\n",
       "      <td>16.0</td>\n",
       "      <td>00:10:19</td>\n",
       "      <td>2.0</td>\n",
       "      <td>14.0</td>\n",
       "      <td>...</td>\n",
       "      <td>NaN</td>\n",
       "      <td>NaN</td>\n",
       "      <td>00:00:38.687500</td>\n",
       "      <td>0 days</td>\n",
       "      <td>00:10:19</td>\n",
       "      <td>00:00:41.266666</td>\n",
       "      <td>0.125000</td>\n",
       "      <td>NaN</td>\n",
       "      <td>1.0</td>\n",
       "      <td>0.066667</td>\n",
       "    </tr>\n",
       "    <tr>\n",
       "      <th>5</th>\n",
       "      <td>6</td>\n",
       "      <td>17</td>\n",
       "      <td>12</td>\n",
       "      <td>3.0</td>\n",
       "      <td>9.0</td>\n",
       "      <td>NaN</td>\n",
       "      <td>12.0</td>\n",
       "      <td>00:11:30</td>\n",
       "      <td>7.0</td>\n",
       "      <td>5.0</td>\n",
       "      <td>...</td>\n",
       "      <td>NaN</td>\n",
       "      <td>NaN</td>\n",
       "      <td>00:00:57.500000</td>\n",
       "      <td>0 days</td>\n",
       "      <td>00:03:50</td>\n",
       "      <td>00:01:16.666666</td>\n",
       "      <td>0.583333</td>\n",
       "      <td>NaN</td>\n",
       "      <td>1.0</td>\n",
       "      <td>0.444444</td>\n",
       "    </tr>\n",
       "  </tbody>\n",
       "</table>\n",
       "<p>6 rows × 23 columns</p>\n",
       "</div>"
      ],
      "text/plain": [
       "   Session Number  Start Type  AD Format:  Interstitial  Rewarded  Static  \\\n",
       "0               1          27          26           NaN      26.0    12.0   \n",
       "1               2          21          15           NaN      15.0     NaN   \n",
       "2               3          20          13           NaN      13.0     NaN   \n",
       "3               4          19          11           1.0      10.0     NaN   \n",
       "4               5          18          16           1.0      15.0     NaN   \n",
       "5               6          17          12           3.0       9.0     NaN   \n",
       "\n",
       "   Video Session Duration  Game Initiated  Player Initiated  ...  Banner  \\\n",
       "0   14.0         00:11:37            20.0               6.0  ...     NaN   \n",
       "1   15.0         00:12:02             8.0               7.0  ...     NaN   \n",
       "2   13.0         00:10:07             6.0               7.0  ...     NaN   \n",
       "3   11.0         00:11:25             7.0               4.0  ...     NaN   \n",
       "4   16.0         00:10:19             2.0              14.0  ...     NaN   \n",
       "5   12.0         00:11:30             7.0               5.0  ...     NaN   \n",
       "\n",
       "   Banner_Game Initiated     Ad velocity  Banner velocity  \\\n",
       "0                    NaN 00:00:26.807692           0 days   \n",
       "1                    NaN 00:00:48.133333           0 days   \n",
       "2                    NaN 00:00:46.692307           0 days   \n",
       "3                    NaN 00:01:02.272727           0 days   \n",
       "4                    NaN 00:00:38.687500           0 days   \n",
       "5                    NaN 00:00:57.500000           0 days   \n",
       "\n",
       "   Interstitial velocity Rewarded velocity Ad proactiveness  \\\n",
       "0               00:00:00   00:00:26.807692         0.769231   \n",
       "1               00:00:00   00:00:48.133333         0.533333   \n",
       "2               00:00:00   00:00:46.692307         0.461538   \n",
       "3               00:11:25   00:01:08.500000         0.636364   \n",
       "4               00:10:19   00:00:41.266666         0.125000   \n",
       "5               00:03:50   00:01:16.666666         0.583333   \n",
       "\n",
       "  Banner proactiveness Interstitial proactiveness  Rewarded proactiveness  \n",
       "0                  NaN                        NaN                0.769231  \n",
       "1                  NaN                        NaN                0.533333  \n",
       "2                  NaN                        NaN                0.461538  \n",
       "3                  NaN                        1.0                0.600000  \n",
       "4                  NaN                        1.0                0.066667  \n",
       "5                  NaN                        1.0                0.444444  \n",
       "\n",
       "[6 rows x 23 columns]"
      ]
     },
     "execution_count": 23,
     "metadata": {},
     "output_type": "execute_result"
    }
   ],
   "source": [
    "nudge_stats"
   ]
  },
  {
   "cell_type": "markdown",
   "metadata": {},
   "source": [
    "## Nudge Stats Variety"
   ]
  },
  {
   "cell_type": "code",
   "execution_count": 24,
   "metadata": {
    "ExecuteTime": {
     "end_time": "2020-06-21T14:29:00.433821Z",
     "start_time": "2020-06-21T14:29:00.401907Z"
    }
   },
   "outputs": [],
   "source": [
    "# nudge_stats.mean()\n",
    "nudge_stats.loc['average'] = nudge_stats.mean()\n",
    "nudge_stats.loc['variety'] = nudge_stats.std()"
   ]
  },
  {
   "cell_type": "code",
   "execution_count": 25,
   "metadata": {
    "ExecuteTime": {
     "end_time": "2020-06-21T14:29:00.455764Z",
     "start_time": "2020-06-21T14:29:00.434819Z"
    }
   },
   "outputs": [
    {
     "data": {
      "text/html": [
       "<div>\n",
       "<style scoped>\n",
       "    .dataframe tbody tr th:only-of-type {\n",
       "        vertical-align: middle;\n",
       "    }\n",
       "\n",
       "    .dataframe tbody tr th {\n",
       "        vertical-align: top;\n",
       "    }\n",
       "\n",
       "    .dataframe thead th {\n",
       "        text-align: right;\n",
       "    }\n",
       "</style>\n",
       "<table border=\"1\" class=\"dataframe\">\n",
       "  <thead>\n",
       "    <tr style=\"text-align: right;\">\n",
       "      <th></th>\n",
       "      <th>Session Number</th>\n",
       "      <th>Start Type</th>\n",
       "      <th>AD Format:</th>\n",
       "      <th>Interstitial</th>\n",
       "      <th>Rewarded</th>\n",
       "      <th>Static</th>\n",
       "      <th>Video</th>\n",
       "      <th>Session Duration</th>\n",
       "      <th>Game Initiated</th>\n",
       "      <th>Player Initiated</th>\n",
       "      <th>...</th>\n",
       "      <th>Banner</th>\n",
       "      <th>Banner_Game Initiated</th>\n",
       "      <th>Ad velocity</th>\n",
       "      <th>Banner velocity</th>\n",
       "      <th>Interstitial velocity</th>\n",
       "      <th>Rewarded velocity</th>\n",
       "      <th>Ad proactiveness</th>\n",
       "      <th>Banner proactiveness</th>\n",
       "      <th>Interstitial proactiveness</th>\n",
       "      <th>Rewarded proactiveness</th>\n",
       "    </tr>\n",
       "  </thead>\n",
       "  <tbody>\n",
       "    <tr>\n",
       "      <th>0</th>\n",
       "      <td>1.000000</td>\n",
       "      <td>27.000000</td>\n",
       "      <td>26.00000</td>\n",
       "      <td>NaN</td>\n",
       "      <td>26.000000</td>\n",
       "      <td>12.0</td>\n",
       "      <td>14.000000</td>\n",
       "      <td>00:11:37</td>\n",
       "      <td>20.000000</td>\n",
       "      <td>6.000000</td>\n",
       "      <td>...</td>\n",
       "      <td>NaN</td>\n",
       "      <td>NaN</td>\n",
       "      <td>00:00:26.807692</td>\n",
       "      <td>0 days</td>\n",
       "      <td>00:00:00</td>\n",
       "      <td>00:00:26.807692</td>\n",
       "      <td>0.769231</td>\n",
       "      <td>NaN</td>\n",
       "      <td>NaN</td>\n",
       "      <td>0.769231</td>\n",
       "    </tr>\n",
       "    <tr>\n",
       "      <th>1</th>\n",
       "      <td>2.000000</td>\n",
       "      <td>21.000000</td>\n",
       "      <td>15.00000</td>\n",
       "      <td>NaN</td>\n",
       "      <td>15.000000</td>\n",
       "      <td>NaN</td>\n",
       "      <td>15.000000</td>\n",
       "      <td>00:12:02</td>\n",
       "      <td>8.000000</td>\n",
       "      <td>7.000000</td>\n",
       "      <td>...</td>\n",
       "      <td>NaN</td>\n",
       "      <td>NaN</td>\n",
       "      <td>00:00:48.133333</td>\n",
       "      <td>0 days</td>\n",
       "      <td>00:00:00</td>\n",
       "      <td>00:00:48.133333</td>\n",
       "      <td>0.533333</td>\n",
       "      <td>NaN</td>\n",
       "      <td>NaN</td>\n",
       "      <td>0.533333</td>\n",
       "    </tr>\n",
       "    <tr>\n",
       "      <th>2</th>\n",
       "      <td>3.000000</td>\n",
       "      <td>20.000000</td>\n",
       "      <td>13.00000</td>\n",
       "      <td>NaN</td>\n",
       "      <td>13.000000</td>\n",
       "      <td>NaN</td>\n",
       "      <td>13.000000</td>\n",
       "      <td>00:10:07</td>\n",
       "      <td>6.000000</td>\n",
       "      <td>7.000000</td>\n",
       "      <td>...</td>\n",
       "      <td>NaN</td>\n",
       "      <td>NaN</td>\n",
       "      <td>00:00:46.692307</td>\n",
       "      <td>0 days</td>\n",
       "      <td>00:00:00</td>\n",
       "      <td>00:00:46.692307</td>\n",
       "      <td>0.461538</td>\n",
       "      <td>NaN</td>\n",
       "      <td>NaN</td>\n",
       "      <td>0.461538</td>\n",
       "    </tr>\n",
       "    <tr>\n",
       "      <th>3</th>\n",
       "      <td>4.000000</td>\n",
       "      <td>19.000000</td>\n",
       "      <td>11.00000</td>\n",
       "      <td>1.000000</td>\n",
       "      <td>10.000000</td>\n",
       "      <td>NaN</td>\n",
       "      <td>11.000000</td>\n",
       "      <td>00:11:25</td>\n",
       "      <td>7.000000</td>\n",
       "      <td>4.000000</td>\n",
       "      <td>...</td>\n",
       "      <td>NaN</td>\n",
       "      <td>NaN</td>\n",
       "      <td>00:01:02.272727</td>\n",
       "      <td>0 days</td>\n",
       "      <td>00:11:25</td>\n",
       "      <td>00:01:08.500000</td>\n",
       "      <td>0.636364</td>\n",
       "      <td>NaN</td>\n",
       "      <td>1.0</td>\n",
       "      <td>0.600000</td>\n",
       "    </tr>\n",
       "    <tr>\n",
       "      <th>4</th>\n",
       "      <td>5.000000</td>\n",
       "      <td>18.000000</td>\n",
       "      <td>16.00000</td>\n",
       "      <td>1.000000</td>\n",
       "      <td>15.000000</td>\n",
       "      <td>NaN</td>\n",
       "      <td>16.000000</td>\n",
       "      <td>00:10:19</td>\n",
       "      <td>2.000000</td>\n",
       "      <td>14.000000</td>\n",
       "      <td>...</td>\n",
       "      <td>NaN</td>\n",
       "      <td>NaN</td>\n",
       "      <td>00:00:38.687500</td>\n",
       "      <td>0 days</td>\n",
       "      <td>00:10:19</td>\n",
       "      <td>00:00:41.266666</td>\n",
       "      <td>0.125000</td>\n",
       "      <td>NaN</td>\n",
       "      <td>1.0</td>\n",
       "      <td>0.066667</td>\n",
       "    </tr>\n",
       "    <tr>\n",
       "      <th>5</th>\n",
       "      <td>6.000000</td>\n",
       "      <td>17.000000</td>\n",
       "      <td>12.00000</td>\n",
       "      <td>3.000000</td>\n",
       "      <td>9.000000</td>\n",
       "      <td>NaN</td>\n",
       "      <td>12.000000</td>\n",
       "      <td>00:11:30</td>\n",
       "      <td>7.000000</td>\n",
       "      <td>5.000000</td>\n",
       "      <td>...</td>\n",
       "      <td>NaN</td>\n",
       "      <td>NaN</td>\n",
       "      <td>00:00:57.500000</td>\n",
       "      <td>0 days</td>\n",
       "      <td>00:03:50</td>\n",
       "      <td>00:01:16.666666</td>\n",
       "      <td>0.583333</td>\n",
       "      <td>NaN</td>\n",
       "      <td>1.0</td>\n",
       "      <td>0.444444</td>\n",
       "    </tr>\n",
       "    <tr>\n",
       "      <th>average</th>\n",
       "      <td>3.500000</td>\n",
       "      <td>20.333333</td>\n",
       "      <td>15.50000</td>\n",
       "      <td>1.666667</td>\n",
       "      <td>14.666667</td>\n",
       "      <td>12.0</td>\n",
       "      <td>13.500000</td>\n",
       "      <td>00:11:10</td>\n",
       "      <td>8.333333</td>\n",
       "      <td>7.166667</td>\n",
       "      <td>...</td>\n",
       "      <td>NaN</td>\n",
       "      <td>NaN</td>\n",
       "      <td>00:00:46.682260</td>\n",
       "      <td>0 days</td>\n",
       "      <td>00:04:15.666666</td>\n",
       "      <td>00:00:51.344444</td>\n",
       "      <td>0.518133</td>\n",
       "      <td>NaN</td>\n",
       "      <td>1.0</td>\n",
       "      <td>0.479202</td>\n",
       "    </tr>\n",
       "    <tr>\n",
       "      <th>variety</th>\n",
       "      <td>1.707825</td>\n",
       "      <td>3.248931</td>\n",
       "      <td>4.99166</td>\n",
       "      <td>0.942809</td>\n",
       "      <td>5.557777</td>\n",
       "      <td>0.0</td>\n",
       "      <td>1.707825</td>\n",
       "      <td>00:00:42.087211</td>\n",
       "      <td>5.557777</td>\n",
       "      <td>3.236081</td>\n",
       "      <td>...</td>\n",
       "      <td>NaN</td>\n",
       "      <td>NaN</td>\n",
       "      <td>00:00:11.698336</td>\n",
       "      <td>0 days</td>\n",
       "      <td>00:04:52.430428</td>\n",
       "      <td>00:00:16.688795</td>\n",
       "      <td>0.199694</td>\n",
       "      <td>NaN</td>\n",
       "      <td>0.0</td>\n",
       "      <td>0.213442</td>\n",
       "    </tr>\n",
       "  </tbody>\n",
       "</table>\n",
       "<p>8 rows × 23 columns</p>\n",
       "</div>"
      ],
      "text/plain": [
       "         Session Number  Start Type  AD Format:  Interstitial   Rewarded  \\\n",
       "0              1.000000   27.000000    26.00000           NaN  26.000000   \n",
       "1              2.000000   21.000000    15.00000           NaN  15.000000   \n",
       "2              3.000000   20.000000    13.00000           NaN  13.000000   \n",
       "3              4.000000   19.000000    11.00000      1.000000  10.000000   \n",
       "4              5.000000   18.000000    16.00000      1.000000  15.000000   \n",
       "5              6.000000   17.000000    12.00000      3.000000   9.000000   \n",
       "average        3.500000   20.333333    15.50000      1.666667  14.666667   \n",
       "variety        1.707825    3.248931     4.99166      0.942809   5.557777   \n",
       "\n",
       "         Static      Video Session Duration  Game Initiated  Player Initiated  \\\n",
       "0          12.0  14.000000         00:11:37       20.000000          6.000000   \n",
       "1           NaN  15.000000         00:12:02        8.000000          7.000000   \n",
       "2           NaN  13.000000         00:10:07        6.000000          7.000000   \n",
       "3           NaN  11.000000         00:11:25        7.000000          4.000000   \n",
       "4           NaN  16.000000         00:10:19        2.000000         14.000000   \n",
       "5           NaN  12.000000         00:11:30        7.000000          5.000000   \n",
       "average    12.0  13.500000         00:11:10        8.333333          7.166667   \n",
       "variety     0.0   1.707825  00:00:42.087211        5.557777          3.236081   \n",
       "\n",
       "         ...  Banner  Banner_Game Initiated     Ad velocity  Banner velocity  \\\n",
       "0        ...     NaN                    NaN 00:00:26.807692           0 days   \n",
       "1        ...     NaN                    NaN 00:00:48.133333           0 days   \n",
       "2        ...     NaN                    NaN 00:00:46.692307           0 days   \n",
       "3        ...     NaN                    NaN 00:01:02.272727           0 days   \n",
       "4        ...     NaN                    NaN 00:00:38.687500           0 days   \n",
       "5        ...     NaN                    NaN 00:00:57.500000           0 days   \n",
       "average  ...     NaN                    NaN 00:00:46.682260           0 days   \n",
       "variety  ...     NaN                    NaN 00:00:11.698336           0 days   \n",
       "\n",
       "         Interstitial velocity Rewarded velocity Ad proactiveness  \\\n",
       "0                     00:00:00   00:00:26.807692         0.769231   \n",
       "1                     00:00:00   00:00:48.133333         0.533333   \n",
       "2                     00:00:00   00:00:46.692307         0.461538   \n",
       "3                     00:11:25   00:01:08.500000         0.636364   \n",
       "4                     00:10:19   00:00:41.266666         0.125000   \n",
       "5                     00:03:50   00:01:16.666666         0.583333   \n",
       "average        00:04:15.666666   00:00:51.344444         0.518133   \n",
       "variety        00:04:52.430428   00:00:16.688795         0.199694   \n",
       "\n",
       "        Banner proactiveness Interstitial proactiveness  \\\n",
       "0                        NaN                        NaN   \n",
       "1                        NaN                        NaN   \n",
       "2                        NaN                        NaN   \n",
       "3                        NaN                        1.0   \n",
       "4                        NaN                        1.0   \n",
       "5                        NaN                        1.0   \n",
       "average                  NaN                        1.0   \n",
       "variety                  NaN                        0.0   \n",
       "\n",
       "         Rewarded proactiveness  \n",
       "0                      0.769231  \n",
       "1                      0.533333  \n",
       "2                      0.461538  \n",
       "3                      0.600000  \n",
       "4                      0.066667  \n",
       "5                      0.444444  \n",
       "average                0.479202  \n",
       "variety                0.213442  \n",
       "\n",
       "[8 rows x 23 columns]"
      ]
     },
     "execution_count": 25,
     "metadata": {},
     "output_type": "execute_result"
    }
   ],
   "source": [
    "nudge_stats"
   ]
  },
  {
   "cell_type": "code",
   "execution_count": 26,
   "metadata": {
    "ExecuteTime": {
     "end_time": "2020-06-21T14:29:00.472717Z",
     "start_time": "2020-06-21T14:29:00.456760Z"
    }
   },
   "outputs": [
    {
     "data": {
      "text/html": [
       "<div>\n",
       "<style scoped>\n",
       "    .dataframe tbody tr th:only-of-type {\n",
       "        vertical-align: middle;\n",
       "    }\n",
       "\n",
       "    .dataframe tbody tr th {\n",
       "        vertical-align: top;\n",
       "    }\n",
       "\n",
       "    .dataframe thead th {\n",
       "        text-align: right;\n",
       "    }\n",
       "</style>\n",
       "<table border=\"1\" class=\"dataframe\">\n",
       "  <thead>\n",
       "    <tr style=\"text-align: right;\">\n",
       "      <th></th>\n",
       "      <th>index</th>\n",
       "      <th>0</th>\n",
       "      <th>1</th>\n",
       "      <th>2</th>\n",
       "      <th>3</th>\n",
       "      <th>4</th>\n",
       "      <th>5</th>\n",
       "      <th>average</th>\n",
       "      <th>variety</th>\n",
       "    </tr>\n",
       "  </thead>\n",
       "  <tbody>\n",
       "    <tr>\n",
       "      <th>0</th>\n",
       "      <td>Banner</td>\n",
       "      <td>NaN</td>\n",
       "      <td>NaN</td>\n",
       "      <td>NaN</td>\n",
       "      <td>NaN</td>\n",
       "      <td>NaN</td>\n",
       "      <td>NaN</td>\n",
       "      <td>NaN</td>\n",
       "      <td>NaN</td>\n",
       "    </tr>\n",
       "    <tr>\n",
       "      <th>1</th>\n",
       "      <td>Interstitial</td>\n",
       "      <td>NaN</td>\n",
       "      <td>NaN</td>\n",
       "      <td>NaN</td>\n",
       "      <td>1.0</td>\n",
       "      <td>1.0</td>\n",
       "      <td>3.0</td>\n",
       "      <td>1.666667</td>\n",
       "      <td>0.942809</td>\n",
       "    </tr>\n",
       "    <tr>\n",
       "      <th>2</th>\n",
       "      <td>Rewarded</td>\n",
       "      <td>26.0</td>\n",
       "      <td>15.0</td>\n",
       "      <td>13.0</td>\n",
       "      <td>10.0</td>\n",
       "      <td>15.0</td>\n",
       "      <td>9.0</td>\n",
       "      <td>14.666667</td>\n",
       "      <td>5.557777</td>\n",
       "    </tr>\n",
       "  </tbody>\n",
       "</table>\n",
       "</div>"
      ],
      "text/plain": [
       "          index     0     1     2     3     4    5    average   variety\n",
       "0        Banner   NaN   NaN   NaN   NaN   NaN  NaN        NaN       NaN\n",
       "1  Interstitial   NaN   NaN   NaN   1.0   1.0  3.0   1.666667  0.942809\n",
       "2      Rewarded  26.0  15.0  13.0  10.0  15.0  9.0  14.666667  5.557777"
      ]
     },
     "execution_count": 26,
     "metadata": {},
     "output_type": "execute_result"
    }
   ],
   "source": [
    "nudge_stats_averages1 = nudge_stats[['Banner', 'Interstitial', 'Rewarded']].T.reset_index()\n",
    "nudge_stats_averages1"
   ]
  },
  {
   "cell_type": "code",
   "execution_count": 27,
   "metadata": {
    "ExecuteTime": {
     "end_time": "2020-06-21T14:29:00.689170Z",
     "start_time": "2020-06-21T14:29:00.473715Z"
    }
   },
   "outputs": [
    {
     "data": {
      "image/png": "[encoded data removed]",
      "text/plain": [
       "<Figure size 720x720 with 1 Axes>"
      ]
     },
     "metadata": {
      "needs_background": "light"
     },
     "output_type": "display_data"
    }
   ],
   "source": [
    "fig, ax1 = plt.subplots(figsize=(10, 10))\n",
    "nudge_stats_averages1 = nudge_stats_averages1.rename(columns={'index':'AD Format:'})\n",
    "sns.barplot(x='AD Format:', y='average', data=nudge_stats_averages1, ax=ax1)\n",
    "sns.despine(fig)\n",
    "fig.savefig('Ad_average_count.png', bbox_inches='tight')"
   ]
  },
  {
   "cell_type": "code",
   "execution_count": 28,
   "metadata": {
    "ExecuteTime": {
     "end_time": "2020-06-21T14:29:00.701135Z",
     "start_time": "2020-06-21T14:29:00.690136Z"
    }
   },
   "outputs": [
    {
     "data": {
      "text/html": [
       "<div>\n",
       "<style scoped>\n",
       "    .dataframe tbody tr th:only-of-type {\n",
       "        vertical-align: middle;\n",
       "    }\n",
       "\n",
       "    .dataframe tbody tr th {\n",
       "        vertical-align: top;\n",
       "    }\n",
       "\n",
       "    .dataframe thead th {\n",
       "        text-align: right;\n",
       "    }\n",
       "</style>\n",
       "<table border=\"1\" class=\"dataframe\">\n",
       "  <thead>\n",
       "    <tr style=\"text-align: right;\">\n",
       "      <th></th>\n",
       "      <th>index</th>\n",
       "      <th>0</th>\n",
       "      <th>1</th>\n",
       "      <th>2</th>\n",
       "      <th>3</th>\n",
       "      <th>4</th>\n",
       "      <th>5</th>\n",
       "      <th>average</th>\n",
       "      <th>variety</th>\n",
       "    </tr>\n",
       "  </thead>\n",
       "  <tbody>\n",
       "    <tr>\n",
       "      <th>0</th>\n",
       "      <td>Static</td>\n",
       "      <td>12.0</td>\n",
       "      <td>NaN</td>\n",
       "      <td>NaN</td>\n",
       "      <td>NaN</td>\n",
       "      <td>NaN</td>\n",
       "      <td>NaN</td>\n",
       "      <td>12.0</td>\n",
       "      <td>0.000000</td>\n",
       "    </tr>\n",
       "    <tr>\n",
       "      <th>1</th>\n",
       "      <td>Video</td>\n",
       "      <td>14.0</td>\n",
       "      <td>15.0</td>\n",
       "      <td>13.0</td>\n",
       "      <td>11.0</td>\n",
       "      <td>16.0</td>\n",
       "      <td>12.0</td>\n",
       "      <td>13.5</td>\n",
       "      <td>1.707825</td>\n",
       "    </tr>\n",
       "  </tbody>\n",
       "</table>\n",
       "</div>"
      ],
      "text/plain": [
       "    index     0     1     2     3     4     5  average   variety\n",
       "0  Static  12.0   NaN   NaN   NaN   NaN   NaN     12.0  0.000000\n",
       "1   Video  14.0  15.0  13.0  11.0  16.0  12.0     13.5  1.707825"
      ]
     },
     "execution_count": 28,
     "metadata": {},
     "output_type": "execute_result"
    }
   ],
   "source": [
    "nudge_stats_averages2 = nudge_stats[['Static', 'Video']].T.reset_index()\n",
    "nudge_stats_averages2"
   ]
  },
  {
   "cell_type": "code",
   "execution_count": 29,
   "metadata": {
    "ExecuteTime": {
     "end_time": "2020-06-21T14:29:00.945452Z",
     "start_time": "2020-06-21T14:29:00.703101Z"
    }
   },
   "outputs": [
    {
     "data": {
      "image/png": "[encoded data removed]",
      "text/plain": [
       "<Figure size 720x720 with 1 Axes>"
      ]
     },
     "metadata": {
      "needs_background": "light"
     },
     "output_type": "display_data"
    }
   ],
   "source": [
    "fig, ax1 = plt.subplots(figsize=(10, 10))\n",
    "nudge_stats_averages2 = nudge_stats_averages2.rename(columns={'index':'AD type'})\n",
    "sns.barplot(x='AD type', y='average', data=nudge_stats_averages2, ax=ax1)\n",
    "sns.despine(fig)\n",
    "fig.savefig('Ad_type_average_count.png', bbox_inches='tight')"
   ]
  },
  {
   "cell_type": "code",
   "execution_count": 30,
   "metadata": {
    "ExecuteTime": {
     "end_time": "2020-06-21T14:29:00.958418Z",
     "start_time": "2020-06-21T14:29:00.946450Z"
    }
   },
   "outputs": [
    {
     "data": {
      "text/html": [
       "<div>\n",
       "<style scoped>\n",
       "    .dataframe tbody tr th:only-of-type {\n",
       "        vertical-align: middle;\n",
       "    }\n",
       "\n",
       "    .dataframe tbody tr th {\n",
       "        vertical-align: top;\n",
       "    }\n",
       "\n",
       "    .dataframe thead th {\n",
       "        text-align: right;\n",
       "    }\n",
       "</style>\n",
       "<table border=\"1\" class=\"dataframe\">\n",
       "  <thead>\n",
       "    <tr style=\"text-align: right;\">\n",
       "      <th></th>\n",
       "      <th>index</th>\n",
       "      <th>0</th>\n",
       "      <th>1</th>\n",
       "      <th>2</th>\n",
       "      <th>3</th>\n",
       "      <th>4</th>\n",
       "      <th>5</th>\n",
       "      <th>average</th>\n",
       "      <th>variety</th>\n",
       "    </tr>\n",
       "  </thead>\n",
       "  <tbody>\n",
       "    <tr>\n",
       "      <th>0</th>\n",
       "      <td>Ad velocity</td>\n",
       "      <td>00:00:26.807692</td>\n",
       "      <td>00:00:48.133333</td>\n",
       "      <td>00:00:46.692307</td>\n",
       "      <td>00:01:02.272727</td>\n",
       "      <td>00:00:38.687500</td>\n",
       "      <td>00:00:57.500000</td>\n",
       "      <td>00:00:46.682260</td>\n",
       "      <td>00:00:11.698336</td>\n",
       "    </tr>\n",
       "    <tr>\n",
       "      <th>1</th>\n",
       "      <td>Banner velocity</td>\n",
       "      <td>00:00:00</td>\n",
       "      <td>00:00:00</td>\n",
       "      <td>00:00:00</td>\n",
       "      <td>00:00:00</td>\n",
       "      <td>00:00:00</td>\n",
       "      <td>00:00:00</td>\n",
       "      <td>00:00:00</td>\n",
       "      <td>00:00:00</td>\n",
       "    </tr>\n",
       "    <tr>\n",
       "      <th>2</th>\n",
       "      <td>Interstitial velocity</td>\n",
       "      <td>00:00:00</td>\n",
       "      <td>00:00:00</td>\n",
       "      <td>00:00:00</td>\n",
       "      <td>00:11:25</td>\n",
       "      <td>00:10:19</td>\n",
       "      <td>00:03:50</td>\n",
       "      <td>00:04:15.666666</td>\n",
       "      <td>00:04:52.430428</td>\n",
       "    </tr>\n",
       "    <tr>\n",
       "      <th>3</th>\n",
       "      <td>Rewarded velocity</td>\n",
       "      <td>00:00:26.807692</td>\n",
       "      <td>00:00:48.133333</td>\n",
       "      <td>00:00:46.692307</td>\n",
       "      <td>00:01:08.500000</td>\n",
       "      <td>00:00:41.266666</td>\n",
       "      <td>00:01:16.666666</td>\n",
       "      <td>00:00:51.344444</td>\n",
       "      <td>00:00:16.688795</td>\n",
       "    </tr>\n",
       "  </tbody>\n",
       "</table>\n",
       "</div>"
      ],
      "text/plain": [
       "                   index               0               1               2  \\\n",
       "0            Ad velocity 00:00:26.807692 00:00:48.133333 00:00:46.692307   \n",
       "1        Banner velocity        00:00:00        00:00:00        00:00:00   \n",
       "2  Interstitial velocity        00:00:00        00:00:00        00:00:00   \n",
       "3      Rewarded velocity 00:00:26.807692 00:00:48.133333 00:00:46.692307   \n",
       "\n",
       "                3               4               5         average  \\\n",
       "0 00:01:02.272727 00:00:38.687500 00:00:57.500000 00:00:46.682260   \n",
       "1        00:00:00        00:00:00        00:00:00        00:00:00   \n",
       "2        00:11:25        00:10:19        00:03:50 00:04:15.666666   \n",
       "3 00:01:08.500000 00:00:41.266666 00:01:16.666666 00:00:51.344444   \n",
       "\n",
       "          variety  \n",
       "0 00:00:11.698336  \n",
       "1        00:00:00  \n",
       "2 00:04:52.430428  \n",
       "3 00:00:16.688795  "
      ]
     },
     "execution_count": 30,
     "metadata": {},
     "output_type": "execute_result"
    }
   ],
   "source": [
    "nudge_stats_averages3 = nudge_stats[['Ad velocity', 'Banner velocity', 'Interstitial velocity', 'Rewarded velocity']].T.reset_index()\n",
    "nudge_stats_averages3"
   ]
  },
  {
   "cell_type": "code",
   "execution_count": 31,
   "metadata": {
    "ExecuteTime": {
     "end_time": "2020-06-21T14:29:00.967394Z",
     "start_time": "2020-06-21T14:29:00.959416Z"
    }
   },
   "outputs": [],
   "source": [
    "if (nudge_stats_averages3['average'] > '00:00:30').any():\n",
    "    recommendated_ads_tightness = 'You can push more Ads per minute!'"
   ]
  },
  {
   "cell_type": "code",
   "execution_count": 32,
   "metadata": {
    "ExecuteTime": {
     "end_time": "2020-06-21T14:29:01.207750Z",
     "start_time": "2020-06-21T14:29:00.968391Z"
    }
   },
   "outputs": [
    {
     "data": {
      "image/png": "[encoded data removed]",
      "text/plain": [
       "<Figure size 720x720 with 1 Axes>"
      ]
     },
     "metadata": {
      "needs_background": "light"
     },
     "output_type": "display_data"
    }
   ],
   "source": [
    "fig, ax1 = plt.subplots(figsize=(10, 10))\n",
    "nudge_stats_averages3 = nudge_stats_averages3.rename(columns={'index':'Velocities'})\n",
    "sns.barplot(x='Velocities', y='average', data=nudge_stats_averages3, ax=ax1)\n",
    "sns.despine(fig)\n",
    "fig.savefig('Average_ad_velocity.png', bbox_inches='tight')"
   ]
  },
  {
   "cell_type": "code",
   "execution_count": 33,
   "metadata": {
    "ExecuteTime": {
     "end_time": "2020-06-21T14:29:01.220715Z",
     "start_time": "2020-06-21T14:29:01.208747Z"
    }
   },
   "outputs": [
    {
     "data": {
      "text/html": [
       "<div>\n",
       "<style scoped>\n",
       "    .dataframe tbody tr th:only-of-type {\n",
       "        vertical-align: middle;\n",
       "    }\n",
       "\n",
       "    .dataframe tbody tr th {\n",
       "        vertical-align: top;\n",
       "    }\n",
       "\n",
       "    .dataframe thead th {\n",
       "        text-align: right;\n",
       "    }\n",
       "</style>\n",
       "<table border=\"1\" class=\"dataframe\">\n",
       "  <thead>\n",
       "    <tr style=\"text-align: right;\">\n",
       "      <th></th>\n",
       "      <th>index</th>\n",
       "      <th>0</th>\n",
       "      <th>1</th>\n",
       "      <th>2</th>\n",
       "      <th>3</th>\n",
       "      <th>4</th>\n",
       "      <th>5</th>\n",
       "      <th>average</th>\n",
       "      <th>variety</th>\n",
       "    </tr>\n",
       "  </thead>\n",
       "  <tbody>\n",
       "    <tr>\n",
       "      <th>0</th>\n",
       "      <td>Ad proactiveness</td>\n",
       "      <td>0.769231</td>\n",
       "      <td>0.533333</td>\n",
       "      <td>0.461538</td>\n",
       "      <td>0.636364</td>\n",
       "      <td>0.125000</td>\n",
       "      <td>0.583333</td>\n",
       "      <td>0.518133</td>\n",
       "      <td>0.199694</td>\n",
       "    </tr>\n",
       "    <tr>\n",
       "      <th>1</th>\n",
       "      <td>Banner proactiveness</td>\n",
       "      <td>NaN</td>\n",
       "      <td>NaN</td>\n",
       "      <td>NaN</td>\n",
       "      <td>NaN</td>\n",
       "      <td>NaN</td>\n",
       "      <td>NaN</td>\n",
       "      <td>NaN</td>\n",
       "      <td>NaN</td>\n",
       "    </tr>\n",
       "    <tr>\n",
       "      <th>2</th>\n",
       "      <td>Interstitial proactiveness</td>\n",
       "      <td>NaN</td>\n",
       "      <td>NaN</td>\n",
       "      <td>NaN</td>\n",
       "      <td>1.000000</td>\n",
       "      <td>1.000000</td>\n",
       "      <td>1.000000</td>\n",
       "      <td>1.000000</td>\n",
       "      <td>0.000000</td>\n",
       "    </tr>\n",
       "    <tr>\n",
       "      <th>3</th>\n",
       "      <td>Rewarded proactiveness</td>\n",
       "      <td>0.769231</td>\n",
       "      <td>0.533333</td>\n",
       "      <td>0.461538</td>\n",
       "      <td>0.600000</td>\n",
       "      <td>0.066667</td>\n",
       "      <td>0.444444</td>\n",
       "      <td>0.479202</td>\n",
       "      <td>0.213442</td>\n",
       "    </tr>\n",
       "  </tbody>\n",
       "</table>\n",
       "</div>"
      ],
      "text/plain": [
       "                        index         0         1         2         3  \\\n",
       "0            Ad proactiveness  0.769231  0.533333  0.461538  0.636364   \n",
       "1        Banner proactiveness       NaN       NaN       NaN       NaN   \n",
       "2  Interstitial proactiveness       NaN       NaN       NaN  1.000000   \n",
       "3      Rewarded proactiveness  0.769231  0.533333  0.461538  0.600000   \n",
       "\n",
       "          4         5   average   variety  \n",
       "0  0.125000  0.583333  0.518133  0.199694  \n",
       "1       NaN       NaN       NaN       NaN  \n",
       "2  1.000000  1.000000  1.000000  0.000000  \n",
       "3  0.066667  0.444444  0.479202  0.213442  "
      ]
     },
     "execution_count": 33,
     "metadata": {},
     "output_type": "execute_result"
    }
   ],
   "source": [
    "nudge_stats_averages4 = nudge_stats[['Ad proactiveness', 'Banner proactiveness', 'Interstitial proactiveness', 'Rewarded proactiveness']].T.reset_index()\n",
    "nudge_stats_averages4"
   ]
  },
  {
   "cell_type": "code",
   "execution_count": 34,
   "metadata": {
    "ExecuteTime": {
     "end_time": "2020-06-21T14:29:01.488998Z",
     "start_time": "2020-06-21T14:29:01.221713Z"
    }
   },
   "outputs": [
    {
     "data": {
      "image/png": "[encoded data removed]",
      "text/plain": [
       "<Figure size 720x720 with 1 Axes>"
      ]
     },
     "metadata": {
      "needs_background": "light"
     },
     "output_type": "display_data"
    }
   ],
   "source": [
    "fig, ax1 = plt.subplots(figsize=(10, 10))\n",
    "nudge_stats_averages4 = nudge_stats_averages4.rename(columns={'index':'Proactiveness'})\n",
    "sns.barplot(x='Proactiveness', y='variety', data=nudge_stats_averages4, ax=ax1)\n",
    "sns.despine(fig)\n",
    "fig.savefig('Ad_average_proactiveness.png', bbox_inches='tight')"
   ]
  },
  {
   "cell_type": "markdown",
   "metadata": {},
   "source": [
    "# Placements "
   ]
  },
  {
   "cell_type": "code",
   "execution_count": 35,
   "metadata": {
    "ExecuteTime": {
     "end_time": "2020-06-21T14:29:01.496978Z",
     "start_time": "2020-06-21T14:29:01.490995Z"
    }
   },
   "outputs": [
    {
     "data": {
      "text/plain": [
       "Index(['Analyst ID', 'Name', 'Phone Model', 'Location', 'VPN?',\n",
       "       'Session Number', 'Date (D/M/Y)', 'Session Duration', 'Game',\n",
       "       'Nudge Time (HH:MM:SS)', 'Start Type', 'Location in game', 'Game Push',\n",
       "       'Gift', 'What is Gifted', 'Gift Stacked reward', 'IAP Type',\n",
       "       'IAP Purchased With?', 'What was for sale?', 'Did you Purchase?',\n",
       "       'IAP Stacked reward', 'AD Format:', 'AD type', 'Watched ',\n",
       "       'If Rewarded? Type?', 'AD Stacked Rewards (Y/N)', 'Advertiser',\n",
       "       'Notes/Comments', 'Link to Recording'],\n",
       "      dtype='object')"
      ]
     },
     "execution_count": 35,
     "metadata": {},
     "output_type": "execute_result"
    }
   ],
   "source": [
    "log_data.columns"
   ]
  },
  {
   "cell_type": "code",
   "execution_count": 36,
   "metadata": {
    "ExecuteTime": {
     "end_time": "2020-06-21T14:29:01.517920Z",
     "start_time": "2020-06-21T14:29:01.497975Z"
    }
   },
   "outputs": [],
   "source": [
    "ad_placement = log_data.pivot_table(values='Nudge Time (HH:MM:SS)', index=['Session Number', 'Location in game'], columns='AD Format:', aggfunc='count').reset_index()\n",
    "ad_placement.columns = tuple(ad_placement)"
   ]
  },
  {
   "cell_type": "code",
   "execution_count": 37,
   "metadata": {
    "ExecuteTime": {
     "end_time": "2020-06-21T14:29:01.533878Z",
     "start_time": "2020-06-21T14:29:01.519915Z"
    }
   },
   "outputs": [
    {
     "data": {
      "text/html": [
       "<div>\n",
       "<style scoped>\n",
       "    .dataframe tbody tr th:only-of-type {\n",
       "        vertical-align: middle;\n",
       "    }\n",
       "\n",
       "    .dataframe tbody tr th {\n",
       "        vertical-align: top;\n",
       "    }\n",
       "\n",
       "    .dataframe thead th {\n",
       "        text-align: right;\n",
       "    }\n",
       "</style>\n",
       "<table border=\"1\" class=\"dataframe\">\n",
       "  <thead>\n",
       "    <tr style=\"text-align: right;\">\n",
       "      <th></th>\n",
       "      <th>Session Number</th>\n",
       "      <th>Location in game</th>\n",
       "      <th>Interstitial</th>\n",
       "      <th>Rewarded</th>\n",
       "      <th>Banner</th>\n",
       "    </tr>\n",
       "  </thead>\n",
       "  <tbody>\n",
       "    <tr>\n",
       "      <th>0</th>\n",
       "      <td>1</td>\n",
       "      <td>Level End</td>\n",
       "      <td>NaN</td>\n",
       "      <td>26.0</td>\n",
       "      <td>NaN</td>\n",
       "    </tr>\n",
       "    <tr>\n",
       "      <th>1</th>\n",
       "      <td>2</td>\n",
       "      <td>Level End</td>\n",
       "      <td>NaN</td>\n",
       "      <td>5.0</td>\n",
       "      <td>NaN</td>\n",
       "    </tr>\n",
       "    <tr>\n",
       "      <th>2</th>\n",
       "      <td>2</td>\n",
       "      <td>Game Pause</td>\n",
       "      <td>NaN</td>\n",
       "      <td>10.0</td>\n",
       "      <td>NaN</td>\n",
       "    </tr>\n",
       "    <tr>\n",
       "      <th>3</th>\n",
       "      <td>3</td>\n",
       "      <td>Level End</td>\n",
       "      <td>NaN</td>\n",
       "      <td>13.0</td>\n",
       "      <td>NaN</td>\n",
       "    </tr>\n",
       "    <tr>\n",
       "      <th>4</th>\n",
       "      <td>4</td>\n",
       "      <td>Level End</td>\n",
       "      <td>1.0</td>\n",
       "      <td>10.0</td>\n",
       "      <td>NaN</td>\n",
       "    </tr>\n",
       "    <tr>\n",
       "      <th>5</th>\n",
       "      <td>5</td>\n",
       "      <td>Level End</td>\n",
       "      <td>NaN</td>\n",
       "      <td>2.0</td>\n",
       "      <td>NaN</td>\n",
       "    </tr>\n",
       "    <tr>\n",
       "      <th>6</th>\n",
       "      <td>5</td>\n",
       "      <td>Game Pause</td>\n",
       "      <td>1.0</td>\n",
       "      <td>13.0</td>\n",
       "      <td>NaN</td>\n",
       "    </tr>\n",
       "    <tr>\n",
       "      <th>7</th>\n",
       "      <td>6</td>\n",
       "      <td>Level End</td>\n",
       "      <td>3.0</td>\n",
       "      <td>9.0</td>\n",
       "      <td>NaN</td>\n",
       "    </tr>\n",
       "  </tbody>\n",
       "</table>\n",
       "</div>"
      ],
      "text/plain": [
       "   Session Number Location in game  Interstitial  Rewarded  Banner\n",
       "0               1        Level End           NaN      26.0     NaN\n",
       "1               2        Level End           NaN       5.0     NaN\n",
       "2               2       Game Pause           NaN      10.0     NaN\n",
       "3               3        Level End           NaN      13.0     NaN\n",
       "4               4        Level End           1.0      10.0     NaN\n",
       "5               5        Level End           NaN       2.0     NaN\n",
       "6               5       Game Pause           1.0      13.0     NaN\n",
       "7               6        Level End           3.0       9.0     NaN"
      ]
     },
     "execution_count": 37,
     "metadata": {},
     "output_type": "execute_result"
    }
   ],
   "source": [
    "ad_placement_cols = ['Banner', 'Interstitial', 'Rewarded']\n",
    "\n",
    "for col in ad_placement_cols:\n",
    "    if col not in ad_placement.columns:\n",
    "        ad_placement[col] = np.nan\n",
    "ad_placement"
   ]
  },
  {
   "cell_type": "code",
   "execution_count": 38,
   "metadata": {
    "ExecuteTime": {
     "end_time": "2020-06-21T14:29:01.545845Z",
     "start_time": "2020-06-21T14:29:01.534875Z"
    }
   },
   "outputs": [],
   "source": [
    "ad_placement.loc['variety'] = ad_placement.std()"
   ]
  },
  {
   "cell_type": "markdown",
   "metadata": {},
   "source": [
    "## Placement Variety "
   ]
  },
  {
   "cell_type": "code",
   "execution_count": 39,
   "metadata": {
    "ExecuteTime": {
     "end_time": "2020-06-21T14:29:01.560806Z",
     "start_time": "2020-06-21T14:29:01.546843Z"
    }
   },
   "outputs": [],
   "source": [
    "ad_placement_stack = ad_placement.set_index(['Session Number', 'Location in game']).stack().reset_index().rename(columns={0:'counts'})\n",
    "ad_placement_consistency = ad_placement_stack['counts'].std()"
   ]
  },
  {
   "cell_type": "code",
   "execution_count": 40,
   "metadata": {
    "ExecuteTime": {
     "end_time": "2020-06-21T14:29:01.569782Z",
     "start_time": "2020-06-21T14:29:01.562800Z"
    }
   },
   "outputs": [
    {
     "data": {
      "text/plain": [
       "7.059544410141214"
      ]
     },
     "execution_count": 40,
     "metadata": {},
     "output_type": "execute_result"
    }
   ],
   "source": [
    "ad_placement_consistency"
   ]
  },
  {
   "cell_type": "markdown",
   "metadata": {},
   "source": [
    "## Placements Category "
   ]
  },
  {
   "cell_type": "code",
   "execution_count": 41,
   "metadata": {
    "ExecuteTime": {
     "end_time": "2020-06-21T14:29:01.620646Z",
     "start_time": "2020-06-21T14:29:01.570779Z"
    }
   },
   "outputs": [
    {
     "data": {
      "text/html": [
       "<div>\n",
       "<style scoped>\n",
       "    .dataframe tbody tr th:only-of-type {\n",
       "        vertical-align: middle;\n",
       "    }\n",
       "\n",
       "    .dataframe tbody tr th {\n",
       "        vertical-align: top;\n",
       "    }\n",
       "\n",
       "    .dataframe thead th {\n",
       "        text-align: right;\n",
       "    }\n",
       "</style>\n",
       "<table border=\"1\" class=\"dataframe\">\n",
       "  <thead>\n",
       "    <tr style=\"text-align: right;\">\n",
       "      <th></th>\n",
       "      <th>Location in game</th>\n",
       "      <th>Session Number</th>\n",
       "      <th>Interstitial</th>\n",
       "      <th>Rewarded</th>\n",
       "      <th>Banner</th>\n",
       "    </tr>\n",
       "  </thead>\n",
       "  <tbody>\n",
       "    <tr>\n",
       "      <th>0</th>\n",
       "      <td>Game Pause</td>\n",
       "      <td>3.5</td>\n",
       "      <td>1.0</td>\n",
       "      <td>11.500000</td>\n",
       "      <td>NaN</td>\n",
       "    </tr>\n",
       "    <tr>\n",
       "      <th>1</th>\n",
       "      <td>Level End</td>\n",
       "      <td>3.5</td>\n",
       "      <td>2.0</td>\n",
       "      <td>10.833333</td>\n",
       "      <td>NaN</td>\n",
       "    </tr>\n",
       "    <tr>\n",
       "      <th>2</th>\n",
       "      <td>AD</td>\n",
       "      <td>NaN</td>\n",
       "      <td>NaN</td>\n",
       "      <td>NaN</td>\n",
       "      <td>NaN</td>\n",
       "    </tr>\n",
       "    <tr>\n",
       "      <th>3</th>\n",
       "      <td>App Start</td>\n",
       "      <td>NaN</td>\n",
       "      <td>NaN</td>\n",
       "      <td>NaN</td>\n",
       "      <td>NaN</td>\n",
       "    </tr>\n",
       "    <tr>\n",
       "      <th>4</th>\n",
       "      <td>Death/Mission</td>\n",
       "      <td>NaN</td>\n",
       "      <td>NaN</td>\n",
       "      <td>NaN</td>\n",
       "      <td>NaN</td>\n",
       "    </tr>\n",
       "    <tr>\n",
       "      <th>5</th>\n",
       "      <td>Game Play</td>\n",
       "      <td>NaN</td>\n",
       "      <td>NaN</td>\n",
       "      <td>NaN</td>\n",
       "      <td>NaN</td>\n",
       "    </tr>\n",
       "    <tr>\n",
       "      <th>6</th>\n",
       "      <td>Game Store</td>\n",
       "      <td>NaN</td>\n",
       "      <td>NaN</td>\n",
       "      <td>NaN</td>\n",
       "      <td>NaN</td>\n",
       "    </tr>\n",
       "    <tr>\n",
       "      <th>7</th>\n",
       "      <td>Load Screen</td>\n",
       "      <td>NaN</td>\n",
       "      <td>NaN</td>\n",
       "      <td>NaN</td>\n",
       "      <td>NaN</td>\n",
       "    </tr>\n",
       "    <tr>\n",
       "      <th>8</th>\n",
       "      <td>Menu</td>\n",
       "      <td>NaN</td>\n",
       "      <td>NaN</td>\n",
       "      <td>NaN</td>\n",
       "      <td>NaN</td>\n",
       "    </tr>\n",
       "    <tr>\n",
       "      <th>9</th>\n",
       "      <td>Other</td>\n",
       "      <td>NaN</td>\n",
       "      <td>NaN</td>\n",
       "      <td>NaN</td>\n",
       "      <td>NaN</td>\n",
       "    </tr>\n",
       "  </tbody>\n",
       "</table>\n",
       "</div>"
      ],
      "text/plain": [
       "  Location in game  Session Number  Interstitial   Rewarded  Banner\n",
       "0       Game Pause             3.5           1.0  11.500000     NaN\n",
       "1        Level End             3.5           2.0  10.833333     NaN\n",
       "2               AD             NaN           NaN        NaN     NaN\n",
       "3        App Start             NaN           NaN        NaN     NaN\n",
       "4    Death/Mission             NaN           NaN        NaN     NaN\n",
       "5        Game Play             NaN           NaN        NaN     NaN\n",
       "6       Game Store             NaN           NaN        NaN     NaN\n",
       "7      Load Screen             NaN           NaN        NaN     NaN\n",
       "8             Menu             NaN           NaN        NaN     NaN\n",
       "9            Other             NaN           NaN        NaN     NaN"
      ]
     },
     "execution_count": 41,
     "metadata": {},
     "output_type": "execute_result"
    }
   ],
   "source": [
    "ad_placement_cat = ad_placement.groupby('Location in game').mean().reset_index()\n",
    "\n",
    "for i in game_location_cols:\n",
    "    if i not in ad_placement_cat['Location in game'].values:\n",
    "        ad_placement_cat = ad_placement_cat.append({'Location in game': i}, ignore_index=True)\n",
    "\n",
    "ad_placement_cat"
   ]
  },
  {
   "cell_type": "code",
   "execution_count": 42,
   "metadata": {
    "ExecuteTime": {
     "end_time": "2020-06-21T14:29:01.639595Z",
     "start_time": "2020-06-21T14:29:01.621643Z"
    }
   },
   "outputs": [
    {
     "data": {
      "text/html": [
       "<div>\n",
       "<style scoped>\n",
       "    .dataframe tbody tr th:only-of-type {\n",
       "        vertical-align: middle;\n",
       "    }\n",
       "\n",
       "    .dataframe tbody tr th {\n",
       "        vertical-align: top;\n",
       "    }\n",
       "\n",
       "    .dataframe thead th {\n",
       "        text-align: right;\n",
       "    }\n",
       "</style>\n",
       "<table border=\"1\" class=\"dataframe\">\n",
       "  <thead>\n",
       "    <tr style=\"text-align: right;\">\n",
       "      <th></th>\n",
       "      <th>Location in game</th>\n",
       "      <th>Session Number</th>\n",
       "      <th>Interstitial</th>\n",
       "      <th>Rewarded</th>\n",
       "      <th>Banner</th>\n",
       "      <th>total_ads</th>\n",
       "    </tr>\n",
       "  </thead>\n",
       "  <tbody>\n",
       "    <tr>\n",
       "      <th>0</th>\n",
       "      <td>Game Pause</td>\n",
       "      <td>3.5</td>\n",
       "      <td>1.0</td>\n",
       "      <td>11.500000</td>\n",
       "      <td>0.0</td>\n",
       "      <td>12.500000</td>\n",
       "    </tr>\n",
       "    <tr>\n",
       "      <th>1</th>\n",
       "      <td>Level End</td>\n",
       "      <td>3.5</td>\n",
       "      <td>2.0</td>\n",
       "      <td>10.833333</td>\n",
       "      <td>0.0</td>\n",
       "      <td>12.833333</td>\n",
       "    </tr>\n",
       "    <tr>\n",
       "      <th>2</th>\n",
       "      <td>AD</td>\n",
       "      <td>0.0</td>\n",
       "      <td>0.0</td>\n",
       "      <td>0.000000</td>\n",
       "      <td>0.0</td>\n",
       "      <td>0.000000</td>\n",
       "    </tr>\n",
       "    <tr>\n",
       "      <th>3</th>\n",
       "      <td>App Start</td>\n",
       "      <td>0.0</td>\n",
       "      <td>0.0</td>\n",
       "      <td>0.000000</td>\n",
       "      <td>0.0</td>\n",
       "      <td>0.000000</td>\n",
       "    </tr>\n",
       "    <tr>\n",
       "      <th>4</th>\n",
       "      <td>Death/Mission</td>\n",
       "      <td>0.0</td>\n",
       "      <td>0.0</td>\n",
       "      <td>0.000000</td>\n",
       "      <td>0.0</td>\n",
       "      <td>0.000000</td>\n",
       "    </tr>\n",
       "    <tr>\n",
       "      <th>5</th>\n",
       "      <td>Game Play</td>\n",
       "      <td>0.0</td>\n",
       "      <td>0.0</td>\n",
       "      <td>0.000000</td>\n",
       "      <td>0.0</td>\n",
       "      <td>0.000000</td>\n",
       "    </tr>\n",
       "    <tr>\n",
       "      <th>6</th>\n",
       "      <td>Game Store</td>\n",
       "      <td>0.0</td>\n",
       "      <td>0.0</td>\n",
       "      <td>0.000000</td>\n",
       "      <td>0.0</td>\n",
       "      <td>0.000000</td>\n",
       "    </tr>\n",
       "    <tr>\n",
       "      <th>7</th>\n",
       "      <td>Load Screen</td>\n",
       "      <td>0.0</td>\n",
       "      <td>0.0</td>\n",
       "      <td>0.000000</td>\n",
       "      <td>0.0</td>\n",
       "      <td>0.000000</td>\n",
       "    </tr>\n",
       "    <tr>\n",
       "      <th>8</th>\n",
       "      <td>Menu</td>\n",
       "      <td>0.0</td>\n",
       "      <td>0.0</td>\n",
       "      <td>0.000000</td>\n",
       "      <td>0.0</td>\n",
       "      <td>0.000000</td>\n",
       "    </tr>\n",
       "    <tr>\n",
       "      <th>9</th>\n",
       "      <td>Other</td>\n",
       "      <td>0.0</td>\n",
       "      <td>0.0</td>\n",
       "      <td>0.000000</td>\n",
       "      <td>0.0</td>\n",
       "      <td>0.000000</td>\n",
       "    </tr>\n",
       "  </tbody>\n",
       "</table>\n",
       "</div>"
      ],
      "text/plain": [
       "  Location in game  Session Number  Interstitial   Rewarded  Banner  total_ads\n",
       "0       Game Pause             3.5           1.0  11.500000     0.0  12.500000\n",
       "1        Level End             3.5           2.0  10.833333     0.0  12.833333\n",
       "2               AD             0.0           0.0   0.000000     0.0   0.000000\n",
       "3        App Start             0.0           0.0   0.000000     0.0   0.000000\n",
       "4    Death/Mission             0.0           0.0   0.000000     0.0   0.000000\n",
       "5        Game Play             0.0           0.0   0.000000     0.0   0.000000\n",
       "6       Game Store             0.0           0.0   0.000000     0.0   0.000000\n",
       "7      Load Screen             0.0           0.0   0.000000     0.0   0.000000\n",
       "8             Menu             0.0           0.0   0.000000     0.0   0.000000\n",
       "9            Other             0.0           0.0   0.000000     0.0   0.000000"
      ]
     },
     "execution_count": 42,
     "metadata": {},
     "output_type": "execute_result"
    }
   ],
   "source": [
    "ad_placement_cat['total_ads'] = ad_placement_cat.drop('Session Number', axis=1).sum(axis=1)\n",
    "ad_placement_cat = ad_placement_cat.fillna(0)\n",
    "ad_placement_cat"
   ]
  },
  {
   "cell_type": "code",
   "execution_count": 43,
   "metadata": {
    "ExecuteTime": {
     "end_time": "2020-06-21T14:29:01.963727Z",
     "start_time": "2020-06-21T14:29:01.640592Z"
    }
   },
   "outputs": [
    {
     "data": {
      "image/png": "[encoded data removed]",
      "text/plain": [
       "<Figure size 720x360 with 1 Axes>"
      ]
     },
     "metadata": {},
     "output_type": "display_data"
    }
   ],
   "source": [
    "fig1, ax1 = plt.subplots(figsize=(10,5))\n",
    "ax1.pie(ad_placement_cat['total_ads'], autopct='%1.1f%%',\n",
    "        shadow=True, startangle=90)\n",
    "ax1.legend(labels=ad_placement_cat['Location in game'], loc='best')\n",
    "# Equal aspect ratio ensures that pie is drawn as a circle\n",
    "ax1.axis('equal')  \n",
    "plt.tight_layout()\n",
    "plt.show()\n",
    "fig1.savefig('Ad_placement_location_proportion.png', bbox_inches='tight')"
   ]
  },
  {
   "cell_type": "code",
   "execution_count": 44,
   "metadata": {
    "ExecuteTime": {
     "end_time": "2020-06-21T14:29:02.299828Z",
     "start_time": "2020-06-21T14:29:01.964725Z"
    }
   },
   "outputs": [
    {
     "data": {
      "image/png": "[encoded data removed]",
      "text/plain": [
       "<Figure size 720x360 with 1 Axes>"
      ]
     },
     "metadata": {},
     "output_type": "display_data"
    }
   ],
   "source": [
    "fig1, ax1 = plt.subplots(figsize=(10,5))\n",
    "ax1.pie(ad_placement_cat['Interstitial'], autopct='%1.1f%%',\n",
    "        shadow=True, startangle=90)\n",
    "ax1.legend(labels=ad_placement_cat['Location in game'], loc='best')\n",
    "# Equal aspect ratio ensures that pie is drawn as a circle\n",
    "ax1.axis('equal')  \n",
    "plt.tight_layout()\n",
    "plt.show()\n",
    "fig1.savefig('Interstitial_ad_placement_location_proportion.png', bbox_inches='tight')"
   ]
  },
  {
   "cell_type": "code",
   "execution_count": 45,
   "metadata": {
    "ExecuteTime": {
     "end_time": "2020-06-21T14:29:02.630941Z",
     "start_time": "2020-06-21T14:29:02.301823Z"
    }
   },
   "outputs": [
    {
     "data": {
      "image/png": "[encoded data removed]",
      "text/plain": [
       "<Figure size 720x360 with 1 Axes>"
      ]
     },
     "metadata": {},
     "output_type": "display_data"
    }
   ],
   "source": [
    "fig1, ax1 = plt.subplots(figsize=(10,5))\n",
    "ax1.pie(ad_placement_cat['Rewarded'], autopct='%1.1f%%',\n",
    "        shadow=True, startangle=90)\n",
    "ax1.legend(labels=ad_placement_cat['Location in game'], loc='best')\n",
    "# Equal aspect ratio ensures that pie is drawn as a circle\n",
    "ax1.axis('equal')  \n",
    "plt.tight_layout()\n",
    "plt.show()\n",
    "fig1.savefig('Rewarded_ad_placement_location_proportion.png', bbox_inches='tight')"
   ]
  },
  {
   "cell_type": "markdown",
   "metadata": {},
   "source": [
    "# Ad Type"
   ]
  },
  {
   "cell_type": "code",
   "execution_count": 46,
   "metadata": {
    "ExecuteTime": {
     "end_time": "2020-06-21T14:29:02.636954Z",
     "start_time": "2020-06-21T14:29:02.631939Z"
    }
   },
   "outputs": [
    {
     "data": {
      "text/plain": [
       "Index(['Analyst ID', 'Name', 'Phone Model', 'Location', 'VPN?',\n",
       "       'Session Number', 'Date (D/M/Y)', 'Session Duration', 'Game',\n",
       "       'Nudge Time (HH:MM:SS)', 'Start Type', 'Location in game', 'Game Push',\n",
       "       'Gift', 'What is Gifted', 'Gift Stacked reward', 'IAP Type',\n",
       "       'IAP Purchased With?', 'What was for sale?', 'Did you Purchase?',\n",
       "       'IAP Stacked reward', 'AD Format:', 'AD type', 'Watched ',\n",
       "       'If Rewarded? Type?', 'AD Stacked Rewards (Y/N)', 'Advertiser',\n",
       "       'Notes/Comments', 'Link to Recording'],\n",
       "      dtype='object')"
      ]
     },
     "execution_count": 46,
     "metadata": {},
     "output_type": "execute_result"
    }
   ],
   "source": [
    "log_data.columns"
   ]
  },
  {
   "cell_type": "code",
   "execution_count": 47,
   "metadata": {
    "ExecuteTime": {
     "end_time": "2020-06-21T14:29:02.657871Z",
     "start_time": "2020-06-21T14:29:02.638921Z"
    }
   },
   "outputs": [],
   "source": [
    "ad_type_distribution = log_data.pivot_table(values='Nudge Time (HH:MM:SS)', index=['Session Number', 'AD type'], columns='AD Format:', aggfunc='count').reset_index()"
   ]
  },
  {
   "cell_type": "code",
   "execution_count": 48,
   "metadata": {
    "ExecuteTime": {
     "end_time": "2020-06-21T14:29:02.777558Z",
     "start_time": "2020-06-21T14:29:02.659865Z"
    }
   },
   "outputs": [
    {
     "data": {
      "text/html": [
       "<div>\n",
       "<style scoped>\n",
       "    .dataframe tbody tr th:only-of-type {\n",
       "        vertical-align: middle;\n",
       "    }\n",
       "\n",
       "    .dataframe tbody tr th {\n",
       "        vertical-align: top;\n",
       "    }\n",
       "\n",
       "    .dataframe thead th {\n",
       "        text-align: right;\n",
       "    }\n",
       "</style>\n",
       "<table border=\"1\" class=\"dataframe\">\n",
       "  <thead>\n",
       "    <tr style=\"text-align: right;\">\n",
       "      <th></th>\n",
       "      <th>AD type</th>\n",
       "      <th>Interstitial</th>\n",
       "      <th>Rewarded</th>\n",
       "    </tr>\n",
       "  </thead>\n",
       "  <tbody>\n",
       "    <tr>\n",
       "      <th>0</th>\n",
       "      <td>Static</td>\n",
       "      <td>0.00</td>\n",
       "      <td>12.00</td>\n",
       "    </tr>\n",
       "    <tr>\n",
       "      <th>1</th>\n",
       "      <td>Video</td>\n",
       "      <td>1.67</td>\n",
       "      <td>12.67</td>\n",
       "    </tr>\n",
       "  </tbody>\n",
       "</table>\n",
       "</div>"
      ],
      "text/plain": [
       "  AD type  Interstitial  Rewarded\n",
       "0  Static          0.00     12.00\n",
       "1   Video          1.67     12.67"
      ]
     },
     "execution_count": 48,
     "metadata": {},
     "output_type": "execute_result"
    },
    {
     "data": {
      "image/png": "[encoded data removed]",
      "text/plain": [
       "<Figure size 432x135 with 1 Axes>"
      ]
     },
     "metadata": {
      "needs_background": "light"
     },
     "output_type": "display_data"
    }
   ],
   "source": [
    "ad_type_distribution.columns = tuple(ad_type_distribution.columns)\n",
    "ad_type_distribution = ad_type_distribution.drop('Session Number', axis=1).groupby('AD type').mean().reset_index().fillna(0).round(2)\n",
    "render_mpl_table(ad_type_distribution, header_columns=0, col_width=2.0, filesave='ad_type_by_ad_format_distribution_table.png')\n",
    "ad_type_distribution                 "
   ]
  },
  {
   "cell_type": "markdown",
   "metadata": {},
   "source": [
    "# RV Rewards "
   ]
  },
  {
   "cell_type": "code",
   "execution_count": 49,
   "metadata": {
    "ExecuteTime": {
     "end_time": "2020-06-21T14:29:02.814450Z",
     "start_time": "2020-06-21T14:29:02.778546Z"
    }
   },
   "outputs": [
    {
     "data": {
      "text/html": [
       "<div>\n",
       "<style scoped>\n",
       "    .dataframe tbody tr th:only-of-type {\n",
       "        vertical-align: middle;\n",
       "    }\n",
       "\n",
       "    .dataframe tbody tr th {\n",
       "        vertical-align: top;\n",
       "    }\n",
       "\n",
       "    .dataframe thead th {\n",
       "        text-align: right;\n",
       "    }\n",
       "</style>\n",
       "<table border=\"1\" class=\"dataframe\">\n",
       "  <thead>\n",
       "    <tr style=\"text-align: right;\">\n",
       "      <th></th>\n",
       "      <th>Session Number</th>\n",
       "      <th>In-game Currency</th>\n",
       "      <th>Random Prize</th>\n",
       "      <th>All</th>\n",
       "    </tr>\n",
       "  </thead>\n",
       "  <tbody>\n",
       "    <tr>\n",
       "      <th>0</th>\n",
       "      <td>1</td>\n",
       "      <td>26.0</td>\n",
       "      <td>NaN</td>\n",
       "      <td>26</td>\n",
       "    </tr>\n",
       "    <tr>\n",
       "      <th>1</th>\n",
       "      <td>2</td>\n",
       "      <td>5.0</td>\n",
       "      <td>10.0</td>\n",
       "      <td>15</td>\n",
       "    </tr>\n",
       "    <tr>\n",
       "      <th>2</th>\n",
       "      <td>3</td>\n",
       "      <td>13.0</td>\n",
       "      <td>NaN</td>\n",
       "      <td>13</td>\n",
       "    </tr>\n",
       "    <tr>\n",
       "      <th>3</th>\n",
       "      <td>4</td>\n",
       "      <td>10.0</td>\n",
       "      <td>NaN</td>\n",
       "      <td>10</td>\n",
       "    </tr>\n",
       "    <tr>\n",
       "      <th>4</th>\n",
       "      <td>5</td>\n",
       "      <td>2.0</td>\n",
       "      <td>13.0</td>\n",
       "      <td>15</td>\n",
       "    </tr>\n",
       "    <tr>\n",
       "      <th>5</th>\n",
       "      <td>6</td>\n",
       "      <td>9.0</td>\n",
       "      <td>NaN</td>\n",
       "      <td>9</td>\n",
       "    </tr>\n",
       "    <tr>\n",
       "      <th>6</th>\n",
       "      <td>All</td>\n",
       "      <td>65.0</td>\n",
       "      <td>23.0</td>\n",
       "      <td>88</td>\n",
       "    </tr>\n",
       "  </tbody>\n",
       "</table>\n",
       "</div>"
      ],
      "text/plain": [
       "  Session Number  In-game Currency  Random Prize  All\n",
       "0              1              26.0           NaN   26\n",
       "1              2               5.0          10.0   15\n",
       "2              3              13.0           NaN   13\n",
       "3              4              10.0           NaN   10\n",
       "4              5               2.0          13.0   15\n",
       "5              6               9.0           NaN    9\n",
       "6            All              65.0          23.0   88"
      ]
     },
     "execution_count": 49,
     "metadata": {},
     "output_type": "execute_result"
    }
   ],
   "source": [
    "rv_rewards = log_data.pivot_table(values='Nudge Time (HH:MM:SS)', index='Session Number', columns='If Rewarded? Type?', aggfunc='count', margins=True).reset_index()\n",
    "rv_rewards.columns = tuple(rv_rewards.columns)\n",
    "rv_rewards"
   ]
  },
  {
   "cell_type": "code",
   "execution_count": 50,
   "metadata": {
    "ExecuteTime": {
     "end_time": "2020-06-21T14:29:02.855341Z",
     "start_time": "2020-06-21T14:29:02.815448Z"
    }
   },
   "outputs": [
    {
     "data": {
      "text/html": [
       "<div>\n",
       "<style scoped>\n",
       "    .dataframe tbody tr th:only-of-type {\n",
       "        vertical-align: middle;\n",
       "    }\n",
       "\n",
       "    .dataframe tbody tr th {\n",
       "        vertical-align: top;\n",
       "    }\n",
       "\n",
       "    .dataframe thead th {\n",
       "        text-align: right;\n",
       "    }\n",
       "</style>\n",
       "<table border=\"1\" class=\"dataframe\">\n",
       "  <thead>\n",
       "    <tr style=\"text-align: right;\">\n",
       "      <th></th>\n",
       "      <th>If Rewarded? Type?</th>\n",
       "      <th>0</th>\n",
       "    </tr>\n",
       "  </thead>\n",
       "  <tbody>\n",
       "    <tr>\n",
       "      <th>0</th>\n",
       "      <td>In-game Currency</td>\n",
       "      <td>10.833333</td>\n",
       "    </tr>\n",
       "    <tr>\n",
       "      <th>1</th>\n",
       "      <td>Random Prize</td>\n",
       "      <td>11.500000</td>\n",
       "    </tr>\n",
       "    <tr>\n",
       "      <th>2</th>\n",
       "      <td>Faster Progression</td>\n",
       "      <td>0.000000</td>\n",
       "    </tr>\n",
       "    <tr>\n",
       "      <th>3</th>\n",
       "      <td>Hint/Information</td>\n",
       "      <td>0.000000</td>\n",
       "    </tr>\n",
       "    <tr>\n",
       "      <th>4</th>\n",
       "      <td>In-game items</td>\n",
       "      <td>0.000000</td>\n",
       "    </tr>\n",
       "    <tr>\n",
       "      <th>5</th>\n",
       "      <td>Play Time</td>\n",
       "      <td>0.000000</td>\n",
       "    </tr>\n",
       "    <tr>\n",
       "      <th>6</th>\n",
       "      <td>Revive/Continue</td>\n",
       "      <td>0.000000</td>\n",
       "    </tr>\n",
       "    <tr>\n",
       "      <th>7</th>\n",
       "      <td>Temporary Boost</td>\n",
       "      <td>0.000000</td>\n",
       "    </tr>\n",
       "    <tr>\n",
       "      <th>8</th>\n",
       "      <td>Upgrade</td>\n",
       "      <td>0.000000</td>\n",
       "    </tr>\n",
       "    <tr>\n",
       "      <th>9</th>\n",
       "      <td>Other</td>\n",
       "      <td>0.000000</td>\n",
       "    </tr>\n",
       "  </tbody>\n",
       "</table>\n",
       "</div>"
      ],
      "text/plain": [
       "   If Rewarded? Type?          0\n",
       "0    In-game Currency  10.833333\n",
       "1        Random Prize  11.500000\n",
       "2  Faster Progression   0.000000\n",
       "3    Hint/Information   0.000000\n",
       "4       In-game items   0.000000\n",
       "5           Play Time   0.000000\n",
       "6     Revive/Continue   0.000000\n",
       "7     Temporary Boost   0.000000\n",
       "8             Upgrade   0.000000\n",
       "9               Other   0.000000"
      ]
     },
     "execution_count": 50,
     "metadata": {},
     "output_type": "execute_result"
    }
   ],
   "source": [
    "rewards_cols = ['Faster Progression', 'Hint/Information', 'In-game Currency', 'In-game items', 'Play Time', 'Random Prize', \n",
    "               'Revive/Continue', 'Temporary Boost', 'Upgrade', 'Other']\n",
    "\n",
    "rv_rewards_cat = log_data.pivot_table(values='Nudge Time (HH:MM:SS)', index='Session Number', columns='If Rewarded? Type?', aggfunc='count').stack().reset_index()\n",
    "rv_rewards_cat = rv_rewards_cat.drop('Session Number', axis=1).groupby('If Rewarded? Type?').mean().reset_index()\n",
    "\n",
    "if len(rv_rewards_cat) < 5:\n",
    "    recommended_more_rewards = 'You can show more RV for more in-game rewards at more locations!'\n",
    "\n",
    "for i in rewards_cols:\n",
    "    if i not in rv_rewards_cat['If Rewarded? Type?'].values:\n",
    "        rv_rewards_cat = rv_rewards_cat.append({'If Rewarded? Type?': i}, ignore_index=True)\n",
    "\n",
    "rv_rewards_cat = rv_rewards_cat.fillna(0)\n",
    "rv_rewards_cat"
   ]
  },
  {
   "cell_type": "code",
   "execution_count": 51,
   "metadata": {
    "ExecuteTime": {
     "end_time": "2020-06-21T14:29:03.082732Z",
     "start_time": "2020-06-21T14:29:02.856338Z"
    }
   },
   "outputs": [
    {
     "data": {
      "image/png": "[encoded data removed]",
      "text/plain": [
       "<Figure size 720x360 with 1 Axes>"
      ]
     },
     "metadata": {},
     "output_type": "display_data"
    }
   ],
   "source": [
    "fig1, ax1 = plt.subplots(figsize=(10,5))\n",
    "ax1.pie(rv_rewards_cat[0], autopct='%1.1f%%',\n",
    "        shadow=True, startangle=90)\n",
    "ax1.legend(labels=rv_rewards_cat['If Rewarded? Type?'], loc='best')\n",
    "# Equal aspect ratio ensures that pie is drawn as a circle\n",
    "ax1.axis('equal')  \n",
    "plt.tight_layout()\n",
    "plt.show()\n",
    "fig1.savefig('Rewarded_items_proportion.png', bbox_inches='tight')"
   ]
  },
  {
   "cell_type": "markdown",
   "metadata": {},
   "source": [
    "# RV stacked "
   ]
  },
  {
   "cell_type": "code",
   "execution_count": 52,
   "metadata": {
    "ExecuteTime": {
     "end_time": "2020-06-21T14:29:03.094700Z",
     "start_time": "2020-06-21T14:29:03.083729Z"
    }
   },
   "outputs": [],
   "source": [
    "rv_rewards_stacked = log_data.pivot_table(values='Nudge Time (HH:MM:SS)', index='Session Number', columns='AD Stacked Rewards (Y/N)', aggfunc='count').reset_index()\n",
    "rv_rewards_stacked.columns = tuple(rv_rewards_stacked.columns)"
   ]
  },
  {
   "cell_type": "code",
   "execution_count": 53,
   "metadata": {
    "ExecuteTime": {
     "end_time": "2020-06-21T14:29:03.105671Z",
     "start_time": "2020-06-21T14:29:03.095698Z"
    }
   },
   "outputs": [],
   "source": [
    "rv_rewards_stacked['stacked_proportion'] = rv_rewards_stacked['y']/rv_rewards['All']"
   ]
  },
  {
   "cell_type": "code",
   "execution_count": 54,
   "metadata": {
    "ExecuteTime": {
     "end_time": "2020-06-21T14:29:03.116641Z",
     "start_time": "2020-06-21T14:29:03.107667Z"
    }
   },
   "outputs": [
    {
     "data": {
      "text/html": [
       "<div>\n",
       "<style scoped>\n",
       "    .dataframe tbody tr th:only-of-type {\n",
       "        vertical-align: middle;\n",
       "    }\n",
       "\n",
       "    .dataframe tbody tr th {\n",
       "        vertical-align: top;\n",
       "    }\n",
       "\n",
       "    .dataframe thead th {\n",
       "        text-align: right;\n",
       "    }\n",
       "</style>\n",
       "<table border=\"1\" class=\"dataframe\">\n",
       "  <thead>\n",
       "    <tr style=\"text-align: right;\">\n",
       "      <th></th>\n",
       "      <th>Session Number</th>\n",
       "      <th>y</th>\n",
       "      <th>stacked_proportion</th>\n",
       "    </tr>\n",
       "  </thead>\n",
       "  <tbody>\n",
       "    <tr>\n",
       "      <th>0</th>\n",
       "      <td>1</td>\n",
       "      <td>6</td>\n",
       "      <td>0.230769</td>\n",
       "    </tr>\n",
       "    <tr>\n",
       "      <th>1</th>\n",
       "      <td>2</td>\n",
       "      <td>4</td>\n",
       "      <td>0.266667</td>\n",
       "    </tr>\n",
       "    <tr>\n",
       "      <th>2</th>\n",
       "      <td>3</td>\n",
       "      <td>7</td>\n",
       "      <td>0.538462</td>\n",
       "    </tr>\n",
       "    <tr>\n",
       "      <th>3</th>\n",
       "      <td>4</td>\n",
       "      <td>4</td>\n",
       "      <td>0.400000</td>\n",
       "    </tr>\n",
       "    <tr>\n",
       "      <th>4</th>\n",
       "      <td>5</td>\n",
       "      <td>5</td>\n",
       "      <td>0.333333</td>\n",
       "    </tr>\n",
       "    <tr>\n",
       "      <th>5</th>\n",
       "      <td>6</td>\n",
       "      <td>5</td>\n",
       "      <td>0.555556</td>\n",
       "    </tr>\n",
       "  </tbody>\n",
       "</table>\n",
       "</div>"
      ],
      "text/plain": [
       "   Session Number  y  stacked_proportion\n",
       "0               1  6            0.230769\n",
       "1               2  4            0.266667\n",
       "2               3  7            0.538462\n",
       "3               4  4            0.400000\n",
       "4               5  5            0.333333\n",
       "5               6  5            0.555556"
      ]
     },
     "execution_count": 54,
     "metadata": {},
     "output_type": "execute_result"
    }
   ],
   "source": [
    "rv_rewards_stacked"
   ]
  },
  {
   "cell_type": "code",
   "execution_count": 55,
   "metadata": {
    "ExecuteTime": {
     "end_time": "2020-06-21T14:29:03.124625Z",
     "start_time": "2020-06-21T14:29:03.118637Z"
    }
   },
   "outputs": [],
   "source": [
    "rv_rewards_stacked_average = rv_rewards_stacked.mean()['stacked_proportion']\n",
    "\n",
    "if rv_rewards_stacked_average < 0.5:\n",
    "    recommended_stacking_rewards = 'You can stacked more RV ads to double rewards!'"
   ]
  },
  {
   "cell_type": "code",
   "execution_count": 56,
   "metadata": {
    "ExecuteTime": {
     "end_time": "2020-06-21T14:29:03.378972Z",
     "start_time": "2020-06-21T14:29:03.125618Z"
    }
   },
   "outputs": [
    {
     "data": {
      "image/png": "[encoded data removed]",
      "text/plain": [
       "<Figure size 720x720 with 1 Axes>"
      ]
     },
     "metadata": {
      "needs_background": "light"
     },
     "output_type": "display_data"
    }
   ],
   "source": [
    "fig, ax1 = plt.subplots(figsize=(10, 10))\n",
    "sns.barplot(x='Session Number', y='stacked_proportion', data=rv_rewards_stacked, ax=ax1)\n",
    "sns.despine(fig)\n",
    "fig.savefig('Rewards_stacked_through_game_play.png', bbox_inches='tight')"
   ]
  },
  {
   "cell_type": "markdown",
   "metadata": {},
   "source": [
    "# Time-based Patterns "
   ]
  },
  {
   "cell_type": "code",
   "execution_count": 57,
   "metadata": {
    "ExecuteTime": {
     "end_time": "2020-06-21T14:29:03.383958Z",
     "start_time": "2020-06-21T14:29:03.379937Z"
    }
   },
   "outputs": [
    {
     "data": {
      "text/plain": [
       "Index(['Analyst ID', 'Name', 'Phone Model', 'Location', 'VPN?',\n",
       "       'Session Number', 'Date (D/M/Y)', 'Session Duration', 'Game',\n",
       "       'Nudge Time (HH:MM:SS)', 'Start Type', 'Location in game', 'Game Push',\n",
       "       'Gift', 'What is Gifted', 'Gift Stacked reward', 'IAP Type',\n",
       "       'IAP Purchased With?', 'What was for sale?', 'Did you Purchase?',\n",
       "       'IAP Stacked reward', 'AD Format:', 'AD type', 'Watched ',\n",
       "       'If Rewarded? Type?', 'AD Stacked Rewards (Y/N)', 'Advertiser',\n",
       "       'Notes/Comments', 'Link to Recording'],\n",
       "      dtype='object')"
      ]
     },
     "execution_count": 57,
     "metadata": {},
     "output_type": "execute_result"
    }
   ],
   "source": [
    "log_data.columns"
   ]
  },
  {
   "cell_type": "code",
   "execution_count": 58,
   "metadata": {
    "ExecuteTime": {
     "end_time": "2020-06-21T14:29:03.392926Z",
     "start_time": "2020-06-21T14:29:03.384923Z"
    }
   },
   "outputs": [],
   "source": [
    "log_data['Nudge Time (HH:MM:SS)'] = pd.to_timedelta(log_data['Nudge Time (HH:MM:SS)'].astype(str))\n",
    "# log_data = log_data.set_index('Nudge Time (HH:MM:SS)')"
   ]
  },
  {
   "cell_type": "code",
   "execution_count": 59,
   "metadata": {
    "ExecuteTime": {
     "end_time": "2020-06-21T14:29:03.399919Z",
     "start_time": "2020-06-21T14:29:03.393899Z"
    }
   },
   "outputs": [],
   "source": [
    "min_session_duration = int(min(log_data['Session Duration'])/60)"
   ]
  },
  {
   "cell_type": "code",
   "execution_count": 60,
   "metadata": {
    "ExecuteTime": {
     "end_time": "2020-06-21T14:29:03.409890Z",
     "start_time": "2020-06-21T14:29:03.401881Z"
    }
   },
   "outputs": [
    {
     "data": {
      "text/plain": [
       "(264, 29)"
      ]
     },
     "execution_count": 60,
     "metadata": {},
     "output_type": "execute_result"
    }
   ],
   "source": [
    "log_data = log_data[log_data['Nudge Time (HH:MM:SS)'] <= pd.to_timedelta(min(log_data['Session Duration']), unit='s')]\n",
    "log_data.shape"
   ]
  },
  {
   "cell_type": "code",
   "execution_count": 61,
   "metadata": {
    "ExecuteTime": {
     "end_time": "2020-06-21T14:29:03.417869Z",
     "start_time": "2020-06-21T14:29:03.410854Z"
    }
   },
   "outputs": [],
   "source": [
    "nudge_bins = []\n",
    "nudge_bins_cat = list(range(0, min_session_duration))\n",
    "for i in range(min_session_duration + 1):\n",
    "    nudge_bins.append(pd.to_timedelta(i, unit='m'))\n",
    "log_data['nudge_mins'] = pd.cut(log_data['Nudge Time (HH:MM:SS)'], nudge_bins, labels=nudge_bins_cat)"
   ]
  },
  {
   "cell_type": "markdown",
   "metadata": {},
   "source": [
    "## Ad Proactiveness Pattern"
   ]
  },
  {
   "cell_type": "code",
   "execution_count": 62,
   "metadata": {
    "ExecuteTime": {
     "end_time": "2020-06-21T14:29:03.427841Z",
     "start_time": "2020-06-21T14:29:03.418833Z"
    }
   },
   "outputs": [],
   "source": [
    "proactiveness_pattern = log_data.groupby(['nudge_mins', 'Start Type']).size().reset_index().rename(columns={0:'freq'})\n",
    "# proactiveness_pattern "
   ]
  },
  {
   "cell_type": "code",
   "execution_count": 63,
   "metadata": {
    "ExecuteTime": {
     "end_time": "2020-06-21T14:29:03.439778Z",
     "start_time": "2020-06-21T14:29:03.428807Z"
    }
   },
   "outputs": [
    {
     "data": {
      "text/html": [
       "<div>\n",
       "<style scoped>\n",
       "    .dataframe tbody tr th:only-of-type {\n",
       "        vertical-align: middle;\n",
       "    }\n",
       "\n",
       "    .dataframe tbody tr th {\n",
       "        vertical-align: top;\n",
       "    }\n",
       "\n",
       "    .dataframe thead th {\n",
       "        text-align: right;\n",
       "    }\n",
       "</style>\n",
       "<table border=\"1\" class=\"dataframe\">\n",
       "  <thead>\n",
       "    <tr style=\"text-align: right;\">\n",
       "      <th></th>\n",
       "      <th>nudge_mins</th>\n",
       "      <th>Start Type</th>\n",
       "      <th>freq</th>\n",
       "    </tr>\n",
       "  </thead>\n",
       "  <tbody>\n",
       "    <tr>\n",
       "      <th>0</th>\n",
       "      <td>0</td>\n",
       "      <td>Game Initiated</td>\n",
       "      <td>6</td>\n",
       "    </tr>\n",
       "    <tr>\n",
       "      <th>1</th>\n",
       "      <td>0</td>\n",
       "      <td>Player Initiated</td>\n",
       "      <td>6</td>\n",
       "    </tr>\n",
       "    <tr>\n",
       "      <th>2</th>\n",
       "      <td>1</td>\n",
       "      <td>Game Initiated</td>\n",
       "      <td>5</td>\n",
       "    </tr>\n",
       "    <tr>\n",
       "      <th>3</th>\n",
       "      <td>1</td>\n",
       "      <td>Player Initiated</td>\n",
       "      <td>7</td>\n",
       "    </tr>\n",
       "    <tr>\n",
       "      <th>4</th>\n",
       "      <td>2</td>\n",
       "      <td>Game Initiated</td>\n",
       "      <td>5</td>\n",
       "    </tr>\n",
       "    <tr>\n",
       "      <th>5</th>\n",
       "      <td>2</td>\n",
       "      <td>Player Initiated</td>\n",
       "      <td>7</td>\n",
       "    </tr>\n",
       "    <tr>\n",
       "      <th>6</th>\n",
       "      <td>3</td>\n",
       "      <td>Game Initiated</td>\n",
       "      <td>7</td>\n",
       "    </tr>\n",
       "    <tr>\n",
       "      <th>7</th>\n",
       "      <td>3</td>\n",
       "      <td>Player Initiated</td>\n",
       "      <td>5</td>\n",
       "    </tr>\n",
       "    <tr>\n",
       "      <th>8</th>\n",
       "      <td>4</td>\n",
       "      <td>Game Initiated</td>\n",
       "      <td>4</td>\n",
       "    </tr>\n",
       "    <tr>\n",
       "      <th>9</th>\n",
       "      <td>4</td>\n",
       "      <td>Player Initiated</td>\n",
       "      <td>6</td>\n",
       "    </tr>\n",
       "    <tr>\n",
       "      <th>10</th>\n",
       "      <td>5</td>\n",
       "      <td>Game Initiated</td>\n",
       "      <td>5</td>\n",
       "    </tr>\n",
       "    <tr>\n",
       "      <th>11</th>\n",
       "      <td>5</td>\n",
       "      <td>Player Initiated</td>\n",
       "      <td>6</td>\n",
       "    </tr>\n",
       "    <tr>\n",
       "      <th>12</th>\n",
       "      <td>6</td>\n",
       "      <td>Game Initiated</td>\n",
       "      <td>3</td>\n",
       "    </tr>\n",
       "    <tr>\n",
       "      <th>13</th>\n",
       "      <td>6</td>\n",
       "      <td>Player Initiated</td>\n",
       "      <td>10</td>\n",
       "    </tr>\n",
       "    <tr>\n",
       "      <th>14</th>\n",
       "      <td>7</td>\n",
       "      <td>Game Initiated</td>\n",
       "      <td>4</td>\n",
       "    </tr>\n",
       "    <tr>\n",
       "      <th>15</th>\n",
       "      <td>7</td>\n",
       "      <td>Player Initiated</td>\n",
       "      <td>7</td>\n",
       "    </tr>\n",
       "    <tr>\n",
       "      <th>16</th>\n",
       "      <td>8</td>\n",
       "      <td>Game Initiated</td>\n",
       "      <td>3</td>\n",
       "    </tr>\n",
       "    <tr>\n",
       "      <th>17</th>\n",
       "      <td>8</td>\n",
       "      <td>Player Initiated</td>\n",
       "      <td>6</td>\n",
       "    </tr>\n",
       "    <tr>\n",
       "      <th>18</th>\n",
       "      <td>9</td>\n",
       "      <td>Game Initiated</td>\n",
       "      <td>3</td>\n",
       "    </tr>\n",
       "    <tr>\n",
       "      <th>19</th>\n",
       "      <td>9</td>\n",
       "      <td>Player Initiated</td>\n",
       "      <td>6</td>\n",
       "    </tr>\n",
       "  </tbody>\n",
       "</table>\n",
       "</div>"
      ],
      "text/plain": [
       "   nudge_mins        Start Type  freq\n",
       "0           0    Game Initiated     6\n",
       "1           0  Player Initiated     6\n",
       "2           1    Game Initiated     5\n",
       "3           1  Player Initiated     7\n",
       "4           2    Game Initiated     5\n",
       "5           2  Player Initiated     7\n",
       "6           3    Game Initiated     7\n",
       "7           3  Player Initiated     5\n",
       "8           4    Game Initiated     4\n",
       "9           4  Player Initiated     6\n",
       "10          5    Game Initiated     5\n",
       "11          5  Player Initiated     6\n",
       "12          6    Game Initiated     3\n",
       "13          6  Player Initiated    10\n",
       "14          7    Game Initiated     4\n",
       "15          7  Player Initiated     7\n",
       "16          8    Game Initiated     3\n",
       "17          8  Player Initiated     6\n",
       "18          9    Game Initiated     3\n",
       "19          9  Player Initiated     6"
      ]
     },
     "execution_count": 63,
     "metadata": {},
     "output_type": "execute_result"
    }
   ],
   "source": [
    "proactiveness_pattern"
   ]
  },
  {
   "cell_type": "code",
   "execution_count": 64,
   "metadata": {
    "ExecuteTime": {
     "end_time": "2020-06-21T14:29:03.709056Z",
     "start_time": "2020-06-21T14:29:03.440774Z"
    }
   },
   "outputs": [
    {
     "data": {
      "image/png": "[encoded data removed]",
      "text/plain": [
       "<Figure size 432x288 with 1 Axes>"
      ]
     },
     "metadata": {
      "needs_background": "light"
     },
     "output_type": "display_data"
    }
   ],
   "source": [
    "ax = sns.lineplot(x=\"nudge_mins\", y=\"freq\", hue=\"Start Type\",\n",
    "                  data=proactiveness_pattern)\n",
    "ax.figure.savefig('Ad_proactiveness_across_average_game_duration.png', bbox_inches='tight')"
   ]
  },
  {
   "cell_type": "markdown",
   "metadata": {},
   "source": [
    "## Ad Placement Pattern"
   ]
  },
  {
   "cell_type": "code",
   "execution_count": 65,
   "metadata": {
    "ExecuteTime": {
     "end_time": "2020-06-21T14:29:03.719029Z",
     "start_time": "2020-06-21T14:29:03.710053Z"
    }
   },
   "outputs": [],
   "source": [
    "game_location_pattern = log_data[log_data['AD Format:'].notnull()]\n",
    "game_location_pattern = game_location_pattern.groupby(['nudge_mins', 'Location in game']).size().reset_index().rename(columns={0:'freq'})\n",
    "# game_location_pattern"
   ]
  },
  {
   "cell_type": "code",
   "execution_count": 66,
   "metadata": {
    "ExecuteTime": {
     "end_time": "2020-06-21T14:29:03.988309Z",
     "start_time": "2020-06-21T14:29:03.720026Z"
    }
   },
   "outputs": [
    {
     "data": {
      "image/png": "[encoded data removed]",
      "text/plain": [
       "<Figure size 432x288 with 1 Axes>"
      ]
     },
     "metadata": {
      "needs_background": "light"
     },
     "output_type": "display_data"
    }
   ],
   "source": [
    "import seaborn as sns\n",
    "import matplotlib.pyplot as plt\n",
    "ax = sns.lineplot(x=\"nudge_mins\", y=\"freq\", hue=\"Location in game\",\n",
    "                  data=game_location_pattern)\n",
    "ax.figure.savefig('Ad_location_across_average_game_duration.png', bbox_inches='tight')"
   ]
  },
  {
   "cell_type": "code",
   "execution_count": 67,
   "metadata": {
    "ExecuteTime": {
     "end_time": "2020-06-21T14:29:04.001234Z",
     "start_time": "2020-06-21T14:29:03.993295Z"
    }
   },
   "outputs": [
    {
     "data": {
      "text/html": [
       "<div>\n",
       "<style scoped>\n",
       "    .dataframe tbody tr th:only-of-type {\n",
       "        vertical-align: middle;\n",
       "    }\n",
       "\n",
       "    .dataframe tbody tr th {\n",
       "        vertical-align: top;\n",
       "    }\n",
       "\n",
       "    .dataframe thead th {\n",
       "        text-align: right;\n",
       "    }\n",
       "</style>\n",
       "<table border=\"1\" class=\"dataframe\">\n",
       "  <thead>\n",
       "    <tr style=\"text-align: right;\">\n",
       "      <th></th>\n",
       "      <th>nudge_mins</th>\n",
       "      <th>Location in game</th>\n",
       "      <th>freq</th>\n",
       "    </tr>\n",
       "  </thead>\n",
       "  <tbody>\n",
       "    <tr>\n",
       "      <th>0</th>\n",
       "      <td>0</td>\n",
       "      <td>Game Pause</td>\n",
       "      <td>1</td>\n",
       "    </tr>\n",
       "    <tr>\n",
       "      <th>1</th>\n",
       "      <td>0</td>\n",
       "      <td>Level End</td>\n",
       "      <td>8</td>\n",
       "    </tr>\n",
       "    <tr>\n",
       "      <th>2</th>\n",
       "      <td>1</td>\n",
       "      <td>Game Pause</td>\n",
       "      <td>2</td>\n",
       "    </tr>\n",
       "    <tr>\n",
       "      <th>3</th>\n",
       "      <td>1</td>\n",
       "      <td>Level End</td>\n",
       "      <td>6</td>\n",
       "    </tr>\n",
       "    <tr>\n",
       "      <th>4</th>\n",
       "      <td>2</td>\n",
       "      <td>Game Pause</td>\n",
       "      <td>3</td>\n",
       "    </tr>\n",
       "    <tr>\n",
       "      <th>5</th>\n",
       "      <td>2</td>\n",
       "      <td>Level End</td>\n",
       "      <td>6</td>\n",
       "    </tr>\n",
       "    <tr>\n",
       "      <th>6</th>\n",
       "      <td>3</td>\n",
       "      <td>Game Pause</td>\n",
       "      <td>2</td>\n",
       "    </tr>\n",
       "    <tr>\n",
       "      <th>7</th>\n",
       "      <td>3</td>\n",
       "      <td>Level End</td>\n",
       "      <td>8</td>\n",
       "    </tr>\n",
       "    <tr>\n",
       "      <th>8</th>\n",
       "      <td>4</td>\n",
       "      <td>Game Pause</td>\n",
       "      <td>1</td>\n",
       "    </tr>\n",
       "    <tr>\n",
       "      <th>9</th>\n",
       "      <td>4</td>\n",
       "      <td>Level End</td>\n",
       "      <td>6</td>\n",
       "    </tr>\n",
       "    <tr>\n",
       "      <th>10</th>\n",
       "      <td>5</td>\n",
       "      <td>Game Pause</td>\n",
       "      <td>2</td>\n",
       "    </tr>\n",
       "    <tr>\n",
       "      <th>11</th>\n",
       "      <td>5</td>\n",
       "      <td>Level End</td>\n",
       "      <td>7</td>\n",
       "    </tr>\n",
       "    <tr>\n",
       "      <th>12</th>\n",
       "      <td>6</td>\n",
       "      <td>Game Pause</td>\n",
       "      <td>3</td>\n",
       "    </tr>\n",
       "    <tr>\n",
       "      <th>13</th>\n",
       "      <td>6</td>\n",
       "      <td>Level End</td>\n",
       "      <td>6</td>\n",
       "    </tr>\n",
       "    <tr>\n",
       "      <th>14</th>\n",
       "      <td>7</td>\n",
       "      <td>Game Pause</td>\n",
       "      <td>4</td>\n",
       "    </tr>\n",
       "    <tr>\n",
       "      <th>15</th>\n",
       "      <td>7</td>\n",
       "      <td>Level End</td>\n",
       "      <td>6</td>\n",
       "    </tr>\n",
       "    <tr>\n",
       "      <th>16</th>\n",
       "      <td>8</td>\n",
       "      <td>Game Pause</td>\n",
       "      <td>3</td>\n",
       "    </tr>\n",
       "    <tr>\n",
       "      <th>17</th>\n",
       "      <td>8</td>\n",
       "      <td>Level End</td>\n",
       "      <td>4</td>\n",
       "    </tr>\n",
       "    <tr>\n",
       "      <th>18</th>\n",
       "      <td>9</td>\n",
       "      <td>Game Pause</td>\n",
       "      <td>3</td>\n",
       "    </tr>\n",
       "    <tr>\n",
       "      <th>19</th>\n",
       "      <td>9</td>\n",
       "      <td>Level End</td>\n",
       "      <td>4</td>\n",
       "    </tr>\n",
       "  </tbody>\n",
       "</table>\n",
       "</div>"
      ],
      "text/plain": [
       "   nudge_mins Location in game  freq\n",
       "0           0       Game Pause     1\n",
       "1           0        Level End     8\n",
       "2           1       Game Pause     2\n",
       "3           1        Level End     6\n",
       "4           2       Game Pause     3\n",
       "5           2        Level End     6\n",
       "6           3       Game Pause     2\n",
       "7           3        Level End     8\n",
       "8           4       Game Pause     1\n",
       "9           4        Level End     6\n",
       "10          5       Game Pause     2\n",
       "11          5        Level End     7\n",
       "12          6       Game Pause     3\n",
       "13          6        Level End     6\n",
       "14          7       Game Pause     4\n",
       "15          7        Level End     6\n",
       "16          8       Game Pause     3\n",
       "17          8        Level End     4\n",
       "18          9       Game Pause     3\n",
       "19          9        Level End     4"
      ]
     },
     "execution_count": 67,
     "metadata": {},
     "output_type": "execute_result"
    }
   ],
   "source": [
    "game_location_pattern"
   ]
  },
  {
   "cell_type": "code",
   "execution_count": 68,
   "metadata": {
    "ExecuteTime": {
     "end_time": "2020-06-21T14:29:04.009213Z",
     "start_time": "2020-06-21T14:29:04.003230Z"
    }
   },
   "outputs": [],
   "source": [
    "if np.std(game_location_pattern['freq']) > 1:\n",
    "    recommended_ad_consistency = \"Game Ads can display more consistently on a high frequency!\""
   ]
  },
  {
   "cell_type": "markdown",
   "metadata": {},
   "source": [
    "## Ad Type Pattern"
   ]
  },
  {
   "cell_type": "code",
   "execution_count": 69,
   "metadata": {
    "ExecuteTime": {
     "end_time": "2020-06-21T14:29:04.021181Z",
     "start_time": "2020-06-21T14:29:04.010211Z"
    }
   },
   "outputs": [],
   "source": [
    "ad_type_pattern = log_data.groupby(['nudge_mins', 'AD type']).size().reset_index().rename(columns={0:'freq'})\n",
    "# ad_type_pattern"
   ]
  },
  {
   "cell_type": "code",
   "execution_count": 70,
   "metadata": {
    "ExecuteTime": {
     "end_time": "2020-06-21T14:29:04.325367Z",
     "start_time": "2020-06-21T14:29:04.022198Z"
    }
   },
   "outputs": [
    {
     "data": {
      "image/png": "[encoded data removed]",
      "text/plain": [
       "<Figure size 432x288 with 1 Axes>"
      ]
     },
     "metadata": {
      "needs_background": "light"
     },
     "output_type": "display_data"
    }
   ],
   "source": [
    "import seaborn as sns\n",
    "import matplotlib.pyplot as plt\n",
    "ax = sns.lineplot(x=\"nudge_mins\", y=\"freq\", hue=\"AD type\",\n",
    "                  data=ad_type_pattern)\n",
    "ax.figure.savefig('Ad_type_across_average_game_duration.png', bbox_inches='tight')"
   ]
  },
  {
   "cell_type": "markdown",
   "metadata": {},
   "source": [
    "## Ad Format Pattern"
   ]
  },
  {
   "cell_type": "code",
   "execution_count": 71,
   "metadata": {
    "ExecuteTime": {
     "end_time": "2020-06-21T14:29:04.336337Z",
     "start_time": "2020-06-21T14:29:04.326364Z"
    },
    "scrolled": true
   },
   "outputs": [],
   "source": [
    "ad_format_pattern = log_data.groupby(['nudge_mins', 'AD Format:']).size().reset_index().rename(columns={0:'freq'})\n",
    "# ad_format_pattern"
   ]
  },
  {
   "cell_type": "code",
   "execution_count": 72,
   "metadata": {
    "ExecuteTime": {
     "end_time": "2020-06-21T14:29:04.340335Z",
     "start_time": "2020-06-21T14:29:04.337335Z"
    }
   },
   "outputs": [],
   "source": [
    "#nudges per mins\n",
    "#graph out all the sessions and get the moving averarge and the change in nudge density over the course of the gameplay"
   ]
  },
  {
   "cell_type": "code",
   "execution_count": 73,
   "metadata": {
    "ExecuteTime": {
     "end_time": "2020-06-21T14:29:04.607612Z",
     "start_time": "2020-06-21T14:29:04.341325Z"
    }
   },
   "outputs": [
    {
     "data": {
      "image/png": "[encoded data removed]",
      "text/plain": [
       "<Figure size 432x288 with 1 Axes>"
      ]
     },
     "metadata": {
      "needs_background": "light"
     },
     "output_type": "display_data"
    }
   ],
   "source": [
    "import seaborn as sns\n",
    "import matplotlib.pyplot as plt\n",
    "ax = sns.lineplot(x=\"nudge_mins\", y=\"freq\", hue=\"AD Format:\",\n",
    "                  data=ad_format_pattern)\n",
    "ax.figure.savefig('Ad_category_across_average_game_duration.png', bbox_inches='tight')"
   ]
  },
  {
   "cell_type": "markdown",
   "metadata": {},
   "source": [
    "## Ad Format Cat "
   ]
  },
  {
   "cell_type": "code",
   "execution_count": 74,
   "metadata": {
    "ExecuteTime": {
     "end_time": "2020-06-21T14:29:04.613596Z",
     "start_time": "2020-06-21T14:29:04.608609Z"
    }
   },
   "outputs": [
    {
     "data": {
      "text/plain": [
       "['Banner', 'Interstitial', 'Rewarded']"
      ]
     },
     "execution_count": 74,
     "metadata": {},
     "output_type": "execute_result"
    }
   ],
   "source": [
    "ad_cols"
   ]
  },
  {
   "cell_type": "code",
   "execution_count": 75,
   "metadata": {
    "ExecuteTime": {
     "end_time": "2020-06-21T14:29:04.628556Z",
     "start_time": "2020-06-21T14:29:04.614593Z"
    }
   },
   "outputs": [
    {
     "data": {
      "text/html": [
       "<div>\n",
       "<style scoped>\n",
       "    .dataframe tbody tr th:only-of-type {\n",
       "        vertical-align: middle;\n",
       "    }\n",
       "\n",
       "    .dataframe tbody tr th {\n",
       "        vertical-align: top;\n",
       "    }\n",
       "\n",
       "    .dataframe thead th {\n",
       "        text-align: right;\n",
       "    }\n",
       "</style>\n",
       "<table border=\"1\" class=\"dataframe\">\n",
       "  <thead>\n",
       "    <tr style=\"text-align: right;\">\n",
       "      <th></th>\n",
       "      <th>AD Format:</th>\n",
       "      <th>freq</th>\n",
       "    </tr>\n",
       "  </thead>\n",
       "  <tbody>\n",
       "    <tr>\n",
       "      <th>0</th>\n",
       "      <td>Interstitial</td>\n",
       "      <td>4</td>\n",
       "    </tr>\n",
       "    <tr>\n",
       "      <th>1</th>\n",
       "      <td>Rewarded</td>\n",
       "      <td>81</td>\n",
       "    </tr>\n",
       "    <tr>\n",
       "      <th>2</th>\n",
       "      <td>Banner</td>\n",
       "      <td>0</td>\n",
       "    </tr>\n",
       "  </tbody>\n",
       "</table>\n",
       "</div>"
      ],
      "text/plain": [
       "     AD Format:  freq\n",
       "0  Interstitial     4\n",
       "1      Rewarded    81\n",
       "2        Banner     0"
      ]
     },
     "execution_count": 75,
     "metadata": {},
     "output_type": "execute_result"
    }
   ],
   "source": [
    "ad_format_pattern_cat = ad_format_pattern.groupby(['AD Format:']).sum().reset_index().rename(columns={0:'freq'})\n",
    "\n",
    "for i in ad_cols:\n",
    "    if i not in ad_format_pattern_cat['AD Format:'].values:\n",
    "        ad_format_pattern_cat = ad_format_pattern_cat.append({'AD Format:': i, 'freq':0}, ignore_index=True)\n",
    "ad_format_pattern_cat"
   ]
  },
  {
   "cell_type": "code",
   "execution_count": 76,
   "metadata": {
    "ExecuteTime": {
     "end_time": "2020-06-21T14:29:04.766190Z",
     "start_time": "2020-06-21T14:29:04.629553Z"
    }
   },
   "outputs": [
    {
     "data": {
      "image/png": "[encoded data removed]",
      "text/plain": [
       "<Figure size 720x360 with 1 Axes>"
      ]
     },
     "metadata": {},
     "output_type": "display_data"
    }
   ],
   "source": [
    "fig1, ax1 = plt.subplots(figsize=(10,5))\n",
    "ax1.pie(ad_format_pattern_cat['freq'], autopct='%1.1f%%',\n",
    "        shadow=True, startangle=90)\n",
    "ax1.legend(labels=ad_format_pattern_cat['AD Format:'], loc='best')\n",
    "# Equal aspect ratio ensures that pie is drawn as a circle\n",
    "ax1.axis('equal')  \n",
    "plt.tight_layout()\n",
    "plt.show()\n",
    "fig1.savefig('Ad_category_in_game.png', bbox_inches='tight')"
   ]
  },
  {
   "cell_type": "markdown",
   "metadata": {},
   "source": [
    "## Ad Reward Stacked Pattern"
   ]
  },
  {
   "cell_type": "code",
   "execution_count": 77,
   "metadata": {
    "ExecuteTime": {
     "end_time": "2020-06-21T14:29:04.786134Z",
     "start_time": "2020-06-21T14:29:04.767185Z"
    },
    "scrolled": true
   },
   "outputs": [
    {
     "data": {
      "text/html": [
       "<div>\n",
       "<style scoped>\n",
       "    .dataframe tbody tr th:only-of-type {\n",
       "        vertical-align: middle;\n",
       "    }\n",
       "\n",
       "    .dataframe tbody tr th {\n",
       "        vertical-align: top;\n",
       "    }\n",
       "\n",
       "    .dataframe thead th {\n",
       "        text-align: right;\n",
       "    }\n",
       "</style>\n",
       "<table border=\"1\" class=\"dataframe\">\n",
       "  <thead>\n",
       "    <tr style=\"text-align: right;\">\n",
       "      <th></th>\n",
       "      <th>nudge_mins</th>\n",
       "      <th>AD Stacked Rewards (Y/N)</th>\n",
       "      <th>y_freq</th>\n",
       "      <th>total</th>\n",
       "      <th>n_freq</th>\n",
       "    </tr>\n",
       "  </thead>\n",
       "  <tbody>\n",
       "    <tr>\n",
       "      <th>0</th>\n",
       "      <td>0</td>\n",
       "      <td>y</td>\n",
       "      <td>2</td>\n",
       "      <td>9</td>\n",
       "      <td>7</td>\n",
       "    </tr>\n",
       "    <tr>\n",
       "      <th>1</th>\n",
       "      <td>1</td>\n",
       "      <td>y</td>\n",
       "      <td>3</td>\n",
       "      <td>8</td>\n",
       "      <td>5</td>\n",
       "    </tr>\n",
       "    <tr>\n",
       "      <th>2</th>\n",
       "      <td>2</td>\n",
       "      <td>y</td>\n",
       "      <td>3</td>\n",
       "      <td>9</td>\n",
       "      <td>6</td>\n",
       "    </tr>\n",
       "    <tr>\n",
       "      <th>3</th>\n",
       "      <td>3</td>\n",
       "      <td>y</td>\n",
       "      <td>2</td>\n",
       "      <td>10</td>\n",
       "      <td>8</td>\n",
       "    </tr>\n",
       "    <tr>\n",
       "      <th>4</th>\n",
       "      <td>4</td>\n",
       "      <td>y</td>\n",
       "      <td>2</td>\n",
       "      <td>7</td>\n",
       "      <td>5</td>\n",
       "    </tr>\n",
       "    <tr>\n",
       "      <th>5</th>\n",
       "      <td>5</td>\n",
       "      <td>y</td>\n",
       "      <td>4</td>\n",
       "      <td>9</td>\n",
       "      <td>5</td>\n",
       "    </tr>\n",
       "    <tr>\n",
       "      <th>6</th>\n",
       "      <td>6</td>\n",
       "      <td>y</td>\n",
       "      <td>3</td>\n",
       "      <td>9</td>\n",
       "      <td>6</td>\n",
       "    </tr>\n",
       "    <tr>\n",
       "      <th>7</th>\n",
       "      <td>7</td>\n",
       "      <td>y</td>\n",
       "      <td>4</td>\n",
       "      <td>10</td>\n",
       "      <td>6</td>\n",
       "    </tr>\n",
       "    <tr>\n",
       "      <th>8</th>\n",
       "      <td>8</td>\n",
       "      <td>y</td>\n",
       "      <td>2</td>\n",
       "      <td>7</td>\n",
       "      <td>5</td>\n",
       "    </tr>\n",
       "    <tr>\n",
       "      <th>9</th>\n",
       "      <td>9</td>\n",
       "      <td>y</td>\n",
       "      <td>3</td>\n",
       "      <td>7</td>\n",
       "      <td>4</td>\n",
       "    </tr>\n",
       "  </tbody>\n",
       "</table>\n",
       "</div>"
      ],
      "text/plain": [
       "  nudge_mins AD Stacked Rewards (Y/N)  y_freq  total  n_freq\n",
       "0          0                        y       2      9       7\n",
       "1          1                        y       3      8       5\n",
       "2          2                        y       3      9       6\n",
       "3          3                        y       2     10       8\n",
       "4          4                        y       2      7       5\n",
       "5          5                        y       4      9       5\n",
       "6          6                        y       3      9       6\n",
       "7          7                        y       4     10       6\n",
       "8          8                        y       2      7       5\n",
       "9          9                        y       3      7       4"
      ]
     },
     "execution_count": 77,
     "metadata": {},
     "output_type": "execute_result"
    }
   ],
   "source": [
    "stacked_pattern = log_data.groupby(['nudge_mins', 'AD Stacked Rewards (Y/N)']).size().reset_index().rename(columns={0:'y_freq'})\n",
    "ad_format_pattern_rewarded = ad_format_pattern[ad_format_pattern['AD Format:'] == 'Rewarded']\n",
    "stacked_pattern['total'] = ad_format_pattern.groupby('nudge_mins')['freq'].sum()\n",
    "stacked_pattern['n_freq'] = stacked_pattern['total'] - stacked_pattern['y_freq']\n",
    "stacked_pattern"
   ]
  },
  {
   "cell_type": "raw",
   "metadata": {
    "ExecuteTime": {
     "end_time": "2020-06-17T05:42:09.149072Z",
     "start_time": "2020-06-17T05:42:08.904726Z"
    }
   },
   "source": [
    "import seaborn as sns\n",
    "import matplotlib.pyplot as plt\n",
    "ax = sns.lineplot(x=\"nudge_mins\", y=\"y_freq\", hue=\"AD Stacked Rewards (Y/N)\",\n",
    "                  data=stacked_pattern)\n",
    "ax.figure.savefig('Ad_stacked_rewards_across_average_game_duration.png', bbox_inches='tight')"
   ]
  },
  {
   "cell_type": "code",
   "execution_count": 78,
   "metadata": {
    "ExecuteTime": {
     "end_time": "2020-06-21T14:29:05.004549Z",
     "start_time": "2020-06-21T14:29:04.787131Z"
    }
   },
   "outputs": [
    {
     "data": {
      "image/png": "[encoded data removed]",
      "text/plain": [
       "<Figure size 432x288 with 1 Axes>"
      ]
     },
     "metadata": {
      "needs_background": "light"
     },
     "output_type": "display_data"
    }
   ],
   "source": [
    "# multiple line plot\n",
    "ax = plt.plot( 'nudge_mins', 'y_freq', data=stacked_pattern, markerfacecolor='blue', markersize=12, color='skyblue', linewidth=4)\n",
    "ax = plt.plot( 'nudge_mins', 'n_freq', data=stacked_pattern, color='olive', linewidth=2)\n",
    "ax = plt.legend()\n",
    "ax.figure.savefig('Ad_stacked_rewards_across_average_game_duration.png', bbox_inches='tight')"
   ]
  },
  {
   "cell_type": "markdown",
   "metadata": {},
   "source": [
    "# Undesirable Ad Patterns"
   ]
  },
  {
   "cell_type": "code",
   "execution_count": 79,
   "metadata": {
    "ExecuteTime": {
     "end_time": "2020-06-21T14:29:05.008539Z",
     "start_time": "2020-06-21T14:29:05.005547Z"
    }
   },
   "outputs": [],
   "source": [
    "anti_ad_patterns = 0\n",
    "max_level = 0"
   ]
  },
  {
   "cell_type": "code",
   "execution_count": 80,
   "metadata": {
    "ExecuteTime": {
     "end_time": "2020-06-21T14:29:05.014523Z",
     "start_time": "2020-06-21T14:29:05.009538Z"
    }
   },
   "outputs": [],
   "source": [
    "#Get all the anti-ad patterns"
   ]
  },
  {
   "cell_type": "code",
   "execution_count": 81,
   "metadata": {
    "ExecuteTime": {
     "end_time": "2020-06-21T14:29:05.020519Z",
     "start_time": "2020-06-21T14:29:05.015520Z"
    }
   },
   "outputs": [],
   "source": [
    "max_level += 1\n",
    "if ad_placement_cat[ad_placement_cat['Location in game'] != 'Game Play'].sum()['Banner'] > 0:\n",
    "    anti_ad_patterns += 1"
   ]
  },
  {
   "cell_type": "code",
   "execution_count": 82,
   "metadata": {
    "ExecuteTime": {
     "end_time": "2020-06-21T14:29:05.028486Z",
     "start_time": "2020-06-21T14:29:05.021504Z"
    }
   },
   "outputs": [],
   "source": [
    "max_level += 1\n",
    "if str(time_to_first_ad) < '00:00:05':\n",
    "    anti_ad_patterns += 1"
   ]
  },
  {
   "cell_type": "code",
   "execution_count": 83,
   "metadata": {
    "ExecuteTime": {
     "end_time": "2020-06-21T14:29:05.036464Z",
     "start_time": "2020-06-21T14:29:05.029483Z"
    }
   },
   "outputs": [
    {
     "data": {
      "text/plain": [
       "0.0"
      ]
     },
     "execution_count": 83,
     "metadata": {},
     "output_type": "execute_result"
    }
   ],
   "source": [
    "anti_ad_patterns/max_level"
   ]
  },
  {
   "cell_type": "markdown",
   "metadata": {},
   "source": [
    "# Desirable Ad Patterns "
   ]
  },
  {
   "cell_type": "markdown",
   "metadata": {},
   "source": [
    "## Daily reward when open game"
   ]
  },
  {
   "cell_type": "code",
   "execution_count": 84,
   "metadata": {
    "ExecuteTime": {
     "end_time": "2020-06-21T14:29:05.043445Z",
     "start_time": "2020-06-21T14:29:05.037470Z"
    }
   },
   "outputs": [
    {
     "data": {
      "text/plain": [
       "['AD',\n",
       " 'App Start',\n",
       " 'Death/Mission',\n",
       " 'Game Pause',\n",
       " 'Game Play',\n",
       " 'Game Store',\n",
       " 'Level End',\n",
       " 'Load Screen',\n",
       " 'Menu',\n",
       " 'Other']"
      ]
     },
     "execution_count": 84,
     "metadata": {},
     "output_type": "execute_result"
    }
   ],
   "source": [
    "game_location_cols"
   ]
  },
  {
   "cell_type": "code",
   "execution_count": 85,
   "metadata": {
    "ExecuteTime": {
     "end_time": "2020-06-21T14:29:05.051424Z",
     "start_time": "2020-06-21T14:29:05.044443Z"
    }
   },
   "outputs": [
    {
     "data": {
      "text/plain": [
       "'You can create and gift daily reward to gamers when they return to the game! This helps with retention rate by rewarding users to return to the game on a daily basis.'"
      ]
     },
     "execution_count": 85,
     "metadata": {},
     "output_type": "execute_result"
    }
   ],
   "source": [
    "if ad_placement_cat[ad_placement_cat['Location in game'] == 'App Start']['Rewarded'].values > 0:\n",
    "    print('Desired Ad Achieved: Daily reward when open game')\n",
    "else:\n",
    "    recommended_desire1 = \"You can create and gift daily reward to gamers when they return to the game! This helps with retention rate by rewarding users to return to the game on a daily basis.\"\n",
    "recommended_desire1"
   ]
  },
  {
   "cell_type": "markdown",
   "metadata": {},
   "source": [
    "## RV to double reward"
   ]
  },
  {
   "cell_type": "code",
   "execution_count": 86,
   "metadata": {
    "ExecuteTime": {
     "end_time": "2020-06-21T14:29:05.058405Z",
     "start_time": "2020-06-21T14:29:05.052421Z"
    }
   },
   "outputs": [
    {
     "name": "stdout",
     "output_type": "stream",
     "text": [
      "Desired Ad Achieved: RV to double reward\n"
     ]
    }
   ],
   "source": [
    "if rv_rewards_stacked['y'].sum():\n",
    "    print('Desired Ad Achieved: RV to double reward')\n",
    "else:\n",
    "    recommended_desire2 = \"When the Level completes, add RV to double the rewards!\""
   ]
  },
  {
   "cell_type": "markdown",
   "metadata": {},
   "source": [
    "## RV for Hint"
   ]
  },
  {
   "cell_type": "code",
   "execution_count": 87,
   "metadata": {
    "ExecuteTime": {
     "end_time": "2020-06-21T14:29:05.064390Z",
     "start_time": "2020-06-21T14:29:05.059409Z"
    }
   },
   "outputs": [],
   "source": [
    "if rv_rewards_cat[rv_rewards_cat['If Rewarded? Type?'] == 'Hint/Information'][0].values > 0:\n",
    "    print('Desired Ad Achieved: RV for hint')\n",
    "else:\n",
    "    recommended_desire3 = \"You can add RV to give gamers' hint in the game! This  \\\n",
    "players to progress more rapidly through the game and drives \\\n",
    "higher retention.\" "
   ]
  },
  {
   "cell_type": "markdown",
   "metadata": {},
   "source": [
    "## RV for level end"
   ]
  },
  {
   "cell_type": "code",
   "execution_count": 88,
   "metadata": {
    "ExecuteTime": {
     "end_time": "2020-06-21T14:29:05.073366Z",
     "start_time": "2020-06-21T14:29:05.065387Z"
    }
   },
   "outputs": [
    {
     "name": "stdout",
     "output_type": "stream",
     "text": [
      "Desired Ad Achieved: RV to reach level end\n"
     ]
    }
   ],
   "source": [
    "if ad_placement_cat[ad_placement_cat['Location in game'] == 'Level End']['Rewarded'].values > 0:\n",
    "    print('Desired Ad Achieved: RV to reach level end')\n",
    "else:\n",
    "    recommended_desire4 = \"After every level use an option to get double coins by seeing a RV or Interstitial Ads! \""
   ]
  },
  {
   "cell_type": "markdown",
   "metadata": {},
   "source": [
    "## RV to continue"
   ]
  },
  {
   "cell_type": "code",
   "execution_count": 89,
   "metadata": {
    "ExecuteTime": {
     "end_time": "2020-06-21T14:29:05.079349Z",
     "start_time": "2020-06-21T14:29:05.074362Z"
    }
   },
   "outputs": [],
   "source": [
    "if ad_placement_cat[ad_placement_cat['Location in game'] == 'Death/Mission']['Rewarded'].values > 0:\n",
    "    print('Desired Ad Achieved: RV to continue')\n",
    "else:\n",
    "    recommended_desire5 = \"Let players see a RV and continue every time they fail! Allow them to resume playing from the same place.\""
   ]
  },
  {
   "cell_type": "markdown",
   "metadata": {},
   "source": [
    "## RV for resource"
   ]
  },
  {
   "cell_type": "code",
   "execution_count": 90,
   "metadata": {
    "ExecuteTime": {
     "end_time": "2020-06-21T14:29:05.086331Z",
     "start_time": "2020-06-21T14:29:05.080347Z"
    }
   },
   "outputs": [],
   "source": [
    "if rv_rewards_cat[rv_rewards_cat['If Rewarded? Type?'] == 'In-game items'][0].values > 0:\n",
    "    print('Desired Ad Achieved: RV to get resource when out of resource')\n",
    "else:\n",
    "    recommended_desire6 = \"Please add an option to see a RV to get more items!\""
   ]
  },
  {
   "cell_type": "markdown",
   "metadata": {},
   "source": [
    "## RV to skip level "
   ]
  },
  {
   "cell_type": "code",
   "execution_count": 91,
   "metadata": {
    "ExecuteTime": {
     "end_time": "2020-06-21T14:29:05.092314Z",
     "start_time": "2020-06-21T14:29:05.087328Z"
    }
   },
   "outputs": [],
   "source": [
    "if rv_rewards_cat[rv_rewards_cat['If Rewarded? Type?'] == 'Faster Progression'][0].values > 0:\n",
    "    print('Desired Ad Achieved: RV to get skip level')\n",
    "else:\n",
    "    recommended_desire7 = \"Please add an option to watch an ad to skip to the next level of the game. Currently the levels are unlocked by winning the previous level. But you can add the option for player to see an Ad to skip.\""
   ]
  },
  {
   "cell_type": "markdown",
   "metadata": {},
   "source": [
    "## RV to get more time "
   ]
  },
  {
   "cell_type": "code",
   "execution_count": 92,
   "metadata": {
    "ExecuteTime": {
     "end_time": "2020-06-21T14:29:05.098298Z",
     "start_time": "2020-06-21T14:29:05.093312Z"
    }
   },
   "outputs": [],
   "source": [
    "if rv_rewards_cat[rv_rewards_cat['If Rewarded? Type?'] == 'Play Time'][0].values > 0:\n",
    "    print('Desired Ad Achieved: RV to get more time')\n",
    "else:\n",
    "    recommended_desire8 = 'You can add RV to reward gamers more game time!'"
   ]
  },
  {
   "cell_type": "markdown",
   "metadata": {},
   "source": [
    "## RV Interstitial Ads Recommendation"
   ]
  },
  {
   "cell_type": "code",
   "execution_count": 93,
   "metadata": {
    "ExecuteTime": {
     "end_time": "2020-06-21T14:29:05.104288Z",
     "start_time": "2020-06-21T14:29:05.099296Z"
    }
   },
   "outputs": [],
   "source": [
    "recommended_desire9 = \"The optimal display interval for interstitial differs from game to game, we recommend A/B testing the optimal display interval \\\n",
    "for \" + str(game) + \" starting with 120 seconds / interstitial, then \\\n",
    "decreasing it by gradually using dynamic server side \\\n",
    "parameters while monitoring retention. Keep reducing the \\\n",
    "display interval by 15-30 seconds as long as retention doesn't \\\n",
    "decrease to achieve optimal revenue with the best player \\\n",
    "experience.\""
   ]
  },
  {
   "cell_type": "markdown",
   "metadata": {},
   "source": [
    "# Ad Design Score"
   ]
  },
  {
   "cell_type": "code",
   "execution_count": 94,
   "metadata": {
    "ExecuteTime": {
     "end_time": "2020-06-21T14:29:05.131211Z",
     "start_time": "2020-06-21T14:29:05.107275Z"
    }
   },
   "outputs": [
    {
     "data": {
      "text/html": [
       "<div>\n",
       "<style scoped>\n",
       "    .dataframe tbody tr th:only-of-type {\n",
       "        vertical-align: middle;\n",
       "    }\n",
       "\n",
       "    .dataframe tbody tr th {\n",
       "        vertical-align: top;\n",
       "    }\n",
       "\n",
       "    .dataframe thead th {\n",
       "        text-align: right;\n",
       "    }\n",
       "</style>\n",
       "<table border=\"1\" class=\"dataframe\">\n",
       "  <thead>\n",
       "    <tr style=\"text-align: right;\">\n",
       "      <th></th>\n",
       "      <th>Session Number</th>\n",
       "      <th>Start Type</th>\n",
       "      <th>AD Format:</th>\n",
       "      <th>Interstitial</th>\n",
       "      <th>Rewarded</th>\n",
       "      <th>Static</th>\n",
       "      <th>Video</th>\n",
       "      <th>Session Duration</th>\n",
       "      <th>Game Initiated</th>\n",
       "      <th>Player Initiated</th>\n",
       "      <th>...</th>\n",
       "      <th>Banner</th>\n",
       "      <th>Banner_Game Initiated</th>\n",
       "      <th>Ad velocity</th>\n",
       "      <th>Banner velocity</th>\n",
       "      <th>Interstitial velocity</th>\n",
       "      <th>Rewarded velocity</th>\n",
       "      <th>Ad proactiveness</th>\n",
       "      <th>Banner proactiveness</th>\n",
       "      <th>Interstitial proactiveness</th>\n",
       "      <th>Rewarded proactiveness</th>\n",
       "    </tr>\n",
       "  </thead>\n",
       "  <tbody>\n",
       "    <tr>\n",
       "      <th>0</th>\n",
       "      <td>1.000000</td>\n",
       "      <td>27.000000</td>\n",
       "      <td>26.00000</td>\n",
       "      <td>NaN</td>\n",
       "      <td>26.000000</td>\n",
       "      <td>12.0</td>\n",
       "      <td>14.000000</td>\n",
       "      <td>00:11:37</td>\n",
       "      <td>20.000000</td>\n",
       "      <td>6.000000</td>\n",
       "      <td>...</td>\n",
       "      <td>NaN</td>\n",
       "      <td>NaN</td>\n",
       "      <td>00:00:26.807692</td>\n",
       "      <td>0 days</td>\n",
       "      <td>00:00:00</td>\n",
       "      <td>00:00:26.807692</td>\n",
       "      <td>0.769231</td>\n",
       "      <td>NaN</td>\n",
       "      <td>NaN</td>\n",
       "      <td>0.769231</td>\n",
       "    </tr>\n",
       "    <tr>\n",
       "      <th>1</th>\n",
       "      <td>2.000000</td>\n",
       "      <td>21.000000</td>\n",
       "      <td>15.00000</td>\n",
       "      <td>NaN</td>\n",
       "      <td>15.000000</td>\n",
       "      <td>NaN</td>\n",
       "      <td>15.000000</td>\n",
       "      <td>00:12:02</td>\n",
       "      <td>8.000000</td>\n",
       "      <td>7.000000</td>\n",
       "      <td>...</td>\n",
       "      <td>NaN</td>\n",
       "      <td>NaN</td>\n",
       "      <td>00:00:48.133333</td>\n",
       "      <td>0 days</td>\n",
       "      <td>00:00:00</td>\n",
       "      <td>00:00:48.133333</td>\n",
       "      <td>0.533333</td>\n",
       "      <td>NaN</td>\n",
       "      <td>NaN</td>\n",
       "      <td>0.533333</td>\n",
       "    </tr>\n",
       "    <tr>\n",
       "      <th>2</th>\n",
       "      <td>3.000000</td>\n",
       "      <td>20.000000</td>\n",
       "      <td>13.00000</td>\n",
       "      <td>NaN</td>\n",
       "      <td>13.000000</td>\n",
       "      <td>NaN</td>\n",
       "      <td>13.000000</td>\n",
       "      <td>00:10:07</td>\n",
       "      <td>6.000000</td>\n",
       "      <td>7.000000</td>\n",
       "      <td>...</td>\n",
       "      <td>NaN</td>\n",
       "      <td>NaN</td>\n",
       "      <td>00:00:46.692307</td>\n",
       "      <td>0 days</td>\n",
       "      <td>00:00:00</td>\n",
       "      <td>00:00:46.692307</td>\n",
       "      <td>0.461538</td>\n",
       "      <td>NaN</td>\n",
       "      <td>NaN</td>\n",
       "      <td>0.461538</td>\n",
       "    </tr>\n",
       "    <tr>\n",
       "      <th>3</th>\n",
       "      <td>4.000000</td>\n",
       "      <td>19.000000</td>\n",
       "      <td>11.00000</td>\n",
       "      <td>1.000000</td>\n",
       "      <td>10.000000</td>\n",
       "      <td>NaN</td>\n",
       "      <td>11.000000</td>\n",
       "      <td>00:11:25</td>\n",
       "      <td>7.000000</td>\n",
       "      <td>4.000000</td>\n",
       "      <td>...</td>\n",
       "      <td>NaN</td>\n",
       "      <td>NaN</td>\n",
       "      <td>00:01:02.272727</td>\n",
       "      <td>0 days</td>\n",
       "      <td>00:11:25</td>\n",
       "      <td>00:01:08.500000</td>\n",
       "      <td>0.636364</td>\n",
       "      <td>NaN</td>\n",
       "      <td>1.0</td>\n",
       "      <td>0.600000</td>\n",
       "    </tr>\n",
       "    <tr>\n",
       "      <th>4</th>\n",
       "      <td>5.000000</td>\n",
       "      <td>18.000000</td>\n",
       "      <td>16.00000</td>\n",
       "      <td>1.000000</td>\n",
       "      <td>15.000000</td>\n",
       "      <td>NaN</td>\n",
       "      <td>16.000000</td>\n",
       "      <td>00:10:19</td>\n",
       "      <td>2.000000</td>\n",
       "      <td>14.000000</td>\n",
       "      <td>...</td>\n",
       "      <td>NaN</td>\n",
       "      <td>NaN</td>\n",
       "      <td>00:00:38.687500</td>\n",
       "      <td>0 days</td>\n",
       "      <td>00:10:19</td>\n",
       "      <td>00:00:41.266666</td>\n",
       "      <td>0.125000</td>\n",
       "      <td>NaN</td>\n",
       "      <td>1.0</td>\n",
       "      <td>0.066667</td>\n",
       "    </tr>\n",
       "    <tr>\n",
       "      <th>5</th>\n",
       "      <td>6.000000</td>\n",
       "      <td>17.000000</td>\n",
       "      <td>12.00000</td>\n",
       "      <td>3.000000</td>\n",
       "      <td>9.000000</td>\n",
       "      <td>NaN</td>\n",
       "      <td>12.000000</td>\n",
       "      <td>00:11:30</td>\n",
       "      <td>7.000000</td>\n",
       "      <td>5.000000</td>\n",
       "      <td>...</td>\n",
       "      <td>NaN</td>\n",
       "      <td>NaN</td>\n",
       "      <td>00:00:57.500000</td>\n",
       "      <td>0 days</td>\n",
       "      <td>00:03:50</td>\n",
       "      <td>00:01:16.666666</td>\n",
       "      <td>0.583333</td>\n",
       "      <td>NaN</td>\n",
       "      <td>1.0</td>\n",
       "      <td>0.444444</td>\n",
       "    </tr>\n",
       "    <tr>\n",
       "      <th>average</th>\n",
       "      <td>3.500000</td>\n",
       "      <td>20.333333</td>\n",
       "      <td>15.50000</td>\n",
       "      <td>1.666667</td>\n",
       "      <td>14.666667</td>\n",
       "      <td>12.0</td>\n",
       "      <td>13.500000</td>\n",
       "      <td>00:11:10</td>\n",
       "      <td>8.333333</td>\n",
       "      <td>7.166667</td>\n",
       "      <td>...</td>\n",
       "      <td>NaN</td>\n",
       "      <td>NaN</td>\n",
       "      <td>00:00:46.682260</td>\n",
       "      <td>0 days</td>\n",
       "      <td>00:04:15.666666</td>\n",
       "      <td>00:00:51.344444</td>\n",
       "      <td>0.518133</td>\n",
       "      <td>NaN</td>\n",
       "      <td>1.0</td>\n",
       "      <td>0.479202</td>\n",
       "    </tr>\n",
       "    <tr>\n",
       "      <th>variety</th>\n",
       "      <td>1.707825</td>\n",
       "      <td>3.248931</td>\n",
       "      <td>4.99166</td>\n",
       "      <td>0.942809</td>\n",
       "      <td>5.557777</td>\n",
       "      <td>0.0</td>\n",
       "      <td>1.707825</td>\n",
       "      <td>00:00:42.087211</td>\n",
       "      <td>5.557777</td>\n",
       "      <td>3.236081</td>\n",
       "      <td>...</td>\n",
       "      <td>NaN</td>\n",
       "      <td>NaN</td>\n",
       "      <td>00:00:11.698336</td>\n",
       "      <td>0 days</td>\n",
       "      <td>00:04:52.430428</td>\n",
       "      <td>00:00:16.688795</td>\n",
       "      <td>0.199694</td>\n",
       "      <td>NaN</td>\n",
       "      <td>0.0</td>\n",
       "      <td>0.213442</td>\n",
       "    </tr>\n",
       "  </tbody>\n",
       "</table>\n",
       "<p>8 rows × 23 columns</p>\n",
       "</div>"
      ],
      "text/plain": [
       "         Session Number  Start Type  AD Format:  Interstitial   Rewarded  \\\n",
       "0              1.000000   27.000000    26.00000           NaN  26.000000   \n",
       "1              2.000000   21.000000    15.00000           NaN  15.000000   \n",
       "2              3.000000   20.000000    13.00000           NaN  13.000000   \n",
       "3              4.000000   19.000000    11.00000      1.000000  10.000000   \n",
       "4              5.000000   18.000000    16.00000      1.000000  15.000000   \n",
       "5              6.000000   17.000000    12.00000      3.000000   9.000000   \n",
       "average        3.500000   20.333333    15.50000      1.666667  14.666667   \n",
       "variety        1.707825    3.248931     4.99166      0.942809   5.557777   \n",
       "\n",
       "         Static      Video Session Duration  Game Initiated  Player Initiated  \\\n",
       "0          12.0  14.000000         00:11:37       20.000000          6.000000   \n",
       "1           NaN  15.000000         00:12:02        8.000000          7.000000   \n",
       "2           NaN  13.000000         00:10:07        6.000000          7.000000   \n",
       "3           NaN  11.000000         00:11:25        7.000000          4.000000   \n",
       "4           NaN  16.000000         00:10:19        2.000000         14.000000   \n",
       "5           NaN  12.000000         00:11:30        7.000000          5.000000   \n",
       "average    12.0  13.500000         00:11:10        8.333333          7.166667   \n",
       "variety     0.0   1.707825  00:00:42.087211        5.557777          3.236081   \n",
       "\n",
       "         ...  Banner  Banner_Game Initiated     Ad velocity  Banner velocity  \\\n",
       "0        ...     NaN                    NaN 00:00:26.807692           0 days   \n",
       "1        ...     NaN                    NaN 00:00:48.133333           0 days   \n",
       "2        ...     NaN                    NaN 00:00:46.692307           0 days   \n",
       "3        ...     NaN                    NaN 00:01:02.272727           0 days   \n",
       "4        ...     NaN                    NaN 00:00:38.687500           0 days   \n",
       "5        ...     NaN                    NaN 00:00:57.500000           0 days   \n",
       "average  ...     NaN                    NaN 00:00:46.682260           0 days   \n",
       "variety  ...     NaN                    NaN 00:00:11.698336           0 days   \n",
       "\n",
       "         Interstitial velocity Rewarded velocity Ad proactiveness  \\\n",
       "0                     00:00:00   00:00:26.807692         0.769231   \n",
       "1                     00:00:00   00:00:48.133333         0.533333   \n",
       "2                     00:00:00   00:00:46.692307         0.461538   \n",
       "3                     00:11:25   00:01:08.500000         0.636364   \n",
       "4                     00:10:19   00:00:41.266666         0.125000   \n",
       "5                     00:03:50   00:01:16.666666         0.583333   \n",
       "average        00:04:15.666666   00:00:51.344444         0.518133   \n",
       "variety        00:04:52.430428   00:00:16.688795         0.199694   \n",
       "\n",
       "        Banner proactiveness Interstitial proactiveness  \\\n",
       "0                        NaN                        NaN   \n",
       "1                        NaN                        NaN   \n",
       "2                        NaN                        NaN   \n",
       "3                        NaN                        1.0   \n",
       "4                        NaN                        1.0   \n",
       "5                        NaN                        1.0   \n",
       "average                  NaN                        1.0   \n",
       "variety                  NaN                        0.0   \n",
       "\n",
       "         Rewarded proactiveness  \n",
       "0                      0.769231  \n",
       "1                      0.533333  \n",
       "2                      0.461538  \n",
       "3                      0.600000  \n",
       "4                      0.066667  \n",
       "5                      0.444444  \n",
       "average                0.479202  \n",
       "variety                0.213442  \n",
       "\n",
       "[8 rows x 23 columns]"
      ]
     },
     "execution_count": 94,
     "metadata": {},
     "output_type": "execute_result"
    }
   ],
   "source": [
    "nudge_stats"
   ]
  },
  {
   "cell_type": "code",
   "execution_count": 95,
   "metadata": {
    "ExecuteTime": {
     "end_time": "2020-06-21T14:29:05.138192Z",
     "start_time": "2020-06-21T14:29:05.132208Z"
    }
   },
   "outputs": [
    {
     "data": {
      "text/plain": [
       "Index(['Session Number', 'Start Type', 'AD Format:', 'Interstitial',\n",
       "       'Rewarded', 'Static', 'Video', 'Session Duration', 'Game Initiated',\n",
       "       'Player Initiated', 'Rewarded_Game Initiated',\n",
       "       'Rewarded_Player Initiated', 'Interstitial_Game Initiated', 'Banner',\n",
       "       'Banner_Game Initiated', 'Ad velocity', 'Banner velocity',\n",
       "       'Interstitial velocity', 'Rewarded velocity', 'Ad proactiveness',\n",
       "       'Banner proactiveness', 'Interstitial proactiveness',\n",
       "       'Rewarded proactiveness'],\n",
       "      dtype='object')"
      ]
     },
     "execution_count": 95,
     "metadata": {},
     "output_type": "execute_result"
    }
   ],
   "source": [
    "nudge_stats.columns"
   ]
  },
  {
   "cell_type": "code",
   "execution_count": 96,
   "metadata": {
    "ExecuteTime": {
     "end_time": "2020-06-21T14:29:05.151157Z",
     "start_time": "2020-06-21T14:29:05.139189Z"
    }
   },
   "outputs": [
    {
     "data": {
      "text/html": [
       "<div>\n",
       "<style scoped>\n",
       "    .dataframe tbody tr th:only-of-type {\n",
       "        vertical-align: middle;\n",
       "    }\n",
       "\n",
       "    .dataframe tbody tr th {\n",
       "        vertical-align: top;\n",
       "    }\n",
       "\n",
       "    .dataframe thead th {\n",
       "        text-align: right;\n",
       "    }\n",
       "</style>\n",
       "<table border=\"1\" class=\"dataframe\">\n",
       "  <thead>\n",
       "    <tr style=\"text-align: right;\">\n",
       "      <th></th>\n",
       "      <th>metrics</th>\n",
       "      <th>averages</th>\n",
       "    </tr>\n",
       "  </thead>\n",
       "  <tbody>\n",
       "    <tr>\n",
       "      <th>0</th>\n",
       "      <td>Ad velocity</td>\n",
       "      <td>46.682260</td>\n",
       "    </tr>\n",
       "    <tr>\n",
       "      <th>1</th>\n",
       "      <td>Banner velocity</td>\n",
       "      <td>0.000000</td>\n",
       "    </tr>\n",
       "    <tr>\n",
       "      <th>2</th>\n",
       "      <td>Interstitial velocity</td>\n",
       "      <td>255.666667</td>\n",
       "    </tr>\n",
       "    <tr>\n",
       "      <th>3</th>\n",
       "      <td>Rewarded velocity</td>\n",
       "      <td>51.344444</td>\n",
       "    </tr>\n",
       "  </tbody>\n",
       "</table>\n",
       "</div>"
      ],
      "text/plain": [
       "                 metrics    averages\n",
       "0            Ad velocity   46.682260\n",
       "1        Banner velocity    0.000000\n",
       "2  Interstitial velocity  255.666667\n",
       "3      Rewarded velocity   51.344444"
      ]
     },
     "execution_count": 96,
     "metadata": {},
     "output_type": "execute_result"
    }
   ],
   "source": [
    "ad_metrics_averages1 = nudge_stats[['Ad velocity', 'Banner velocity',\n",
    "       'Interstitial velocity', 'Rewarded velocity']].loc['average'].reset_index().rename(columns={'index':'metrics', 'average':'averages'})\n",
    "ad_metrics_averages1['averages'] = ad_metrics_averages1['averages'].dt.total_seconds()\n",
    "ad_metrics_averages1"
   ]
  },
  {
   "cell_type": "code",
   "execution_count": 97,
   "metadata": {
    "ExecuteTime": {
     "end_time": "2020-06-21T14:29:05.163125Z",
     "start_time": "2020-06-21T14:29:05.152154Z"
    }
   },
   "outputs": [
    {
     "data": {
      "text/html": [
       "<div>\n",
       "<style scoped>\n",
       "    .dataframe tbody tr th:only-of-type {\n",
       "        vertical-align: middle;\n",
       "    }\n",
       "\n",
       "    .dataframe tbody tr th {\n",
       "        vertical-align: top;\n",
       "    }\n",
       "\n",
       "    .dataframe thead th {\n",
       "        text-align: right;\n",
       "    }\n",
       "</style>\n",
       "<table border=\"1\" class=\"dataframe\">\n",
       "  <thead>\n",
       "    <tr style=\"text-align: right;\">\n",
       "      <th></th>\n",
       "      <th>metrics</th>\n",
       "      <th>averages</th>\n",
       "    </tr>\n",
       "  </thead>\n",
       "  <tbody>\n",
       "    <tr>\n",
       "      <th>0</th>\n",
       "      <td>AD Format:</td>\n",
       "      <td>15.500000</td>\n",
       "    </tr>\n",
       "    <tr>\n",
       "      <th>1</th>\n",
       "      <td>Banner</td>\n",
       "      <td>NaN</td>\n",
       "    </tr>\n",
       "    <tr>\n",
       "      <th>2</th>\n",
       "      <td>Interstitial</td>\n",
       "      <td>1.666667</td>\n",
       "    </tr>\n",
       "    <tr>\n",
       "      <th>3</th>\n",
       "      <td>Rewarded</td>\n",
       "      <td>14.666667</td>\n",
       "    </tr>\n",
       "    <tr>\n",
       "      <th>4</th>\n",
       "      <td>Ad proactiveness</td>\n",
       "      <td>0.518133</td>\n",
       "    </tr>\n",
       "    <tr>\n",
       "      <th>5</th>\n",
       "      <td>Banner proactiveness</td>\n",
       "      <td>NaN</td>\n",
       "    </tr>\n",
       "    <tr>\n",
       "      <th>6</th>\n",
       "      <td>Interstitial proactiveness</td>\n",
       "      <td>1.000000</td>\n",
       "    </tr>\n",
       "    <tr>\n",
       "      <th>7</th>\n",
       "      <td>Rewarded proactiveness</td>\n",
       "      <td>0.479202</td>\n",
       "    </tr>\n",
       "  </tbody>\n",
       "</table>\n",
       "</div>"
      ],
      "text/plain": [
       "                      metrics   averages\n",
       "0                  AD Format:  15.500000\n",
       "1                      Banner        NaN\n",
       "2                Interstitial   1.666667\n",
       "3                    Rewarded  14.666667\n",
       "4            Ad proactiveness   0.518133\n",
       "5        Banner proactiveness        NaN\n",
       "6  Interstitial proactiveness   1.000000\n",
       "7      Rewarded proactiveness   0.479202"
      ]
     },
     "execution_count": 97,
     "metadata": {},
     "output_type": "execute_result"
    }
   ],
   "source": [
    "ad_metrics_averages2 = nudge_stats[['AD Format:', 'Banner', 'Interstitial',\n",
    "       'Rewarded', 'Ad proactiveness',\n",
    "       'Banner proactiveness', 'Interstitial proactiveness',\n",
    "       'Rewarded proactiveness']].loc['average'].reset_index().rename(columns={'index':'metrics', 'average':'averages'})\n",
    "ad_metrics_averages2"
   ]
  },
  {
   "cell_type": "code",
   "execution_count": 98,
   "metadata": {
    "ExecuteTime": {
     "end_time": "2020-06-21T14:29:05.174096Z",
     "start_time": "2020-06-21T14:29:05.164122Z"
    }
   },
   "outputs": [
    {
     "data": {
      "text/html": [
       "<div>\n",
       "<style scoped>\n",
       "    .dataframe tbody tr th:only-of-type {\n",
       "        vertical-align: middle;\n",
       "    }\n",
       "\n",
       "    .dataframe tbody tr th {\n",
       "        vertical-align: top;\n",
       "    }\n",
       "\n",
       "    .dataframe thead th {\n",
       "        text-align: right;\n",
       "    }\n",
       "</style>\n",
       "<table border=\"1\" class=\"dataframe\">\n",
       "  <thead>\n",
       "    <tr style=\"text-align: right;\">\n",
       "      <th></th>\n",
       "      <th>metrics</th>\n",
       "      <th>averages</th>\n",
       "    </tr>\n",
       "  </thead>\n",
       "  <tbody>\n",
       "    <tr>\n",
       "      <th>0</th>\n",
       "      <td>ad_variety_score</td>\n",
       "      <td>0.666667</td>\n",
       "    </tr>\n",
       "    <tr>\n",
       "      <th>1</th>\n",
       "      <td>ad_placement_variety_score</td>\n",
       "      <td>0.200000</td>\n",
       "    </tr>\n",
       "    <tr>\n",
       "      <th>2</th>\n",
       "      <td>rv_rewards_stacked_average</td>\n",
       "      <td>0.387464</td>\n",
       "    </tr>\n",
       "  </tbody>\n",
       "</table>\n",
       "</div>"
      ],
      "text/plain": [
       "                      metrics  averages\n",
       "0            ad_variety_score  0.666667\n",
       "1  ad_placement_variety_score  0.200000\n",
       "2  rv_rewards_stacked_average  0.387464"
      ]
     },
     "execution_count": 98,
     "metadata": {},
     "output_type": "execute_result"
    }
   ],
   "source": [
    "ad_metrics_averages3 = {'ad_variety_score':ad_variety_score,\n",
    "                  'ad_placement_variety_score':ad_placement_variety_score,\n",
    "                  'rv_rewards_stacked_average':rv_rewards_stacked_average}\n",
    "ad_metrics_averages3 = pd.DataFrame(ad_metrics_averages3.items()).rename(columns={0:'metrics', 1:'averages'})\n",
    "ad_metrics_averages3"
   ]
  },
  {
   "cell_type": "code",
   "execution_count": 99,
   "metadata": {
    "ExecuteTime": {
     "end_time": "2020-06-21T14:29:05.185066Z",
     "start_time": "2020-06-21T14:29:05.175093Z"
    }
   },
   "outputs": [
    {
     "data": {
      "text/html": [
       "<div>\n",
       "<style scoped>\n",
       "    .dataframe tbody tr th:only-of-type {\n",
       "        vertical-align: middle;\n",
       "    }\n",
       "\n",
       "    .dataframe tbody tr th {\n",
       "        vertical-align: top;\n",
       "    }\n",
       "\n",
       "    .dataframe thead th {\n",
       "        text-align: right;\n",
       "    }\n",
       "</style>\n",
       "<table border=\"1\" class=\"dataframe\">\n",
       "  <thead>\n",
       "    <tr style=\"text-align: right;\">\n",
       "      <th></th>\n",
       "      <th>metrics</th>\n",
       "      <th>averages</th>\n",
       "    </tr>\n",
       "  </thead>\n",
       "  <tbody>\n",
       "    <tr>\n",
       "      <th>0</th>\n",
       "      <td>time_to_first_ad</td>\n",
       "      <td>32.0</td>\n",
       "    </tr>\n",
       "    <tr>\n",
       "      <th>1</th>\n",
       "      <td>time_to_first_banner</td>\n",
       "      <td>NaN</td>\n",
       "    </tr>\n",
       "    <tr>\n",
       "      <th>2</th>\n",
       "      <td>time_to_first_interstitial</td>\n",
       "      <td>393.0</td>\n",
       "    </tr>\n",
       "    <tr>\n",
       "      <th>3</th>\n",
       "      <td>time_to_first_rewarded</td>\n",
       "      <td>32.0</td>\n",
       "    </tr>\n",
       "  </tbody>\n",
       "</table>\n",
       "</div>"
      ],
      "text/plain": [
       "                      metrics  averages\n",
       "0            time_to_first_ad      32.0\n",
       "1        time_to_first_banner       NaN\n",
       "2  time_to_first_interstitial     393.0\n",
       "3      time_to_first_rewarded      32.0"
      ]
     },
     "execution_count": 99,
     "metadata": {},
     "output_type": "execute_result"
    }
   ],
   "source": [
    "ad_metrics_averages4 = {'time_to_first_ad':time_to_first_ad,\n",
    "                        'time_to_first_banner':time_to_first_banner,\n",
    "                        'time_to_first_interstitial':time_to_first_interstitial,\n",
    "                        'time_to_first_rewarded':time_to_first_rewarded}\n",
    "ad_metrics_averages4 = pd.DataFrame(ad_metrics_averages4.items()).rename(columns={0:'metrics', 1:'averages'})\n",
    "ad_metrics_averages4['averages'] = pd.to_timedelta(ad_metrics_averages4['averages'].astype(str)).dt.total_seconds()\n",
    "ad_metrics_averages4"
   ]
  },
  {
   "cell_type": "code",
   "execution_count": 100,
   "metadata": {
    "ExecuteTime": {
     "end_time": "2020-06-21T14:29:05.195040Z",
     "start_time": "2020-06-21T14:29:05.186064Z"
    }
   },
   "outputs": [
    {
     "data": {
      "text/html": [
       "<div>\n",
       "<style scoped>\n",
       "    .dataframe tbody tr th:only-of-type {\n",
       "        vertical-align: middle;\n",
       "    }\n",
       "\n",
       "    .dataframe tbody tr th {\n",
       "        vertical-align: top;\n",
       "    }\n",
       "\n",
       "    .dataframe thead th {\n",
       "        text-align: right;\n",
       "    }\n",
       "</style>\n",
       "<table border=\"1\" class=\"dataframe\">\n",
       "  <thead>\n",
       "    <tr style=\"text-align: right;\">\n",
       "      <th></th>\n",
       "      <th>metrics</th>\n",
       "      <th>averages</th>\n",
       "    </tr>\n",
       "  </thead>\n",
       "  <tbody>\n",
       "    <tr>\n",
       "      <th>0</th>\n",
       "      <td>Ad velocity</td>\n",
       "      <td>46.682260</td>\n",
       "    </tr>\n",
       "    <tr>\n",
       "      <th>1</th>\n",
       "      <td>Banner velocity</td>\n",
       "      <td>0.000000</td>\n",
       "    </tr>\n",
       "    <tr>\n",
       "      <th>2</th>\n",
       "      <td>Interstitial velocity</td>\n",
       "      <td>255.666667</td>\n",
       "    </tr>\n",
       "    <tr>\n",
       "      <th>3</th>\n",
       "      <td>Rewarded velocity</td>\n",
       "      <td>51.344444</td>\n",
       "    </tr>\n",
       "    <tr>\n",
       "      <th>4</th>\n",
       "      <td>AD Format:</td>\n",
       "      <td>15.500000</td>\n",
       "    </tr>\n",
       "    <tr>\n",
       "      <th>5</th>\n",
       "      <td>Banner</td>\n",
       "      <td>NaN</td>\n",
       "    </tr>\n",
       "    <tr>\n",
       "      <th>6</th>\n",
       "      <td>Interstitial</td>\n",
       "      <td>1.666667</td>\n",
       "    </tr>\n",
       "    <tr>\n",
       "      <th>7</th>\n",
       "      <td>Rewarded</td>\n",
       "      <td>14.666667</td>\n",
       "    </tr>\n",
       "    <tr>\n",
       "      <th>8</th>\n",
       "      <td>Ad proactiveness</td>\n",
       "      <td>0.518133</td>\n",
       "    </tr>\n",
       "    <tr>\n",
       "      <th>9</th>\n",
       "      <td>Banner proactiveness</td>\n",
       "      <td>NaN</td>\n",
       "    </tr>\n",
       "    <tr>\n",
       "      <th>10</th>\n",
       "      <td>Interstitial proactiveness</td>\n",
       "      <td>1.000000</td>\n",
       "    </tr>\n",
       "    <tr>\n",
       "      <th>11</th>\n",
       "      <td>Rewarded proactiveness</td>\n",
       "      <td>0.479202</td>\n",
       "    </tr>\n",
       "    <tr>\n",
       "      <th>12</th>\n",
       "      <td>ad_variety_score</td>\n",
       "      <td>0.666667</td>\n",
       "    </tr>\n",
       "    <tr>\n",
       "      <th>13</th>\n",
       "      <td>ad_placement_variety_score</td>\n",
       "      <td>0.200000</td>\n",
       "    </tr>\n",
       "    <tr>\n",
       "      <th>14</th>\n",
       "      <td>rv_rewards_stacked_average</td>\n",
       "      <td>0.387464</td>\n",
       "    </tr>\n",
       "    <tr>\n",
       "      <th>15</th>\n",
       "      <td>time_to_first_ad</td>\n",
       "      <td>32.000000</td>\n",
       "    </tr>\n",
       "    <tr>\n",
       "      <th>16</th>\n",
       "      <td>time_to_first_banner</td>\n",
       "      <td>NaN</td>\n",
       "    </tr>\n",
       "    <tr>\n",
       "      <th>17</th>\n",
       "      <td>time_to_first_interstitial</td>\n",
       "      <td>393.000000</td>\n",
       "    </tr>\n",
       "    <tr>\n",
       "      <th>18</th>\n",
       "      <td>time_to_first_rewarded</td>\n",
       "      <td>32.000000</td>\n",
       "    </tr>\n",
       "  </tbody>\n",
       "</table>\n",
       "</div>"
      ],
      "text/plain": [
       "                       metrics    averages\n",
       "0                  Ad velocity   46.682260\n",
       "1              Banner velocity    0.000000\n",
       "2        Interstitial velocity  255.666667\n",
       "3            Rewarded velocity   51.344444\n",
       "4                   AD Format:   15.500000\n",
       "5                       Banner         NaN\n",
       "6                 Interstitial    1.666667\n",
       "7                     Rewarded   14.666667\n",
       "8             Ad proactiveness    0.518133\n",
       "9         Banner proactiveness         NaN\n",
       "10  Interstitial proactiveness    1.000000\n",
       "11      Rewarded proactiveness    0.479202\n",
       "12            ad_variety_score    0.666667\n",
       "13  ad_placement_variety_score    0.200000\n",
       "14  rv_rewards_stacked_average    0.387464\n",
       "15            time_to_first_ad   32.000000\n",
       "16        time_to_first_banner         NaN\n",
       "17  time_to_first_interstitial  393.000000\n",
       "18      time_to_first_rewarded   32.000000"
      ]
     },
     "execution_count": 100,
     "metadata": {},
     "output_type": "execute_result"
    }
   ],
   "source": [
    "ad_metrics_averages = pd.concat([ad_metrics_averages1, ad_metrics_averages2, ad_metrics_averages3, ad_metrics_averages4], ignore_index=True)\n",
    "ad_metrics_averages"
   ]
  },
  {
   "cell_type": "code",
   "execution_count": 101,
   "metadata": {
    "ExecuteTime": {
     "end_time": "2020-06-21T14:29:05.208005Z",
     "start_time": "2020-06-21T14:29:05.196037Z"
    }
   },
   "outputs": [
    {
     "data": {
      "text/html": [
       "<div>\n",
       "<style scoped>\n",
       "    .dataframe tbody tr th:only-of-type {\n",
       "        vertical-align: middle;\n",
       "    }\n",
       "\n",
       "    .dataframe tbody tr th {\n",
       "        vertical-align: top;\n",
       "    }\n",
       "\n",
       "    .dataframe thead th {\n",
       "        text-align: right;\n",
       "    }\n",
       "</style>\n",
       "<table border=\"1\" class=\"dataframe\">\n",
       "  <thead>\n",
       "    <tr style=\"text-align: right;\">\n",
       "      <th></th>\n",
       "      <th>sme_metrics</th>\n",
       "      <th>sme</th>\n",
       "    </tr>\n",
       "  </thead>\n",
       "  <tbody>\n",
       "    <tr>\n",
       "      <th>0</th>\n",
       "      <td>sme_ad_velocity_ad</td>\n",
       "      <td>30.0</td>\n",
       "    </tr>\n",
       "    <tr>\n",
       "      <th>1</th>\n",
       "      <td>sme_banner_velocity_ad</td>\n",
       "      <td>30.0</td>\n",
       "    </tr>\n",
       "    <tr>\n",
       "      <th>2</th>\n",
       "      <td>sme_interstitial_velocity_ad</td>\n",
       "      <td>30.0</td>\n",
       "    </tr>\n",
       "    <tr>\n",
       "      <th>3</th>\n",
       "      <td>sme_rewarded_velocity_ad</td>\n",
       "      <td>30.0</td>\n",
       "    </tr>\n",
       "    <tr>\n",
       "      <th>4</th>\n",
       "      <td>sme_ad_occurence_ad</td>\n",
       "      <td>20.0</td>\n",
       "    </tr>\n",
       "    <tr>\n",
       "      <th>5</th>\n",
       "      <td>sme_banner_occurence_ad</td>\n",
       "      <td>7.0</td>\n",
       "    </tr>\n",
       "    <tr>\n",
       "      <th>6</th>\n",
       "      <td>sme_interstitial_occurence_ad</td>\n",
       "      <td>7.0</td>\n",
       "    </tr>\n",
       "    <tr>\n",
       "      <th>7</th>\n",
       "      <td>sme_rewarded_occurence_ad</td>\n",
       "      <td>7.0</td>\n",
       "    </tr>\n",
       "    <tr>\n",
       "      <th>8</th>\n",
       "      <td>sme_ad_proactiveness_ad</td>\n",
       "      <td>0.5</td>\n",
       "    </tr>\n",
       "    <tr>\n",
       "      <th>9</th>\n",
       "      <td>sme_banner_proactiveness_ad</td>\n",
       "      <td>0.5</td>\n",
       "    </tr>\n",
       "    <tr>\n",
       "      <th>10</th>\n",
       "      <td>sme_interstitial_proactiveness_ad</td>\n",
       "      <td>0.5</td>\n",
       "    </tr>\n",
       "    <tr>\n",
       "      <th>11</th>\n",
       "      <td>sme_rewarded_proactiveness_ad</td>\n",
       "      <td>0.5</td>\n",
       "    </tr>\n",
       "    <tr>\n",
       "      <th>12</th>\n",
       "      <td>sme_ad_variety_score_ad</td>\n",
       "      <td>1.0</td>\n",
       "    </tr>\n",
       "    <tr>\n",
       "      <th>13</th>\n",
       "      <td>sme_ad_placement_variety_score_ad</td>\n",
       "      <td>1.0</td>\n",
       "    </tr>\n",
       "    <tr>\n",
       "      <th>14</th>\n",
       "      <td>sme_rv_rewards_stacked_ad</td>\n",
       "      <td>0.5</td>\n",
       "    </tr>\n",
       "    <tr>\n",
       "      <th>15</th>\n",
       "      <td>sme_time_to_first_ad_ad</td>\n",
       "      <td>30.0</td>\n",
       "    </tr>\n",
       "    <tr>\n",
       "      <th>16</th>\n",
       "      <td>sme_time_to_first_banner_ad</td>\n",
       "      <td>15.0</td>\n",
       "    </tr>\n",
       "    <tr>\n",
       "      <th>17</th>\n",
       "      <td>sme_time_to_first_interstitial_ad</td>\n",
       "      <td>30.0</td>\n",
       "    </tr>\n",
       "    <tr>\n",
       "      <th>18</th>\n",
       "      <td>sme_time_to_first_rewarded_ad</td>\n",
       "      <td>15.0</td>\n",
       "    </tr>\n",
       "  </tbody>\n",
       "</table>\n",
       "</div>"
      ],
      "text/plain": [
       "                          sme_metrics   sme\n",
       "0                  sme_ad_velocity_ad  30.0\n",
       "1              sme_banner_velocity_ad  30.0\n",
       "2        sme_interstitial_velocity_ad  30.0\n",
       "3            sme_rewarded_velocity_ad  30.0\n",
       "4                 sme_ad_occurence_ad  20.0\n",
       "5             sme_banner_occurence_ad   7.0\n",
       "6       sme_interstitial_occurence_ad   7.0\n",
       "7           sme_rewarded_occurence_ad   7.0\n",
       "8             sme_ad_proactiveness_ad   0.5\n",
       "9         sme_banner_proactiveness_ad   0.5\n",
       "10  sme_interstitial_proactiveness_ad   0.5\n",
       "11      sme_rewarded_proactiveness_ad   0.5\n",
       "12            sme_ad_variety_score_ad   1.0\n",
       "13  sme_ad_placement_variety_score_ad   1.0\n",
       "14          sme_rv_rewards_stacked_ad   0.5\n",
       "15            sme_time_to_first_ad_ad  30.0\n",
       "16        sme_time_to_first_banner_ad  15.0\n",
       "17  sme_time_to_first_interstitial_ad  30.0\n",
       "18      sme_time_to_first_rewarded_ad  15.0"
      ]
     },
     "execution_count": 101,
     "metadata": {},
     "output_type": "execute_result"
    }
   ],
   "source": [
    "sme_metrics = {'sme_ad_velocity_ad':sme_ad_velocity_ad,\n",
    "              'sme_banner_velocity_ad':sme_banner_velocity_ad,\n",
    "              'sme_interstitial_velocity_ad':sme_interstitial_velocity_ad,\n",
    "              'sme_rewarded_velocity_ad':sme_rewarded_velocity_ad,\n",
    "               'sme_ad_occurence_ad':sme_ad_occurence_ad,\n",
    "              'sme_banner_occurence_ad':sme_banner_occurence_ad,\n",
    "              'sme_interstitial_occurence_ad':sme_interstitial_occurence_ad,\n",
    "              'sme_rewarded_occurence_ad':sme_rewarded_occurence_ad,\n",
    "              'sme_ad_proactiveness_ad':sme_ad_proactiveness_ad,\n",
    "              'sme_banner_proactiveness_ad':sme_banner_proactiveness_ad,\n",
    "              'sme_interstitial_proactiveness_ad':sme_interstitial_proactiveness_ad,\n",
    "              'sme_rewarded_proactiveness_ad':sme_rewarded_proactiveness_ad,\n",
    "              'sme_ad_variety_score_ad':sme_ad_variety_score_ad,\n",
    "              'sme_ad_placement_variety_score_ad':sme_ad_placement_variety_score_ad,\n",
    "              'sme_rv_rewards_stacked_ad':sme_rv_rewards_stacked_ad,\n",
    "              'sme_time_to_first_ad_ad':sme_time_to_first_ad_ad,\n",
    "              'sme_time_to_first_banner_ad':sme_time_to_first_banner_ad,\n",
    "              'sme_time_to_first_interstitial_ad':sme_time_to_first_interstitial_ad,\n",
    "              'sme_time_to_first_rewarded_ad':sme_time_to_first_rewarded_ad}\n",
    "sme_metrics = pd.DataFrame(sme_metrics.items()).rename(columns={0:'sme_metrics', 1:'sme'})\n",
    "sme_metrics"
   ]
  },
  {
   "cell_type": "code",
   "execution_count": 102,
   "metadata": {
    "ExecuteTime": {
     "end_time": "2020-06-21T14:29:05.226954Z",
     "start_time": "2020-06-21T14:29:05.209002Z"
    }
   },
   "outputs": [
    {
     "data": {
      "text/html": [
       "<div>\n",
       "<style scoped>\n",
       "    .dataframe tbody tr th:only-of-type {\n",
       "        vertical-align: middle;\n",
       "    }\n",
       "\n",
       "    .dataframe tbody tr th {\n",
       "        vertical-align: top;\n",
       "    }\n",
       "\n",
       "    .dataframe thead th {\n",
       "        text-align: right;\n",
       "    }\n",
       "</style>\n",
       "<table border=\"1\" class=\"dataframe\">\n",
       "  <thead>\n",
       "    <tr style=\"text-align: right;\">\n",
       "      <th></th>\n",
       "      <th>metrics</th>\n",
       "      <th>averages</th>\n",
       "      <th>sme_metrics</th>\n",
       "      <th>sme</th>\n",
       "      <th>score</th>\n",
       "      <th>shortfall</th>\n",
       "      <th>total</th>\n",
       "    </tr>\n",
       "  </thead>\n",
       "  <tbody>\n",
       "    <tr>\n",
       "      <th>0</th>\n",
       "      <td>Ad velocity</td>\n",
       "      <td>46.682260</td>\n",
       "      <td>sme_ad_velocity_ad</td>\n",
       "      <td>30.0</td>\n",
       "      <td>1.000000</td>\n",
       "      <td>0.000000</td>\n",
       "      <td>1.0</td>\n",
       "    </tr>\n",
       "    <tr>\n",
       "      <th>1</th>\n",
       "      <td>Banner velocity</td>\n",
       "      <td>0.000000</td>\n",
       "      <td>sme_banner_velocity_ad</td>\n",
       "      <td>30.0</td>\n",
       "      <td>0.000000</td>\n",
       "      <td>1.000000</td>\n",
       "      <td>1.0</td>\n",
       "    </tr>\n",
       "    <tr>\n",
       "      <th>2</th>\n",
       "      <td>Interstitial velocity</td>\n",
       "      <td>255.666667</td>\n",
       "      <td>sme_interstitial_velocity_ad</td>\n",
       "      <td>30.0</td>\n",
       "      <td>1.000000</td>\n",
       "      <td>0.000000</td>\n",
       "      <td>1.0</td>\n",
       "    </tr>\n",
       "    <tr>\n",
       "      <th>3</th>\n",
       "      <td>Rewarded velocity</td>\n",
       "      <td>51.344444</td>\n",
       "      <td>sme_rewarded_velocity_ad</td>\n",
       "      <td>30.0</td>\n",
       "      <td>1.000000</td>\n",
       "      <td>0.000000</td>\n",
       "      <td>1.0</td>\n",
       "    </tr>\n",
       "    <tr>\n",
       "      <th>4</th>\n",
       "      <td>AD Format:</td>\n",
       "      <td>15.500000</td>\n",
       "      <td>sme_ad_occurence_ad</td>\n",
       "      <td>20.0</td>\n",
       "      <td>0.775000</td>\n",
       "      <td>0.225000</td>\n",
       "      <td>1.0</td>\n",
       "    </tr>\n",
       "    <tr>\n",
       "      <th>5</th>\n",
       "      <td>Banner</td>\n",
       "      <td>NaN</td>\n",
       "      <td>sme_banner_occurence_ad</td>\n",
       "      <td>7.0</td>\n",
       "      <td>0.000000</td>\n",
       "      <td>1.000000</td>\n",
       "      <td>1.0</td>\n",
       "    </tr>\n",
       "    <tr>\n",
       "      <th>6</th>\n",
       "      <td>Interstitial</td>\n",
       "      <td>1.666667</td>\n",
       "      <td>sme_interstitial_occurence_ad</td>\n",
       "      <td>7.0</td>\n",
       "      <td>0.238095</td>\n",
       "      <td>0.761905</td>\n",
       "      <td>1.0</td>\n",
       "    </tr>\n",
       "    <tr>\n",
       "      <th>7</th>\n",
       "      <td>Rewarded</td>\n",
       "      <td>14.666667</td>\n",
       "      <td>sme_rewarded_occurence_ad</td>\n",
       "      <td>7.0</td>\n",
       "      <td>1.000000</td>\n",
       "      <td>0.000000</td>\n",
       "      <td>1.0</td>\n",
       "    </tr>\n",
       "    <tr>\n",
       "      <th>8</th>\n",
       "      <td>Ad proactiveness</td>\n",
       "      <td>0.518133</td>\n",
       "      <td>sme_ad_proactiveness_ad</td>\n",
       "      <td>0.5</td>\n",
       "      <td>1.000000</td>\n",
       "      <td>0.000000</td>\n",
       "      <td>1.0</td>\n",
       "    </tr>\n",
       "    <tr>\n",
       "      <th>9</th>\n",
       "      <td>Banner proactiveness</td>\n",
       "      <td>NaN</td>\n",
       "      <td>sme_banner_proactiveness_ad</td>\n",
       "      <td>0.5</td>\n",
       "      <td>0.000000</td>\n",
       "      <td>1.000000</td>\n",
       "      <td>1.0</td>\n",
       "    </tr>\n",
       "    <tr>\n",
       "      <th>10</th>\n",
       "      <td>Interstitial proactiveness</td>\n",
       "      <td>1.000000</td>\n",
       "      <td>sme_interstitial_proactiveness_ad</td>\n",
       "      <td>0.5</td>\n",
       "      <td>1.000000</td>\n",
       "      <td>0.000000</td>\n",
       "      <td>1.0</td>\n",
       "    </tr>\n",
       "    <tr>\n",
       "      <th>11</th>\n",
       "      <td>Rewarded proactiveness</td>\n",
       "      <td>0.479202</td>\n",
       "      <td>sme_rewarded_proactiveness_ad</td>\n",
       "      <td>0.5</td>\n",
       "      <td>0.958405</td>\n",
       "      <td>0.041595</td>\n",
       "      <td>1.0</td>\n",
       "    </tr>\n",
       "    <tr>\n",
       "      <th>12</th>\n",
       "      <td>ad_variety_score</td>\n",
       "      <td>0.666667</td>\n",
       "      <td>sme_ad_variety_score_ad</td>\n",
       "      <td>1.0</td>\n",
       "      <td>0.666667</td>\n",
       "      <td>0.333333</td>\n",
       "      <td>1.0</td>\n",
       "    </tr>\n",
       "    <tr>\n",
       "      <th>13</th>\n",
       "      <td>ad_placement_variety_score</td>\n",
       "      <td>0.200000</td>\n",
       "      <td>sme_ad_placement_variety_score_ad</td>\n",
       "      <td>1.0</td>\n",
       "      <td>0.200000</td>\n",
       "      <td>0.800000</td>\n",
       "      <td>1.0</td>\n",
       "    </tr>\n",
       "    <tr>\n",
       "      <th>14</th>\n",
       "      <td>rv_rewards_stacked_average</td>\n",
       "      <td>0.387464</td>\n",
       "      <td>sme_rv_rewards_stacked_ad</td>\n",
       "      <td>0.5</td>\n",
       "      <td>0.774929</td>\n",
       "      <td>0.225071</td>\n",
       "      <td>1.0</td>\n",
       "    </tr>\n",
       "    <tr>\n",
       "      <th>15</th>\n",
       "      <td>time_to_first_ad</td>\n",
       "      <td>32.000000</td>\n",
       "      <td>sme_time_to_first_ad_ad</td>\n",
       "      <td>30.0</td>\n",
       "      <td>1.000000</td>\n",
       "      <td>0.000000</td>\n",
       "      <td>1.0</td>\n",
       "    </tr>\n",
       "    <tr>\n",
       "      <th>16</th>\n",
       "      <td>time_to_first_banner</td>\n",
       "      <td>NaN</td>\n",
       "      <td>sme_time_to_first_banner_ad</td>\n",
       "      <td>15.0</td>\n",
       "      <td>0.000000</td>\n",
       "      <td>1.000000</td>\n",
       "      <td>1.0</td>\n",
       "    </tr>\n",
       "    <tr>\n",
       "      <th>17</th>\n",
       "      <td>time_to_first_interstitial</td>\n",
       "      <td>393.000000</td>\n",
       "      <td>sme_time_to_first_interstitial_ad</td>\n",
       "      <td>30.0</td>\n",
       "      <td>1.000000</td>\n",
       "      <td>0.000000</td>\n",
       "      <td>1.0</td>\n",
       "    </tr>\n",
       "    <tr>\n",
       "      <th>18</th>\n",
       "      <td>time_to_first_rewarded</td>\n",
       "      <td>32.000000</td>\n",
       "      <td>sme_time_to_first_rewarded_ad</td>\n",
       "      <td>15.0</td>\n",
       "      <td>1.000000</td>\n",
       "      <td>0.000000</td>\n",
       "      <td>1.0</td>\n",
       "    </tr>\n",
       "  </tbody>\n",
       "</table>\n",
       "</div>"
      ],
      "text/plain": [
       "                       metrics    averages                        sme_metrics  \\\n",
       "0                  Ad velocity   46.682260                 sme_ad_velocity_ad   \n",
       "1              Banner velocity    0.000000             sme_banner_velocity_ad   \n",
       "2        Interstitial velocity  255.666667       sme_interstitial_velocity_ad   \n",
       "3            Rewarded velocity   51.344444           sme_rewarded_velocity_ad   \n",
       "4                   AD Format:   15.500000                sme_ad_occurence_ad   \n",
       "5                       Banner         NaN            sme_banner_occurence_ad   \n",
       "6                 Interstitial    1.666667      sme_interstitial_occurence_ad   \n",
       "7                     Rewarded   14.666667          sme_rewarded_occurence_ad   \n",
       "8             Ad proactiveness    0.518133            sme_ad_proactiveness_ad   \n",
       "9         Banner proactiveness         NaN        sme_banner_proactiveness_ad   \n",
       "10  Interstitial proactiveness    1.000000  sme_interstitial_proactiveness_ad   \n",
       "11      Rewarded proactiveness    0.479202      sme_rewarded_proactiveness_ad   \n",
       "12            ad_variety_score    0.666667            sme_ad_variety_score_ad   \n",
       "13  ad_placement_variety_score    0.200000  sme_ad_placement_variety_score_ad   \n",
       "14  rv_rewards_stacked_average    0.387464          sme_rv_rewards_stacked_ad   \n",
       "15            time_to_first_ad   32.000000            sme_time_to_first_ad_ad   \n",
       "16        time_to_first_banner         NaN        sme_time_to_first_banner_ad   \n",
       "17  time_to_first_interstitial  393.000000  sme_time_to_first_interstitial_ad   \n",
       "18      time_to_first_rewarded   32.000000      sme_time_to_first_rewarded_ad   \n",
       "\n",
       "     sme     score  shortfall  total  \n",
       "0   30.0  1.000000   0.000000    1.0  \n",
       "1   30.0  0.000000   1.000000    1.0  \n",
       "2   30.0  1.000000   0.000000    1.0  \n",
       "3   30.0  1.000000   0.000000    1.0  \n",
       "4   20.0  0.775000   0.225000    1.0  \n",
       "5    7.0  0.000000   1.000000    1.0  \n",
       "6    7.0  0.238095   0.761905    1.0  \n",
       "7    7.0  1.000000   0.000000    1.0  \n",
       "8    0.5  1.000000   0.000000    1.0  \n",
       "9    0.5  0.000000   1.000000    1.0  \n",
       "10   0.5  1.000000   0.000000    1.0  \n",
       "11   0.5  0.958405   0.041595    1.0  \n",
       "12   1.0  0.666667   0.333333    1.0  \n",
       "13   1.0  0.200000   0.800000    1.0  \n",
       "14   0.5  0.774929   0.225071    1.0  \n",
       "15  30.0  1.000000   0.000000    1.0  \n",
       "16  15.0  0.000000   1.000000    1.0  \n",
       "17  30.0  1.000000   0.000000    1.0  \n",
       "18  15.0  1.000000   0.000000    1.0  "
      ]
     },
     "execution_count": 102,
     "metadata": {},
     "output_type": "execute_result"
    }
   ],
   "source": [
    "metrics_compare = pd.concat([ad_metrics_averages, sme_metrics.reindex(ad_metrics_averages.index)], axis=1)\n",
    "metrics_compare['score'] = metrics_compare['averages']/metrics_compare['sme']\n",
    "metrics_compare['score'] = (metrics_compare['score'].apply(lambda x: 1 if x > 1 else x)).fillna(0)\n",
    "metrics_compare['shortfall'] = (1 - metrics_compare['score']).fillna(1)\n",
    "metrics_compare['total'] = (metrics_compare['score'] + metrics_compare['shortfall']).fillna(1)\n",
    "metrics_compare"
   ]
  },
  {
   "cell_type": "code",
   "execution_count": 103,
   "metadata": {
    "ExecuteTime": {
     "end_time": "2020-06-21T14:29:05.234934Z",
     "start_time": "2020-06-21T14:29:05.227951Z"
    }
   },
   "outputs": [
    {
     "data": {
      "text/plain": [
       "\"Against our internal expert review, your ad design is good. Keep it up! Take our recommendations and you'll see excellent improvements in your ad monetization!\""
      ]
     },
     "execution_count": 103,
     "metadata": {},
     "output_type": "execute_result"
    }
   ],
   "source": [
    "ad_design_score = metrics_compare['score'].mean()\n",
    "\n",
    "if ad_design_score > 0.75:\n",
    "    ad_design_evaluation = \"Against our internal expert review, your ad design is superb. Keep up the good work. There are definitely still room for improvements\"\n",
    "elif ad_design_score > 0.6:\n",
    "    ad_design_evaluation = \"Against our internal expert review, your ad design is good. Keep it up! Take our recommendations and you'll see excellent improvements in your ad monetization!\"\n",
    "elif ad_design_score > 0.5:\n",
    "    ad_design_evaluation = \"Against our internal expert review, your ad design passed. You can do a lot to enhance your ad design and increase your revenue. Take our recommendations and you'll see excellent improvements in your ad monetization!\"\n",
    "else:\n",
    "    ad_design_evaluation = \"Against our internal expert review, your ad design have tremendous room for improvements. No worries as we are with you throughout! You can do a lot to enhance your ad design and increase your revenue. Take our recommendations and you'll see excellent improvements in your ad monetization!\"\n",
    "ad_design_evaluation   \n",
    "#Give it A, B, C, D"
   ]
  },
  {
   "cell_type": "code",
   "execution_count": 104,
   "metadata": {
    "ExecuteTime": {
     "end_time": "2020-06-21T14:29:05.242912Z",
     "start_time": "2020-06-21T14:29:05.236928Z"
    }
   },
   "outputs": [
    {
     "data": {
      "text/plain": [
       "Index(['metrics', 'averages', 'sme_metrics', 'sme', 'score', 'shortfall',\n",
       "       'total'],\n",
       "      dtype='object')"
      ]
     },
     "execution_count": 104,
     "metadata": {},
     "output_type": "execute_result"
    }
   ],
   "source": [
    "metrics_compare.columns"
   ]
  },
  {
   "cell_type": "code",
   "execution_count": 105,
   "metadata": {
    "ExecuteTime": {
     "end_time": "2020-06-21T14:29:05.912121Z",
     "start_time": "2020-06-21T14:29:05.243909Z"
    }
   },
   "outputs": [
    {
     "data": {
      "image/png": "[encoded data removed]",
      "text/plain": [
       "<Figure size 360x864 with 1 Axes>"
      ]
     },
     "metadata": {},
     "output_type": "display_data"
    }
   ],
   "source": [
    "# #Set general plot properties\n",
    "# sns.set_style(\"white\")\n",
    "# sns.set_context({\"figure.figsize\": (24, 10)})\n",
    "\n",
    "# #Plot 1 - background - \"total\" (top) series\n",
    "# sns.barplot(x = metrics_compare.metrics, y = metrics_compare.total, color = \"red\")\n",
    "\n",
    "# #Plot 2 - overlay - \"bottom\" series\n",
    "# bottom_plot = sns.barplot(x = metrics_compare.metrics, y = metrics_compare.score, color = \"green\")\n",
    "\n",
    "# topbar = plt.Rectangle((0,0),1,1,fc=\"red\", edgecolor = 'none')\n",
    "# bottombar = plt.Rectangle((0,0),1,1,fc='#0000A3',  edgecolor = 'none')\n",
    "# l = plt.legend([bottombar, topbar], ['Bottom Bar', 'Top Bar'], loc=1, ncol = 2, prop={'size':16})\n",
    "# l.draw_frame(False)\n",
    "\n",
    "# #Optional code - Make plot look nicer\n",
    "# sns.despine(left=True)\n",
    "# bottom_plot.set_ylabel(\"Y-axis label\")\n",
    "# bottom_plot.set_xlabel(\"X-axis label\")\n",
    "\n",
    "# #Set fonts to consistent 16pt size\n",
    "# for item in ([bottom_plot.xaxis.label, bottom_plot.yaxis.label] +\n",
    "#              bottom_plot.get_xticklabels() + bottom_plot.get_yticklabels()):\n",
    "#     item.set_fontsize(16)\n",
    "\n",
    "#Set general plot properties\n",
    "sns.set(style=\"whitegrid\")\n",
    "# Initialize the matplotlib figure\n",
    "f, ax = plt.subplots(figsize=(5, 12))\n",
    "\n",
    "# Plot the total maximum score possible\n",
    "sns.set_color_codes(\"pastel\")\n",
    "sns.barplot(x=\"total\", y=\"sme_metrics\", data=metrics_compare,\n",
    "            label=\"Total\", color=\"r\")\n",
    "\n",
    "# Plot the score\n",
    "sns.set_color_codes(\"muted\")\n",
    "sns.barplot(x=\"score\", y=\"sme_metrics\", data=metrics_compare,\n",
    "            label=\"Score\", color=\"g\")\n",
    "\n",
    "# Add a legend and informative axis label\n",
    "ax.legend(ncol=2, loc=\"lower right\", frameon=True)\n",
    "ax.set(xlim=(0, 1), ylabel=\"Metrics\",\n",
    "       xlabel=\"Ad Performance\")\n",
    "sns.despine(left=True, bottom=True)\n",
    "f.savefig('metrics_stacked.png', bbox_inches='tight')"
   ]
  },
  {
   "cell_type": "markdown",
   "metadata": {},
   "source": [
    "# Extracting pictures from videos (Awaiting more Automation) "
   ]
  },
  {
   "cell_type": "code",
   "execution_count": 106,
   "metadata": {
    "ExecuteTime": {
     "end_time": "2020-06-21T14:29:05.919134Z",
     "start_time": "2020-06-21T14:29:05.913118Z"
    }
   },
   "outputs": [
    {
     "data": {
      "text/plain": [
       "['sol_s1_wordstack_15052020.mp4',\n",
       " 'sol_s2_wordstack_20052020.mp4',\n",
       " 'sol_s3_wordstack_20052020.mp4',\n",
       " 'sol_s4_wordstack_20052020.mp4',\n",
       " 'sol_s5_wordstack_23052020.mp4',\n",
       " 'sol_s6_wordstack_23052020.mp4']"
      ]
     },
     "execution_count": 106,
     "metadata": {},
     "output_type": "execute_result"
    }
   ],
   "source": [
    "import glob, os\n",
    "videos = []\n",
    "for video in glob.glob(\"*.mp4\"):\n",
    "    videos.append(video)\n",
    "    \n",
    "videos"
   ]
  },
  {
   "cell_type": "code",
   "execution_count": 107,
   "metadata": {
    "ExecuteTime": {
     "end_time": "2020-06-21T14:29:05.925124Z",
     "start_time": "2020-06-21T14:29:05.920100Z"
    }
   },
   "outputs": [
    {
     "data": {
      "text/plain": [
       "array(['App Start', 'Load Screen', 'Game Play', 'Level End', 'Menu',\n",
       "       'Game Pause'], dtype=object)"
      ]
     },
     "execution_count": 107,
     "metadata": {},
     "output_type": "execute_result"
    }
   ],
   "source": [
    "log_data['Location in game'].unique()"
   ]
  },
  {
   "cell_type": "code",
   "execution_count": 108,
   "metadata": {
    "ExecuteTime": {
     "end_time": "2020-06-21T14:29:05.948057Z",
     "start_time": "2020-06-21T14:29:05.926083Z"
    }
   },
   "outputs": [],
   "source": [
    "min_session1 = min(log_data[log_data['Location in game'] == 'Load Screen']['Session Number'])\n",
    "dt_nudge1 = log_data[(log_data['Location in game'] == 'Load Screen') & (log_data['Session Number'] == min_session1)]['Nudge Time (HH:MM:SS)'].iloc[0]\n",
    "min_session1 = 's' + str(min_session1)\n",
    "dt_nudge1 = dt_nudge1.total_seconds()*1000\n",
    "\n",
    "min_session3 = min(log_data[log_data['Location in game'] == 'Menu']['Session Number'])\n",
    "dt_nudge3 = log_data[(log_data['Location in game'] == 'Menu') & (log_data['Session Number'] == min_session3)]['Nudge Time (HH:MM:SS)'].iloc[0]\n",
    "min_session3 = 's' + str(min_session3)\n",
    "dt_nudge3 = dt_nudge3.total_seconds()*1000\n",
    "\n",
    "min_session5 = min(log_data[log_data['Location in game'] == 'Level End']['Session Number'])\n",
    "dt_nudge5 = log_data[(log_data['Location in game'] == 'Level End') & (log_data['Session Number'] == min_session5)]['Nudge Time (HH:MM:SS)'].iloc[0]\n",
    "min_session5 = 's' + str(min_session5)\n",
    "dt_nudge5 = dt_nudge5.total_seconds()*1000\n",
    "\n",
    "min_session6 = min(log_data[log_data['Location in game'] == 'Game Pause']['Session Number'])\n",
    "dt_nudge6 = log_data[(log_data['Location in game'] == 'Game Pause') & (log_data['Session Number'] == min_session6)]['Nudge Time (HH:MM:SS)'].iloc[0]\n",
    "min_session6 = 's' + str(min_session6)\n",
    "dt_nudge6 = dt_nudge6.total_seconds()*1000\n",
    "\n",
    "min_session7 = min(log_data[log_data['Location in game'] == 'Level End']['Session Number'])\n",
    "dt_nudge7 = log_data[(log_data['Location in game'] == 'Level End') & (log_data['Session Number'] == min_session7)]['Nudge Time (HH:MM:SS)'].iloc[-2]\n",
    "min_session7 = 's' + str(min_session7)\n",
    "dt_nudge7 = dt_nudge7.total_seconds()*1000\n",
    "\n",
    "min_session8 = min(log_data[log_data['Location in game'] == 'Menu']['Session Number'])\n",
    "dt_nudge8 = log_data[(log_data['Location in game'] == 'Menu') & (log_data['Session Number'] == min_session8)]['Nudge Time (HH:MM:SS)'].iloc[1]\n",
    "min_session8 = 's' + str(min_session8)\n",
    "dt_nudge8 = dt_nudge8.total_seconds()*1000"
   ]
  },
  {
   "cell_type": "code",
   "execution_count": 109,
   "metadata": {
    "ExecuteTime": {
     "end_time": "2020-06-21T14:29:08.023472Z",
     "start_time": "2020-06-21T14:29:05.949021Z"
    }
   },
   "outputs": [
    {
     "name": "stdout",
     "output_type": "stream",
     "text": [
      "Success\n",
      "Success\n",
      "Success\n",
      "Success\n",
      "Success\n",
      "Success\n"
     ]
    }
   ],
   "source": [
    "import cv2\n",
    "\n",
    "os.chdir(r\"C:\\Users\\User\\Desktop\\Fresh\\Yodo1\\Ad Design\\Prototyping\")\n",
    "\n",
    "for video in videos:\n",
    "    if min_session1 in video:    \n",
    "        cam = cv2.VideoCapture(video)\n",
    "        cam.set(cv2.CAP_PROP_POS_MSEC,dt_nudge1)  \n",
    "\n",
    "        success, image = cam.read()\n",
    "\n",
    "        if success:\n",
    "            cv2.imwrite(\"open_game_reward.png\", image)\n",
    "            print('Success')\n",
    "    \n",
    "    if min_session3 in video:    \n",
    "        cam = cv2.VideoCapture(video)\n",
    "        cam.set(cv2.CAP_PROP_POS_MSEC,dt_nudge3)  \n",
    "\n",
    "        success, image = cam.read()\n",
    "\n",
    "        if success:\n",
    "            cv2.imwrite(\"rv_hint.png\", image)\n",
    "            print('Success')\n",
    "    \n",
    "    if min_session5 in video:    \n",
    "        cam = cv2.VideoCapture(video)\n",
    "        cam.set(cv2.CAP_PROP_POS_MSEC,dt_nudge5)  \n",
    "\n",
    "        success, image = cam.read()\n",
    "\n",
    "        if success:\n",
    "            cv2.imwrite(\"rv_continue.png\", image)\n",
    "            print('Success')\n",
    "\n",
    "    if min_session6 in video:    \n",
    "        cam = cv2.VideoCapture(video)\n",
    "        cam.set(cv2.CAP_PROP_POS_MSEC,dt_nudge6)  \n",
    "\n",
    "        success, image = cam.read()\n",
    "\n",
    "        if success:\n",
    "            cv2.imwrite(\"rv_resource.png\", image)\n",
    "            print('Success')\n",
    "\n",
    "    if min_session7 in video:    \n",
    "        cam = cv2.VideoCapture(video)\n",
    "        cam.set(cv2.CAP_PROP_POS_MSEC,dt_nudge7)  \n",
    "\n",
    "        success, image = cam.read()\n",
    "\n",
    "        if success:\n",
    "            cv2.imwrite(\"rv_skip_level.png\", image)\n",
    "            print('Success')\n",
    "            \n",
    "    if min_session8 in video:    \n",
    "        cam = cv2.VideoCapture(video)\n",
    "        cam.set(cv2.CAP_PROP_POS_MSEC,dt_nudge8)  \n",
    "\n",
    "        success, image = cam.read()\n",
    "\n",
    "        if success:\n",
    "            cv2.imwrite(\"rv_more_time.png\", image)\n",
    "            print('Success')"
   ]
  },
  {
   "cell_type": "markdown",
   "metadata": {},
   "source": [
    "# PDF Export "
   ]
  },
  {
   "cell_type": "raw",
   "metadata": {
    "ExecuteTime": {
     "end_time": "2020-06-17T07:00:15.601368Z",
     "start_time": "2020-06-17T07:00:15.589399Z"
    }
   },
   "source": [
    "count= 0\n",
    "import glob, os\n",
    "os.chdir(r\"C:\\Users\\User\\Desktop\\Fresh\\Yodo1\\Ad Design\\Prototyping\")\n",
    "for file in glob.glob(\"*.png\"):\n",
    "    print(file)\n",
    "    count += 1\n",
    "count"
   ]
  },
  {
   "cell_type": "code",
   "execution_count": 110,
   "metadata": {
    "ExecuteTime": {
     "end_time": "2020-06-21T14:29:08.031449Z",
     "start_time": "2020-06-21T14:29:08.024467Z"
    }
   },
   "outputs": [],
   "source": [
    "ad_design_score = str(int(ad_design_score*100)) + '/100'\n",
    "average_ad_velocity = str(timedelta(seconds=int(nudge_stats['Ad velocity']['average'].total_seconds())))\n",
    "ad_placement_number = str(ad_placement['Location in game'].nunique()) + '/7'\n",
    "ad_placement_locations = ad_placement['Location in game'].dropna().unique()\n",
    "ad_format_number = str(log_data['AD Format:'].nunique()) + '/3'\n",
    "ad_format_used = log_data['AD Format:'].dropna().unique()\n",
    "time_to_first_ad = str(time_to_first_ad)\n",
    "compliance = str(1 - anti_ad_patterns) + '/1'"
   ]
  },
  {
   "cell_type": "code",
   "execution_count": 111,
   "metadata": {
    "ExecuteTime": {
     "end_time": "2020-06-21T14:29:08.038430Z",
     "start_time": "2020-06-21T14:29:08.032446Z"
    }
   },
   "outputs": [],
   "source": [
    "separator = ', '\n",
    "separator2 = ' and '\n",
    "ad_placement_locations = separator.join(ad_placement_locations)\n",
    "ad_format_used = separator.join(ad_format_used)"
   ]
  },
  {
   "cell_type": "code",
   "execution_count": 112,
   "metadata": {
    "ExecuteTime": {
     "end_time": "2020-06-21T14:29:08.047406Z",
     "start_time": "2020-06-21T14:29:08.039427Z"
    }
   },
   "outputs": [],
   "source": [
    "recommended_locations = list(set(game_location_cols) - set(ad_placement['Location in game'].unique()))\n",
    "recommended_locations.remove('Other')\n",
    "recommended_locations = separator.join(recommended_locations)"
   ]
  },
  {
   "cell_type": "code",
   "execution_count": 113,
   "metadata": {
    "ExecuteTime": {
     "end_time": "2020-06-21T14:29:08.055384Z",
     "start_time": "2020-06-21T14:29:08.048403Z"
    }
   },
   "outputs": [
    {
     "data": {
      "text/plain": [
       "'Banner'"
      ]
     },
     "execution_count": 113,
     "metadata": {},
     "output_type": "execute_result"
    }
   ],
   "source": [
    "recommend_ads = list(set(ad_cols) - set(log_data['AD Format:'].unique()))\n",
    "recommend_ads = separator.join(recommend_ads)\n",
    "recommend_ads"
   ]
  },
  {
   "cell_type": "code",
   "execution_count": 114,
   "metadata": {
    "ExecuteTime": {
     "end_time": "2020-06-21T14:29:08.063362Z",
     "start_time": "2020-06-21T14:29:08.056382Z"
    }
   },
   "outputs": [
    {
     "data": {
      "text/plain": [
       "'The current monetization model is heavily dependent on Rewarded and Interstitialsds. The game has no Bannerads. Thus, we recommend to inject some Banner ads, which will increase the revenue and improve user experience, retention.'"
      ]
     },
     "execution_count": 114,
     "metadata": {},
     "output_type": "execute_result"
    }
   ],
   "source": [
    "current_ads = log_data['AD Format:'].dropna().unique()\n",
    "if len(current_ads) == 2:\n",
    "    current_ads = separator2.join(current_ads)\n",
    "else:\n",
    "    current_ads = separator.join(current_ads)\n",
    "recommended_ads = \"The current monetization model is heavily dependent on \" + current_ads + \"sds. The game has no \" + recommend_ads + \"ads. Thus, we recommend to inject some \" + recommend_ads + \" ads, which will increase the revenue and improve user experience, retention.\"\n",
    "recommended_ads"
   ]
  },
  {
   "cell_type": "code",
   "execution_count": 115,
   "metadata": {
    "ExecuteTime": {
     "end_time": "2020-06-21T14:29:08.068350Z",
     "start_time": "2020-06-21T14:29:08.064360Z"
    }
   },
   "outputs": [],
   "source": [
    "recommended_locations = list(set(game_location_cols) - set(ad_placement['Location in game'].unique()))\n",
    "recommended_locations.remove('Other')\n",
    "recommended_locations = separator.join(recommended_locations)"
   ]
  },
  {
   "cell_type": "code",
   "execution_count": 116,
   "metadata": {
    "ExecuteTime": {
     "end_time": "2020-06-21T14:29:08.092286Z",
     "start_time": "2020-06-21T14:29:08.069347Z"
    }
   },
   "outputs": [
    {
     "data": {
      "text/html": [
       "<div>\n",
       "<style scoped>\n",
       "    .dataframe tbody tr th:only-of-type {\n",
       "        vertical-align: middle;\n",
       "    }\n",
       "\n",
       "    .dataframe tbody tr th {\n",
       "        vertical-align: top;\n",
       "    }\n",
       "\n",
       "    .dataframe thead th {\n",
       "        text-align: right;\n",
       "    }\n",
       "</style>\n",
       "<table border=\"1\" class=\"dataframe\">\n",
       "  <thead>\n",
       "    <tr style=\"text-align: right;\">\n",
       "      <th></th>\n",
       "      <th>Session Number</th>\n",
       "      <th>Start Type</th>\n",
       "      <th>AD Format:</th>\n",
       "      <th>Interstitial</th>\n",
       "      <th>Rewarded</th>\n",
       "      <th>Static</th>\n",
       "      <th>Video</th>\n",
       "      <th>Session Duration</th>\n",
       "      <th>Game Initiated</th>\n",
       "      <th>Player Initiated</th>\n",
       "      <th>...</th>\n",
       "      <th>Banner</th>\n",
       "      <th>Banner_Game Initiated</th>\n",
       "      <th>Ad velocity</th>\n",
       "      <th>Banner velocity</th>\n",
       "      <th>Interstitial velocity</th>\n",
       "      <th>Rewarded velocity</th>\n",
       "      <th>Ad proactiveness</th>\n",
       "      <th>Banner proactiveness</th>\n",
       "      <th>Interstitial proactiveness</th>\n",
       "      <th>Rewarded proactiveness</th>\n",
       "    </tr>\n",
       "  </thead>\n",
       "  <tbody>\n",
       "    <tr>\n",
       "      <th>0</th>\n",
       "      <td>1.000000</td>\n",
       "      <td>27.000000</td>\n",
       "      <td>26.00000</td>\n",
       "      <td>NaN</td>\n",
       "      <td>26.000000</td>\n",
       "      <td>12.0</td>\n",
       "      <td>14.000000</td>\n",
       "      <td>00:11:37</td>\n",
       "      <td>20.000000</td>\n",
       "      <td>6.000000</td>\n",
       "      <td>...</td>\n",
       "      <td>NaN</td>\n",
       "      <td>NaN</td>\n",
       "      <td>00:00:26.807692</td>\n",
       "      <td>0 days</td>\n",
       "      <td>00:00:00</td>\n",
       "      <td>00:00:26.807692</td>\n",
       "      <td>0.769231</td>\n",
       "      <td>NaN</td>\n",
       "      <td>NaN</td>\n",
       "      <td>0.769231</td>\n",
       "    </tr>\n",
       "    <tr>\n",
       "      <th>1</th>\n",
       "      <td>2.000000</td>\n",
       "      <td>21.000000</td>\n",
       "      <td>15.00000</td>\n",
       "      <td>NaN</td>\n",
       "      <td>15.000000</td>\n",
       "      <td>NaN</td>\n",
       "      <td>15.000000</td>\n",
       "      <td>00:12:02</td>\n",
       "      <td>8.000000</td>\n",
       "      <td>7.000000</td>\n",
       "      <td>...</td>\n",
       "      <td>NaN</td>\n",
       "      <td>NaN</td>\n",
       "      <td>00:00:48.133333</td>\n",
       "      <td>0 days</td>\n",
       "      <td>00:00:00</td>\n",
       "      <td>00:00:48.133333</td>\n",
       "      <td>0.533333</td>\n",
       "      <td>NaN</td>\n",
       "      <td>NaN</td>\n",
       "      <td>0.533333</td>\n",
       "    </tr>\n",
       "    <tr>\n",
       "      <th>2</th>\n",
       "      <td>3.000000</td>\n",
       "      <td>20.000000</td>\n",
       "      <td>13.00000</td>\n",
       "      <td>NaN</td>\n",
       "      <td>13.000000</td>\n",
       "      <td>NaN</td>\n",
       "      <td>13.000000</td>\n",
       "      <td>00:10:07</td>\n",
       "      <td>6.000000</td>\n",
       "      <td>7.000000</td>\n",
       "      <td>...</td>\n",
       "      <td>NaN</td>\n",
       "      <td>NaN</td>\n",
       "      <td>00:00:46.692307</td>\n",
       "      <td>0 days</td>\n",
       "      <td>00:00:00</td>\n",
       "      <td>00:00:46.692307</td>\n",
       "      <td>0.461538</td>\n",
       "      <td>NaN</td>\n",
       "      <td>NaN</td>\n",
       "      <td>0.461538</td>\n",
       "    </tr>\n",
       "    <tr>\n",
       "      <th>3</th>\n",
       "      <td>4.000000</td>\n",
       "      <td>19.000000</td>\n",
       "      <td>11.00000</td>\n",
       "      <td>1.000000</td>\n",
       "      <td>10.000000</td>\n",
       "      <td>NaN</td>\n",
       "      <td>11.000000</td>\n",
       "      <td>00:11:25</td>\n",
       "      <td>7.000000</td>\n",
       "      <td>4.000000</td>\n",
       "      <td>...</td>\n",
       "      <td>NaN</td>\n",
       "      <td>NaN</td>\n",
       "      <td>00:01:02.272727</td>\n",
       "      <td>0 days</td>\n",
       "      <td>00:11:25</td>\n",
       "      <td>00:01:08.500000</td>\n",
       "      <td>0.636364</td>\n",
       "      <td>NaN</td>\n",
       "      <td>1.0</td>\n",
       "      <td>0.600000</td>\n",
       "    </tr>\n",
       "    <tr>\n",
       "      <th>4</th>\n",
       "      <td>5.000000</td>\n",
       "      <td>18.000000</td>\n",
       "      <td>16.00000</td>\n",
       "      <td>1.000000</td>\n",
       "      <td>15.000000</td>\n",
       "      <td>NaN</td>\n",
       "      <td>16.000000</td>\n",
       "      <td>00:10:19</td>\n",
       "      <td>2.000000</td>\n",
       "      <td>14.000000</td>\n",
       "      <td>...</td>\n",
       "      <td>NaN</td>\n",
       "      <td>NaN</td>\n",
       "      <td>00:00:38.687500</td>\n",
       "      <td>0 days</td>\n",
       "      <td>00:10:19</td>\n",
       "      <td>00:00:41.266666</td>\n",
       "      <td>0.125000</td>\n",
       "      <td>NaN</td>\n",
       "      <td>1.0</td>\n",
       "      <td>0.066667</td>\n",
       "    </tr>\n",
       "    <tr>\n",
       "      <th>5</th>\n",
       "      <td>6.000000</td>\n",
       "      <td>17.000000</td>\n",
       "      <td>12.00000</td>\n",
       "      <td>3.000000</td>\n",
       "      <td>9.000000</td>\n",
       "      <td>NaN</td>\n",
       "      <td>12.000000</td>\n",
       "      <td>00:11:30</td>\n",
       "      <td>7.000000</td>\n",
       "      <td>5.000000</td>\n",
       "      <td>...</td>\n",
       "      <td>NaN</td>\n",
       "      <td>NaN</td>\n",
       "      <td>00:00:57.500000</td>\n",
       "      <td>0 days</td>\n",
       "      <td>00:03:50</td>\n",
       "      <td>00:01:16.666666</td>\n",
       "      <td>0.583333</td>\n",
       "      <td>NaN</td>\n",
       "      <td>1.0</td>\n",
       "      <td>0.444444</td>\n",
       "    </tr>\n",
       "    <tr>\n",
       "      <th>average</th>\n",
       "      <td>3.500000</td>\n",
       "      <td>20.333333</td>\n",
       "      <td>15.50000</td>\n",
       "      <td>1.666667</td>\n",
       "      <td>14.666667</td>\n",
       "      <td>12.0</td>\n",
       "      <td>13.500000</td>\n",
       "      <td>00:11:10</td>\n",
       "      <td>8.333333</td>\n",
       "      <td>7.166667</td>\n",
       "      <td>...</td>\n",
       "      <td>NaN</td>\n",
       "      <td>NaN</td>\n",
       "      <td>00:00:46.682260</td>\n",
       "      <td>0 days</td>\n",
       "      <td>00:04:15.666666</td>\n",
       "      <td>00:00:51.344444</td>\n",
       "      <td>0.518133</td>\n",
       "      <td>NaN</td>\n",
       "      <td>1.0</td>\n",
       "      <td>0.479202</td>\n",
       "    </tr>\n",
       "    <tr>\n",
       "      <th>variety</th>\n",
       "      <td>1.707825</td>\n",
       "      <td>3.248931</td>\n",
       "      <td>4.99166</td>\n",
       "      <td>0.942809</td>\n",
       "      <td>5.557777</td>\n",
       "      <td>0.0</td>\n",
       "      <td>1.707825</td>\n",
       "      <td>00:00:42.087211</td>\n",
       "      <td>5.557777</td>\n",
       "      <td>3.236081</td>\n",
       "      <td>...</td>\n",
       "      <td>NaN</td>\n",
       "      <td>NaN</td>\n",
       "      <td>00:00:11.698336</td>\n",
       "      <td>0 days</td>\n",
       "      <td>00:04:52.430428</td>\n",
       "      <td>00:00:16.688795</td>\n",
       "      <td>0.199694</td>\n",
       "      <td>NaN</td>\n",
       "      <td>0.0</td>\n",
       "      <td>0.213442</td>\n",
       "    </tr>\n",
       "  </tbody>\n",
       "</table>\n",
       "<p>8 rows × 23 columns</p>\n",
       "</div>"
      ],
      "text/plain": [
       "         Session Number  Start Type  AD Format:  Interstitial   Rewarded  \\\n",
       "0              1.000000   27.000000    26.00000           NaN  26.000000   \n",
       "1              2.000000   21.000000    15.00000           NaN  15.000000   \n",
       "2              3.000000   20.000000    13.00000           NaN  13.000000   \n",
       "3              4.000000   19.000000    11.00000      1.000000  10.000000   \n",
       "4              5.000000   18.000000    16.00000      1.000000  15.000000   \n",
       "5              6.000000   17.000000    12.00000      3.000000   9.000000   \n",
       "average        3.500000   20.333333    15.50000      1.666667  14.666667   \n",
       "variety        1.707825    3.248931     4.99166      0.942809   5.557777   \n",
       "\n",
       "         Static      Video Session Duration  Game Initiated  Player Initiated  \\\n",
       "0          12.0  14.000000         00:11:37       20.000000          6.000000   \n",
       "1           NaN  15.000000         00:12:02        8.000000          7.000000   \n",
       "2           NaN  13.000000         00:10:07        6.000000          7.000000   \n",
       "3           NaN  11.000000         00:11:25        7.000000          4.000000   \n",
       "4           NaN  16.000000         00:10:19        2.000000         14.000000   \n",
       "5           NaN  12.000000         00:11:30        7.000000          5.000000   \n",
       "average    12.0  13.500000         00:11:10        8.333333          7.166667   \n",
       "variety     0.0   1.707825  00:00:42.087211        5.557777          3.236081   \n",
       "\n",
       "         ...  Banner  Banner_Game Initiated     Ad velocity  Banner velocity  \\\n",
       "0        ...     NaN                    NaN 00:00:26.807692           0 days   \n",
       "1        ...     NaN                    NaN 00:00:48.133333           0 days   \n",
       "2        ...     NaN                    NaN 00:00:46.692307           0 days   \n",
       "3        ...     NaN                    NaN 00:01:02.272727           0 days   \n",
       "4        ...     NaN                    NaN 00:00:38.687500           0 days   \n",
       "5        ...     NaN                    NaN 00:00:57.500000           0 days   \n",
       "average  ...     NaN                    NaN 00:00:46.682260           0 days   \n",
       "variety  ...     NaN                    NaN 00:00:11.698336           0 days   \n",
       "\n",
       "         Interstitial velocity Rewarded velocity Ad proactiveness  \\\n",
       "0                     00:00:00   00:00:26.807692         0.769231   \n",
       "1                     00:00:00   00:00:48.133333         0.533333   \n",
       "2                     00:00:00   00:00:46.692307         0.461538   \n",
       "3                     00:11:25   00:01:08.500000         0.636364   \n",
       "4                     00:10:19   00:00:41.266666         0.125000   \n",
       "5                     00:03:50   00:01:16.666666         0.583333   \n",
       "average        00:04:15.666666   00:00:51.344444         0.518133   \n",
       "variety        00:04:52.430428   00:00:16.688795         0.199694   \n",
       "\n",
       "        Banner proactiveness Interstitial proactiveness  \\\n",
       "0                        NaN                        NaN   \n",
       "1                        NaN                        NaN   \n",
       "2                        NaN                        NaN   \n",
       "3                        NaN                        1.0   \n",
       "4                        NaN                        1.0   \n",
       "5                        NaN                        1.0   \n",
       "average                  NaN                        1.0   \n",
       "variety                  NaN                        0.0   \n",
       "\n",
       "         Rewarded proactiveness  \n",
       "0                      0.769231  \n",
       "1                      0.533333  \n",
       "2                      0.461538  \n",
       "3                      0.600000  \n",
       "4                      0.066667  \n",
       "5                      0.444444  \n",
       "average                0.479202  \n",
       "variety                0.213442  \n",
       "\n",
       "[8 rows x 23 columns]"
      ]
     },
     "execution_count": 116,
     "metadata": {},
     "output_type": "execute_result"
    }
   ],
   "source": [
    "nudge_stats"
   ]
  },
  {
   "cell_type": "code",
   "execution_count": 117,
   "metadata": {
    "ExecuteTime": {
     "end_time": "2020-06-21T14:29:20.628182Z",
     "start_time": "2020-06-21T14:29:08.093284Z"
    },
    "scrolled": true
   },
   "outputs": [
    {
     "name": "stdout",
     "output_type": "stream",
     "text": [
      "You can create and gift daily reward to gamers when they return to the game! This helps with retention rate by rewarding users to return to the game on a daily basis.\n",
      "You can add RV to give gamers' hint in the game! This  players to progress more rapidly through the game and drives higher retention.\n",
      "Let players see a RV and continue every time they fail! Allow them to resume playing from the same place.\n",
      "Please add an option to see a RV to get more items!\n",
      "Please add an option to watch an ad to skip to the next level of the game. Currently the levels are unlocked by winning the previous level. But you can add the option for player to see an Ad to skip.\n",
      "You can add RV to reward gamers more game time!\n",
      "The optimal display interval for interstitial differs from game to game, we recommend A/B testing the optimal display interval for Word Stack starting with 120 seconds / interstitial, then decreasing it by gradually using dynamic server side parameters while monitoring retention. Keep reducing the display interval by 15-30 seconds as long as retention doesn't decrease to achieve optimal revenue with the best player experience.\n"
     ]
    },
    {
     "data": {
      "text/plain": [
       "''"
      ]
     },
     "execution_count": 117,
     "metadata": {},
     "output_type": "execute_result"
    }
   ],
   "source": [
    "from pylab import title, figure, xlabel, ylabel, xticks, bar, legend, axis, savefig\n",
    "from fpdf import FPDF\n",
    "\n",
    "pdf = FPDF(orientation='P', unit='pt', format='A4')\n",
    "pdf.add_page()\n",
    "# pdf.set_color(255,165,0)\n",
    "pdf.image('Background.png', x = 0, y = 0, w = 600, h = 900)\n",
    "pdf.image('MASlogo.png', x = 50, y = 50, w = 150, h = 100)\n",
    "pdf.image('MASad.png', x = 380, y = 690, w = 200, h = 100)\n",
    "\n",
    "\n",
    "y_axis = 150\n",
    "pdf.set_y(y_axis)\n",
    "pdf.set_font(\"Times\", \"B\", 24)\n",
    "pdf.cell(0, 80, str(game) + \" Ad Design Report\", 0, 1, \"C\")\n",
    "\n",
    "pdf.set_font(\"Times\", \"B\", 14)\n",
    "pdf.cell(160, 25, \"AD Design Score:\")\n",
    "pdf.set_font(\"Times\", \"\", 12)\n",
    "pdf.cell(0, 25, \"{}\".format(ad_design_score), 0, 1)\n",
    "\n",
    "pdf.cell(0, 5, \"\", 0, 1)\n",
    "pdf.set_font(\"Times\", \"B\", 14)\n",
    "pdf.cell(160, 25, \"Average Ad Velocity:\")\n",
    "pdf.set_font(\"Times\", \"\", 12)\n",
    "pdf.cell(0, 25, \"{}\".format(average_ad_velocity), 0, 1)\n",
    "\n",
    "pdf.cell(0, 5, \"\", 0, 1)\n",
    "pdf.set_font(\"Times\", \"B\", 14)\n",
    "pdf.cell(160, 25, \"Ad Placement:\")\n",
    "pdf.set_font(\"Times\", \"\", 12)\n",
    "pdf.cell(0, 25, \"{}\".format(ad_placement_number), 0, 1)\n",
    "\n",
    "pdf.cell(0, 5, \"\", 0, 1)\n",
    "pdf.set_font(\"Times\", \"B\", 14)\n",
    "pdf.cell(160, 25, \"Ad Placement Locations:\")\n",
    "pdf.set_font(\"Times\", \"\", 12)\n",
    "pdf.cell(0, 25, \"{}\".format(ad_placement_locations), 0, 1)\n",
    "\n",
    "pdf.cell(0, 5, \"\", 0, 1)\n",
    "pdf.set_font(\"Times\", \"B\", 14)\n",
    "pdf.cell(160, 25, \"Ad Format:\")\n",
    "pdf.set_font(\"Times\", \"\", 12)\n",
    "pdf.cell(0, 25, \"{}\".format(ad_format_number), 0, 1)\n",
    "\n",
    "pdf.cell(0, 5, \"\", 0, 1)\n",
    "pdf.set_font(\"Times\", \"B\", 14)\n",
    "pdf.cell(160, 25, \"Ad Category Used:\")\n",
    "pdf.set_font(\"Times\", \"\", 12)\n",
    "pdf.cell(0, 25, \"{}\".format(ad_format_used), 0, 1)\n",
    "\n",
    "pdf.cell(0, 5, \"\", 0, 1)\n",
    "pdf.set_font(\"Times\", \"B\", 14)\n",
    "pdf.cell(160, 25, \"Time to first Ad:\")\n",
    "pdf.set_font(\"Times\", \"\", 12)\n",
    "pdf.cell(0, 25, \"{}\".format(time_to_first_ad), 0, 1)\n",
    "\n",
    "pdf.cell(0, 5, \"\", 0, 1)\n",
    "pdf.set_font(\"Times\", \"B\", 14)\n",
    "pdf.cell(160, 25, \"Compliance:\")\n",
    "pdf.set_font(\"Times\", \"\", 12)\n",
    "pdf.cell(0, 25, \"{}\".format(compliance), 0, 1)\n",
    "\n",
    "pdf.cell(0, 5, \"\", 0, 1)\n",
    "pdf.set_font(\"Times\", \"B\", 14)\n",
    "pdf.set_text_color(0, 0, 139)\n",
    "pdf.cell(220, 25, \"You can place ads at more locations:\")\n",
    "pdf.set_font(\"Times\", \"\", 12)\n",
    "pdf.set_text_color(0, 0, 0)\n",
    "pdf.multi_cell(0, 25, \"{}\".format(recommended_locations), 0, 1)\n",
    "\n",
    "pdf.cell(0, 5, \"\", 0, 1)\n",
    "pdf.set_font(\"Times\", \"B\", 14)\n",
    "pdf.set_text_color(0, 0, 139)\n",
    "pdf.cell(220, 25, \"You can explore boosting your ad:\")\n",
    "pdf.set_font(\"Times\", \"\", 12)\n",
    "pdf.set_text_color(0, 0, 0)\n",
    "pdf.multi_cell(0, 25, \"{}\".format(recommended_ads), 0, 1)\n",
    "\n",
    "\n",
    "\n",
    "pdf.add_page()\n",
    "count = 0\n",
    "y_axis = 20\n",
    "\n",
    "if count == 4:\n",
    "    pdf.add_page()\n",
    "    y_axis = 20\n",
    "    \n",
    "try:\n",
    "    print(recommended_desire1)\n",
    "    pdf.set_y(y_axis)\n",
    "    count += 1\n",
    "    pdf.set_font(\"Times\", \"B\", 24)\n",
    "    pdf.set_text_color(255, 140, 0)\n",
    "    pdf.cell(0, 20, \"\", 0, 1)\n",
    "    pdf.multi_cell(300, 20, \"{}\".format(\"RECOMMENDATION \" + str(count) + \":\"), 0, 1, \"L\")\n",
    "    pdf.set_font(\"Times\", \"\", 12)\n",
    "    pdf.set_text_color(0, 0, 0)\n",
    "    pdf.cell(0, 20, \"\", 0, 1)\n",
    "    pdf.multi_cell(300, 20, \"{}\".format(recommended_desire1), 0, 1, \"L\")\n",
    "    pdf.image('open_game_reward.png', x = 400, y = y_axis, w = 0, h = 150)\n",
    "    y_axis +=200\n",
    "except:\n",
    "    pass\n",
    "\n",
    "if count == 4:\n",
    "    pdf.add_page()\n",
    "    y_axis = 20\n",
    "\n",
    "try:\n",
    "    print(recommended_desire2)\n",
    "    pdf.set_y(y_axis)\n",
    "    count += 1\n",
    "    pdf.set_font(\"Times\", \"B\", 24)\n",
    "    pdf.set_text_color(255, 140, 0)\n",
    "    pdf.cell(0, 20, \"\", 0, 1)\n",
    "    pdf.multi_cell(300, 20, \"{}\".format(\"RECOMMENDATION \" + str(count) + \":\"), 0, 1, \"L\")\n",
    "    pdf.set_font(\"Times\", \"\", 12)\n",
    "    pdf.set_text_color(0, 0, 0)\n",
    "    pdf.cell(0, 20, \"\", 0, 1)\n",
    "    pdf.multi_cell(300, 20, \"{}\".format(recommended_desire2), 0, 1, \"L\")\n",
    "    pdf.image('rv_double_reward.png', x = 400, y = y_axis, w = 0, h = 150)\n",
    "    y_axis +=200\n",
    "except:\n",
    "    pass\n",
    "\n",
    "\n",
    "if count == 4:\n",
    "    pdf.add_page()\n",
    "    y_axis = 20\n",
    "\n",
    "try:\n",
    "    print(recommended_desire3)\n",
    "    pdf.set_y(y_axis)\n",
    "    count += 1\n",
    "    pdf.set_font(\"Times\", \"B\", 24)\n",
    "    pdf.set_text_color(255, 140, 0)\n",
    "    pdf.cell(0, 20, \"\", 0, 1)\n",
    "    pdf.multi_cell(300, 20, \"{}\".format(\"RECOMMENDATION \" + str(count) + \":\"), 0, 1, \"L\")\n",
    "    pdf.set_font(\"Times\", \"\", 12)\n",
    "    pdf.set_text_color(0, 0, 0)\n",
    "    pdf.cell(0, 20, \"\", 0, 1)\n",
    "    pdf.multi_cell(300, 20, \"{}\".format(recommended_desire3), 0, 1, \"L\")\n",
    "    pdf.image('rv_hint.png', x = 400, y = y_axis, w = 0, h = 150)\n",
    "    y_axis +=200\n",
    "except:\n",
    "    pass\n",
    "\n",
    "if count == 4:\n",
    "    pdf.add_page()\n",
    "    y_axis = 20\n",
    "    \n",
    "try:\n",
    "    print(recommended_desire4)\n",
    "    pdf.set_y(y_axis)\n",
    "    count += 1\n",
    "    pdf.set_font(\"Times\", \"B\", 24)\n",
    "    pdf.set_text_color(255, 140, 0)\n",
    "    pdf.cell(0, 20, \"\", 0, 1)\n",
    "    pdf.multi_cell(300, 20, \"{}\".format(\"RECOMMENDATION \" + str(count) + \":\"), 0, 1, \"L\")\n",
    "    pdf.set_font(\"Times\", \"\", 12)\n",
    "    pdf.set_text_color(0, 0, 0)\n",
    "    pdf.cell(0, 20, \"\", 0, 1)\n",
    "    pdf.multi_cell(300, 20, \"{}\".format(recommended_desire4), 0, 1, \"L\")\n",
    "    pdf.image('rv_level_end.png', x = 400, y = y_axis, w = 0, h = 150)\n",
    "    y_axis +=200\n",
    "except:\n",
    "    pass\n",
    "\n",
    "if count == 4:\n",
    "    pdf.add_page()\n",
    "    y_axis = 20\n",
    "\n",
    "try:\n",
    "    print(recommended_desire5)\n",
    "    pdf.set_y(y_axis)\n",
    "    count += 1\n",
    "    pdf.set_font(\"Times\", \"B\", 24)\n",
    "    pdf.set_text_color(255, 140, 0)\n",
    "    pdf.cell(0, 20, \"\", 0, 1)\n",
    "    pdf.multi_cell(300, 20, \"{}\".format(\"RECOMMENDATION \" + str(count) + \":\"), 0, 1, \"L\")\n",
    "    pdf.set_font(\"Times\", \"\", 12)\n",
    "    pdf.set_text_color(0, 0, 0)\n",
    "    pdf.cell(0, 20, \"\", 0, 1)\n",
    "    pdf.multi_cell(300, 20, \"{}\".format(recommended_desire5), 0, 1, \"L\")\n",
    "    pdf.image('rv_continue.png', x = 400, y = y_axis, w = 0, h = 150)\n",
    "    y_axis +=200\n",
    "except:\n",
    "    pass\n",
    "\n",
    "if count == 4:\n",
    "    pdf.add_page()\n",
    "    y_axis = 20\n",
    "\n",
    "try:\n",
    "    print(recommended_desire6)\n",
    "    pdf.set_y(y_axis)\n",
    "    count += 1\n",
    "    pdf.set_font(\"Times\", \"B\", 24)\n",
    "    pdf.set_text_color(255, 140, 0)\n",
    "    pdf.cell(0, 20, \"\", 0, 1)\n",
    "    pdf.multi_cell(300, 20, \"{}\".format(\"RECOMMENDATION \" + str(count) + \":\"), 0, 1, \"L\")\n",
    "    pdf.set_font(\"Times\", \"\", 12)\n",
    "    pdf.set_text_color(0, 0, 0)\n",
    "    pdf.cell(0, 20, \"\", 0, 1)\n",
    "    pdf.multi_cell(300, 20, \"{}\".format(recommended_desire6), 0, 1, \"L\")\n",
    "    pdf.image('rv_resource.png', x = 400, y = y_axis, w = 0, h = 150)\n",
    "    y_axis +=200\n",
    "except:\n",
    "    pass\n",
    "\n",
    "if count == 4:\n",
    "    pdf.add_page()\n",
    "    y_axis = 20\n",
    "\n",
    "try:\n",
    "    print(recommended_desire7)\n",
    "    pdf.set_y(y_axis)\n",
    "    count += 1\n",
    "    pdf.set_font(\"Times\", \"B\", 24)\n",
    "    pdf.set_text_color(255, 140, 0)\n",
    "    pdf.cell(0, 20, \"\", 0, 1)\n",
    "    pdf.multi_cell(300, 20, \"{}\".format(\"RECOMMENDATION \" + str(count) + \":\"), 0, 1, \"L\")\n",
    "    pdf.set_font(\"Times\", \"\", 12)\n",
    "    pdf.set_text_color(0, 0, 0)\n",
    "    pdf.cell(0, 20, \"\", 0, 1)\n",
    "    pdf.multi_cell(300, 20, \"{}\".format(recommended_desire7), 0, 1, \"L\")\n",
    "    pdf.image('rv_skip_level.png', x = 400, y = y_axis, w = 0, h = 150)\n",
    "    y_axis +=200\n",
    "except:\n",
    "    pass\n",
    "\n",
    "if count == 4:\n",
    "    pdf.add_page()\n",
    "    y_axis = 20\n",
    "\n",
    "try:\n",
    "    print(recommended_desire8)\n",
    "    pdf.set_y(y_axis)\n",
    "    count += 1\n",
    "    pdf.set_font(\"Times\", \"B\", 24)\n",
    "    pdf.set_text_color(255, 140, 0)\n",
    "    pdf.cell(0, 20, \"\", 0, 1)\n",
    "    pdf.multi_cell(300, 20, \"{}\".format(\"RECOMMENDATION \" + str(count) + \":\"), 0, 1, \"L\")\n",
    "    pdf.set_font(\"Times\", \"\", 12)\n",
    "    pdf.set_text_color(0, 0, 0)\n",
    "    pdf.cell(0, 20, \"\", 0, 1)\n",
    "    pdf.multi_cell(300, 20, \"{}\".format(recommended_desire8), 0, 1, \"L\")\n",
    "    pdf.image('rv_more_time.png', x = 400, y = y_axis, w = 0, h = 150)\n",
    "    y_axis +=200\n",
    "except:\n",
    "    pass\n",
    "\n",
    "if count == 8:\n",
    "    pdf.add_page()\n",
    "    y_axis = 20\n",
    "\n",
    "try:\n",
    "    print(recommended_desire9)\n",
    "    pdf.set_y(y_axis)\n",
    "    count += 1\n",
    "    pdf.set_font(\"Times\", \"B\", 24)\n",
    "    pdf.set_text_color(255, 140, 0)\n",
    "    pdf.cell(0, 20, \"\", 0, 1)\n",
    "    pdf.multi_cell(300, 20, \"{}\".format(\"RECOMMENDATION \" + str(count) + \":\"), 0, 1, \"L\")\n",
    "    pdf.set_font(\"Times\", \"\", 12)\n",
    "    pdf.set_text_color(0, 0, 0)\n",
    "    pdf.cell(0, 20, \"\", 0, 1)\n",
    "    pdf.multi_cell(300, 20, \"{}\".format(recommended_desire9), 0, 1, \"L\")\n",
    "    \n",
    "    pdf.set_x(370)\n",
    "    pdf.set_font(\"Times\", \"I\", 12)\n",
    "    pdf.multi_cell(200, 10, \"Current Ads Velocities\", 0, 0, \"J\")\n",
    "    pdf.image('Average_ad_velocity.png', x = 350, y = y_axis + 50, w = 0, h = 150)\n",
    "\n",
    "    y_axis +=200\n",
    "except:\n",
    "    pass\n",
    "\n",
    "\n",
    "\n",
    "pdf.add_page()\n",
    "###Ad Statistics\n",
    "pdf.set_font(\"Times\", \"B\", 24)\n",
    "pdf.cell(0, 50, \"Some Simple Current Game Ad Statistics\", 0, 1, \"C\")\n",
    "\n",
    "y_axis= 100\n",
    "pdf.set_y(y_axis)\n",
    "\n",
    "# # 1 set of charts\n",
    "# pdf.set_font(\"Times\", \"I\", 13)\n",
    "# pdf.cell(175, 0, \"Ad occurence per 10mins\", 0, 0, \"C\")\n",
    "# pdf.cell(175, 0, \"Current Ads pushed by Game\", 0, 0, \"C\")\n",
    "# pdf.cell(175, 0, \"Current Ads shown in Game\", 0, 0, \"C\")\n",
    "# pdf.image('Ad_average_count.png', x = 30, y = y_axis + 20, w = 0, h = 150)\n",
    "\n",
    "# pdf.cell(0, 5, \"\", 0, 1)\n",
    "# pdf.image('Ad_average_proactiveness.png', x = 205, y = y_axis + 20, w = 0, h = 150)\n",
    "\n",
    "# ##pie charts\n",
    "# pdf.cell(0, 5, \"\", 0, 1)\n",
    "# pdf.image('Ad_category_in_game.png', x = 380, y = y_axis + 70, w = 150, h = 0)\n",
    "\n",
    "# y_axis= y_axis + 230\n",
    "# pdf.set_y(y_axis)\n",
    "# 1 set of charts\n",
    "# pdf.set_font(\"Times\", \"I\", 13)\n",
    "# pdf.cell(175, 0, \"Current Ads placement locations\", 0, 0, \"C\")\n",
    "# pdf.cell(175, 0, \"Current Ads types shown in Game\", 0, 0, \"C\")\n",
    "# pdf.cell(175, 0, \"Current Ads types breakdown\", 0, 0, \"C\")\n",
    "# ##pie charts\n",
    "# pdf.image('Ad_placement_location_proportion.png', x = 30, y = y_axis + 70, w = 150, h = 0)\n",
    "\n",
    "# pdf.cell(0, 5, \"\", 0, 1)\n",
    "# pdf.image('Ad_type_average_count.png', x = 205, y = y_axis + 20, w = 0, h = 150)\n",
    "\n",
    "# ##pie charts\n",
    "# pdf.cell(0, 5, \"\", 0, 1)\n",
    "# pdf.image('ad_type_by_ad_format_distribution_table.png', x = 390, y = y_axis + 70, w = 150, h = 0)\n",
    "\n",
    "# y_axis= y_axis + 230\n",
    "# pdf.set_y(y_axis)\n",
    "# # 1 set of charts\n",
    "pdf.set_font(\"Times\", \"I\", 13)\n",
    "# pdf.cell(175, 10, \"Current Ads velocities\", 0, 0, \"C\")\n",
    "pdf.cell(175, 10, \"Current Ads proactiveness across time\", 0, 0, \"C\")\n",
    "##pie charts\n",
    "# pdf.image('Average_ad_velocity.png', x = 30, y = y_axis + 20, w = 0, h = 150)\n",
    "\n",
    "pdf.cell(0, 5, \"\", 0, 1)\n",
    "pdf.image('Ad_proactiveness_across_average_game_duration.png', x = 30, y = y_axis + 20, w = 150, h = 0)\n",
    "\n",
    "\n",
    "# y_axis= y_axis \n",
    "pdf.set_y(y_axis + 40)\n",
    "pdf.set_x(200)\n",
    "pdf.set_font(\"Times\", \"B\", 12)\n",
    "pdf.set_text_color(255, 0, 0)\n",
    "pdf.multi_cell(300, 20, \"{}\".format(recommendated_ads_tightness), 0, 1, \"C\")\n",
    "\n",
    "\n",
    "\n",
    "# pdf.add_page()\n",
    "# 1 set of charts\n",
    "y_axis= y_axis + 180\n",
    "pdf.set_y(y_axis)\n",
    "pdf.cell(0, 5, \"\", 0, 1)\n",
    "pdf.set_font(\"Times\", \"I\", 13)\n",
    "pdf.set_text_color(0, 0, 0)\n",
    "pdf.cell(175, 0, \"Current Ads shown across game\", 0, 0, \"C\")\n",
    "pdf.cell(175, 0, \"Current Ads location across game\", 0, 0, \"C\")\n",
    "pdf.cell(215, 0, \"Current Ads type across game\", 0, 0, \"C\")\n",
    "##pie charts\n",
    "pdf.image('Ad_category_across_average_game_duration.png', x = 30, y = y_axis + 20, w = 150, h = 0)\n",
    "\n",
    "pdf.cell(0, 5, \"\", 0, 1)\n",
    "pdf.image('Ad_location_across_average_game_duration.png', x = 205, y = y_axis + 20, w = 150, h = 0)\n",
    "\n",
    "##table charts\n",
    "pdf.cell(0, 5, \"\", 0, 1)\n",
    "pdf.image('Ad_type_across_average_game_duration.png', x = 400, y = y_axis + 20, w = 150, h = 0)\n",
    "\n",
    "\n",
    "y_axis= y_axis + 180\n",
    "pdf.set_y(y_axis)\n",
    "pdf.set_font(\"Times\", \"B\", 12)\n",
    "pdf.set_text_color(255, 0, 0)\n",
    "pdf.cell(550, 20, \"{}\".format(recommended_ad_consistency), 0, 1, \"C\")\n",
    "\n",
    "\n",
    "# y_axis= 210\n",
    "# pdf.set_y(y_axis)\n",
    "# # 1 set of charts\n",
    "# pdf.cell(0, 5, \"\", 0, 1)\n",
    "# pdf.set_font(\"Times\", \"I\", 13)\n",
    "# pdf.cell(250, 0, \"Interstitial placement breakdown\", 0, 0, \"C\")\n",
    "# pdf.cell(250, 0, \"Rewarded placement breakdown\", 0, 0, \"C\")\n",
    "# ##pie charts\n",
    "# pdf.image('Interstitial_ad_placement_location_proportion.png', x = 40, y = y_axis+20, w = 225, h = 0)\n",
    "\n",
    "# pdf.cell(0, 5, \"\", 0, 1)\n",
    "# pdf.image('Rewarded_ad_placement_location_proportion.png', x = 290, y = y_axis+20, w = 225, h = 0)\n",
    "\n",
    "\n",
    "y_axis= y_axis + 100\n",
    "pdf.set_y(y_axis)\n",
    "# 1 set of charts\n",
    "pdf.cell(0, 5, \"\", 0, 1)\n",
    "pdf.set_text_color(0, 0, 0)\n",
    "pdf.set_font(\"Times\", \"I\", 13)\n",
    "pdf.cell(175, 0, \"Rewarded items breakdown\", 0, 0, \"C\")\n",
    "pdf.cell(175, 0, \"Stacking of Rewards\", 0, 0, \"C\")\n",
    "pdf.cell(175, 0, \"Rewards stacking across game\", 0, 0, \"C\")\n",
    "##pie charts\n",
    "pdf.image('Rewarded_items_proportion.png', x = 20, y = y_axis + 70, w = 150, h = 0)\n",
    "\n",
    "pdf.cell(0, 5, \"\", 0, 1)\n",
    "pdf.image('Rewards_stacked_through_game_play.png', x = 205, y = y_axis + 20, w = 0, h = 150)\n",
    "\n",
    "pdf.cell(0, 5, \"\", 0, 1)\n",
    "pdf.image('Ad_stacked_rewards_across_average_game_duration.png', x = 380, y = y_axis + 70, w = 150, h = 0)\n",
    "\n",
    "\n",
    "y_axis= y_axis + 180\n",
    "pdf.set_y(y_axis)\n",
    "# pdf.set_x(100)\n",
    "pdf.set_font(\"Times\", \"B\", 12)\n",
    "pdf.set_text_color(255, 0, 0)\n",
    "pdf.cell(550, 20, \"{}\".format(recommended_more_rewards), 0, 1, \"C\")\n",
    "pdf.cell(550, 20, \"{}\".format(recommended_stacking_rewards), 0, 1, \"C\")\n",
    "\n",
    "\n",
    "\n",
    "pdf.add_page()\n",
    "y_axis= 40\n",
    "pdf.set_y(y_axis)\n",
    "pdf.cell(0, 5, \"\", 0, 1)\n",
    "pdf.image('metrics_stacked.png', x = 20, y = y_axis + 20, w = 250, h = 0)\n",
    "\n",
    "y_axis= 150\n",
    "pdf.set_y(y_axis)\n",
    "pdf.set_x(300)\n",
    "pdf.set_font(\"Times\", \"B\", 14)\n",
    "pdf.cell(175, 0, \"Overall Metrics and Summary\", 0, 0, \"C\")\n",
    "pdf.cell(0, 10, \"\", 0, 1)\n",
    "pdf.set_text_color(0, 0, 0)\n",
    "y_axis= 200\n",
    "pdf.set_y(y_axis)\n",
    "pdf.set_x(300)\n",
    "pdf.multi_cell(225, 20, \"{}\".format(ad_design_evaluation), 0, 1, \"C\")\n",
    "\n",
    "y_axis= 500\n",
    "pdf.set_y(y_axis)\n",
    "pdf.cell(400, 30, \"Contact your friendly MAS BD/CS Manager right now!\", 0, 0, \"L\")\n",
    "pdf.cell(0, 20, \"\", 0, 1)\n",
    "pdf.cell(400, 30, \"Try out more of our MAS services such as:\", 0, 0, \"L\")\n",
    "pdf.image('bd.png', x = 400, y = y_axis + 10, w = 50, h = 50)\n",
    "pdf.image('cs.png', x = 500, y = y_axis + 10, w = 50, h = 50)\n",
    "\n",
    "pdf.output('ad_design_report_v1.pdf', 'F')"
   ]
  }
 ],
 "metadata": {
  "kernelspec": {
   "display_name": "Python 3",
   "language": "python",
   "name": "python3"
  },
  "language_info": {
   "codemirror_mode": {
    "name": "ipython",
    "version": 3
   },
   "file_extension": ".py",
   "mimetype": "text/x-python",
   "name": "python",
   "nbconvert_exporter": "python",
   "pygments_lexer": "ipython3",
   "version": "3.7.4"
  },
  "toc": {
   "base_numbering": 1,
   "nav_menu": {},
   "number_sections": true,
   "sideBar": true,
   "skip_h1_title": false,
   "title_cell": "Table of Contents",
   "title_sidebar": "Contents",
   "toc_cell": false,
   "toc_position": {
    "height": "calc(100% - 180px)",
    "left": "10px",
    "top": "150px",
    "width": "265.225px"
   },
   "toc_section_display": true,
   "toc_window_display": true
  }
 },
 "nbformat": 4,
 "nbformat_minor": 2
}
