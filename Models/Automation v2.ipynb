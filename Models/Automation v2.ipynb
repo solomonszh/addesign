{
 "cells": [
  {
   "cell_type": "markdown",
   "metadata": {},
   "source": [
    "# Set up"
   ]
  },
  {
   "cell_type": "code",
   "execution_count": 1,
   "metadata": {
    "ExecuteTime": {
     "end_time": "2020-06-21T14:05:09.050499Z",
     "start_time": "2020-06-21T14:05:07.430787Z"
    }
   },
   "outputs": [
    {
     "name": "stderr",
     "output_type": "stream",
     "text": [
      "C:\\Users\\User\\Anaconda3\\lib\\site-packages\\statsmodels\\tools\\_testing.py:19: FutureWarning: pandas.util.testing is deprecated. Use the functions in the public API at pandas.testing instead.\n",
      "  import pandas.util.testing as tm\n"
     ]
    }
   ],
   "source": [
    "import pandas as pd\n",
    "import numpy as np\n",
    "import seaborn as sns\n",
    "import matplotlib.pyplot as plt\n",
    "log_data = pd.read_excel(r'../Session Log.xlsx', skiprows=14)"
   ]
  },
  {
   "cell_type": "code",
   "execution_count": 2,
   "metadata": {
    "ExecuteTime": {
     "end_time": "2020-06-21T14:05:09.059456Z",
     "start_time": "2020-06-21T14:05:09.051461Z"
    }
   },
   "outputs": [],
   "source": [
    "import six\n",
    "\n",
    "def render_mpl_table(data, filesave=None, col_width=3.0, row_height=0.625, font_size=14,\n",
    "                     header_color='#40466e', row_colors=['#f1f1f2', 'w'], edge_color='w',\n",
    "                     bbox=[0, 0, 1, 1], header_columns=0,\n",
    "                     ax=None, **kwargs):\n",
    "    if ax is None:\n",
    "        size = (np.array(data.shape[::-1]) + np.array([0, 1])) * np.array([col_width, row_height])\n",
    "        fig, ax = plt.subplots(figsize=size)\n",
    "        ax.axis('off')\n",
    "\n",
    "    mpl_table = ax.table(cellText=data.values, bbox=bbox, colLabels=data.columns, **kwargs)\n",
    "\n",
    "    mpl_table.auto_set_font_size(False)\n",
    "    mpl_table.set_fontsize(font_size)\n",
    "\n",
    "    for k, cell in six.iteritems(mpl_table._cells):\n",
    "        cell.set_edgecolor(edge_color)\n",
    "        if k[0] == 0 or k[1] < header_columns:\n",
    "            cell.set_text_props(weight='bold', color='w')\n",
    "            cell.set_facecolor(header_color)\n",
    "        else:\n",
    "            cell.set_facecolor(row_colors[k[0]%len(row_colors) ])\n",
    "    ax.figure.savefig(str(filesave), bbox_inches='tight')\n",
    "    return ax"
   ]
  },
  {
   "cell_type": "code",
   "execution_count": 3,
   "metadata": {
    "ExecuteTime": {
     "end_time": "2020-06-21T14:05:09.084393Z",
     "start_time": "2020-06-21T14:05:09.060469Z"
    }
   },
   "outputs": [
    {
     "data": {
      "text/html": [
       "<div>\n",
       "<style scoped>\n",
       "    .dataframe tbody tr th:only-of-type {\n",
       "        vertical-align: middle;\n",
       "    }\n",
       "\n",
       "    .dataframe tbody tr th {\n",
       "        vertical-align: top;\n",
       "    }\n",
       "\n",
       "    .dataframe thead th {\n",
       "        text-align: right;\n",
       "    }\n",
       "</style>\n",
       "<table border=\"1\" class=\"dataframe\">\n",
       "  <thead>\n",
       "    <tr style=\"text-align: right;\">\n",
       "      <th></th>\n",
       "      <th>Analyst ID</th>\n",
       "      <th>Name</th>\n",
       "      <th>Phone</th>\n",
       "      <th>Location</th>\n",
       "      <th>VPN?</th>\n",
       "      <th>Session Number</th>\n",
       "      <th>Date (D/M/Y)</th>\n",
       "      <th>Session Duration</th>\n",
       "      <th>Game</th>\n",
       "      <th>Nudge Time (HH:MM:SS)</th>\n",
       "      <th>...</th>\n",
       "      <th>What was for sale?</th>\n",
       "      <th>Did you Purchase?</th>\n",
       "      <th>IAP Stacked reward</th>\n",
       "      <th>AD Format:</th>\n",
       "      <th>AD type</th>\n",
       "      <th>Watched</th>\n",
       "      <th>If Rewarded? Type?</th>\n",
       "      <th>AD Stacked Rewards (Y/N)</th>\n",
       "      <th>Advertiser</th>\n",
       "      <th>Notes/Comments</th>\n",
       "    </tr>\n",
       "  </thead>\n",
       "  <tbody>\n",
       "    <tr>\n",
       "      <th>0</th>\n",
       "      <td>NaN</td>\n",
       "      <td>Anna Makris</td>\n",
       "      <td>Android</td>\n",
       "      <td>San Diego, CA</td>\n",
       "      <td>no</td>\n",
       "      <td>1</td>\n",
       "      <td>13/6/20</td>\n",
       "      <td>00:10:25</td>\n",
       "      <td>Beat Blade: Dash Dance</td>\n",
       "      <td>00:00:05</td>\n",
       "      <td>...</td>\n",
       "      <td>NaN</td>\n",
       "      <td>NaN</td>\n",
       "      <td>NaN</td>\n",
       "      <td>NaN</td>\n",
       "      <td>NaN</td>\n",
       "      <td>NaN</td>\n",
       "      <td>NaN</td>\n",
       "      <td>NaN</td>\n",
       "      <td>NaN</td>\n",
       "      <td>NaN</td>\n",
       "    </tr>\n",
       "    <tr>\n",
       "      <th>1</th>\n",
       "      <td>NaN</td>\n",
       "      <td>Anna Makris</td>\n",
       "      <td>Android</td>\n",
       "      <td>San Diego, CA</td>\n",
       "      <td>no</td>\n",
       "      <td>1</td>\n",
       "      <td>13/6/20</td>\n",
       "      <td>00:10:25</td>\n",
       "      <td>Beat Blade: Dash Dance</td>\n",
       "      <td>00:00:10</td>\n",
       "      <td>...</td>\n",
       "      <td>NaN</td>\n",
       "      <td>NaN</td>\n",
       "      <td>NaN</td>\n",
       "      <td>NaN</td>\n",
       "      <td>NaN</td>\n",
       "      <td>NaN</td>\n",
       "      <td>NaN</td>\n",
       "      <td>NaN</td>\n",
       "      <td>NaN</td>\n",
       "      <td>NaN</td>\n",
       "    </tr>\n",
       "    <tr>\n",
       "      <th>2</th>\n",
       "      <td>NaN</td>\n",
       "      <td>Anna Makris</td>\n",
       "      <td>Android</td>\n",
       "      <td>San Diego, CA</td>\n",
       "      <td>no</td>\n",
       "      <td>1</td>\n",
       "      <td>13/6/20</td>\n",
       "      <td>00:10:25</td>\n",
       "      <td>Beat Blade: Dash Dance</td>\n",
       "      <td>00:00:15</td>\n",
       "      <td>...</td>\n",
       "      <td>NaN</td>\n",
       "      <td>NaN</td>\n",
       "      <td>NaN</td>\n",
       "      <td>NaN</td>\n",
       "      <td>NaN</td>\n",
       "      <td>NaN</td>\n",
       "      <td>NaN</td>\n",
       "      <td>NaN</td>\n",
       "      <td>NaN</td>\n",
       "      <td>NaN</td>\n",
       "    </tr>\n",
       "    <tr>\n",
       "      <th>3</th>\n",
       "      <td>NaN</td>\n",
       "      <td>Anna Makris</td>\n",
       "      <td>Android</td>\n",
       "      <td>San Diego, CA</td>\n",
       "      <td>no</td>\n",
       "      <td>1</td>\n",
       "      <td>13/6/20</td>\n",
       "      <td>00:10:25</td>\n",
       "      <td>Beat Blade: Dash Dance</td>\n",
       "      <td>00:00:30</td>\n",
       "      <td>...</td>\n",
       "      <td>NaN</td>\n",
       "      <td>NaN</td>\n",
       "      <td>NaN</td>\n",
       "      <td>NaN</td>\n",
       "      <td>NaN</td>\n",
       "      <td>NaN</td>\n",
       "      <td>NaN</td>\n",
       "      <td>NaN</td>\n",
       "      <td>NaN</td>\n",
       "      <td>NaN</td>\n",
       "    </tr>\n",
       "    <tr>\n",
       "      <th>4</th>\n",
       "      <td>NaN</td>\n",
       "      <td>Anna Makris</td>\n",
       "      <td>Android</td>\n",
       "      <td>San Diego, CA</td>\n",
       "      <td>no</td>\n",
       "      <td>1</td>\n",
       "      <td>13/6/20</td>\n",
       "      <td>00:10:25</td>\n",
       "      <td>Beat Blade: Dash Dance</td>\n",
       "      <td>00:01:00.240000</td>\n",
       "      <td>...</td>\n",
       "      <td>NaN</td>\n",
       "      <td>NaN</td>\n",
       "      <td>NaN</td>\n",
       "      <td>NaN</td>\n",
       "      <td>NaN</td>\n",
       "      <td>NaN</td>\n",
       "      <td>NaN</td>\n",
       "      <td>NaN</td>\n",
       "      <td>NaN</td>\n",
       "      <td>NaN</td>\n",
       "    </tr>\n",
       "  </tbody>\n",
       "</table>\n",
       "<p>5 rows × 28 columns</p>\n",
       "</div>"
      ],
      "text/plain": [
       "   Analyst ID         Name    Phone       Location VPN?  Session Number  \\\n",
       "0         NaN  Anna Makris  Android  San Diego, CA   no               1   \n",
       "1         NaN  Anna Makris  Android  San Diego, CA   no               1   \n",
       "2         NaN  Anna Makris  Android  San Diego, CA   no               1   \n",
       "3         NaN  Anna Makris  Android  San Diego, CA   no               1   \n",
       "4         NaN  Anna Makris  Android  San Diego, CA   no               1   \n",
       "\n",
       "  Date (D/M/Y) Session Duration                    Game Nudge Time (HH:MM:SS)  \\\n",
       "0      13/6/20         00:10:25  Beat Blade: Dash Dance              00:00:05   \n",
       "1      13/6/20         00:10:25  Beat Blade: Dash Dance              00:00:10   \n",
       "2      13/6/20         00:10:25  Beat Blade: Dash Dance              00:00:15   \n",
       "3      13/6/20         00:10:25  Beat Blade: Dash Dance              00:00:30   \n",
       "4      13/6/20         00:10:25  Beat Blade: Dash Dance       00:01:00.240000   \n",
       "\n",
       "   ... What was for sale? Did you Purchase? IAP Stacked reward AD Format:  \\\n",
       "0  ...                NaN               NaN                NaN        NaN   \n",
       "1  ...                NaN               NaN                NaN        NaN   \n",
       "2  ...                NaN               NaN                NaN        NaN   \n",
       "3  ...                NaN               NaN                NaN        NaN   \n",
       "4  ...                NaN               NaN                NaN        NaN   \n",
       "\n",
       "  AD type Watched  If Rewarded? Type? AD Stacked Rewards (Y/N) Advertiser  \\\n",
       "0     NaN      NaN                NaN                      NaN        NaN   \n",
       "1     NaN      NaN                NaN                      NaN        NaN   \n",
       "2     NaN      NaN                NaN                      NaN        NaN   \n",
       "3     NaN      NaN                NaN                      NaN        NaN   \n",
       "4     NaN      NaN                NaN                      NaN        NaN   \n",
       "\n",
       "  Notes/Comments  \n",
       "0            NaN  \n",
       "1            NaN  \n",
       "2            NaN  \n",
       "3            NaN  \n",
       "4            NaN  \n",
       "\n",
       "[5 rows x 28 columns]"
      ]
     },
     "execution_count": 3,
     "metadata": {},
     "output_type": "execute_result"
    }
   ],
   "source": [
    "log_data = log_data[log_data.columns.drop(list(log_data.filter(regex='Unnamed')))]\n",
    "log_data.head()"
   ]
  },
  {
   "cell_type": "code",
   "execution_count": 4,
   "metadata": {
    "ExecuteTime": {
     "end_time": "2020-06-21T14:05:09.089380Z",
     "start_time": "2020-06-21T14:05:09.085359Z"
    }
   },
   "outputs": [
    {
     "data": {
      "text/plain": [
       "'Beat Blade: Dash Dance'"
      ]
     },
     "execution_count": 4,
     "metadata": {},
     "output_type": "execute_result"
    }
   ],
   "source": [
    "game = str(log_data['Game'][0])\n",
    "game"
   ]
  },
  {
   "cell_type": "code",
   "execution_count": 5,
   "metadata": {
    "ExecuteTime": {
     "end_time": "2020-06-21T14:05:09.096333Z",
     "start_time": "2020-06-21T14:05:09.090348Z"
    }
   },
   "outputs": [
    {
     "data": {
      "text/plain": [
       "'Beat Blade  Dash Dance'"
      ]
     },
     "execution_count": 5,
     "metadata": {},
     "output_type": "execute_result"
    }
   ],
   "source": [
    "import re\n",
    "d = \",.!?/&-:;@'...\"\n",
    "game = ' '.join(w for w in re.split(\"[\"+\"\\\\\".join(d)+\"]\", game) if w)\n",
    "game"
   ]
  },
  {
   "cell_type": "markdown",
   "metadata": {},
   "source": [
    "# Internal SME"
   ]
  },
  {
   "cell_type": "code",
   "execution_count": 6,
   "metadata": {
    "ExecuteTime": {
     "end_time": "2020-06-21T14:05:09.106303Z",
     "start_time": "2020-06-21T14:05:09.097328Z"
    }
   },
   "outputs": [],
   "source": [
    "from datetime import datetime, timedelta\n",
    "\n",
    "\n",
    "###Split the ad design score into rewarded, interstitial, banner score! --> If I only care about some \n",
    "###The green one may not be needed \n",
    "###Organize\n",
    "###Split ad type\n",
    "###Ad display he wont know\n",
    "\n",
    "\n",
    "\n",
    "#explore renaming\n",
    "sme_ad_occurence_ad = 20 #by a specific timeframe/per mins\n",
    "sme_banner_occurence_ad = 7\n",
    "sme_interstitial_occurence_ad = 7\n",
    "sme_rewarded_occurence_ad = 7\n",
    "sme_ad_velocity_ad = 30\n",
    "sme_banner_velocity_ad = 30\n",
    "sme_interstitial_velocity_ad = 30\n",
    "sme_rewarded_velocity_ad = 30\n",
    "sme_ad_proactiveness_ad = 0.5\n",
    "sme_banner_proactiveness_ad = 0.5\n",
    "sme_interstitial_proactiveness_ad = 0.5\n",
    "sme_rewarded_proactiveness_ad = 0.5\n",
    "sme_ad_variety_score_ad = 1\n",
    "sme_ad_placement_variety_score_ad = 1\n",
    "sme_time_to_first_ad_ad = 30\n",
    "sme_time_to_first_banner_ad = 15\n",
    "sme_time_to_first_interstitial_ad = 30\n",
    "sme_time_to_first_rewarded_ad = 15\n",
    "sme_rv_rewards_stacked_ad = 0.5\n",
    "#Ad penetration (DAV(Daily Active Viewers)/DAU(Daily Active Users))\n",
    "\n",
    "sme_ad_occurence_iap = 20\n",
    "sme_banner_occurence_iap = 7\n",
    "sme_interstitial_occurence_iap = 7\n",
    "sme_rewarded_occurence_iap = 7\n",
    "sme_ad_velocity_iap = 30\n",
    "sme_banner_velocity_iap = 30\n",
    "sme_interstitial_velocity_iap = 30\n",
    "sme_rewarded_velocity_iap = 30\n",
    "sme_ad_proactiveness_iap = 0.5\n",
    "sme_banner_proactiveness_iap = 0.5\n",
    "sme_interstitial_proactiveness_iap = 0.5\n",
    "sme_rewarded_proactiveness_iap = 0.5\n",
    "sme_ad_variety_score_iap = 1\n",
    "sme_ad_placement_variety_score_iap = 1\n",
    "sme_time_to_first_ad_iap = 30\n",
    "sme_time_to_first_banner_iap = 15\n",
    "sme_time_to_first_interstitial_iap = 30\n",
    "sme_time_to_first_rewarded_iap = 15\n",
    "sme_rv_rewards_stacked_iap = 0.5"
   ]
  },
  {
   "cell_type": "markdown",
   "metadata": {},
   "source": [
    "# Macro Metrics"
   ]
  },
  {
   "cell_type": "code",
   "execution_count": 7,
   "metadata": {
    "ExecuteTime": {
     "end_time": "2020-06-21T14:05:09.113285Z",
     "start_time": "2020-06-21T14:05:09.108298Z"
    }
   },
   "outputs": [
    {
     "data": {
      "text/plain": [
       "Index(['Analyst ID', 'Name', 'Phone', 'Location', 'VPN?', 'Session Number',\n",
       "       'Date (D/M/Y)', 'Session Duration', 'Game', 'Nudge Time (HH:MM:SS)',\n",
       "       'Start Type', 'Location in game', 'Game Push', 'Gift', 'What is Gifted',\n",
       "       'Gift Stacked reward', 'IAP Type', 'IAP Purchased With?',\n",
       "       'What was for sale?', 'Did you Purchase?', 'IAP Stacked reward',\n",
       "       'AD Format:', 'AD type', 'Watched ', 'If Rewarded? Type?',\n",
       "       'AD Stacked Rewards (Y/N)', 'Advertiser', 'Notes/Comments'],\n",
       "      dtype='object')"
      ]
     },
     "execution_count": 7,
     "metadata": {},
     "output_type": "execute_result"
    }
   ],
   "source": [
    "log_data.columns"
   ]
  },
  {
   "cell_type": "code",
   "execution_count": 8,
   "metadata": {
    "ExecuteTime": {
     "end_time": "2020-06-21T14:05:09.119273Z",
     "start_time": "2020-06-21T14:05:09.115279Z"
    }
   },
   "outputs": [
    {
     "data": {
      "text/plain": [
       "0.3333333333333333"
      ]
     },
     "execution_count": 8,
     "metadata": {},
     "output_type": "execute_result"
    }
   ],
   "source": [
    "ad_cols = ['Banner', 'Interstitial', 'Rewarded']\n",
    "\n",
    "ad_variety_score = log_data['AD Format:'].nunique()/len(ad_cols)\n",
    "ad_variety_score"
   ]
  },
  {
   "cell_type": "code",
   "execution_count": 9,
   "metadata": {
    "ExecuteTime": {
     "end_time": "2020-06-21T14:05:09.128245Z",
     "start_time": "2020-06-21T14:05:09.120267Z"
    }
   },
   "outputs": [
    {
     "data": {
      "text/plain": [
       "0.5"
      ]
     },
     "execution_count": 9,
     "metadata": {},
     "output_type": "execute_result"
    }
   ],
   "source": [
    "game_location_cols = ['AD', 'App Start', 'Death/Mission', 'Game Pause', 'Game Play', 'Game Store', 'Level End', 'Load Screen',\n",
    "                     'Menu', 'Other']\n",
    "\n",
    "ad_placement_variety_score = log_data[log_data['AD Format:'].notnull()]['Location in game'].nunique()/len(game_location_cols)\n",
    "ad_placement_variety_score"
   ]
  },
  {
   "cell_type": "code",
   "execution_count": 10,
   "metadata": {
    "ExecuteTime": {
     "end_time": "2020-06-21T14:05:09.135226Z",
     "start_time": "2020-06-21T14:05:09.129242Z"
    }
   },
   "outputs": [
    {
     "data": {
      "text/plain": [
       "'IAP Focused'"
      ]
     },
     "execution_count": 10,
     "metadata": {},
     "output_type": "execute_result"
    }
   ],
   "source": [
    "if log_data['AD Format:'].count()/log_data['Start Type'].count() > 0.5:\n",
    "    monetization_strategy = 'AD Focused'\n",
    "else:\n",
    "    monetization_strategy = 'IAP Focused'\n",
    "monetization_strategy"
   ]
  },
  {
   "cell_type": "markdown",
   "metadata": {},
   "source": [
    "# Time to first "
   ]
  },
  {
   "cell_type": "markdown",
   "metadata": {},
   "source": [
    "## Time to first ad "
   ]
  },
  {
   "cell_type": "code",
   "execution_count": 11,
   "metadata": {
    "ExecuteTime": {
     "end_time": "2020-06-21T14:05:09.141211Z",
     "start_time": "2020-06-21T14:05:09.136223Z"
    }
   },
   "outputs": [
    {
     "name": "stdout",
     "output_type": "stream",
     "text": [
      "00:01:50\n"
     ]
    }
   ],
   "source": [
    "if log_data['AD Format:'].notnull().sum():\n",
    "    first_ad_index = log_data['AD Format:'].first_valid_index()\n",
    "    time_to_first_ad = log_data['Nudge Time (HH:MM:SS)'][first_ad_index ]\n",
    "    print(time_to_first_ad)"
   ]
  },
  {
   "cell_type": "markdown",
   "metadata": {},
   "source": [
    "## Time to first Banner"
   ]
  },
  {
   "cell_type": "code",
   "execution_count": 12,
   "metadata": {
    "ExecuteTime": {
     "end_time": "2020-06-21T14:05:09.148191Z",
     "start_time": "2020-06-21T14:05:09.142207Z"
    }
   },
   "outputs": [
    {
     "data": {
      "text/plain": [
       "nan"
      ]
     },
     "execution_count": 12,
     "metadata": {},
     "output_type": "execute_result"
    }
   ],
   "source": [
    "if 'Banner' in log_data['AD Format:'].values: \n",
    "    first_banner = log_data[log_data['AD Format:'] == 'banner'].index[0]\n",
    "    time_to_first_banner = log_data['Nudge Time (HH:MM:SS)'][first_banner]\n",
    "    print(time_to_first_banner)\n",
    "else:\n",
    "    time_to_first_banner = np.nan\n",
    "time_to_first_banner"
   ]
  },
  {
   "cell_type": "markdown",
   "metadata": {},
   "source": [
    "## Time to first Interstitial "
   ]
  },
  {
   "cell_type": "code",
   "execution_count": 13,
   "metadata": {
    "ExecuteTime": {
     "end_time": "2020-06-21T14:05:09.153178Z",
     "start_time": "2020-06-21T14:05:09.149189Z"
    }
   },
   "outputs": [],
   "source": [
    "if 'Interstitial' in log_data['AD Format:'].values: \n",
    "    first_interstitial = log_data[log_data['AD Format:'] == 'Interstitial'].index[0]\n",
    "    time_to_first_interstitial = log_data['Nudge Time (HH:MM:SS)'][first_interstitial]\n",
    "else:\n",
    "    time_to_first_interstitial = np.nan"
   ]
  },
  {
   "cell_type": "markdown",
   "metadata": {},
   "source": [
    "## Time to first Rewarded"
   ]
  },
  {
   "cell_type": "code",
   "execution_count": 14,
   "metadata": {
    "ExecuteTime": {
     "end_time": "2020-06-21T14:05:09.160160Z",
     "start_time": "2020-06-21T14:05:09.154175Z"
    }
   },
   "outputs": [
    {
     "name": "stdout",
     "output_type": "stream",
     "text": [
      "00:01:50\n"
     ]
    }
   ],
   "source": [
    "if 'Rewarded' in log_data['AD Format:'].values: \n",
    "    first_rewarded = log_data[log_data['AD Format:'] == 'Rewarded'].index[0]\n",
    "    time_to_first_rewarded = log_data['Nudge Time (HH:MM:SS)'][first_rewarded]\n",
    "    print(time_to_first_rewarded)\n",
    "else:\n",
    "    time_to_first_rewarded = np.nan"
   ]
  },
  {
   "cell_type": "markdown",
   "metadata": {},
   "source": [
    "# Nudge Stats "
   ]
  },
  {
   "cell_type": "code",
   "execution_count": 15,
   "metadata": {
    "ExecuteTime": {
     "end_time": "2020-06-21T14:05:09.177114Z",
     "start_time": "2020-06-21T14:05:09.161157Z"
    }
   },
   "outputs": [
    {
     "data": {
      "text/html": [
       "<div>\n",
       "<style scoped>\n",
       "    .dataframe tbody tr th:only-of-type {\n",
       "        vertical-align: middle;\n",
       "    }\n",
       "\n",
       "    .dataframe tbody tr th {\n",
       "        vertical-align: top;\n",
       "    }\n",
       "\n",
       "    .dataframe thead th {\n",
       "        text-align: right;\n",
       "    }\n",
       "</style>\n",
       "<table border=\"1\" class=\"dataframe\">\n",
       "  <thead>\n",
       "    <tr style=\"text-align: right;\">\n",
       "      <th></th>\n",
       "      <th>Session Number</th>\n",
       "      <th>Start Type</th>\n",
       "      <th>AD Format:</th>\n",
       "    </tr>\n",
       "  </thead>\n",
       "  <tbody>\n",
       "    <tr>\n",
       "      <th>0</th>\n",
       "      <td>1</td>\n",
       "      <td>76</td>\n",
       "      <td>23</td>\n",
       "    </tr>\n",
       "    <tr>\n",
       "      <th>1</th>\n",
       "      <td>2</td>\n",
       "      <td>85</td>\n",
       "      <td>25</td>\n",
       "    </tr>\n",
       "    <tr>\n",
       "      <th>2</th>\n",
       "      <td>3</td>\n",
       "      <td>109</td>\n",
       "      <td>31</td>\n",
       "    </tr>\n",
       "    <tr>\n",
       "      <th>3</th>\n",
       "      <td>4</td>\n",
       "      <td>101</td>\n",
       "      <td>30</td>\n",
       "    </tr>\n",
       "    <tr>\n",
       "      <th>4</th>\n",
       "      <td>5</td>\n",
       "      <td>113</td>\n",
       "      <td>31</td>\n",
       "    </tr>\n",
       "    <tr>\n",
       "      <th>5</th>\n",
       "      <td>6</td>\n",
       "      <td>115</td>\n",
       "      <td>32</td>\n",
       "    </tr>\n",
       "  </tbody>\n",
       "</table>\n",
       "</div>"
      ],
      "text/plain": [
       "   Session Number  Start Type  AD Format:\n",
       "0               1          76          23\n",
       "1               2          85          25\n",
       "2               3         109          31\n",
       "3               4         101          30\n",
       "4               5         113          31\n",
       "5               6         115          32"
      ]
     },
     "execution_count": 15,
     "metadata": {},
     "output_type": "execute_result"
    }
   ],
   "source": [
    "nudge_stats = log_data.pivot_table(index='Session Number', aggfunc='count').reset_index()\n",
    "nudge_stats = nudge_stats[['Session Number', 'Start Type', 'AD Format:']]\n",
    "nudge_stats"
   ]
  },
  {
   "cell_type": "code",
   "execution_count": 16,
   "metadata": {
    "ExecuteTime": {
     "end_time": "2020-06-21T14:05:09.184096Z",
     "start_time": "2020-06-21T14:05:09.178112Z"
    }
   },
   "outputs": [],
   "source": [
    "log_data['Session Duration'] = pd.to_timedelta(log_data['Session Duration'].astype(str)).dt.total_seconds()"
   ]
  },
  {
   "cell_type": "code",
   "execution_count": 17,
   "metadata": {
    "ExecuteTime": {
     "end_time": "2020-06-21T14:05:09.237951Z",
     "start_time": "2020-06-21T14:05:09.185093Z"
    }
   },
   "outputs": [
    {
     "data": {
      "text/html": [
       "<div>\n",
       "<style scoped>\n",
       "    .dataframe tbody tr th:only-of-type {\n",
       "        vertical-align: middle;\n",
       "    }\n",
       "\n",
       "    .dataframe tbody tr th {\n",
       "        vertical-align: top;\n",
       "    }\n",
       "\n",
       "    .dataframe thead th {\n",
       "        text-align: right;\n",
       "    }\n",
       "</style>\n",
       "<table border=\"1\" class=\"dataframe\">\n",
       "  <thead>\n",
       "    <tr style=\"text-align: right;\">\n",
       "      <th></th>\n",
       "      <th>Session Number</th>\n",
       "      <th>Start Type</th>\n",
       "      <th>AD Format:</th>\n",
       "      <th>Rewarded</th>\n",
       "      <th>Playable</th>\n",
       "      <th>Video</th>\n",
       "      <th>Session Duration</th>\n",
       "      <th>Game Initiated</th>\n",
       "      <th>Location Marker</th>\n",
       "      <th>Player Initiated</th>\n",
       "      <th>Rewarded_Game Initiated</th>\n",
       "      <th>Rewarded_Player Initiated</th>\n",
       "      <th>Rewarded_Location Marker</th>\n",
       "    </tr>\n",
       "  </thead>\n",
       "  <tbody>\n",
       "    <tr>\n",
       "      <th>0</th>\n",
       "      <td>1</td>\n",
       "      <td>76</td>\n",
       "      <td>23</td>\n",
       "      <td>23</td>\n",
       "      <td>NaN</td>\n",
       "      <td>6.0</td>\n",
       "      <td>00:10:25</td>\n",
       "      <td>2.0</td>\n",
       "      <td>0.0</td>\n",
       "      <td>21.0</td>\n",
       "      <td>2.0</td>\n",
       "      <td>21.0</td>\n",
       "      <td>NaN</td>\n",
       "    </tr>\n",
       "    <tr>\n",
       "      <th>1</th>\n",
       "      <td>2</td>\n",
       "      <td>85</td>\n",
       "      <td>25</td>\n",
       "      <td>25</td>\n",
       "      <td>NaN</td>\n",
       "      <td>9.0</td>\n",
       "      <td>00:10:05</td>\n",
       "      <td>0.0</td>\n",
       "      <td>1.0</td>\n",
       "      <td>24.0</td>\n",
       "      <td>NaN</td>\n",
       "      <td>24.0</td>\n",
       "      <td>1.0</td>\n",
       "    </tr>\n",
       "    <tr>\n",
       "      <th>2</th>\n",
       "      <td>3</td>\n",
       "      <td>109</td>\n",
       "      <td>31</td>\n",
       "      <td>31</td>\n",
       "      <td>1.0</td>\n",
       "      <td>5.0</td>\n",
       "      <td>00:10:50</td>\n",
       "      <td>0.0</td>\n",
       "      <td>0.0</td>\n",
       "      <td>31.0</td>\n",
       "      <td>NaN</td>\n",
       "      <td>31.0</td>\n",
       "      <td>NaN</td>\n",
       "    </tr>\n",
       "    <tr>\n",
       "      <th>3</th>\n",
       "      <td>4</td>\n",
       "      <td>101</td>\n",
       "      <td>30</td>\n",
       "      <td>30</td>\n",
       "      <td>1.0</td>\n",
       "      <td>5.0</td>\n",
       "      <td>00:11:21.188118</td>\n",
       "      <td>0.0</td>\n",
       "      <td>0.0</td>\n",
       "      <td>30.0</td>\n",
       "      <td>NaN</td>\n",
       "      <td>30.0</td>\n",
       "      <td>NaN</td>\n",
       "    </tr>\n",
       "    <tr>\n",
       "      <th>4</th>\n",
       "      <td>5</td>\n",
       "      <td>113</td>\n",
       "      <td>31</td>\n",
       "      <td>31</td>\n",
       "      <td>NaN</td>\n",
       "      <td>7.0</td>\n",
       "      <td>00:11:44</td>\n",
       "      <td>0.0</td>\n",
       "      <td>1.0</td>\n",
       "      <td>30.0</td>\n",
       "      <td>NaN</td>\n",
       "      <td>30.0</td>\n",
       "      <td>1.0</td>\n",
       "    </tr>\n",
       "    <tr>\n",
       "      <th>5</th>\n",
       "      <td>6</td>\n",
       "      <td>115</td>\n",
       "      <td>32</td>\n",
       "      <td>32</td>\n",
       "      <td>1.0</td>\n",
       "      <td>3.0</td>\n",
       "      <td>00:10:04</td>\n",
       "      <td>0.0</td>\n",
       "      <td>0.0</td>\n",
       "      <td>32.0</td>\n",
       "      <td>NaN</td>\n",
       "      <td>32.0</td>\n",
       "      <td>NaN</td>\n",
       "    </tr>\n",
       "  </tbody>\n",
       "</table>\n",
       "</div>"
      ],
      "text/plain": [
       "   Session Number  Start Type  AD Format:  Rewarded  Playable  Video  \\\n",
       "0               1          76          23        23       NaN    6.0   \n",
       "1               2          85          25        25       NaN    9.0   \n",
       "2               3         109          31        31       1.0    5.0   \n",
       "3               4         101          30        30       1.0    5.0   \n",
       "4               5         113          31        31       NaN    7.0   \n",
       "5               6         115          32        32       1.0    3.0   \n",
       "\n",
       "  Session Duration  Game Initiated  Location Marker  Player Initiated  \\\n",
       "0         00:10:25             2.0              0.0              21.0   \n",
       "1         00:10:05             0.0              1.0              24.0   \n",
       "2         00:10:50             0.0              0.0              31.0   \n",
       "3  00:11:21.188118             0.0              0.0              30.0   \n",
       "4         00:11:44             0.0              1.0              30.0   \n",
       "5         00:10:04             0.0              0.0              32.0   \n",
       "\n",
       "   Rewarded_Game Initiated  Rewarded_Player Initiated  \\\n",
       "0                      2.0                       21.0   \n",
       "1                      NaN                       24.0   \n",
       "2                      NaN                       31.0   \n",
       "3                      NaN                       30.0   \n",
       "4                      NaN                       30.0   \n",
       "5                      NaN                       32.0   \n",
       "\n",
       "   Rewarded_Location Marker  \n",
       "0                       NaN  \n",
       "1                       1.0  \n",
       "2                       NaN  \n",
       "3                       NaN  \n",
       "4                       1.0  \n",
       "5                       NaN  "
      ]
     },
     "execution_count": 17,
     "metadata": {},
     "output_type": "execute_result"
    }
   ],
   "source": [
    "nudge_stats_minor1 = log_data.pivot_table(index='Session Number', columns='AD Format:', aggfunc='size').reset_index()\n",
    "nudge_stats_minor1.columns = tuple(nudge_stats_minor1.columns)\n",
    "\n",
    "nudge_stats_minor2 = log_data.pivot_table(index='Session Number', columns='AD type', aggfunc='size').reset_index()\n",
    "nudge_stats_minor2.columns = tuple(nudge_stats_minor2.columns)\n",
    "\n",
    "nudge_stats_minor3 = log_data.pivot_table(index='Session Number', aggfunc='mean')\n",
    "nudge_stats_minor3 = nudge_stats_minor3[['Session Duration']].reset_index()\n",
    "nudge_stats_minor3['Session Duration'] = pd.to_timedelta(nudge_stats_minor3['Session Duration'], unit='s')\n",
    "\n",
    "nudge_stats_minor4 = log_data.groupby(['Session Number', 'AD Format:', 'Start Type']).size().unstack('Start Type').reset_index().groupby('Session Number').sum().reset_index()\n",
    "nudge_stats_minor4.columns = tuple(nudge_stats_minor4.columns)\n",
    "\n",
    "nudge_stats_minor5 = log_data.groupby(['Session Number', 'AD Format:', 'Start Type']).size().unstack(['AD Format:', 'Start Type']).reset_index()\n",
    "nudge_stats_minor5.columns = nudge_stats_minor5.columns.map('_'.join).str.strip('')\n",
    "nudge_stats_minor5 = nudge_stats_minor5.rename(columns={'Session Number_':'Session Number'})\n",
    "\n",
    "nudge_stats = pd.merge(nudge_stats, nudge_stats_minor1)\n",
    "nudge_stats = pd.merge(nudge_stats, nudge_stats_minor2)\n",
    "nudge_stats = pd.merge(nudge_stats, nudge_stats_minor3)\n",
    "nudge_stats = pd.merge(nudge_stats, nudge_stats_minor4)\n",
    "nudge_stats = pd.merge(nudge_stats, nudge_stats_minor5)\n",
    "nudge_stats"
   ]
  },
  {
   "cell_type": "markdown",
   "metadata": {},
   "source": [
    "## Transformations "
   ]
  },
  {
   "cell_type": "code",
   "execution_count": 18,
   "metadata": {
    "ExecuteTime": {
     "end_time": "2020-06-21T14:05:09.251914Z",
     "start_time": "2020-06-21T14:05:09.238949Z"
    }
   },
   "outputs": [
    {
     "data": {
      "text/html": [
       "<div>\n",
       "<style scoped>\n",
       "    .dataframe tbody tr th:only-of-type {\n",
       "        vertical-align: middle;\n",
       "    }\n",
       "\n",
       "    .dataframe tbody tr th {\n",
       "        vertical-align: top;\n",
       "    }\n",
       "\n",
       "    .dataframe thead th {\n",
       "        text-align: right;\n",
       "    }\n",
       "</style>\n",
       "<table border=\"1\" class=\"dataframe\">\n",
       "  <thead>\n",
       "    <tr style=\"text-align: right;\">\n",
       "      <th></th>\n",
       "      <th>Session Number</th>\n",
       "      <th>Start Type</th>\n",
       "      <th>AD Format:</th>\n",
       "      <th>Rewarded</th>\n",
       "      <th>Playable</th>\n",
       "      <th>Video</th>\n",
       "      <th>Session Duration</th>\n",
       "      <th>Game Initiated</th>\n",
       "      <th>Location Marker</th>\n",
       "      <th>Player Initiated</th>\n",
       "      <th>Rewarded_Game Initiated</th>\n",
       "      <th>Rewarded_Player Initiated</th>\n",
       "      <th>Rewarded_Location Marker</th>\n",
       "    </tr>\n",
       "  </thead>\n",
       "  <tbody>\n",
       "    <tr>\n",
       "      <th>0</th>\n",
       "      <td>1</td>\n",
       "      <td>76</td>\n",
       "      <td>23</td>\n",
       "      <td>23</td>\n",
       "      <td>NaN</td>\n",
       "      <td>6.0</td>\n",
       "      <td>00:10:25</td>\n",
       "      <td>2.0</td>\n",
       "      <td>0.0</td>\n",
       "      <td>21.0</td>\n",
       "      <td>2.0</td>\n",
       "      <td>21.0</td>\n",
       "      <td>NaN</td>\n",
       "    </tr>\n",
       "    <tr>\n",
       "      <th>1</th>\n",
       "      <td>2</td>\n",
       "      <td>85</td>\n",
       "      <td>25</td>\n",
       "      <td>25</td>\n",
       "      <td>NaN</td>\n",
       "      <td>9.0</td>\n",
       "      <td>00:10:05</td>\n",
       "      <td>0.0</td>\n",
       "      <td>1.0</td>\n",
       "      <td>24.0</td>\n",
       "      <td>NaN</td>\n",
       "      <td>24.0</td>\n",
       "      <td>1.0</td>\n",
       "    </tr>\n",
       "    <tr>\n",
       "      <th>2</th>\n",
       "      <td>3</td>\n",
       "      <td>109</td>\n",
       "      <td>31</td>\n",
       "      <td>31</td>\n",
       "      <td>1.0</td>\n",
       "      <td>5.0</td>\n",
       "      <td>00:10:50</td>\n",
       "      <td>0.0</td>\n",
       "      <td>0.0</td>\n",
       "      <td>31.0</td>\n",
       "      <td>NaN</td>\n",
       "      <td>31.0</td>\n",
       "      <td>NaN</td>\n",
       "    </tr>\n",
       "    <tr>\n",
       "      <th>3</th>\n",
       "      <td>4</td>\n",
       "      <td>101</td>\n",
       "      <td>30</td>\n",
       "      <td>30</td>\n",
       "      <td>1.0</td>\n",
       "      <td>5.0</td>\n",
       "      <td>00:11:21.188118</td>\n",
       "      <td>0.0</td>\n",
       "      <td>0.0</td>\n",
       "      <td>30.0</td>\n",
       "      <td>NaN</td>\n",
       "      <td>30.0</td>\n",
       "      <td>NaN</td>\n",
       "    </tr>\n",
       "    <tr>\n",
       "      <th>4</th>\n",
       "      <td>5</td>\n",
       "      <td>113</td>\n",
       "      <td>31</td>\n",
       "      <td>31</td>\n",
       "      <td>NaN</td>\n",
       "      <td>7.0</td>\n",
       "      <td>00:11:44</td>\n",
       "      <td>0.0</td>\n",
       "      <td>1.0</td>\n",
       "      <td>30.0</td>\n",
       "      <td>NaN</td>\n",
       "      <td>30.0</td>\n",
       "      <td>1.0</td>\n",
       "    </tr>\n",
       "    <tr>\n",
       "      <th>5</th>\n",
       "      <td>6</td>\n",
       "      <td>115</td>\n",
       "      <td>32</td>\n",
       "      <td>32</td>\n",
       "      <td>1.0</td>\n",
       "      <td>3.0</td>\n",
       "      <td>00:10:04</td>\n",
       "      <td>0.0</td>\n",
       "      <td>0.0</td>\n",
       "      <td>32.0</td>\n",
       "      <td>NaN</td>\n",
       "      <td>32.0</td>\n",
       "      <td>NaN</td>\n",
       "    </tr>\n",
       "  </tbody>\n",
       "</table>\n",
       "</div>"
      ],
      "text/plain": [
       "   Session Number  Start Type  AD Format:  Rewarded  Playable  Video  \\\n",
       "0               1          76          23        23       NaN    6.0   \n",
       "1               2          85          25        25       NaN    9.0   \n",
       "2               3         109          31        31       1.0    5.0   \n",
       "3               4         101          30        30       1.0    5.0   \n",
       "4               5         113          31        31       NaN    7.0   \n",
       "5               6         115          32        32       1.0    3.0   \n",
       "\n",
       "  Session Duration  Game Initiated  Location Marker  Player Initiated  \\\n",
       "0         00:10:25             2.0              0.0              21.0   \n",
       "1         00:10:05             0.0              1.0              24.0   \n",
       "2         00:10:50             0.0              0.0              31.0   \n",
       "3  00:11:21.188118             0.0              0.0              30.0   \n",
       "4         00:11:44             0.0              1.0              30.0   \n",
       "5         00:10:04             0.0              0.0              32.0   \n",
       "\n",
       "   Rewarded_Game Initiated  Rewarded_Player Initiated  \\\n",
       "0                      2.0                       21.0   \n",
       "1                      NaN                       24.0   \n",
       "2                      NaN                       31.0   \n",
       "3                      NaN                       30.0   \n",
       "4                      NaN                       30.0   \n",
       "5                      NaN                       32.0   \n",
       "\n",
       "   Rewarded_Location Marker  \n",
       "0                       NaN  \n",
       "1                       1.0  \n",
       "2                       NaN  \n",
       "3                       NaN  \n",
       "4                       1.0  \n",
       "5                       NaN  "
      ]
     },
     "execution_count": 18,
     "metadata": {},
     "output_type": "execute_result"
    }
   ],
   "source": [
    "nudge_stats"
   ]
  },
  {
   "cell_type": "code",
   "execution_count": 19,
   "metadata": {
    "ExecuteTime": {
     "end_time": "2020-06-21T14:05:09.269866Z",
     "start_time": "2020-06-21T14:05:09.252911Z"
    }
   },
   "outputs": [
    {
     "data": {
      "text/html": [
       "<div>\n",
       "<style scoped>\n",
       "    .dataframe tbody tr th:only-of-type {\n",
       "        vertical-align: middle;\n",
       "    }\n",
       "\n",
       "    .dataframe tbody tr th {\n",
       "        vertical-align: top;\n",
       "    }\n",
       "\n",
       "    .dataframe thead th {\n",
       "        text-align: right;\n",
       "    }\n",
       "</style>\n",
       "<table border=\"1\" class=\"dataframe\">\n",
       "  <thead>\n",
       "    <tr style=\"text-align: right;\">\n",
       "      <th></th>\n",
       "      <th>Session Number</th>\n",
       "      <th>Start Type</th>\n",
       "      <th>AD Format:</th>\n",
       "      <th>Rewarded</th>\n",
       "      <th>Playable</th>\n",
       "      <th>Video</th>\n",
       "      <th>Session Duration</th>\n",
       "      <th>Game Initiated</th>\n",
       "      <th>Location Marker</th>\n",
       "      <th>Player Initiated</th>\n",
       "      <th>Rewarded_Game Initiated</th>\n",
       "      <th>Rewarded_Player Initiated</th>\n",
       "      <th>Rewarded_Location Marker</th>\n",
       "      <th>Banner</th>\n",
       "      <th>Interstitial</th>\n",
       "      <th>Banner_Game Initiated</th>\n",
       "      <th>Interstitial_Game Initiated</th>\n",
       "    </tr>\n",
       "  </thead>\n",
       "  <tbody>\n",
       "    <tr>\n",
       "      <th>0</th>\n",
       "      <td>1</td>\n",
       "      <td>76</td>\n",
       "      <td>23</td>\n",
       "      <td>23</td>\n",
       "      <td>NaN</td>\n",
       "      <td>6.0</td>\n",
       "      <td>00:10:25</td>\n",
       "      <td>2.0</td>\n",
       "      <td>0.0</td>\n",
       "      <td>21.0</td>\n",
       "      <td>2.0</td>\n",
       "      <td>21.0</td>\n",
       "      <td>NaN</td>\n",
       "      <td>NaN</td>\n",
       "      <td>NaN</td>\n",
       "      <td>NaN</td>\n",
       "      <td>NaN</td>\n",
       "    </tr>\n",
       "    <tr>\n",
       "      <th>1</th>\n",
       "      <td>2</td>\n",
       "      <td>85</td>\n",
       "      <td>25</td>\n",
       "      <td>25</td>\n",
       "      <td>NaN</td>\n",
       "      <td>9.0</td>\n",
       "      <td>00:10:05</td>\n",
       "      <td>0.0</td>\n",
       "      <td>1.0</td>\n",
       "      <td>24.0</td>\n",
       "      <td>NaN</td>\n",
       "      <td>24.0</td>\n",
       "      <td>1.0</td>\n",
       "      <td>NaN</td>\n",
       "      <td>NaN</td>\n",
       "      <td>NaN</td>\n",
       "      <td>NaN</td>\n",
       "    </tr>\n",
       "    <tr>\n",
       "      <th>2</th>\n",
       "      <td>3</td>\n",
       "      <td>109</td>\n",
       "      <td>31</td>\n",
       "      <td>31</td>\n",
       "      <td>1.0</td>\n",
       "      <td>5.0</td>\n",
       "      <td>00:10:50</td>\n",
       "      <td>0.0</td>\n",
       "      <td>0.0</td>\n",
       "      <td>31.0</td>\n",
       "      <td>NaN</td>\n",
       "      <td>31.0</td>\n",
       "      <td>NaN</td>\n",
       "      <td>NaN</td>\n",
       "      <td>NaN</td>\n",
       "      <td>NaN</td>\n",
       "      <td>NaN</td>\n",
       "    </tr>\n",
       "    <tr>\n",
       "      <th>3</th>\n",
       "      <td>4</td>\n",
       "      <td>101</td>\n",
       "      <td>30</td>\n",
       "      <td>30</td>\n",
       "      <td>1.0</td>\n",
       "      <td>5.0</td>\n",
       "      <td>00:11:21.188118</td>\n",
       "      <td>0.0</td>\n",
       "      <td>0.0</td>\n",
       "      <td>30.0</td>\n",
       "      <td>NaN</td>\n",
       "      <td>30.0</td>\n",
       "      <td>NaN</td>\n",
       "      <td>NaN</td>\n",
       "      <td>NaN</td>\n",
       "      <td>NaN</td>\n",
       "      <td>NaN</td>\n",
       "    </tr>\n",
       "    <tr>\n",
       "      <th>4</th>\n",
       "      <td>5</td>\n",
       "      <td>113</td>\n",
       "      <td>31</td>\n",
       "      <td>31</td>\n",
       "      <td>NaN</td>\n",
       "      <td>7.0</td>\n",
       "      <td>00:11:44</td>\n",
       "      <td>0.0</td>\n",
       "      <td>1.0</td>\n",
       "      <td>30.0</td>\n",
       "      <td>NaN</td>\n",
       "      <td>30.0</td>\n",
       "      <td>1.0</td>\n",
       "      <td>NaN</td>\n",
       "      <td>NaN</td>\n",
       "      <td>NaN</td>\n",
       "      <td>NaN</td>\n",
       "    </tr>\n",
       "    <tr>\n",
       "      <th>5</th>\n",
       "      <td>6</td>\n",
       "      <td>115</td>\n",
       "      <td>32</td>\n",
       "      <td>32</td>\n",
       "      <td>1.0</td>\n",
       "      <td>3.0</td>\n",
       "      <td>00:10:04</td>\n",
       "      <td>0.0</td>\n",
       "      <td>0.0</td>\n",
       "      <td>32.0</td>\n",
       "      <td>NaN</td>\n",
       "      <td>32.0</td>\n",
       "      <td>NaN</td>\n",
       "      <td>NaN</td>\n",
       "      <td>NaN</td>\n",
       "      <td>NaN</td>\n",
       "      <td>NaN</td>\n",
       "    </tr>\n",
       "  </tbody>\n",
       "</table>\n",
       "</div>"
      ],
      "text/plain": [
       "   Session Number  Start Type  AD Format:  Rewarded  Playable  Video  \\\n",
       "0               1          76          23        23       NaN    6.0   \n",
       "1               2          85          25        25       NaN    9.0   \n",
       "2               3         109          31        31       1.0    5.0   \n",
       "3               4         101          30        30       1.0    5.0   \n",
       "4               5         113          31        31       NaN    7.0   \n",
       "5               6         115          32        32       1.0    3.0   \n",
       "\n",
       "  Session Duration  Game Initiated  Location Marker  Player Initiated  \\\n",
       "0         00:10:25             2.0              0.0              21.0   \n",
       "1         00:10:05             0.0              1.0              24.0   \n",
       "2         00:10:50             0.0              0.0              31.0   \n",
       "3  00:11:21.188118             0.0              0.0              30.0   \n",
       "4         00:11:44             0.0              1.0              30.0   \n",
       "5         00:10:04             0.0              0.0              32.0   \n",
       "\n",
       "   Rewarded_Game Initiated  Rewarded_Player Initiated  \\\n",
       "0                      2.0                       21.0   \n",
       "1                      NaN                       24.0   \n",
       "2                      NaN                       31.0   \n",
       "3                      NaN                       30.0   \n",
       "4                      NaN                       30.0   \n",
       "5                      NaN                       32.0   \n",
       "\n",
       "   Rewarded_Location Marker  Banner  Interstitial  Banner_Game Initiated  \\\n",
       "0                       NaN     NaN           NaN                    NaN   \n",
       "1                       1.0     NaN           NaN                    NaN   \n",
       "2                       NaN     NaN           NaN                    NaN   \n",
       "3                       NaN     NaN           NaN                    NaN   \n",
       "4                       1.0     NaN           NaN                    NaN   \n",
       "5                       NaN     NaN           NaN                    NaN   \n",
       "\n",
       "   Interstitial_Game Initiated  \n",
       "0                          NaN  \n",
       "1                          NaN  \n",
       "2                          NaN  \n",
       "3                          NaN  \n",
       "4                          NaN  \n",
       "5                          NaN  "
      ]
     },
     "execution_count": 19,
     "metadata": {},
     "output_type": "execute_result"
    }
   ],
   "source": [
    "import numpy as np\n",
    "nudge_ad_cols = ['Banner', 'Interstitial', 'Rewarded', 'Banner_Game Initiated', 'Interstitial_Game Initiated', \n",
    "                 'Rewarded_Game Initiated']\n",
    "\n",
    "for col in nudge_ad_cols:\n",
    "    if col not in nudge_stats.columns:\n",
    "        nudge_stats[col] = np.nan\n",
    "nudge_stats"
   ]
  },
  {
   "cell_type": "code",
   "execution_count": 20,
   "metadata": {
    "ExecuteTime": {
     "end_time": "2020-06-21T14:05:09.294798Z",
     "start_time": "2020-06-21T14:05:09.270864Z"
    }
   },
   "outputs": [],
   "source": [
    "nudge_stats['Ad velocity'] = nudge_stats['Session Duration']/nudge_stats['AD Format:']  \n",
    "nudge_stats['Banner velocity'] = nudge_stats['Session Duration']/nudge_stats['Banner']  \n",
    "nudge_stats['Interstitial velocity'] = nudge_stats['Session Duration']/nudge_stats['Interstitial']\n",
    "nudge_stats['Rewarded velocity'] = nudge_stats['Session Duration']/nudge_stats['Rewarded']\n",
    "nudge_stats['Ad proactiveness'] = nudge_stats['Game Initiated']/nudge_stats['AD Format:']\n",
    "nudge_stats['Banner proactiveness'] = nudge_stats['Banner_Game Initiated']/nudge_stats['Banner']\n",
    "nudge_stats['Interstitial proactiveness'] = nudge_stats['Interstitial_Game Initiated']/nudge_stats['Interstitial']\n",
    "nudge_stats['Rewarded proactiveness'] = nudge_stats['Rewarded_Game Initiated']/nudge_stats['Rewarded']"
   ]
  },
  {
   "cell_type": "code",
   "execution_count": 21,
   "metadata": {
    "ExecuteTime": {
     "end_time": "2020-06-21T14:05:09.302779Z",
     "start_time": "2020-06-21T14:05:09.295800Z"
    }
   },
   "outputs": [],
   "source": [
    "nudge_stats['Ad velocity'] = nudge_stats['Ad velocity'].fillna(pd.Timedelta(seconds=0))\n",
    "nudge_stats['Banner velocity'] = nudge_stats['Banner velocity'].fillna(pd.Timedelta(seconds=0))\n",
    "nudge_stats['Interstitial velocity'] = nudge_stats['Interstitial velocity'].fillna(pd.Timedelta(seconds=0))\n",
    "nudge_stats['Rewarded velocity'] = nudge_stats['Rewarded velocity'].fillna(pd.Timedelta(seconds=0))"
   ]
  },
  {
   "cell_type": "code",
   "execution_count": 22,
   "metadata": {
    "ExecuteTime": {
     "end_time": "2020-06-21T14:05:09.311754Z",
     "start_time": "2020-06-21T14:05:09.305770Z"
    }
   },
   "outputs": [],
   "source": [
    "nudge_stats_plot = nudge_stats[['Ad velocity', 'Banner velocity',\n",
    "       'Interstitial velocity', 'Rewarded velocity', 'Ad proactiveness',\n",
    "       'Banner proactiveness', 'Interstitial proactiveness',\n",
    "       'Rewarded proactiveness']]"
   ]
  },
  {
   "cell_type": "code",
   "execution_count": 23,
   "metadata": {
    "ExecuteTime": {
     "end_time": "2020-06-21T14:05:09.938112Z",
     "start_time": "2020-06-21T14:05:09.314746Z"
    }
   },
   "outputs": [
    {
     "data": {
      "text/plain": [
       "<Figure size 432x288 with 0 Axes>"
      ]
     },
     "metadata": {},
     "output_type": "display_data"
    },
    {
     "data": {
      "image/png": "[encoded data removed]",
      "text/plain": [
       "<Figure size 1152x1152 with 2 Axes>"
      ]
     },
     "metadata": {
      "needs_background": "light"
     },
     "output_type": "display_data"
    }
   ],
   "source": [
    "plt.figure()\n",
    "ax = nudge_stats_plot.plot(secondary_y=['Ad velocity', 'Banner velocity', 'Interstitial velocity', 'Rewarded velocity'], \n",
    "                           figsize=(16, 16))\n",
    "\n",
    "# nudge_stats[''].plot(secondary_y=True)\n",
    "# nudge_stats['Banner velocity'].plot(secondary_y=True)\n",
    "# nudge_stats['Interstitial velocity'].plot(secondary_y=True)\n",
    "# nudge_stats['Rewarded velocity'].plot(secondary_y=True)\n",
    "# nudge_stats['Ad nudges proactiveness'].plot()\n",
    "# nudge_stats['Banner proactiveness'].plot()\n",
    "# nudge_stats['Interstitial proactiveness'].plot()\n",
    "# nudge_stats['Rewarded proactiveness'].plot()\n",
    "ax.set_xlabel('Game Play')\n",
    "ax.set_ylabel('Proactiveness')\n",
    "ax.right_ax.set_ylabel('Velocity')\n",
    "ax.figure.savefig('proactiveness_and_velocity_over_game.png', bbox_inches='tight')"
   ]
  },
  {
   "cell_type": "code",
   "execution_count": 24,
   "metadata": {
    "ExecuteTime": {
     "end_time": "2020-06-21T14:05:09.959044Z",
     "start_time": "2020-06-21T14:05:09.939108Z"
    }
   },
   "outputs": [
    {
     "data": {
      "text/html": [
       "<div>\n",
       "<style scoped>\n",
       "    .dataframe tbody tr th:only-of-type {\n",
       "        vertical-align: middle;\n",
       "    }\n",
       "\n",
       "    .dataframe tbody tr th {\n",
       "        vertical-align: top;\n",
       "    }\n",
       "\n",
       "    .dataframe thead th {\n",
       "        text-align: right;\n",
       "    }\n",
       "</style>\n",
       "<table border=\"1\" class=\"dataframe\">\n",
       "  <thead>\n",
       "    <tr style=\"text-align: right;\">\n",
       "      <th></th>\n",
       "      <th>Session Number</th>\n",
       "      <th>Start Type</th>\n",
       "      <th>AD Format:</th>\n",
       "      <th>Rewarded</th>\n",
       "      <th>Playable</th>\n",
       "      <th>Video</th>\n",
       "      <th>Session Duration</th>\n",
       "      <th>Game Initiated</th>\n",
       "      <th>Location Marker</th>\n",
       "      <th>Player Initiated</th>\n",
       "      <th>...</th>\n",
       "      <th>Banner_Game Initiated</th>\n",
       "      <th>Interstitial_Game Initiated</th>\n",
       "      <th>Ad velocity</th>\n",
       "      <th>Banner velocity</th>\n",
       "      <th>Interstitial velocity</th>\n",
       "      <th>Rewarded velocity</th>\n",
       "      <th>Ad proactiveness</th>\n",
       "      <th>Banner proactiveness</th>\n",
       "      <th>Interstitial proactiveness</th>\n",
       "      <th>Rewarded proactiveness</th>\n",
       "    </tr>\n",
       "  </thead>\n",
       "  <tbody>\n",
       "    <tr>\n",
       "      <th>0</th>\n",
       "      <td>1</td>\n",
       "      <td>76</td>\n",
       "      <td>23</td>\n",
       "      <td>23</td>\n",
       "      <td>NaN</td>\n",
       "      <td>6.0</td>\n",
       "      <td>00:10:25</td>\n",
       "      <td>2.0</td>\n",
       "      <td>0.0</td>\n",
       "      <td>21.0</td>\n",
       "      <td>...</td>\n",
       "      <td>NaN</td>\n",
       "      <td>NaN</td>\n",
       "      <td>00:00:27.173913</td>\n",
       "      <td>0 days</td>\n",
       "      <td>0 days</td>\n",
       "      <td>00:00:27.173913</td>\n",
       "      <td>0.086957</td>\n",
       "      <td>NaN</td>\n",
       "      <td>NaN</td>\n",
       "      <td>0.086957</td>\n",
       "    </tr>\n",
       "    <tr>\n",
       "      <th>1</th>\n",
       "      <td>2</td>\n",
       "      <td>85</td>\n",
       "      <td>25</td>\n",
       "      <td>25</td>\n",
       "      <td>NaN</td>\n",
       "      <td>9.0</td>\n",
       "      <td>00:10:05</td>\n",
       "      <td>0.0</td>\n",
       "      <td>1.0</td>\n",
       "      <td>24.0</td>\n",
       "      <td>...</td>\n",
       "      <td>NaN</td>\n",
       "      <td>NaN</td>\n",
       "      <td>00:00:24.200000</td>\n",
       "      <td>0 days</td>\n",
       "      <td>0 days</td>\n",
       "      <td>00:00:24.200000</td>\n",
       "      <td>0.000000</td>\n",
       "      <td>NaN</td>\n",
       "      <td>NaN</td>\n",
       "      <td>NaN</td>\n",
       "    </tr>\n",
       "    <tr>\n",
       "      <th>2</th>\n",
       "      <td>3</td>\n",
       "      <td>109</td>\n",
       "      <td>31</td>\n",
       "      <td>31</td>\n",
       "      <td>1.0</td>\n",
       "      <td>5.0</td>\n",
       "      <td>00:10:50</td>\n",
       "      <td>0.0</td>\n",
       "      <td>0.0</td>\n",
       "      <td>31.0</td>\n",
       "      <td>...</td>\n",
       "      <td>NaN</td>\n",
       "      <td>NaN</td>\n",
       "      <td>00:00:20.967741</td>\n",
       "      <td>0 days</td>\n",
       "      <td>0 days</td>\n",
       "      <td>00:00:20.967741</td>\n",
       "      <td>0.000000</td>\n",
       "      <td>NaN</td>\n",
       "      <td>NaN</td>\n",
       "      <td>NaN</td>\n",
       "    </tr>\n",
       "    <tr>\n",
       "      <th>3</th>\n",
       "      <td>4</td>\n",
       "      <td>101</td>\n",
       "      <td>30</td>\n",
       "      <td>30</td>\n",
       "      <td>1.0</td>\n",
       "      <td>5.0</td>\n",
       "      <td>00:11:21.188118</td>\n",
       "      <td>0.0</td>\n",
       "      <td>0.0</td>\n",
       "      <td>30.0</td>\n",
       "      <td>...</td>\n",
       "      <td>NaN</td>\n",
       "      <td>NaN</td>\n",
       "      <td>00:00:22.706270</td>\n",
       "      <td>0 days</td>\n",
       "      <td>0 days</td>\n",
       "      <td>00:00:22.706270</td>\n",
       "      <td>0.000000</td>\n",
       "      <td>NaN</td>\n",
       "      <td>NaN</td>\n",
       "      <td>NaN</td>\n",
       "    </tr>\n",
       "    <tr>\n",
       "      <th>4</th>\n",
       "      <td>5</td>\n",
       "      <td>113</td>\n",
       "      <td>31</td>\n",
       "      <td>31</td>\n",
       "      <td>NaN</td>\n",
       "      <td>7.0</td>\n",
       "      <td>00:11:44</td>\n",
       "      <td>0.0</td>\n",
       "      <td>1.0</td>\n",
       "      <td>30.0</td>\n",
       "      <td>...</td>\n",
       "      <td>NaN</td>\n",
       "      <td>NaN</td>\n",
       "      <td>00:00:22.709677</td>\n",
       "      <td>0 days</td>\n",
       "      <td>0 days</td>\n",
       "      <td>00:00:22.709677</td>\n",
       "      <td>0.000000</td>\n",
       "      <td>NaN</td>\n",
       "      <td>NaN</td>\n",
       "      <td>NaN</td>\n",
       "    </tr>\n",
       "    <tr>\n",
       "      <th>5</th>\n",
       "      <td>6</td>\n",
       "      <td>115</td>\n",
       "      <td>32</td>\n",
       "      <td>32</td>\n",
       "      <td>1.0</td>\n",
       "      <td>3.0</td>\n",
       "      <td>00:10:04</td>\n",
       "      <td>0.0</td>\n",
       "      <td>0.0</td>\n",
       "      <td>32.0</td>\n",
       "      <td>...</td>\n",
       "      <td>NaN</td>\n",
       "      <td>NaN</td>\n",
       "      <td>00:00:18.875000</td>\n",
       "      <td>0 days</td>\n",
       "      <td>0 days</td>\n",
       "      <td>00:00:18.875000</td>\n",
       "      <td>0.000000</td>\n",
       "      <td>NaN</td>\n",
       "      <td>NaN</td>\n",
       "      <td>NaN</td>\n",
       "    </tr>\n",
       "  </tbody>\n",
       "</table>\n",
       "<p>6 rows × 25 columns</p>\n",
       "</div>"
      ],
      "text/plain": [
       "   Session Number  Start Type  AD Format:  Rewarded  Playable  Video  \\\n",
       "0               1          76          23        23       NaN    6.0   \n",
       "1               2          85          25        25       NaN    9.0   \n",
       "2               3         109          31        31       1.0    5.0   \n",
       "3               4         101          30        30       1.0    5.0   \n",
       "4               5         113          31        31       NaN    7.0   \n",
       "5               6         115          32        32       1.0    3.0   \n",
       "\n",
       "  Session Duration  Game Initiated  Location Marker  Player Initiated  ...  \\\n",
       "0         00:10:25             2.0              0.0              21.0  ...   \n",
       "1         00:10:05             0.0              1.0              24.0  ...   \n",
       "2         00:10:50             0.0              0.0              31.0  ...   \n",
       "3  00:11:21.188118             0.0              0.0              30.0  ...   \n",
       "4         00:11:44             0.0              1.0              30.0  ...   \n",
       "5         00:10:04             0.0              0.0              32.0  ...   \n",
       "\n",
       "   Banner_Game Initiated  Interstitial_Game Initiated     Ad velocity  \\\n",
       "0                    NaN                          NaN 00:00:27.173913   \n",
       "1                    NaN                          NaN 00:00:24.200000   \n",
       "2                    NaN                          NaN 00:00:20.967741   \n",
       "3                    NaN                          NaN 00:00:22.706270   \n",
       "4                    NaN                          NaN 00:00:22.709677   \n",
       "5                    NaN                          NaN 00:00:18.875000   \n",
       "\n",
       "   Banner velocity  Interstitial velocity  Rewarded velocity  \\\n",
       "0           0 days                 0 days    00:00:27.173913   \n",
       "1           0 days                 0 days    00:00:24.200000   \n",
       "2           0 days                 0 days    00:00:20.967741   \n",
       "3           0 days                 0 days    00:00:22.706270   \n",
       "4           0 days                 0 days    00:00:22.709677   \n",
       "5           0 days                 0 days    00:00:18.875000   \n",
       "\n",
       "   Ad proactiveness Banner proactiveness Interstitial proactiveness  \\\n",
       "0          0.086957                  NaN                        NaN   \n",
       "1          0.000000                  NaN                        NaN   \n",
       "2          0.000000                  NaN                        NaN   \n",
       "3          0.000000                  NaN                        NaN   \n",
       "4          0.000000                  NaN                        NaN   \n",
       "5          0.000000                  NaN                        NaN   \n",
       "\n",
       "  Rewarded proactiveness  \n",
       "0               0.086957  \n",
       "1                    NaN  \n",
       "2                    NaN  \n",
       "3                    NaN  \n",
       "4                    NaN  \n",
       "5                    NaN  \n",
       "\n",
       "[6 rows x 25 columns]"
      ]
     },
     "execution_count": 24,
     "metadata": {},
     "output_type": "execute_result"
    }
   ],
   "source": [
    "nudge_stats"
   ]
  },
  {
   "cell_type": "markdown",
   "metadata": {},
   "source": [
    "## Nudge Stats Variety"
   ]
  },
  {
   "cell_type": "code",
   "execution_count": 25,
   "metadata": {
    "ExecuteTime": {
     "end_time": "2020-06-21T14:05:09.985950Z",
     "start_time": "2020-06-21T14:05:09.960042Z"
    }
   },
   "outputs": [],
   "source": [
    "# nudge_stats.mean()\n",
    "nudge_stats.loc['average'] = nudge_stats.mean()\n",
    "nudge_stats.loc['variety'] = nudge_stats.std()"
   ]
  },
  {
   "cell_type": "code",
   "execution_count": 26,
   "metadata": {
    "ExecuteTime": {
     "end_time": "2020-06-21T14:05:10.008888Z",
     "start_time": "2020-06-21T14:05:09.986947Z"
    }
   },
   "outputs": [
    {
     "data": {
      "text/html": [
       "<div>\n",
       "<style scoped>\n",
       "    .dataframe tbody tr th:only-of-type {\n",
       "        vertical-align: middle;\n",
       "    }\n",
       "\n",
       "    .dataframe tbody tr th {\n",
       "        vertical-align: top;\n",
       "    }\n",
       "\n",
       "    .dataframe thead th {\n",
       "        text-align: right;\n",
       "    }\n",
       "</style>\n",
       "<table border=\"1\" class=\"dataframe\">\n",
       "  <thead>\n",
       "    <tr style=\"text-align: right;\">\n",
       "      <th></th>\n",
       "      <th>Session Number</th>\n",
       "      <th>Start Type</th>\n",
       "      <th>AD Format:</th>\n",
       "      <th>Rewarded</th>\n",
       "      <th>Playable</th>\n",
       "      <th>Video</th>\n",
       "      <th>Session Duration</th>\n",
       "      <th>Game Initiated</th>\n",
       "      <th>Location Marker</th>\n",
       "      <th>Player Initiated</th>\n",
       "      <th>...</th>\n",
       "      <th>Banner_Game Initiated</th>\n",
       "      <th>Interstitial_Game Initiated</th>\n",
       "      <th>Ad velocity</th>\n",
       "      <th>Banner velocity</th>\n",
       "      <th>Interstitial velocity</th>\n",
       "      <th>Rewarded velocity</th>\n",
       "      <th>Ad proactiveness</th>\n",
       "      <th>Banner proactiveness</th>\n",
       "      <th>Interstitial proactiveness</th>\n",
       "      <th>Rewarded proactiveness</th>\n",
       "    </tr>\n",
       "  </thead>\n",
       "  <tbody>\n",
       "    <tr>\n",
       "      <th>0</th>\n",
       "      <td>1.000000</td>\n",
       "      <td>76.000000</td>\n",
       "      <td>23.000000</td>\n",
       "      <td>23.000000</td>\n",
       "      <td>NaN</td>\n",
       "      <td>6.000000</td>\n",
       "      <td>00:10:25</td>\n",
       "      <td>2.000000</td>\n",
       "      <td>0.000000</td>\n",
       "      <td>21.000000</td>\n",
       "      <td>...</td>\n",
       "      <td>NaN</td>\n",
       "      <td>NaN</td>\n",
       "      <td>00:00:27.173913</td>\n",
       "      <td>0 days</td>\n",
       "      <td>0 days</td>\n",
       "      <td>00:00:27.173913</td>\n",
       "      <td>0.086957</td>\n",
       "      <td>NaN</td>\n",
       "      <td>NaN</td>\n",
       "      <td>0.086957</td>\n",
       "    </tr>\n",
       "    <tr>\n",
       "      <th>1</th>\n",
       "      <td>2.000000</td>\n",
       "      <td>85.000000</td>\n",
       "      <td>25.000000</td>\n",
       "      <td>25.000000</td>\n",
       "      <td>NaN</td>\n",
       "      <td>9.000000</td>\n",
       "      <td>00:10:05</td>\n",
       "      <td>0.000000</td>\n",
       "      <td>1.000000</td>\n",
       "      <td>24.000000</td>\n",
       "      <td>...</td>\n",
       "      <td>NaN</td>\n",
       "      <td>NaN</td>\n",
       "      <td>00:00:24.200000</td>\n",
       "      <td>0 days</td>\n",
       "      <td>0 days</td>\n",
       "      <td>00:00:24.200000</td>\n",
       "      <td>0.000000</td>\n",
       "      <td>NaN</td>\n",
       "      <td>NaN</td>\n",
       "      <td>NaN</td>\n",
       "    </tr>\n",
       "    <tr>\n",
       "      <th>2</th>\n",
       "      <td>3.000000</td>\n",
       "      <td>109.000000</td>\n",
       "      <td>31.000000</td>\n",
       "      <td>31.000000</td>\n",
       "      <td>1.0</td>\n",
       "      <td>5.000000</td>\n",
       "      <td>00:10:50</td>\n",
       "      <td>0.000000</td>\n",
       "      <td>0.000000</td>\n",
       "      <td>31.000000</td>\n",
       "      <td>...</td>\n",
       "      <td>NaN</td>\n",
       "      <td>NaN</td>\n",
       "      <td>00:00:20.967741</td>\n",
       "      <td>0 days</td>\n",
       "      <td>0 days</td>\n",
       "      <td>00:00:20.967741</td>\n",
       "      <td>0.000000</td>\n",
       "      <td>NaN</td>\n",
       "      <td>NaN</td>\n",
       "      <td>NaN</td>\n",
       "    </tr>\n",
       "    <tr>\n",
       "      <th>3</th>\n",
       "      <td>4.000000</td>\n",
       "      <td>101.000000</td>\n",
       "      <td>30.000000</td>\n",
       "      <td>30.000000</td>\n",
       "      <td>1.0</td>\n",
       "      <td>5.000000</td>\n",
       "      <td>00:11:21.188118</td>\n",
       "      <td>0.000000</td>\n",
       "      <td>0.000000</td>\n",
       "      <td>30.000000</td>\n",
       "      <td>...</td>\n",
       "      <td>NaN</td>\n",
       "      <td>NaN</td>\n",
       "      <td>00:00:22.706270</td>\n",
       "      <td>0 days</td>\n",
       "      <td>0 days</td>\n",
       "      <td>00:00:22.706270</td>\n",
       "      <td>0.000000</td>\n",
       "      <td>NaN</td>\n",
       "      <td>NaN</td>\n",
       "      <td>NaN</td>\n",
       "    </tr>\n",
       "    <tr>\n",
       "      <th>4</th>\n",
       "      <td>5.000000</td>\n",
       "      <td>113.000000</td>\n",
       "      <td>31.000000</td>\n",
       "      <td>31.000000</td>\n",
       "      <td>NaN</td>\n",
       "      <td>7.000000</td>\n",
       "      <td>00:11:44</td>\n",
       "      <td>0.000000</td>\n",
       "      <td>1.000000</td>\n",
       "      <td>30.000000</td>\n",
       "      <td>...</td>\n",
       "      <td>NaN</td>\n",
       "      <td>NaN</td>\n",
       "      <td>00:00:22.709677</td>\n",
       "      <td>0 days</td>\n",
       "      <td>0 days</td>\n",
       "      <td>00:00:22.709677</td>\n",
       "      <td>0.000000</td>\n",
       "      <td>NaN</td>\n",
       "      <td>NaN</td>\n",
       "      <td>NaN</td>\n",
       "    </tr>\n",
       "    <tr>\n",
       "      <th>5</th>\n",
       "      <td>6.000000</td>\n",
       "      <td>115.000000</td>\n",
       "      <td>32.000000</td>\n",
       "      <td>32.000000</td>\n",
       "      <td>1.0</td>\n",
       "      <td>3.000000</td>\n",
       "      <td>00:10:04</td>\n",
       "      <td>0.000000</td>\n",
       "      <td>0.000000</td>\n",
       "      <td>32.000000</td>\n",
       "      <td>...</td>\n",
       "      <td>NaN</td>\n",
       "      <td>NaN</td>\n",
       "      <td>00:00:18.875000</td>\n",
       "      <td>0 days</td>\n",
       "      <td>0 days</td>\n",
       "      <td>00:00:18.875000</td>\n",
       "      <td>0.000000</td>\n",
       "      <td>NaN</td>\n",
       "      <td>NaN</td>\n",
       "      <td>NaN</td>\n",
       "    </tr>\n",
       "    <tr>\n",
       "      <th>average</th>\n",
       "      <td>3.500000</td>\n",
       "      <td>99.833333</td>\n",
       "      <td>28.666667</td>\n",
       "      <td>28.666667</td>\n",
       "      <td>1.0</td>\n",
       "      <td>5.833333</td>\n",
       "      <td>00:10:44.864686</td>\n",
       "      <td>0.333333</td>\n",
       "      <td>0.333333</td>\n",
       "      <td>28.000000</td>\n",
       "      <td>...</td>\n",
       "      <td>NaN</td>\n",
       "      <td>NaN</td>\n",
       "      <td>00:00:22.772100</td>\n",
       "      <td>0 days</td>\n",
       "      <td>0 days</td>\n",
       "      <td>00:00:22.772100</td>\n",
       "      <td>0.014493</td>\n",
       "      <td>NaN</td>\n",
       "      <td>NaN</td>\n",
       "      <td>0.086957</td>\n",
       "    </tr>\n",
       "    <tr>\n",
       "      <th>variety</th>\n",
       "      <td>1.707825</td>\n",
       "      <td>14.587856</td>\n",
       "      <td>3.399346</td>\n",
       "      <td>3.399346</td>\n",
       "      <td>0.0</td>\n",
       "      <td>1.863390</td>\n",
       "      <td>00:00:37.630816</td>\n",
       "      <td>0.745356</td>\n",
       "      <td>0.471405</td>\n",
       "      <td>4.041452</td>\n",
       "      <td>...</td>\n",
       "      <td>NaN</td>\n",
       "      <td>NaN</td>\n",
       "      <td>00:00:02.577666</td>\n",
       "      <td>0 days</td>\n",
       "      <td>0 days</td>\n",
       "      <td>00:00:02.577666</td>\n",
       "      <td>0.032407</td>\n",
       "      <td>NaN</td>\n",
       "      <td>NaN</td>\n",
       "      <td>0.000000</td>\n",
       "    </tr>\n",
       "  </tbody>\n",
       "</table>\n",
       "<p>8 rows × 25 columns</p>\n",
       "</div>"
      ],
      "text/plain": [
       "         Session Number  Start Type  AD Format:   Rewarded  Playable  \\\n",
       "0              1.000000   76.000000   23.000000  23.000000       NaN   \n",
       "1              2.000000   85.000000   25.000000  25.000000       NaN   \n",
       "2              3.000000  109.000000   31.000000  31.000000       1.0   \n",
       "3              4.000000  101.000000   30.000000  30.000000       1.0   \n",
       "4              5.000000  113.000000   31.000000  31.000000       NaN   \n",
       "5              6.000000  115.000000   32.000000  32.000000       1.0   \n",
       "average        3.500000   99.833333   28.666667  28.666667       1.0   \n",
       "variety        1.707825   14.587856    3.399346   3.399346       0.0   \n",
       "\n",
       "            Video Session Duration  Game Initiated  Location Marker  \\\n",
       "0        6.000000         00:10:25        2.000000         0.000000   \n",
       "1        9.000000         00:10:05        0.000000         1.000000   \n",
       "2        5.000000         00:10:50        0.000000         0.000000   \n",
       "3        5.000000  00:11:21.188118        0.000000         0.000000   \n",
       "4        7.000000         00:11:44        0.000000         1.000000   \n",
       "5        3.000000         00:10:04        0.000000         0.000000   \n",
       "average  5.833333  00:10:44.864686        0.333333         0.333333   \n",
       "variety  1.863390  00:00:37.630816        0.745356         0.471405   \n",
       "\n",
       "         Player Initiated  ...  Banner_Game Initiated  \\\n",
       "0               21.000000  ...                    NaN   \n",
       "1               24.000000  ...                    NaN   \n",
       "2               31.000000  ...                    NaN   \n",
       "3               30.000000  ...                    NaN   \n",
       "4               30.000000  ...                    NaN   \n",
       "5               32.000000  ...                    NaN   \n",
       "average         28.000000  ...                    NaN   \n",
       "variety          4.041452  ...                    NaN   \n",
       "\n",
       "         Interstitial_Game Initiated     Ad velocity  Banner velocity  \\\n",
       "0                                NaN 00:00:27.173913           0 days   \n",
       "1                                NaN 00:00:24.200000           0 days   \n",
       "2                                NaN 00:00:20.967741           0 days   \n",
       "3                                NaN 00:00:22.706270           0 days   \n",
       "4                                NaN 00:00:22.709677           0 days   \n",
       "5                                NaN 00:00:18.875000           0 days   \n",
       "average                          NaN 00:00:22.772100           0 days   \n",
       "variety                          NaN 00:00:02.577666           0 days   \n",
       "\n",
       "         Interstitial velocity  Rewarded velocity  Ad proactiveness  \\\n",
       "0                       0 days    00:00:27.173913          0.086957   \n",
       "1                       0 days    00:00:24.200000          0.000000   \n",
       "2                       0 days    00:00:20.967741          0.000000   \n",
       "3                       0 days    00:00:22.706270          0.000000   \n",
       "4                       0 days    00:00:22.709677          0.000000   \n",
       "5                       0 days    00:00:18.875000          0.000000   \n",
       "average                 0 days    00:00:22.772100          0.014493   \n",
       "variety                 0 days    00:00:02.577666          0.032407   \n",
       "\n",
       "        Banner proactiveness Interstitial proactiveness Rewarded proactiveness  \n",
       "0                        NaN                        NaN               0.086957  \n",
       "1                        NaN                        NaN                    NaN  \n",
       "2                        NaN                        NaN                    NaN  \n",
       "3                        NaN                        NaN                    NaN  \n",
       "4                        NaN                        NaN                    NaN  \n",
       "5                        NaN                        NaN                    NaN  \n",
       "average                  NaN                        NaN               0.086957  \n",
       "variety                  NaN                        NaN               0.000000  \n",
       "\n",
       "[8 rows x 25 columns]"
      ]
     },
     "execution_count": 26,
     "metadata": {},
     "output_type": "execute_result"
    }
   ],
   "source": [
    "nudge_stats"
   ]
  },
  {
   "cell_type": "code",
   "execution_count": 27,
   "metadata": {
    "ExecuteTime": {
     "end_time": "2020-06-21T14:05:10.022851Z",
     "start_time": "2020-06-21T14:05:10.009886Z"
    }
   },
   "outputs": [
    {
     "data": {
      "text/html": [
       "<div>\n",
       "<style scoped>\n",
       "    .dataframe tbody tr th:only-of-type {\n",
       "        vertical-align: middle;\n",
       "    }\n",
       "\n",
       "    .dataframe tbody tr th {\n",
       "        vertical-align: top;\n",
       "    }\n",
       "\n",
       "    .dataframe thead th {\n",
       "        text-align: right;\n",
       "    }\n",
       "</style>\n",
       "<table border=\"1\" class=\"dataframe\">\n",
       "  <thead>\n",
       "    <tr style=\"text-align: right;\">\n",
       "      <th></th>\n",
       "      <th>index</th>\n",
       "      <th>0</th>\n",
       "      <th>1</th>\n",
       "      <th>2</th>\n",
       "      <th>3</th>\n",
       "      <th>4</th>\n",
       "      <th>5</th>\n",
       "      <th>average</th>\n",
       "      <th>variety</th>\n",
       "    </tr>\n",
       "  </thead>\n",
       "  <tbody>\n",
       "    <tr>\n",
       "      <th>0</th>\n",
       "      <td>Banner</td>\n",
       "      <td>NaN</td>\n",
       "      <td>NaN</td>\n",
       "      <td>NaN</td>\n",
       "      <td>NaN</td>\n",
       "      <td>NaN</td>\n",
       "      <td>NaN</td>\n",
       "      <td>NaN</td>\n",
       "      <td>NaN</td>\n",
       "    </tr>\n",
       "    <tr>\n",
       "      <th>1</th>\n",
       "      <td>Interstitial</td>\n",
       "      <td>NaN</td>\n",
       "      <td>NaN</td>\n",
       "      <td>NaN</td>\n",
       "      <td>NaN</td>\n",
       "      <td>NaN</td>\n",
       "      <td>NaN</td>\n",
       "      <td>NaN</td>\n",
       "      <td>NaN</td>\n",
       "    </tr>\n",
       "    <tr>\n",
       "      <th>2</th>\n",
       "      <td>Rewarded</td>\n",
       "      <td>23.0</td>\n",
       "      <td>25.0</td>\n",
       "      <td>31.0</td>\n",
       "      <td>30.0</td>\n",
       "      <td>31.0</td>\n",
       "      <td>32.0</td>\n",
       "      <td>28.666667</td>\n",
       "      <td>3.399346</td>\n",
       "    </tr>\n",
       "  </tbody>\n",
       "</table>\n",
       "</div>"
      ],
      "text/plain": [
       "          index     0     1     2     3     4     5    average   variety\n",
       "0        Banner   NaN   NaN   NaN   NaN   NaN   NaN        NaN       NaN\n",
       "1  Interstitial   NaN   NaN   NaN   NaN   NaN   NaN        NaN       NaN\n",
       "2      Rewarded  23.0  25.0  31.0  30.0  31.0  32.0  28.666667  3.399346"
      ]
     },
     "execution_count": 27,
     "metadata": {},
     "output_type": "execute_result"
    }
   ],
   "source": [
    "nudge_stats_averages1 = nudge_stats[['Banner', 'Interstitial', 'Rewarded']].T.reset_index()\n",
    "nudge_stats_averages1"
   ]
  },
  {
   "cell_type": "code",
   "execution_count": 28,
   "metadata": {
    "ExecuteTime": {
     "end_time": "2020-06-21T14:05:10.258221Z",
     "start_time": "2020-06-21T14:05:10.023848Z"
    }
   },
   "outputs": [
    {
     "data": {
      "image/png": "[encoded data removed]",
      "text/plain": [
       "<Figure size 720x720 with 1 Axes>"
      ]
     },
     "metadata": {
      "needs_background": "light"
     },
     "output_type": "display_data"
    }
   ],
   "source": [
    "fig, ax1 = plt.subplots(figsize=(10, 10))\n",
    "nudge_stats_averages1 = nudge_stats_averages1.rename(columns={'index':'AD Format:'})\n",
    "sns.barplot(x='AD Format:', y='average', data=nudge_stats_averages1, ax=ax1)\n",
    "sns.despine(fig)\n",
    "fig.savefig('Ad_average_count.png', bbox_inches='tight')"
   ]
  },
  {
   "cell_type": "markdown",
   "metadata": {},
   "source": [
    "#### New Additions "
   ]
  },
  {
   "cell_type": "code",
   "execution_count": 29,
   "metadata": {
    "ExecuteTime": {
     "end_time": "2020-06-21T14:05:10.263207Z",
     "start_time": "2020-06-21T14:05:10.259218Z"
    }
   },
   "outputs": [],
   "source": [
    "if 'Static' not in nudge_stats.columns:\n",
    "    nudge_stats['Static'] = np.nan\n",
    "\n",
    "if 'Video' not in nudge_stats.columns:\n",
    "    nudge_stats['Video'] = np.nan"
   ]
  },
  {
   "cell_type": "code",
   "execution_count": 30,
   "metadata": {
    "ExecuteTime": {
     "end_time": "2020-06-21T14:05:10.280162Z",
     "start_time": "2020-06-21T14:05:10.264205Z"
    }
   },
   "outputs": [
    {
     "data": {
      "text/html": [
       "<div>\n",
       "<style scoped>\n",
       "    .dataframe tbody tr th:only-of-type {\n",
       "        vertical-align: middle;\n",
       "    }\n",
       "\n",
       "    .dataframe tbody tr th {\n",
       "        vertical-align: top;\n",
       "    }\n",
       "\n",
       "    .dataframe thead th {\n",
       "        text-align: right;\n",
       "    }\n",
       "</style>\n",
       "<table border=\"1\" class=\"dataframe\">\n",
       "  <thead>\n",
       "    <tr style=\"text-align: right;\">\n",
       "      <th></th>\n",
       "      <th>index</th>\n",
       "      <th>0</th>\n",
       "      <th>1</th>\n",
       "      <th>2</th>\n",
       "      <th>3</th>\n",
       "      <th>4</th>\n",
       "      <th>5</th>\n",
       "      <th>average</th>\n",
       "      <th>variety</th>\n",
       "    </tr>\n",
       "  </thead>\n",
       "  <tbody>\n",
       "    <tr>\n",
       "      <th>0</th>\n",
       "      <td>Static</td>\n",
       "      <td>NaN</td>\n",
       "      <td>NaN</td>\n",
       "      <td>NaN</td>\n",
       "      <td>NaN</td>\n",
       "      <td>NaN</td>\n",
       "      <td>NaN</td>\n",
       "      <td>NaN</td>\n",
       "      <td>NaN</td>\n",
       "    </tr>\n",
       "    <tr>\n",
       "      <th>1</th>\n",
       "      <td>Video</td>\n",
       "      <td>6.0</td>\n",
       "      <td>9.0</td>\n",
       "      <td>5.0</td>\n",
       "      <td>5.0</td>\n",
       "      <td>7.0</td>\n",
       "      <td>3.0</td>\n",
       "      <td>5.833333</td>\n",
       "      <td>1.86339</td>\n",
       "    </tr>\n",
       "  </tbody>\n",
       "</table>\n",
       "</div>"
      ],
      "text/plain": [
       "    index    0    1    2    3    4    5   average  variety\n",
       "0  Static  NaN  NaN  NaN  NaN  NaN  NaN       NaN      NaN\n",
       "1   Video  6.0  9.0  5.0  5.0  7.0  3.0  5.833333  1.86339"
      ]
     },
     "execution_count": 30,
     "metadata": {},
     "output_type": "execute_result"
    }
   ],
   "source": [
    "nudge_stats_averages2 = nudge_stats[['Static', 'Video']].T.reset_index()\n",
    "nudge_stats_averages2"
   ]
  },
  {
   "cell_type": "code",
   "execution_count": 31,
   "metadata": {
    "ExecuteTime": {
     "end_time": "2020-06-21T14:05:10.502567Z",
     "start_time": "2020-06-21T14:05:10.281160Z"
    }
   },
   "outputs": [
    {
     "data": {
      "image/png": "[encoded data removed]",
      "text/plain": [
       "<Figure size 720x720 with 1 Axes>"
      ]
     },
     "metadata": {
      "needs_background": "light"
     },
     "output_type": "display_data"
    }
   ],
   "source": [
    "fig, ax1 = plt.subplots(figsize=(10, 10))\n",
    "nudge_stats_averages2 = nudge_stats_averages2.rename(columns={'index':'AD type'})\n",
    "sns.barplot(x='AD type', y='average', data=nudge_stats_averages2, ax=ax1)\n",
    "sns.despine(fig)\n",
    "fig.savefig('Ad_type_average_count.png', bbox_inches='tight')"
   ]
  },
  {
   "cell_type": "code",
   "execution_count": 32,
   "metadata": {
    "ExecuteTime": {
     "end_time": "2020-06-21T14:05:10.515532Z",
     "start_time": "2020-06-21T14:05:10.503565Z"
    }
   },
   "outputs": [
    {
     "data": {
      "text/html": [
       "<div>\n",
       "<style scoped>\n",
       "    .dataframe tbody tr th:only-of-type {\n",
       "        vertical-align: middle;\n",
       "    }\n",
       "\n",
       "    .dataframe tbody tr th {\n",
       "        vertical-align: top;\n",
       "    }\n",
       "\n",
       "    .dataframe thead th {\n",
       "        text-align: right;\n",
       "    }\n",
       "</style>\n",
       "<table border=\"1\" class=\"dataframe\">\n",
       "  <thead>\n",
       "    <tr style=\"text-align: right;\">\n",
       "      <th></th>\n",
       "      <th>index</th>\n",
       "      <th>0</th>\n",
       "      <th>1</th>\n",
       "      <th>2</th>\n",
       "      <th>3</th>\n",
       "      <th>4</th>\n",
       "      <th>5</th>\n",
       "      <th>average</th>\n",
       "      <th>variety</th>\n",
       "    </tr>\n",
       "  </thead>\n",
       "  <tbody>\n",
       "    <tr>\n",
       "      <th>0</th>\n",
       "      <td>Ad velocity</td>\n",
       "      <td>00:00:27.173913</td>\n",
       "      <td>00:00:24.200000</td>\n",
       "      <td>00:00:20.967741</td>\n",
       "      <td>00:00:22.706270</td>\n",
       "      <td>00:00:22.709677</td>\n",
       "      <td>00:00:18.875000</td>\n",
       "      <td>00:00:22.772100</td>\n",
       "      <td>00:00:02.577666</td>\n",
       "    </tr>\n",
       "    <tr>\n",
       "      <th>1</th>\n",
       "      <td>Banner velocity</td>\n",
       "      <td>00:00:00</td>\n",
       "      <td>00:00:00</td>\n",
       "      <td>00:00:00</td>\n",
       "      <td>00:00:00</td>\n",
       "      <td>00:00:00</td>\n",
       "      <td>00:00:00</td>\n",
       "      <td>00:00:00</td>\n",
       "      <td>00:00:00</td>\n",
       "    </tr>\n",
       "    <tr>\n",
       "      <th>2</th>\n",
       "      <td>Interstitial velocity</td>\n",
       "      <td>00:00:00</td>\n",
       "      <td>00:00:00</td>\n",
       "      <td>00:00:00</td>\n",
       "      <td>00:00:00</td>\n",
       "      <td>00:00:00</td>\n",
       "      <td>00:00:00</td>\n",
       "      <td>00:00:00</td>\n",
       "      <td>00:00:00</td>\n",
       "    </tr>\n",
       "    <tr>\n",
       "      <th>3</th>\n",
       "      <td>Rewarded velocity</td>\n",
       "      <td>00:00:27.173913</td>\n",
       "      <td>00:00:24.200000</td>\n",
       "      <td>00:00:20.967741</td>\n",
       "      <td>00:00:22.706270</td>\n",
       "      <td>00:00:22.709677</td>\n",
       "      <td>00:00:18.875000</td>\n",
       "      <td>00:00:22.772100</td>\n",
       "      <td>00:00:02.577666</td>\n",
       "    </tr>\n",
       "  </tbody>\n",
       "</table>\n",
       "</div>"
      ],
      "text/plain": [
       "                   index               0               1               2  \\\n",
       "0            Ad velocity 00:00:27.173913 00:00:24.200000 00:00:20.967741   \n",
       "1        Banner velocity        00:00:00        00:00:00        00:00:00   \n",
       "2  Interstitial velocity        00:00:00        00:00:00        00:00:00   \n",
       "3      Rewarded velocity 00:00:27.173913 00:00:24.200000 00:00:20.967741   \n",
       "\n",
       "                3               4               5         average  \\\n",
       "0 00:00:22.706270 00:00:22.709677 00:00:18.875000 00:00:22.772100   \n",
       "1        00:00:00        00:00:00        00:00:00        00:00:00   \n",
       "2        00:00:00        00:00:00        00:00:00        00:00:00   \n",
       "3 00:00:22.706270 00:00:22.709677 00:00:18.875000 00:00:22.772100   \n",
       "\n",
       "          variety  \n",
       "0 00:00:02.577666  \n",
       "1        00:00:00  \n",
       "2        00:00:00  \n",
       "3 00:00:02.577666  "
      ]
     },
     "execution_count": 32,
     "metadata": {},
     "output_type": "execute_result"
    }
   ],
   "source": [
    "nudge_stats_averages3 = nudge_stats[['Ad velocity', 'Banner velocity', 'Interstitial velocity', 'Rewarded velocity']].T.reset_index()\n",
    "nudge_stats_averages3"
   ]
  },
  {
   "cell_type": "code",
   "execution_count": 33,
   "metadata": {
    "ExecuteTime": {
     "end_time": "2020-06-21T14:05:10.522513Z",
     "start_time": "2020-06-21T14:05:10.516529Z"
    }
   },
   "outputs": [],
   "source": [
    "if (nudge_stats_averages3['average'] > '00:00:30').any():\n",
    "    recommended_ads_tightness = \"You can push more Ads per minute!\"\n",
    "else:\n",
    "    recommended_ads_tightness = \"You are showing sufficient Ads per minute!\""
   ]
  },
  {
   "cell_type": "code",
   "execution_count": 34,
   "metadata": {
    "ExecuteTime": {
     "end_time": "2020-06-21T14:05:10.850635Z",
     "start_time": "2020-06-21T14:05:10.523511Z"
    }
   },
   "outputs": [
    {
     "data": {
      "image/png": "[encoded data removed]",
      "text/plain": [
       "<Figure size 720x720 with 1 Axes>"
      ]
     },
     "metadata": {
      "needs_background": "light"
     },
     "output_type": "display_data"
    }
   ],
   "source": [
    "fig, ax1 = plt.subplots(figsize=(10, 10))\n",
    "nudge_stats_averages3 = nudge_stats_averages3.rename(columns={'index':'Velocities'})\n",
    "sns.barplot(x='Velocities', y='average', data=nudge_stats_averages3, ax=ax1)\n",
    "sns.despine(fig)\n",
    "fig.savefig('Average_ad_velocity.png', bbox_inches='tight')"
   ]
  },
  {
   "cell_type": "code",
   "execution_count": 35,
   "metadata": {
    "ExecuteTime": {
     "end_time": "2020-06-21T14:05:10.868587Z",
     "start_time": "2020-06-21T14:05:10.851632Z"
    }
   },
   "outputs": [
    {
     "data": {
      "text/html": [
       "<div>\n",
       "<style scoped>\n",
       "    .dataframe tbody tr th:only-of-type {\n",
       "        vertical-align: middle;\n",
       "    }\n",
       "\n",
       "    .dataframe tbody tr th {\n",
       "        vertical-align: top;\n",
       "    }\n",
       "\n",
       "    .dataframe thead th {\n",
       "        text-align: right;\n",
       "    }\n",
       "</style>\n",
       "<table border=\"1\" class=\"dataframe\">\n",
       "  <thead>\n",
       "    <tr style=\"text-align: right;\">\n",
       "      <th></th>\n",
       "      <th>index</th>\n",
       "      <th>0</th>\n",
       "      <th>1</th>\n",
       "      <th>2</th>\n",
       "      <th>3</th>\n",
       "      <th>4</th>\n",
       "      <th>5</th>\n",
       "      <th>average</th>\n",
       "      <th>variety</th>\n",
       "    </tr>\n",
       "  </thead>\n",
       "  <tbody>\n",
       "    <tr>\n",
       "      <th>0</th>\n",
       "      <td>Ad proactiveness</td>\n",
       "      <td>0.086957</td>\n",
       "      <td>0.0</td>\n",
       "      <td>0.0</td>\n",
       "      <td>0.0</td>\n",
       "      <td>0.0</td>\n",
       "      <td>0.0</td>\n",
       "      <td>0.014493</td>\n",
       "      <td>0.032407</td>\n",
       "    </tr>\n",
       "    <tr>\n",
       "      <th>1</th>\n",
       "      <td>Banner proactiveness</td>\n",
       "      <td>NaN</td>\n",
       "      <td>NaN</td>\n",
       "      <td>NaN</td>\n",
       "      <td>NaN</td>\n",
       "      <td>NaN</td>\n",
       "      <td>NaN</td>\n",
       "      <td>NaN</td>\n",
       "      <td>NaN</td>\n",
       "    </tr>\n",
       "    <tr>\n",
       "      <th>2</th>\n",
       "      <td>Interstitial proactiveness</td>\n",
       "      <td>NaN</td>\n",
       "      <td>NaN</td>\n",
       "      <td>NaN</td>\n",
       "      <td>NaN</td>\n",
       "      <td>NaN</td>\n",
       "      <td>NaN</td>\n",
       "      <td>NaN</td>\n",
       "      <td>NaN</td>\n",
       "    </tr>\n",
       "    <tr>\n",
       "      <th>3</th>\n",
       "      <td>Rewarded proactiveness</td>\n",
       "      <td>0.086957</td>\n",
       "      <td>NaN</td>\n",
       "      <td>NaN</td>\n",
       "      <td>NaN</td>\n",
       "      <td>NaN</td>\n",
       "      <td>NaN</td>\n",
       "      <td>0.086957</td>\n",
       "      <td>0.000000</td>\n",
       "    </tr>\n",
       "  </tbody>\n",
       "</table>\n",
       "</div>"
      ],
      "text/plain": [
       "                        index         0    1    2    3    4    5   average  \\\n",
       "0            Ad proactiveness  0.086957  0.0  0.0  0.0  0.0  0.0  0.014493   \n",
       "1        Banner proactiveness       NaN  NaN  NaN  NaN  NaN  NaN       NaN   \n",
       "2  Interstitial proactiveness       NaN  NaN  NaN  NaN  NaN  NaN       NaN   \n",
       "3      Rewarded proactiveness  0.086957  NaN  NaN  NaN  NaN  NaN  0.086957   \n",
       "\n",
       "    variety  \n",
       "0  0.032407  \n",
       "1       NaN  \n",
       "2       NaN  \n",
       "3  0.000000  "
      ]
     },
     "execution_count": 35,
     "metadata": {},
     "output_type": "execute_result"
    }
   ],
   "source": [
    "nudge_stats_averages4 = nudge_stats[['Ad proactiveness', 'Banner proactiveness', 'Interstitial proactiveness', 'Rewarded proactiveness']].T.reset_index()\n",
    "nudge_stats_averages4"
   ]
  },
  {
   "cell_type": "code",
   "execution_count": 36,
   "metadata": {
    "ExecuteTime": {
     "end_time": "2020-06-21T14:05:11.231616Z",
     "start_time": "2020-06-21T14:05:10.870581Z"
    }
   },
   "outputs": [
    {
     "data": {
      "image/png": "[encoded data removed]",
      "text/plain": [
       "<Figure size 720x720 with 1 Axes>"
      ]
     },
     "metadata": {
      "needs_background": "light"
     },
     "output_type": "display_data"
    }
   ],
   "source": [
    "fig, ax1 = plt.subplots(figsize=(10, 10))\n",
    "nudge_stats_averages4 = nudge_stats_averages4.rename(columns={'index':'Proactiveness'})\n",
    "sns.barplot(x='Proactiveness', y='variety', data=nudge_stats_averages4, ax=ax1)\n",
    "sns.despine(fig)\n",
    "fig.savefig('Ad_average_proactiveness.png', bbox_inches='tight')"
   ]
  },
  {
   "cell_type": "markdown",
   "metadata": {},
   "source": [
    "# Placements "
   ]
  },
  {
   "cell_type": "code",
   "execution_count": 37,
   "metadata": {
    "ExecuteTime": {
     "end_time": "2020-06-21T14:05:11.238598Z",
     "start_time": "2020-06-21T14:05:11.232613Z"
    }
   },
   "outputs": [
    {
     "data": {
      "text/plain": [
       "Index(['Analyst ID', 'Name', 'Phone', 'Location', 'VPN?', 'Session Number',\n",
       "       'Date (D/M/Y)', 'Session Duration', 'Game', 'Nudge Time (HH:MM:SS)',\n",
       "       'Start Type', 'Location in game', 'Game Push', 'Gift', 'What is Gifted',\n",
       "       'Gift Stacked reward', 'IAP Type', 'IAP Purchased With?',\n",
       "       'What was for sale?', 'Did you Purchase?', 'IAP Stacked reward',\n",
       "       'AD Format:', 'AD type', 'Watched ', 'If Rewarded? Type?',\n",
       "       'AD Stacked Rewards (Y/N)', 'Advertiser', 'Notes/Comments'],\n",
       "      dtype='object')"
      ]
     },
     "execution_count": 37,
     "metadata": {},
     "output_type": "execute_result"
    }
   ],
   "source": [
    "log_data.columns"
   ]
  },
  {
   "cell_type": "code",
   "execution_count": 38,
   "metadata": {
    "ExecuteTime": {
     "end_time": "2020-06-21T14:05:11.258545Z",
     "start_time": "2020-06-21T14:05:11.239596Z"
    }
   },
   "outputs": [],
   "source": [
    "ad_placement = log_data.pivot_table(values='Nudge Time (HH:MM:SS)', index=['Session Number', 'Location in game'], columns='AD Format:', aggfunc='count').reset_index()\n",
    "ad_placement.columns = tuple(ad_placement)"
   ]
  },
  {
   "cell_type": "code",
   "execution_count": 39,
   "metadata": {
    "ExecuteTime": {
     "end_time": "2020-06-21T14:05:11.275499Z",
     "start_time": "2020-06-21T14:05:11.260540Z"
    }
   },
   "outputs": [
    {
     "data": {
      "text/html": [
       "<div>\n",
       "<style scoped>\n",
       "    .dataframe tbody tr th:only-of-type {\n",
       "        vertical-align: middle;\n",
       "    }\n",
       "\n",
       "    .dataframe tbody tr th {\n",
       "        vertical-align: top;\n",
       "    }\n",
       "\n",
       "    .dataframe thead th {\n",
       "        text-align: right;\n",
       "    }\n",
       "</style>\n",
       "<table border=\"1\" class=\"dataframe\">\n",
       "  <thead>\n",
       "    <tr style=\"text-align: right;\">\n",
       "      <th></th>\n",
       "      <th>Session Number</th>\n",
       "      <th>Location in game</th>\n",
       "      <th>Rewarded</th>\n",
       "      <th>Banner</th>\n",
       "      <th>Interstitial</th>\n",
       "    </tr>\n",
       "  </thead>\n",
       "  <tbody>\n",
       "    <tr>\n",
       "      <th>0</th>\n",
       "      <td>1</td>\n",
       "      <td>Death/Mission Fail</td>\n",
       "      <td>1</td>\n",
       "      <td>NaN</td>\n",
       "      <td>NaN</td>\n",
       "    </tr>\n",
       "    <tr>\n",
       "      <th>1</th>\n",
       "      <td>1</td>\n",
       "      <td>Level End</td>\n",
       "      <td>5</td>\n",
       "      <td>NaN</td>\n",
       "      <td>NaN</td>\n",
       "    </tr>\n",
       "    <tr>\n",
       "      <th>2</th>\n",
       "      <td>1</td>\n",
       "      <td>Menu</td>\n",
       "      <td>17</td>\n",
       "      <td>NaN</td>\n",
       "      <td>NaN</td>\n",
       "    </tr>\n",
       "    <tr>\n",
       "      <th>3</th>\n",
       "      <td>2</td>\n",
       "      <td>Death/Mission Fail</td>\n",
       "      <td>2</td>\n",
       "      <td>NaN</td>\n",
       "      <td>NaN</td>\n",
       "    </tr>\n",
       "    <tr>\n",
       "      <th>4</th>\n",
       "      <td>2</td>\n",
       "      <td>Level End</td>\n",
       "      <td>7</td>\n",
       "      <td>NaN</td>\n",
       "      <td>NaN</td>\n",
       "    </tr>\n",
       "    <tr>\n",
       "      <th>5</th>\n",
       "      <td>2</td>\n",
       "      <td>Menu</td>\n",
       "      <td>15</td>\n",
       "      <td>NaN</td>\n",
       "      <td>NaN</td>\n",
       "    </tr>\n",
       "    <tr>\n",
       "      <th>6</th>\n",
       "      <td>2</td>\n",
       "      <td>Game Play</td>\n",
       "      <td>1</td>\n",
       "      <td>NaN</td>\n",
       "      <td>NaN</td>\n",
       "    </tr>\n",
       "    <tr>\n",
       "      <th>7</th>\n",
       "      <td>3</td>\n",
       "      <td>Death/Mission Fail</td>\n",
       "      <td>3</td>\n",
       "      <td>NaN</td>\n",
       "      <td>NaN</td>\n",
       "    </tr>\n",
       "    <tr>\n",
       "      <th>8</th>\n",
       "      <td>3</td>\n",
       "      <td>Level End</td>\n",
       "      <td>11</td>\n",
       "      <td>NaN</td>\n",
       "      <td>NaN</td>\n",
       "    </tr>\n",
       "    <tr>\n",
       "      <th>9</th>\n",
       "      <td>3</td>\n",
       "      <td>Menu</td>\n",
       "      <td>17</td>\n",
       "      <td>NaN</td>\n",
       "      <td>NaN</td>\n",
       "    </tr>\n",
       "    <tr>\n",
       "      <th>10</th>\n",
       "      <td>4</td>\n",
       "      <td>Death/Mission Fail</td>\n",
       "      <td>2</td>\n",
       "      <td>NaN</td>\n",
       "      <td>NaN</td>\n",
       "    </tr>\n",
       "    <tr>\n",
       "      <th>11</th>\n",
       "      <td>4</td>\n",
       "      <td>Level End</td>\n",
       "      <td>12</td>\n",
       "      <td>NaN</td>\n",
       "      <td>NaN</td>\n",
       "    </tr>\n",
       "    <tr>\n",
       "      <th>12</th>\n",
       "      <td>4</td>\n",
       "      <td>Menu</td>\n",
       "      <td>16</td>\n",
       "      <td>NaN</td>\n",
       "      <td>NaN</td>\n",
       "    </tr>\n",
       "    <tr>\n",
       "      <th>13</th>\n",
       "      <td>5</td>\n",
       "      <td>Death/Mission Fail</td>\n",
       "      <td>4</td>\n",
       "      <td>NaN</td>\n",
       "      <td>NaN</td>\n",
       "    </tr>\n",
       "    <tr>\n",
       "      <th>14</th>\n",
       "      <td>5</td>\n",
       "      <td>Level End</td>\n",
       "      <td>8</td>\n",
       "      <td>NaN</td>\n",
       "      <td>NaN</td>\n",
       "    </tr>\n",
       "    <tr>\n",
       "      <th>15</th>\n",
       "      <td>5</td>\n",
       "      <td>Menu</td>\n",
       "      <td>19</td>\n",
       "      <td>NaN</td>\n",
       "      <td>NaN</td>\n",
       "    </tr>\n",
       "    <tr>\n",
       "      <th>16</th>\n",
       "      <td>6</td>\n",
       "      <td>Death/Mission Fail</td>\n",
       "      <td>2</td>\n",
       "      <td>NaN</td>\n",
       "      <td>NaN</td>\n",
       "    </tr>\n",
       "    <tr>\n",
       "      <th>17</th>\n",
       "      <td>6</td>\n",
       "      <td>Level End</td>\n",
       "      <td>8</td>\n",
       "      <td>NaN</td>\n",
       "      <td>NaN</td>\n",
       "    </tr>\n",
       "    <tr>\n",
       "      <th>18</th>\n",
       "      <td>6</td>\n",
       "      <td>Menu</td>\n",
       "      <td>21</td>\n",
       "      <td>NaN</td>\n",
       "      <td>NaN</td>\n",
       "    </tr>\n",
       "    <tr>\n",
       "      <th>19</th>\n",
       "      <td>6</td>\n",
       "      <td>Game Store</td>\n",
       "      <td>1</td>\n",
       "      <td>NaN</td>\n",
       "      <td>NaN</td>\n",
       "    </tr>\n",
       "  </tbody>\n",
       "</table>\n",
       "</div>"
      ],
      "text/plain": [
       "    Session Number    Location in game  Rewarded  Banner  Interstitial\n",
       "0                1  Death/Mission Fail         1     NaN           NaN\n",
       "1                1           Level End         5     NaN           NaN\n",
       "2                1                Menu        17     NaN           NaN\n",
       "3                2  Death/Mission Fail         2     NaN           NaN\n",
       "4                2           Level End         7     NaN           NaN\n",
       "5                2                Menu        15     NaN           NaN\n",
       "6                2           Game Play         1     NaN           NaN\n",
       "7                3  Death/Mission Fail         3     NaN           NaN\n",
       "8                3           Level End        11     NaN           NaN\n",
       "9                3                Menu        17     NaN           NaN\n",
       "10               4  Death/Mission Fail         2     NaN           NaN\n",
       "11               4           Level End        12     NaN           NaN\n",
       "12               4                Menu        16     NaN           NaN\n",
       "13               5  Death/Mission Fail         4     NaN           NaN\n",
       "14               5           Level End         8     NaN           NaN\n",
       "15               5                Menu        19     NaN           NaN\n",
       "16               6  Death/Mission Fail         2     NaN           NaN\n",
       "17               6           Level End         8     NaN           NaN\n",
       "18               6                Menu        21     NaN           NaN\n",
       "19               6          Game Store         1     NaN           NaN"
      ]
     },
     "execution_count": 39,
     "metadata": {},
     "output_type": "execute_result"
    }
   ],
   "source": [
    "ad_placement_cols = ['Banner', 'Interstitial', 'Rewarded']\n",
    "\n",
    "for col in ad_placement_cols:\n",
    "    if col not in ad_placement.columns:\n",
    "        ad_placement[col] = np.nan\n",
    "ad_placement"
   ]
  },
  {
   "cell_type": "code",
   "execution_count": 40,
   "metadata": {
    "ExecuteTime": {
     "end_time": "2020-06-21T14:05:11.287467Z",
     "start_time": "2020-06-21T14:05:11.277494Z"
    }
   },
   "outputs": [],
   "source": [
    "ad_placement.loc['variety'] = ad_placement.std()"
   ]
  },
  {
   "cell_type": "markdown",
   "metadata": {},
   "source": [
    "## Placement Variety "
   ]
  },
  {
   "cell_type": "code",
   "execution_count": 41,
   "metadata": {
    "ExecuteTime": {
     "end_time": "2020-06-21T14:05:11.301430Z",
     "start_time": "2020-06-21T14:05:11.289463Z"
    }
   },
   "outputs": [],
   "source": [
    "ad_placement_stack = ad_placement.set_index(['Session Number', 'Location in game']).stack().reset_index().rename(columns={0:'counts'})\n",
    "ad_placement_consistency = ad_placement_stack['counts'].std()"
   ]
  },
  {
   "cell_type": "code",
   "execution_count": 42,
   "metadata": {
    "ExecuteTime": {
     "end_time": "2020-06-21T14:05:11.308411Z",
     "start_time": "2020-06-21T14:05:11.302427Z"
    }
   },
   "outputs": [
    {
     "data": {
      "text/plain": [
       "6.677393674914694"
      ]
     },
     "execution_count": 42,
     "metadata": {},
     "output_type": "execute_result"
    }
   ],
   "source": [
    "ad_placement_consistency"
   ]
  },
  {
   "cell_type": "markdown",
   "metadata": {},
   "source": [
    "## Placements Category "
   ]
  },
  {
   "cell_type": "code",
   "execution_count": 43,
   "metadata": {
    "ExecuteTime": {
     "end_time": "2020-06-21T14:05:11.350299Z",
     "start_time": "2020-06-21T14:05:11.310405Z"
    }
   },
   "outputs": [
    {
     "data": {
      "text/html": [
       "<div>\n",
       "<style scoped>\n",
       "    .dataframe tbody tr th:only-of-type {\n",
       "        vertical-align: middle;\n",
       "    }\n",
       "\n",
       "    .dataframe tbody tr th {\n",
       "        vertical-align: top;\n",
       "    }\n",
       "\n",
       "    .dataframe thead th {\n",
       "        text-align: right;\n",
       "    }\n",
       "</style>\n",
       "<table border=\"1\" class=\"dataframe\">\n",
       "  <thead>\n",
       "    <tr style=\"text-align: right;\">\n",
       "      <th></th>\n",
       "      <th>Location in game</th>\n",
       "      <th>Session Number</th>\n",
       "      <th>Rewarded</th>\n",
       "      <th>Banner</th>\n",
       "      <th>Interstitial</th>\n",
       "    </tr>\n",
       "  </thead>\n",
       "  <tbody>\n",
       "    <tr>\n",
       "      <th>0</th>\n",
       "      <td>Death/Mission Fail</td>\n",
       "      <td>3.5</td>\n",
       "      <td>2.333333</td>\n",
       "      <td>NaN</td>\n",
       "      <td>NaN</td>\n",
       "    </tr>\n",
       "    <tr>\n",
       "      <th>1</th>\n",
       "      <td>Game Play</td>\n",
       "      <td>2.0</td>\n",
       "      <td>1.000000</td>\n",
       "      <td>NaN</td>\n",
       "      <td>NaN</td>\n",
       "    </tr>\n",
       "    <tr>\n",
       "      <th>2</th>\n",
       "      <td>Game Store</td>\n",
       "      <td>6.0</td>\n",
       "      <td>1.000000</td>\n",
       "      <td>NaN</td>\n",
       "      <td>NaN</td>\n",
       "    </tr>\n",
       "    <tr>\n",
       "      <th>3</th>\n",
       "      <td>Level End</td>\n",
       "      <td>3.5</td>\n",
       "      <td>8.500000</td>\n",
       "      <td>NaN</td>\n",
       "      <td>NaN</td>\n",
       "    </tr>\n",
       "    <tr>\n",
       "      <th>4</th>\n",
       "      <td>Menu</td>\n",
       "      <td>3.5</td>\n",
       "      <td>17.500000</td>\n",
       "      <td>NaN</td>\n",
       "      <td>NaN</td>\n",
       "    </tr>\n",
       "    <tr>\n",
       "      <th>5</th>\n",
       "      <td>AD</td>\n",
       "      <td>NaN</td>\n",
       "      <td>NaN</td>\n",
       "      <td>NaN</td>\n",
       "      <td>NaN</td>\n",
       "    </tr>\n",
       "    <tr>\n",
       "      <th>6</th>\n",
       "      <td>App Start</td>\n",
       "      <td>NaN</td>\n",
       "      <td>NaN</td>\n",
       "      <td>NaN</td>\n",
       "      <td>NaN</td>\n",
       "    </tr>\n",
       "    <tr>\n",
       "      <th>7</th>\n",
       "      <td>Death/Mission</td>\n",
       "      <td>NaN</td>\n",
       "      <td>NaN</td>\n",
       "      <td>NaN</td>\n",
       "      <td>NaN</td>\n",
       "    </tr>\n",
       "    <tr>\n",
       "      <th>8</th>\n",
       "      <td>Game Pause</td>\n",
       "      <td>NaN</td>\n",
       "      <td>NaN</td>\n",
       "      <td>NaN</td>\n",
       "      <td>NaN</td>\n",
       "    </tr>\n",
       "    <tr>\n",
       "      <th>9</th>\n",
       "      <td>Load Screen</td>\n",
       "      <td>NaN</td>\n",
       "      <td>NaN</td>\n",
       "      <td>NaN</td>\n",
       "      <td>NaN</td>\n",
       "    </tr>\n",
       "    <tr>\n",
       "      <th>10</th>\n",
       "      <td>Other</td>\n",
       "      <td>NaN</td>\n",
       "      <td>NaN</td>\n",
       "      <td>NaN</td>\n",
       "      <td>NaN</td>\n",
       "    </tr>\n",
       "  </tbody>\n",
       "</table>\n",
       "</div>"
      ],
      "text/plain": [
       "      Location in game  Session Number   Rewarded  Banner  Interstitial\n",
       "0   Death/Mission Fail             3.5   2.333333     NaN           NaN\n",
       "1            Game Play             2.0   1.000000     NaN           NaN\n",
       "2           Game Store             6.0   1.000000     NaN           NaN\n",
       "3            Level End             3.5   8.500000     NaN           NaN\n",
       "4                 Menu             3.5  17.500000     NaN           NaN\n",
       "5                   AD             NaN        NaN     NaN           NaN\n",
       "6            App Start             NaN        NaN     NaN           NaN\n",
       "7        Death/Mission             NaN        NaN     NaN           NaN\n",
       "8           Game Pause             NaN        NaN     NaN           NaN\n",
       "9          Load Screen             NaN        NaN     NaN           NaN\n",
       "10               Other             NaN        NaN     NaN           NaN"
      ]
     },
     "execution_count": 43,
     "metadata": {},
     "output_type": "execute_result"
    }
   ],
   "source": [
    "ad_placement_cat = ad_placement.groupby('Location in game').mean().reset_index()\n",
    "\n",
    "for i in game_location_cols:\n",
    "    if i not in ad_placement_cat['Location in game'].values:\n",
    "        ad_placement_cat = ad_placement_cat.append({'Location in game': i}, ignore_index=True)\n",
    "\n",
    "ad_placement_cat"
   ]
  },
  {
   "cell_type": "code",
   "execution_count": 44,
   "metadata": {
    "ExecuteTime": {
     "end_time": "2020-06-21T14:05:11.369248Z",
     "start_time": "2020-06-21T14:05:11.351296Z"
    }
   },
   "outputs": [
    {
     "data": {
      "text/html": [
       "<div>\n",
       "<style scoped>\n",
       "    .dataframe tbody tr th:only-of-type {\n",
       "        vertical-align: middle;\n",
       "    }\n",
       "\n",
       "    .dataframe tbody tr th {\n",
       "        vertical-align: top;\n",
       "    }\n",
       "\n",
       "    .dataframe thead th {\n",
       "        text-align: right;\n",
       "    }\n",
       "</style>\n",
       "<table border=\"1\" class=\"dataframe\">\n",
       "  <thead>\n",
       "    <tr style=\"text-align: right;\">\n",
       "      <th></th>\n",
       "      <th>Location in game</th>\n",
       "      <th>Session Number</th>\n",
       "      <th>Rewarded</th>\n",
       "      <th>Banner</th>\n",
       "      <th>Interstitial</th>\n",
       "      <th>total_ads</th>\n",
       "    </tr>\n",
       "  </thead>\n",
       "  <tbody>\n",
       "    <tr>\n",
       "      <th>0</th>\n",
       "      <td>Death/Mission Fail</td>\n",
       "      <td>3.5</td>\n",
       "      <td>2.333333</td>\n",
       "      <td>0.0</td>\n",
       "      <td>0.0</td>\n",
       "      <td>2.333333</td>\n",
       "    </tr>\n",
       "    <tr>\n",
       "      <th>1</th>\n",
       "      <td>Game Play</td>\n",
       "      <td>2.0</td>\n",
       "      <td>1.000000</td>\n",
       "      <td>0.0</td>\n",
       "      <td>0.0</td>\n",
       "      <td>1.000000</td>\n",
       "    </tr>\n",
       "    <tr>\n",
       "      <th>2</th>\n",
       "      <td>Game Store</td>\n",
       "      <td>6.0</td>\n",
       "      <td>1.000000</td>\n",
       "      <td>0.0</td>\n",
       "      <td>0.0</td>\n",
       "      <td>1.000000</td>\n",
       "    </tr>\n",
       "    <tr>\n",
       "      <th>3</th>\n",
       "      <td>Level End</td>\n",
       "      <td>3.5</td>\n",
       "      <td>8.500000</td>\n",
       "      <td>0.0</td>\n",
       "      <td>0.0</td>\n",
       "      <td>8.500000</td>\n",
       "    </tr>\n",
       "    <tr>\n",
       "      <th>4</th>\n",
       "      <td>Menu</td>\n",
       "      <td>3.5</td>\n",
       "      <td>17.500000</td>\n",
       "      <td>0.0</td>\n",
       "      <td>0.0</td>\n",
       "      <td>17.500000</td>\n",
       "    </tr>\n",
       "    <tr>\n",
       "      <th>5</th>\n",
       "      <td>AD</td>\n",
       "      <td>0.0</td>\n",
       "      <td>0.000000</td>\n",
       "      <td>0.0</td>\n",
       "      <td>0.0</td>\n",
       "      <td>0.000000</td>\n",
       "    </tr>\n",
       "    <tr>\n",
       "      <th>6</th>\n",
       "      <td>App Start</td>\n",
       "      <td>0.0</td>\n",
       "      <td>0.000000</td>\n",
       "      <td>0.0</td>\n",
       "      <td>0.0</td>\n",
       "      <td>0.000000</td>\n",
       "    </tr>\n",
       "    <tr>\n",
       "      <th>7</th>\n",
       "      <td>Death/Mission</td>\n",
       "      <td>0.0</td>\n",
       "      <td>0.000000</td>\n",
       "      <td>0.0</td>\n",
       "      <td>0.0</td>\n",
       "      <td>0.000000</td>\n",
       "    </tr>\n",
       "    <tr>\n",
       "      <th>8</th>\n",
       "      <td>Game Pause</td>\n",
       "      <td>0.0</td>\n",
       "      <td>0.000000</td>\n",
       "      <td>0.0</td>\n",
       "      <td>0.0</td>\n",
       "      <td>0.000000</td>\n",
       "    </tr>\n",
       "    <tr>\n",
       "      <th>9</th>\n",
       "      <td>Load Screen</td>\n",
       "      <td>0.0</td>\n",
       "      <td>0.000000</td>\n",
       "      <td>0.0</td>\n",
       "      <td>0.0</td>\n",
       "      <td>0.000000</td>\n",
       "    </tr>\n",
       "    <tr>\n",
       "      <th>10</th>\n",
       "      <td>Other</td>\n",
       "      <td>0.0</td>\n",
       "      <td>0.000000</td>\n",
       "      <td>0.0</td>\n",
       "      <td>0.0</td>\n",
       "      <td>0.000000</td>\n",
       "    </tr>\n",
       "  </tbody>\n",
       "</table>\n",
       "</div>"
      ],
      "text/plain": [
       "      Location in game  Session Number   Rewarded  Banner  Interstitial  \\\n",
       "0   Death/Mission Fail             3.5   2.333333     0.0           0.0   \n",
       "1            Game Play             2.0   1.000000     0.0           0.0   \n",
       "2           Game Store             6.0   1.000000     0.0           0.0   \n",
       "3            Level End             3.5   8.500000     0.0           0.0   \n",
       "4                 Menu             3.5  17.500000     0.0           0.0   \n",
       "5                   AD             0.0   0.000000     0.0           0.0   \n",
       "6            App Start             0.0   0.000000     0.0           0.0   \n",
       "7        Death/Mission             0.0   0.000000     0.0           0.0   \n",
       "8           Game Pause             0.0   0.000000     0.0           0.0   \n",
       "9          Load Screen             0.0   0.000000     0.0           0.0   \n",
       "10               Other             0.0   0.000000     0.0           0.0   \n",
       "\n",
       "    total_ads  \n",
       "0    2.333333  \n",
       "1    1.000000  \n",
       "2    1.000000  \n",
       "3    8.500000  \n",
       "4   17.500000  \n",
       "5    0.000000  \n",
       "6    0.000000  \n",
       "7    0.000000  \n",
       "8    0.000000  \n",
       "9    0.000000  \n",
       "10   0.000000  "
      ]
     },
     "execution_count": 44,
     "metadata": {},
     "output_type": "execute_result"
    }
   ],
   "source": [
    "ad_placement_cat['total_ads'] = ad_placement_cat.drop('Session Number', axis=1).sum(axis=1)\n",
    "ad_placement_cat = ad_placement_cat.fillna(0)\n",
    "ad_placement_cat"
   ]
  },
  {
   "cell_type": "code",
   "execution_count": 45,
   "metadata": {
    "ExecuteTime": {
     "end_time": "2020-06-21T14:05:11.737262Z",
     "start_time": "2020-06-21T14:05:11.371243Z"
    }
   },
   "outputs": [
    {
     "data": {
      "image/png": "[encoded data removed]",
      "text/plain": [
       "<Figure size 720x360 with 1 Axes>"
      ]
     },
     "metadata": {},
     "output_type": "display_data"
    }
   ],
   "source": [
    "fig1, ax1 = plt.subplots(figsize=(10,5))\n",
    "ax1.pie(ad_placement_cat['total_ads'], autopct='%1.1f%%',\n",
    "        shadow=True, startangle=90)\n",
    "ax1.legend(labels=ad_placement_cat['Location in game'], loc='best')\n",
    "# Equal aspect ratio ensures that pie is drawn as a circle\n",
    "ax1.axis('equal')  \n",
    "plt.tight_layout()\n",
    "plt.show()\n",
    "fig1.savefig('Ad_placement_location_proportion.png', bbox_inches='tight')"
   ]
  },
  {
   "cell_type": "code",
   "execution_count": 46,
   "metadata": {
    "ExecuteTime": {
     "end_time": "2020-06-21T14:05:11.981607Z",
     "start_time": "2020-06-21T14:05:11.738259Z"
    }
   },
   "outputs": [
    {
     "data": {
      "image/png": "[encoded data removed]",
      "text/plain": [
       "<Figure size 720x360 with 1 Axes>"
      ]
     },
     "metadata": {},
     "output_type": "display_data"
    }
   ],
   "source": [
    "fig1, ax1 = plt.subplots(figsize=(10,5))\n",
    "ax1.pie(ad_placement_cat['Interstitial'], autopct='%1.1f%%',\n",
    "        shadow=True, startangle=90)\n",
    "ax1.legend(labels=ad_placement_cat['Location in game'], loc='best')\n",
    "# Equal aspect ratio ensures that pie is drawn as a circle\n",
    "ax1.axis('equal')  \n",
    "plt.tight_layout()\n",
    "plt.show()\n",
    "fig1.savefig('Interstitial_ad_placement_location_proportion.png', bbox_inches='tight')"
   ]
  },
  {
   "cell_type": "code",
   "execution_count": 47,
   "metadata": {
    "ExecuteTime": {
     "end_time": "2020-06-21T14:05:12.223988Z",
     "start_time": "2020-06-21T14:05:11.982605Z"
    }
   },
   "outputs": [
    {
     "data": {
      "image/png": "[encoded data removed]",
      "text/plain": [
       "<Figure size 720x360 with 1 Axes>"
      ]
     },
     "metadata": {},
     "output_type": "display_data"
    }
   ],
   "source": [
    "fig1, ax1 = plt.subplots(figsize=(10,5))\n",
    "ax1.pie(ad_placement_cat['Rewarded'], autopct='%1.1f%%',\n",
    "        shadow=True, startangle=90)\n",
    "ax1.legend(labels=ad_placement_cat['Location in game'], loc='best')\n",
    "# Equal aspect ratio ensures that pie is drawn as a circle\n",
    "ax1.axis('equal')  \n",
    "plt.tight_layout()\n",
    "plt.show()\n",
    "fig1.savefig('Rewarded_ad_placement_location_proportion.png', bbox_inches='tight')"
   ]
  },
  {
   "cell_type": "markdown",
   "metadata": {},
   "source": [
    "# Ad Type"
   ]
  },
  {
   "cell_type": "code",
   "execution_count": 48,
   "metadata": {
    "ExecuteTime": {
     "end_time": "2020-06-21T14:05:12.229943Z",
     "start_time": "2020-06-21T14:05:12.224957Z"
    }
   },
   "outputs": [
    {
     "data": {
      "text/plain": [
       "Index(['Analyst ID', 'Name', 'Phone', 'Location', 'VPN?', 'Session Number',\n",
       "       'Date (D/M/Y)', 'Session Duration', 'Game', 'Nudge Time (HH:MM:SS)',\n",
       "       'Start Type', 'Location in game', 'Game Push', 'Gift', 'What is Gifted',\n",
       "       'Gift Stacked reward', 'IAP Type', 'IAP Purchased With?',\n",
       "       'What was for sale?', 'Did you Purchase?', 'IAP Stacked reward',\n",
       "       'AD Format:', 'AD type', 'Watched ', 'If Rewarded? Type?',\n",
       "       'AD Stacked Rewards (Y/N)', 'Advertiser', 'Notes/Comments'],\n",
       "      dtype='object')"
      ]
     },
     "execution_count": 48,
     "metadata": {},
     "output_type": "execute_result"
    }
   ],
   "source": [
    "log_data.columns"
   ]
  },
  {
   "cell_type": "code",
   "execution_count": 49,
   "metadata": {
    "ExecuteTime": {
     "end_time": "2020-06-21T14:05:12.244939Z",
     "start_time": "2020-06-21T14:05:12.230941Z"
    }
   },
   "outputs": [],
   "source": [
    "ad_type_distribution = log_data.pivot_table(values='Nudge Time (HH:MM:SS)', index=['Session Number', 'AD type'], columns='AD Format:', aggfunc='count').reset_index()"
   ]
  },
  {
   "cell_type": "code",
   "execution_count": 50,
   "metadata": {
    "ExecuteTime": {
     "end_time": "2020-06-21T14:05:12.340680Z",
     "start_time": "2020-06-21T14:05:12.245909Z"
    }
   },
   "outputs": [
    {
     "data": {
      "text/html": [
       "<div>\n",
       "<style scoped>\n",
       "    .dataframe tbody tr th:only-of-type {\n",
       "        vertical-align: middle;\n",
       "    }\n",
       "\n",
       "    .dataframe tbody tr th {\n",
       "        vertical-align: top;\n",
       "    }\n",
       "\n",
       "    .dataframe thead th {\n",
       "        text-align: right;\n",
       "    }\n",
       "</style>\n",
       "<table border=\"1\" class=\"dataframe\">\n",
       "  <thead>\n",
       "    <tr style=\"text-align: right;\">\n",
       "      <th></th>\n",
       "      <th>AD type</th>\n",
       "      <th>Rewarded</th>\n",
       "    </tr>\n",
       "  </thead>\n",
       "  <tbody>\n",
       "    <tr>\n",
       "      <th>0</th>\n",
       "      <td>Playable</td>\n",
       "      <td>1.00</td>\n",
       "    </tr>\n",
       "    <tr>\n",
       "      <th>1</th>\n",
       "      <td>Video</td>\n",
       "      <td>5.83</td>\n",
       "    </tr>\n",
       "  </tbody>\n",
       "</table>\n",
       "</div>"
      ],
      "text/plain": [
       "    AD type  Rewarded\n",
       "0  Playable      1.00\n",
       "1     Video      5.83"
      ]
     },
     "execution_count": 50,
     "metadata": {},
     "output_type": "execute_result"
    },
    {
     "data": {
      "image/png": "[encoded data removed]",
      "text/plain": [
       "<Figure size 288x135 with 1 Axes>"
      ]
     },
     "metadata": {
      "needs_background": "light"
     },
     "output_type": "display_data"
    }
   ],
   "source": [
    "ad_type_distribution.columns = tuple(ad_type_distribution.columns)\n",
    "ad_type_distribution = ad_type_distribution.drop('Session Number', axis=1).groupby('AD type').mean().reset_index().fillna(0).round(2)\n",
    "render_mpl_table(ad_type_distribution, header_columns=0, col_width=2.0, filesave='ad_type_by_ad_format_distribution_table.png')\n",
    "ad_type_distribution                 "
   ]
  },
  {
   "cell_type": "markdown",
   "metadata": {},
   "source": [
    "# RV Rewards "
   ]
  },
  {
   "cell_type": "code",
   "execution_count": 51,
   "metadata": {
    "ExecuteTime": {
     "end_time": "2020-06-21T14:05:12.380576Z",
     "start_time": "2020-06-21T14:05:12.341687Z"
    }
   },
   "outputs": [
    {
     "data": {
      "text/html": [
       "<div>\n",
       "<style scoped>\n",
       "    .dataframe tbody tr th:only-of-type {\n",
       "        vertical-align: middle;\n",
       "    }\n",
       "\n",
       "    .dataframe tbody tr th {\n",
       "        vertical-align: top;\n",
       "    }\n",
       "\n",
       "    .dataframe thead th {\n",
       "        text-align: right;\n",
       "    }\n",
       "</style>\n",
       "<table border=\"1\" class=\"dataframe\">\n",
       "  <thead>\n",
       "    <tr style=\"text-align: right;\">\n",
       "      <th></th>\n",
       "      <th>Session Number</th>\n",
       "      <th>In-game Currency</th>\n",
       "      <th>In-game items</th>\n",
       "      <th>Other</th>\n",
       "      <th>Play Time</th>\n",
       "      <th>Revive/Continue</th>\n",
       "      <th>All</th>\n",
       "    </tr>\n",
       "  </thead>\n",
       "  <tbody>\n",
       "    <tr>\n",
       "      <th>0</th>\n",
       "      <td>1</td>\n",
       "      <td>7.0</td>\n",
       "      <td>NaN</td>\n",
       "      <td>NaN</td>\n",
       "      <td>15.0</td>\n",
       "      <td>1.0</td>\n",
       "      <td>23</td>\n",
       "    </tr>\n",
       "    <tr>\n",
       "      <th>1</th>\n",
       "      <td>2</td>\n",
       "      <td>3.0</td>\n",
       "      <td>NaN</td>\n",
       "      <td>NaN</td>\n",
       "      <td>15.0</td>\n",
       "      <td>2.0</td>\n",
       "      <td>20</td>\n",
       "    </tr>\n",
       "    <tr>\n",
       "      <th>2</th>\n",
       "      <td>3</td>\n",
       "      <td>5.0</td>\n",
       "      <td>NaN</td>\n",
       "      <td>2.0</td>\n",
       "      <td>18.0</td>\n",
       "      <td>3.0</td>\n",
       "      <td>28</td>\n",
       "    </tr>\n",
       "    <tr>\n",
       "      <th>3</th>\n",
       "      <td>4</td>\n",
       "      <td>6.0</td>\n",
       "      <td>NaN</td>\n",
       "      <td>3.0</td>\n",
       "      <td>19.0</td>\n",
       "      <td>2.0</td>\n",
       "      <td>30</td>\n",
       "    </tr>\n",
       "    <tr>\n",
       "      <th>4</th>\n",
       "      <td>5</td>\n",
       "      <td>4.0</td>\n",
       "      <td>NaN</td>\n",
       "      <td>3.0</td>\n",
       "      <td>20.0</td>\n",
       "      <td>4.0</td>\n",
       "      <td>31</td>\n",
       "    </tr>\n",
       "    <tr>\n",
       "      <th>5</th>\n",
       "      <td>6</td>\n",
       "      <td>4.0</td>\n",
       "      <td>1.0</td>\n",
       "      <td>2.0</td>\n",
       "      <td>23.0</td>\n",
       "      <td>2.0</td>\n",
       "      <td>32</td>\n",
       "    </tr>\n",
       "    <tr>\n",
       "      <th>6</th>\n",
       "      <td>All</td>\n",
       "      <td>29.0</td>\n",
       "      <td>1.0</td>\n",
       "      <td>10.0</td>\n",
       "      <td>110.0</td>\n",
       "      <td>14.0</td>\n",
       "      <td>164</td>\n",
       "    </tr>\n",
       "  </tbody>\n",
       "</table>\n",
       "</div>"
      ],
      "text/plain": [
       "  Session Number  In-game Currency  In-game items  Other  Play Time  \\\n",
       "0              1               7.0            NaN    NaN       15.0   \n",
       "1              2               3.0            NaN    NaN       15.0   \n",
       "2              3               5.0            NaN    2.0       18.0   \n",
       "3              4               6.0            NaN    3.0       19.0   \n",
       "4              5               4.0            NaN    3.0       20.0   \n",
       "5              6               4.0            1.0    2.0       23.0   \n",
       "6            All              29.0            1.0   10.0      110.0   \n",
       "\n",
       "   Revive/Continue  All  \n",
       "0              1.0   23  \n",
       "1              2.0   20  \n",
       "2              3.0   28  \n",
       "3              2.0   30  \n",
       "4              4.0   31  \n",
       "5              2.0   32  \n",
       "6             14.0  164  "
      ]
     },
     "execution_count": 51,
     "metadata": {},
     "output_type": "execute_result"
    }
   ],
   "source": [
    "rv_rewards = log_data.pivot_table(values='Nudge Time (HH:MM:SS)', index='Session Number', columns='If Rewarded? Type?', aggfunc='count', margins=True).reset_index()\n",
    "rv_rewards.columns = tuple(rv_rewards.columns)\n",
    "rv_rewards"
   ]
  },
  {
   "cell_type": "code",
   "execution_count": 52,
   "metadata": {
    "ExecuteTime": {
     "end_time": "2020-06-21T14:05:12.417442Z",
     "start_time": "2020-06-21T14:05:12.381561Z"
    }
   },
   "outputs": [
    {
     "name": "stdout",
     "output_type": "stream",
     "text": [
      "5\n"
     ]
    },
    {
     "data": {
      "text/html": [
       "<div>\n",
       "<style scoped>\n",
       "    .dataframe tbody tr th:only-of-type {\n",
       "        vertical-align: middle;\n",
       "    }\n",
       "\n",
       "    .dataframe tbody tr th {\n",
       "        vertical-align: top;\n",
       "    }\n",
       "\n",
       "    .dataframe thead th {\n",
       "        text-align: right;\n",
       "    }\n",
       "</style>\n",
       "<table border=\"1\" class=\"dataframe\">\n",
       "  <thead>\n",
       "    <tr style=\"text-align: right;\">\n",
       "      <th></th>\n",
       "      <th>If Rewarded? Type?</th>\n",
       "      <th>0</th>\n",
       "    </tr>\n",
       "  </thead>\n",
       "  <tbody>\n",
       "    <tr>\n",
       "      <th>0</th>\n",
       "      <td>In-game Currency</td>\n",
       "      <td>4.833333</td>\n",
       "    </tr>\n",
       "    <tr>\n",
       "      <th>1</th>\n",
       "      <td>In-game items</td>\n",
       "      <td>1.000000</td>\n",
       "    </tr>\n",
       "    <tr>\n",
       "      <th>2</th>\n",
       "      <td>Other</td>\n",
       "      <td>2.500000</td>\n",
       "    </tr>\n",
       "    <tr>\n",
       "      <th>3</th>\n",
       "      <td>Play Time</td>\n",
       "      <td>18.333333</td>\n",
       "    </tr>\n",
       "    <tr>\n",
       "      <th>4</th>\n",
       "      <td>Revive/Continue</td>\n",
       "      <td>2.333333</td>\n",
       "    </tr>\n",
       "    <tr>\n",
       "      <th>5</th>\n",
       "      <td>Faster Progression</td>\n",
       "      <td>0.000000</td>\n",
       "    </tr>\n",
       "    <tr>\n",
       "      <th>6</th>\n",
       "      <td>Hint/Information</td>\n",
       "      <td>0.000000</td>\n",
       "    </tr>\n",
       "    <tr>\n",
       "      <th>7</th>\n",
       "      <td>Random Prize</td>\n",
       "      <td>0.000000</td>\n",
       "    </tr>\n",
       "    <tr>\n",
       "      <th>8</th>\n",
       "      <td>Temporary Boost</td>\n",
       "      <td>0.000000</td>\n",
       "    </tr>\n",
       "    <tr>\n",
       "      <th>9</th>\n",
       "      <td>Upgrade</td>\n",
       "      <td>0.000000</td>\n",
       "    </tr>\n",
       "  </tbody>\n",
       "</table>\n",
       "</div>"
      ],
      "text/plain": [
       "   If Rewarded? Type?          0\n",
       "0    In-game Currency   4.833333\n",
       "1       In-game items   1.000000\n",
       "2               Other   2.500000\n",
       "3           Play Time  18.333333\n",
       "4     Revive/Continue   2.333333\n",
       "5  Faster Progression   0.000000\n",
       "6    Hint/Information   0.000000\n",
       "7        Random Prize   0.000000\n",
       "8     Temporary Boost   0.000000\n",
       "9             Upgrade   0.000000"
      ]
     },
     "execution_count": 52,
     "metadata": {},
     "output_type": "execute_result"
    }
   ],
   "source": [
    "rewards_cols = ['Faster Progression', 'Hint/Information', 'In-game Currency', 'In-game items', 'Play Time', 'Random Prize', \n",
    "               'Revive/Continue', 'Temporary Boost', 'Upgrade', 'Other']\n",
    "\n",
    "rv_rewards_cat = log_data.pivot_table(values='Nudge Time (HH:MM:SS)', index='Session Number', columns='If Rewarded? Type?', aggfunc='count').stack().reset_index()\n",
    "rv_rewards_cat = rv_rewards_cat.drop('Session Number', axis=1).groupby('If Rewarded? Type?').mean().reset_index()\n",
    "print(len(rv_rewards_cat))\n",
    "if len(rv_rewards_cat) < 5:\n",
    "    recommended_more_rewards = \"You can show more RV for more in-game rewards at more locations!\"\n",
    "else:\n",
    "    recommended_more_rewards = \"You are showing RV at multiple locations! Great Work!\"\n",
    "    \n",
    "for i in rewards_cols:\n",
    "    if i not in rv_rewards_cat['If Rewarded? Type?'].values:\n",
    "        rv_rewards_cat = rv_rewards_cat.append({'If Rewarded? Type?': i}, ignore_index=True)\n",
    "\n",
    "rv_rewards_cat = rv_rewards_cat.fillna(0)\n",
    "rv_rewards_cat"
   ]
  },
  {
   "cell_type": "code",
   "execution_count": 53,
   "metadata": {
    "ExecuteTime": {
     "end_time": "2020-06-21T14:05:12.669278Z",
     "start_time": "2020-06-21T14:05:12.418439Z"
    }
   },
   "outputs": [
    {
     "data": {
      "image/png": "[encoded data removed]",
      "text/plain": [
       "<Figure size 720x360 with 1 Axes>"
      ]
     },
     "metadata": {},
     "output_type": "display_data"
    }
   ],
   "source": [
    "fig1, ax1 = plt.subplots(figsize=(10,5))\n",
    "ax1.pie(rv_rewards_cat[0], autopct='%1.1f%%',\n",
    "        shadow=True, startangle=90)\n",
    "ax1.legend(labels=rv_rewards_cat['If Rewarded? Type?'], loc='best')\n",
    "# Equal aspect ratio ensures that pie is drawn as a circle\n",
    "ax1.axis('equal')  \n",
    "plt.tight_layout()\n",
    "plt.show()\n",
    "fig1.savefig('Rewarded_items_proportion.png', bbox_inches='tight')"
   ]
  },
  {
   "cell_type": "markdown",
   "metadata": {},
   "source": [
    "# RV stacked "
   ]
  },
  {
   "cell_type": "code",
   "execution_count": 54,
   "metadata": {
    "ExecuteTime": {
     "end_time": "2020-06-21T14:05:12.682245Z",
     "start_time": "2020-06-21T14:05:12.670276Z"
    }
   },
   "outputs": [],
   "source": [
    "rv_rewards_stacked = log_data.pivot_table(values='Nudge Time (HH:MM:SS)', index='Session Number', columns='AD Stacked Rewards (Y/N)', aggfunc='count').reset_index()\n",
    "rv_rewards_stacked.columns = tuple(rv_rewards_stacked.columns)"
   ]
  },
  {
   "cell_type": "code",
   "execution_count": 55,
   "metadata": {
    "ExecuteTime": {
     "end_time": "2020-06-21T14:05:12.687230Z",
     "start_time": "2020-06-21T14:05:12.683241Z"
    }
   },
   "outputs": [],
   "source": [
    "if 'y' not in rv_rewards_stacked.columns:\n",
    "    rv_rewards_stacked['y'] = np.nan"
   ]
  },
  {
   "cell_type": "code",
   "execution_count": 56,
   "metadata": {
    "ExecuteTime": {
     "end_time": "2020-06-21T14:05:12.695209Z",
     "start_time": "2020-06-21T14:05:12.688228Z"
    }
   },
   "outputs": [],
   "source": [
    "rv_rewards_stacked['stacked_proportion'] = rv_rewards_stacked['y']/rv_rewards['All']"
   ]
  },
  {
   "cell_type": "code",
   "execution_count": 57,
   "metadata": {
    "ExecuteTime": {
     "end_time": "2020-06-21T14:05:12.701193Z",
     "start_time": "2020-06-21T14:05:12.696206Z"
    }
   },
   "outputs": [],
   "source": [
    "rv_rewards_stacked = rv_rewards_stacked.fillna(0)"
   ]
  },
  {
   "cell_type": "code",
   "execution_count": 58,
   "metadata": {
    "ExecuteTime": {
     "end_time": "2020-06-21T14:05:12.708175Z",
     "start_time": "2020-06-21T14:05:12.702191Z"
    }
   },
   "outputs": [
    {
     "name": "stdout",
     "output_type": "stream",
     "text": [
      "0.0\n"
     ]
    }
   ],
   "source": [
    "rv_rewards_stacked_average = rv_rewards_stacked.mean()['stacked_proportion']\n",
    "print(rv_rewards_stacked_average)\n",
    "if rv_rewards_stacked_average < 0.5:\n",
    "    recommended_stacking_rewards = \"You can stacked more RV ads to double rewards!\"\n",
    "else:\n",
    "    recommended_stacking_rewards = \"You are combining RV with double rewards very well!\""
   ]
  },
  {
   "cell_type": "code",
   "execution_count": 59,
   "metadata": {
    "ExecuteTime": {
     "end_time": "2020-06-21T14:05:13.000392Z",
     "start_time": "2020-06-21T14:05:12.709172Z"
    }
   },
   "outputs": [
    {
     "data": {
      "image/png": "[encoded data removed]",
      "text/plain": [
       "<Figure size 720x720 with 1 Axes>"
      ]
     },
     "metadata": {
      "needs_background": "light"
     },
     "output_type": "display_data"
    }
   ],
   "source": [
    "fig, ax1 = plt.subplots(figsize=(10, 10))\n",
    "sns.barplot(x='Session Number', y='stacked_proportion', data=rv_rewards_stacked, ax=ax1)\n",
    "sns.despine(fig)\n",
    "fig.savefig('Rewards_stacked_through_game_play.png', bbox_inches='tight')"
   ]
  },
  {
   "cell_type": "markdown",
   "metadata": {},
   "source": [
    "# Time-based Patterns "
   ]
  },
  {
   "cell_type": "code",
   "execution_count": 60,
   "metadata": {
    "ExecuteTime": {
     "end_time": "2020-06-21T14:05:13.006377Z",
     "start_time": "2020-06-21T14:05:13.001390Z"
    }
   },
   "outputs": [
    {
     "data": {
      "text/plain": [
       "Index(['Analyst ID', 'Name', 'Phone', 'Location', 'VPN?', 'Session Number',\n",
       "       'Date (D/M/Y)', 'Session Duration', 'Game', 'Nudge Time (HH:MM:SS)',\n",
       "       'Start Type', 'Location in game', 'Game Push', 'Gift', 'What is Gifted',\n",
       "       'Gift Stacked reward', 'IAP Type', 'IAP Purchased With?',\n",
       "       'What was for sale?', 'Did you Purchase?', 'IAP Stacked reward',\n",
       "       'AD Format:', 'AD type', 'Watched ', 'If Rewarded? Type?',\n",
       "       'AD Stacked Rewards (Y/N)', 'Advertiser', 'Notes/Comments'],\n",
       "      dtype='object')"
      ]
     },
     "execution_count": 60,
     "metadata": {},
     "output_type": "execute_result"
    }
   ],
   "source": [
    "log_data.columns"
   ]
  },
  {
   "cell_type": "code",
   "execution_count": 61,
   "metadata": {
    "ExecuteTime": {
     "end_time": "2020-06-21T14:05:13.015352Z",
     "start_time": "2020-06-21T14:05:13.007373Z"
    }
   },
   "outputs": [],
   "source": [
    "log_data['Nudge Time (HH:MM:SS)'] = pd.to_timedelta(log_data['Nudge Time (HH:MM:SS)'].astype(str))\n",
    "# log_data = log_data.set_index('Nudge Time (HH:MM:SS)')"
   ]
  },
  {
   "cell_type": "code",
   "execution_count": 62,
   "metadata": {
    "ExecuteTime": {
     "end_time": "2020-06-21T14:05:13.020339Z",
     "start_time": "2020-06-21T14:05:13.016349Z"
    }
   },
   "outputs": [],
   "source": [
    "min_session_duration = int(min(log_data['Session Duration'])/60)"
   ]
  },
  {
   "cell_type": "code",
   "execution_count": 63,
   "metadata": {
    "ExecuteTime": {
     "end_time": "2020-06-21T14:05:13.028318Z",
     "start_time": "2020-06-21T14:05:13.021336Z"
    }
   },
   "outputs": [
    {
     "data": {
      "text/plain": [
       "(577, 28)"
      ]
     },
     "execution_count": 63,
     "metadata": {},
     "output_type": "execute_result"
    }
   ],
   "source": [
    "log_data = log_data[log_data['Nudge Time (HH:MM:SS)'] <= pd.to_timedelta(min(log_data['Session Duration']), unit='s')]\n",
    "log_data.shape"
   ]
  },
  {
   "cell_type": "code",
   "execution_count": 64,
   "metadata": {
    "ExecuteTime": {
     "end_time": "2020-06-21T14:05:13.036296Z",
     "start_time": "2020-06-21T14:05:13.029315Z"
    }
   },
   "outputs": [],
   "source": [
    "nudge_bins = []\n",
    "nudge_bins_cat = list(range(0, min_session_duration))\n",
    "for i in range(min_session_duration + 1):\n",
    "    nudge_bins.append(pd.to_timedelta(i, unit='m'))\n",
    "log_data['nudge_mins'] = pd.cut(log_data['Nudge Time (HH:MM:SS)'], nudge_bins, labels=nudge_bins_cat)"
   ]
  },
  {
   "cell_type": "markdown",
   "metadata": {},
   "source": [
    "## Ad Proactiveness Pattern"
   ]
  },
  {
   "cell_type": "code",
   "execution_count": 65,
   "metadata": {
    "ExecuteTime": {
     "end_time": "2020-06-21T14:05:13.049262Z",
     "start_time": "2020-06-21T14:05:13.037294Z"
    }
   },
   "outputs": [],
   "source": [
    "proactiveness_pattern = log_data.groupby(['nudge_mins', 'Start Type']).size().reset_index().rename(columns={0:'freq'})\n",
    "# proactiveness_pattern "
   ]
  },
  {
   "cell_type": "code",
   "execution_count": 66,
   "metadata": {
    "ExecuteTime": {
     "end_time": "2020-06-21T14:05:13.060232Z",
     "start_time": "2020-06-21T14:05:13.050259Z"
    }
   },
   "outputs": [
    {
     "data": {
      "text/html": [
       "<div>\n",
       "<style scoped>\n",
       "    .dataframe tbody tr th:only-of-type {\n",
       "        vertical-align: middle;\n",
       "    }\n",
       "\n",
       "    .dataframe tbody tr th {\n",
       "        vertical-align: top;\n",
       "    }\n",
       "\n",
       "    .dataframe thead th {\n",
       "        text-align: right;\n",
       "    }\n",
       "</style>\n",
       "<table border=\"1\" class=\"dataframe\">\n",
       "  <thead>\n",
       "    <tr style=\"text-align: right;\">\n",
       "      <th></th>\n",
       "      <th>nudge_mins</th>\n",
       "      <th>Start Type</th>\n",
       "      <th>freq</th>\n",
       "    </tr>\n",
       "  </thead>\n",
       "  <tbody>\n",
       "    <tr>\n",
       "      <th>0</th>\n",
       "      <td>0</td>\n",
       "      <td>Game Initiated</td>\n",
       "      <td>0</td>\n",
       "    </tr>\n",
       "    <tr>\n",
       "      <th>1</th>\n",
       "      <td>0</td>\n",
       "      <td>Location Marker</td>\n",
       "      <td>27</td>\n",
       "    </tr>\n",
       "    <tr>\n",
       "      <th>2</th>\n",
       "      <td>0</td>\n",
       "      <td>Player Initiated</td>\n",
       "      <td>44</td>\n",
       "    </tr>\n",
       "    <tr>\n",
       "      <th>3</th>\n",
       "      <td>1</td>\n",
       "      <td>Game Initiated</td>\n",
       "      <td>1</td>\n",
       "    </tr>\n",
       "    <tr>\n",
       "      <th>4</th>\n",
       "      <td>1</td>\n",
       "      <td>Location Marker</td>\n",
       "      <td>13</td>\n",
       "    </tr>\n",
       "    <tr>\n",
       "      <th>5</th>\n",
       "      <td>1</td>\n",
       "      <td>Player Initiated</td>\n",
       "      <td>27</td>\n",
       "    </tr>\n",
       "    <tr>\n",
       "      <th>6</th>\n",
       "      <td>2</td>\n",
       "      <td>Game Initiated</td>\n",
       "      <td>0</td>\n",
       "    </tr>\n",
       "    <tr>\n",
       "      <th>7</th>\n",
       "      <td>2</td>\n",
       "      <td>Location Marker</td>\n",
       "      <td>11</td>\n",
       "    </tr>\n",
       "    <tr>\n",
       "      <th>8</th>\n",
       "      <td>2</td>\n",
       "      <td>Player Initiated</td>\n",
       "      <td>65</td>\n",
       "    </tr>\n",
       "    <tr>\n",
       "      <th>9</th>\n",
       "      <td>3</td>\n",
       "      <td>Game Initiated</td>\n",
       "      <td>0</td>\n",
       "    </tr>\n",
       "    <tr>\n",
       "      <th>10</th>\n",
       "      <td>3</td>\n",
       "      <td>Location Marker</td>\n",
       "      <td>12</td>\n",
       "    </tr>\n",
       "    <tr>\n",
       "      <th>11</th>\n",
       "      <td>3</td>\n",
       "      <td>Player Initiated</td>\n",
       "      <td>23</td>\n",
       "    </tr>\n",
       "    <tr>\n",
       "      <th>12</th>\n",
       "      <td>4</td>\n",
       "      <td>Game Initiated</td>\n",
       "      <td>1</td>\n",
       "    </tr>\n",
       "    <tr>\n",
       "      <th>13</th>\n",
       "      <td>4</td>\n",
       "      <td>Location Marker</td>\n",
       "      <td>12</td>\n",
       "    </tr>\n",
       "    <tr>\n",
       "      <th>14</th>\n",
       "      <td>4</td>\n",
       "      <td>Player Initiated</td>\n",
       "      <td>66</td>\n",
       "    </tr>\n",
       "    <tr>\n",
       "      <th>15</th>\n",
       "      <td>5</td>\n",
       "      <td>Game Initiated</td>\n",
       "      <td>0</td>\n",
       "    </tr>\n",
       "    <tr>\n",
       "      <th>16</th>\n",
       "      <td>5</td>\n",
       "      <td>Location Marker</td>\n",
       "      <td>11</td>\n",
       "    </tr>\n",
       "    <tr>\n",
       "      <th>17</th>\n",
       "      <td>5</td>\n",
       "      <td>Player Initiated</td>\n",
       "      <td>32</td>\n",
       "    </tr>\n",
       "    <tr>\n",
       "      <th>18</th>\n",
       "      <td>6</td>\n",
       "      <td>Game Initiated</td>\n",
       "      <td>1</td>\n",
       "    </tr>\n",
       "    <tr>\n",
       "      <th>19</th>\n",
       "      <td>6</td>\n",
       "      <td>Location Marker</td>\n",
       "      <td>12</td>\n",
       "    </tr>\n",
       "    <tr>\n",
       "      <th>20</th>\n",
       "      <td>6</td>\n",
       "      <td>Player Initiated</td>\n",
       "      <td>26</td>\n",
       "    </tr>\n",
       "    <tr>\n",
       "      <th>21</th>\n",
       "      <td>7</td>\n",
       "      <td>Game Initiated</td>\n",
       "      <td>1</td>\n",
       "    </tr>\n",
       "    <tr>\n",
       "      <th>22</th>\n",
       "      <td>7</td>\n",
       "      <td>Location Marker</td>\n",
       "      <td>12</td>\n",
       "    </tr>\n",
       "    <tr>\n",
       "      <th>23</th>\n",
       "      <td>7</td>\n",
       "      <td>Player Initiated</td>\n",
       "      <td>89</td>\n",
       "    </tr>\n",
       "    <tr>\n",
       "      <th>24</th>\n",
       "      <td>8</td>\n",
       "      <td>Game Initiated</td>\n",
       "      <td>0</td>\n",
       "    </tr>\n",
       "    <tr>\n",
       "      <th>25</th>\n",
       "      <td>8</td>\n",
       "      <td>Location Marker</td>\n",
       "      <td>12</td>\n",
       "    </tr>\n",
       "    <tr>\n",
       "      <th>26</th>\n",
       "      <td>8</td>\n",
       "      <td>Player Initiated</td>\n",
       "      <td>25</td>\n",
       "    </tr>\n",
       "    <tr>\n",
       "      <th>27</th>\n",
       "      <td>9</td>\n",
       "      <td>Game Initiated</td>\n",
       "      <td>1</td>\n",
       "    </tr>\n",
       "    <tr>\n",
       "      <th>28</th>\n",
       "      <td>9</td>\n",
       "      <td>Location Marker</td>\n",
       "      <td>11</td>\n",
       "    </tr>\n",
       "    <tr>\n",
       "      <th>29</th>\n",
       "      <td>9</td>\n",
       "      <td>Player Initiated</td>\n",
       "      <td>42</td>\n",
       "    </tr>\n",
       "  </tbody>\n",
       "</table>\n",
       "</div>"
      ],
      "text/plain": [
       "   nudge_mins        Start Type  freq\n",
       "0           0    Game Initiated     0\n",
       "1           0   Location Marker    27\n",
       "2           0  Player Initiated    44\n",
       "3           1    Game Initiated     1\n",
       "4           1   Location Marker    13\n",
       "5           1  Player Initiated    27\n",
       "6           2    Game Initiated     0\n",
       "7           2   Location Marker    11\n",
       "8           2  Player Initiated    65\n",
       "9           3    Game Initiated     0\n",
       "10          3   Location Marker    12\n",
       "11          3  Player Initiated    23\n",
       "12          4    Game Initiated     1\n",
       "13          4   Location Marker    12\n",
       "14          4  Player Initiated    66\n",
       "15          5    Game Initiated     0\n",
       "16          5   Location Marker    11\n",
       "17          5  Player Initiated    32\n",
       "18          6    Game Initiated     1\n",
       "19          6   Location Marker    12\n",
       "20          6  Player Initiated    26\n",
       "21          7    Game Initiated     1\n",
       "22          7   Location Marker    12\n",
       "23          7  Player Initiated    89\n",
       "24          8    Game Initiated     0\n",
       "25          8   Location Marker    12\n",
       "26          8  Player Initiated    25\n",
       "27          9    Game Initiated     1\n",
       "28          9   Location Marker    11\n",
       "29          9  Player Initiated    42"
      ]
     },
     "execution_count": 66,
     "metadata": {},
     "output_type": "execute_result"
    }
   ],
   "source": [
    "proactiveness_pattern"
   ]
  },
  {
   "cell_type": "code",
   "execution_count": 67,
   "metadata": {
    "ExecuteTime": {
     "end_time": "2020-06-21T14:05:13.359432Z",
     "start_time": "2020-06-21T14:05:13.066216Z"
    }
   },
   "outputs": [
    {
     "data": {
      "image/png": "[encoded data removed]",
      "text/plain": [
       "<Figure size 432x288 with 1 Axes>"
      ]
     },
     "metadata": {
      "needs_background": "light"
     },
     "output_type": "display_data"
    }
   ],
   "source": [
    "ax = sns.lineplot(x=\"nudge_mins\", y=\"freq\", hue=\"Start Type\",\n",
    "                  data=proactiveness_pattern)\n",
    "ax.figure.savefig('Ad_proactiveness_across_average_game_duration.png', bbox_inches='tight')"
   ]
  },
  {
   "cell_type": "markdown",
   "metadata": {},
   "source": [
    "## Ad Placement Pattern"
   ]
  },
  {
   "cell_type": "code",
   "execution_count": 68,
   "metadata": {
    "ExecuteTime": {
     "end_time": "2020-06-21T14:05:13.373394Z",
     "start_time": "2020-06-21T14:05:13.361426Z"
    }
   },
   "outputs": [],
   "source": [
    "game_location_pattern = log_data[log_data['AD Format:'].notnull()]\n",
    "game_location_pattern = game_location_pattern.groupby(['nudge_mins', 'Location in game']).size().reset_index().rename(columns={0:'freq'})\n",
    "# game_location_pattern"
   ]
  },
  {
   "cell_type": "code",
   "execution_count": 69,
   "metadata": {
    "ExecuteTime": {
     "end_time": "2020-06-21T14:05:13.727445Z",
     "start_time": "2020-06-21T14:05:13.374392Z"
    }
   },
   "outputs": [
    {
     "data": {
      "image/png": "[encoded data removed]",
      "text/plain": [
       "<Figure size 432x288 with 1 Axes>"
      ]
     },
     "metadata": {
      "needs_background": "light"
     },
     "output_type": "display_data"
    }
   ],
   "source": [
    "import seaborn as sns\n",
    "import matplotlib.pyplot as plt\n",
    "ax = sns.lineplot(x=\"nudge_mins\", y=\"freq\", hue=\"Location in game\",\n",
    "                  data=game_location_pattern)\n",
    "ax.figure.savefig('Ad_location_across_average_game_duration.png', bbox_inches='tight')"
   ]
  },
  {
   "cell_type": "code",
   "execution_count": 70,
   "metadata": {
    "ExecuteTime": {
     "end_time": "2020-06-21T14:05:13.740411Z",
     "start_time": "2020-06-21T14:05:13.728444Z"
    }
   },
   "outputs": [
    {
     "data": {
      "text/html": [
       "<div>\n",
       "<style scoped>\n",
       "    .dataframe tbody tr th:only-of-type {\n",
       "        vertical-align: middle;\n",
       "    }\n",
       "\n",
       "    .dataframe tbody tr th {\n",
       "        vertical-align: top;\n",
       "    }\n",
       "\n",
       "    .dataframe thead th {\n",
       "        text-align: right;\n",
       "    }\n",
       "</style>\n",
       "<table border=\"1\" class=\"dataframe\">\n",
       "  <thead>\n",
       "    <tr style=\"text-align: right;\">\n",
       "      <th></th>\n",
       "      <th>nudge_mins</th>\n",
       "      <th>Location in game</th>\n",
       "      <th>freq</th>\n",
       "    </tr>\n",
       "  </thead>\n",
       "  <tbody>\n",
       "    <tr>\n",
       "      <th>0</th>\n",
       "      <td>0</td>\n",
       "      <td>Death/Mission Fail</td>\n",
       "      <td>1</td>\n",
       "    </tr>\n",
       "    <tr>\n",
       "      <th>1</th>\n",
       "      <td>0</td>\n",
       "      <td>Game Play</td>\n",
       "      <td>0</td>\n",
       "    </tr>\n",
       "    <tr>\n",
       "      <th>2</th>\n",
       "      <td>0</td>\n",
       "      <td>Game Store</td>\n",
       "      <td>0</td>\n",
       "    </tr>\n",
       "    <tr>\n",
       "      <th>3</th>\n",
       "      <td>0</td>\n",
       "      <td>Level End</td>\n",
       "      <td>6</td>\n",
       "    </tr>\n",
       "    <tr>\n",
       "      <th>4</th>\n",
       "      <td>0</td>\n",
       "      <td>Menu</td>\n",
       "      <td>11</td>\n",
       "    </tr>\n",
       "    <tr>\n",
       "      <th>5</th>\n",
       "      <td>1</td>\n",
       "      <td>Death/Mission Fail</td>\n",
       "      <td>2</td>\n",
       "    </tr>\n",
       "    <tr>\n",
       "      <th>6</th>\n",
       "      <td>1</td>\n",
       "      <td>Game Play</td>\n",
       "      <td>0</td>\n",
       "    </tr>\n",
       "    <tr>\n",
       "      <th>7</th>\n",
       "      <td>1</td>\n",
       "      <td>Game Store</td>\n",
       "      <td>0</td>\n",
       "    </tr>\n",
       "    <tr>\n",
       "      <th>8</th>\n",
       "      <td>1</td>\n",
       "      <td>Level End</td>\n",
       "      <td>3</td>\n",
       "    </tr>\n",
       "    <tr>\n",
       "      <th>9</th>\n",
       "      <td>1</td>\n",
       "      <td>Menu</td>\n",
       "      <td>6</td>\n",
       "    </tr>\n",
       "    <tr>\n",
       "      <th>10</th>\n",
       "      <td>2</td>\n",
       "      <td>Death/Mission Fail</td>\n",
       "      <td>1</td>\n",
       "    </tr>\n",
       "    <tr>\n",
       "      <th>11</th>\n",
       "      <td>2</td>\n",
       "      <td>Game Play</td>\n",
       "      <td>0</td>\n",
       "    </tr>\n",
       "    <tr>\n",
       "      <th>12</th>\n",
       "      <td>2</td>\n",
       "      <td>Game Store</td>\n",
       "      <td>1</td>\n",
       "    </tr>\n",
       "    <tr>\n",
       "      <th>13</th>\n",
       "      <td>2</td>\n",
       "      <td>Level End</td>\n",
       "      <td>4</td>\n",
       "    </tr>\n",
       "    <tr>\n",
       "      <th>14</th>\n",
       "      <td>2</td>\n",
       "      <td>Menu</td>\n",
       "      <td>17</td>\n",
       "    </tr>\n",
       "    <tr>\n",
       "      <th>15</th>\n",
       "      <td>3</td>\n",
       "      <td>Death/Mission Fail</td>\n",
       "      <td>1</td>\n",
       "    </tr>\n",
       "    <tr>\n",
       "      <th>16</th>\n",
       "      <td>3</td>\n",
       "      <td>Game Play</td>\n",
       "      <td>0</td>\n",
       "    </tr>\n",
       "    <tr>\n",
       "      <th>17</th>\n",
       "      <td>3</td>\n",
       "      <td>Game Store</td>\n",
       "      <td>0</td>\n",
       "    </tr>\n",
       "    <tr>\n",
       "      <th>18</th>\n",
       "      <td>3</td>\n",
       "      <td>Level End</td>\n",
       "      <td>5</td>\n",
       "    </tr>\n",
       "    <tr>\n",
       "      <th>19</th>\n",
       "      <td>3</td>\n",
       "      <td>Menu</td>\n",
       "      <td>4</td>\n",
       "    </tr>\n",
       "    <tr>\n",
       "      <th>20</th>\n",
       "      <td>4</td>\n",
       "      <td>Death/Mission Fail</td>\n",
       "      <td>0</td>\n",
       "    </tr>\n",
       "    <tr>\n",
       "      <th>21</th>\n",
       "      <td>4</td>\n",
       "      <td>Game Play</td>\n",
       "      <td>0</td>\n",
       "    </tr>\n",
       "    <tr>\n",
       "      <th>22</th>\n",
       "      <td>4</td>\n",
       "      <td>Game Store</td>\n",
       "      <td>0</td>\n",
       "    </tr>\n",
       "    <tr>\n",
       "      <th>23</th>\n",
       "      <td>4</td>\n",
       "      <td>Level End</td>\n",
       "      <td>6</td>\n",
       "    </tr>\n",
       "    <tr>\n",
       "      <th>24</th>\n",
       "      <td>4</td>\n",
       "      <td>Menu</td>\n",
       "      <td>18</td>\n",
       "    </tr>\n",
       "    <tr>\n",
       "      <th>25</th>\n",
       "      <td>5</td>\n",
       "      <td>Death/Mission Fail</td>\n",
       "      <td>2</td>\n",
       "    </tr>\n",
       "    <tr>\n",
       "      <th>26</th>\n",
       "      <td>5</td>\n",
       "      <td>Game Play</td>\n",
       "      <td>0</td>\n",
       "    </tr>\n",
       "    <tr>\n",
       "      <th>27</th>\n",
       "      <td>5</td>\n",
       "      <td>Game Store</td>\n",
       "      <td>0</td>\n",
       "    </tr>\n",
       "    <tr>\n",
       "      <th>28</th>\n",
       "      <td>5</td>\n",
       "      <td>Level End</td>\n",
       "      <td>2</td>\n",
       "    </tr>\n",
       "    <tr>\n",
       "      <th>29</th>\n",
       "      <td>5</td>\n",
       "      <td>Menu</td>\n",
       "      <td>5</td>\n",
       "    </tr>\n",
       "    <tr>\n",
       "      <th>30</th>\n",
       "      <td>6</td>\n",
       "      <td>Death/Mission Fail</td>\n",
       "      <td>2</td>\n",
       "    </tr>\n",
       "    <tr>\n",
       "      <th>31</th>\n",
       "      <td>6</td>\n",
       "      <td>Game Play</td>\n",
       "      <td>1</td>\n",
       "    </tr>\n",
       "    <tr>\n",
       "      <th>32</th>\n",
       "      <td>6</td>\n",
       "      <td>Game Store</td>\n",
       "      <td>0</td>\n",
       "    </tr>\n",
       "    <tr>\n",
       "      <th>33</th>\n",
       "      <td>6</td>\n",
       "      <td>Level End</td>\n",
       "      <td>4</td>\n",
       "    </tr>\n",
       "    <tr>\n",
       "      <th>34</th>\n",
       "      <td>6</td>\n",
       "      <td>Menu</td>\n",
       "      <td>5</td>\n",
       "    </tr>\n",
       "    <tr>\n",
       "      <th>35</th>\n",
       "      <td>7</td>\n",
       "      <td>Death/Mission Fail</td>\n",
       "      <td>2</td>\n",
       "    </tr>\n",
       "    <tr>\n",
       "      <th>36</th>\n",
       "      <td>7</td>\n",
       "      <td>Game Play</td>\n",
       "      <td>0</td>\n",
       "    </tr>\n",
       "    <tr>\n",
       "      <th>37</th>\n",
       "      <td>7</td>\n",
       "      <td>Game Store</td>\n",
       "      <td>0</td>\n",
       "    </tr>\n",
       "    <tr>\n",
       "      <th>38</th>\n",
       "      <td>7</td>\n",
       "      <td>Level End</td>\n",
       "      <td>5</td>\n",
       "    </tr>\n",
       "    <tr>\n",
       "      <th>39</th>\n",
       "      <td>7</td>\n",
       "      <td>Menu</td>\n",
       "      <td>24</td>\n",
       "    </tr>\n",
       "    <tr>\n",
       "      <th>40</th>\n",
       "      <td>8</td>\n",
       "      <td>Death/Mission Fail</td>\n",
       "      <td>1</td>\n",
       "    </tr>\n",
       "    <tr>\n",
       "      <th>41</th>\n",
       "      <td>8</td>\n",
       "      <td>Game Play</td>\n",
       "      <td>0</td>\n",
       "    </tr>\n",
       "    <tr>\n",
       "      <th>42</th>\n",
       "      <td>8</td>\n",
       "      <td>Game Store</td>\n",
       "      <td>0</td>\n",
       "    </tr>\n",
       "    <tr>\n",
       "      <th>43</th>\n",
       "      <td>8</td>\n",
       "      <td>Level End</td>\n",
       "      <td>2</td>\n",
       "    </tr>\n",
       "    <tr>\n",
       "      <th>44</th>\n",
       "      <td>8</td>\n",
       "      <td>Menu</td>\n",
       "      <td>6</td>\n",
       "    </tr>\n",
       "    <tr>\n",
       "      <th>45</th>\n",
       "      <td>9</td>\n",
       "      <td>Death/Mission Fail</td>\n",
       "      <td>0</td>\n",
       "    </tr>\n",
       "    <tr>\n",
       "      <th>46</th>\n",
       "      <td>9</td>\n",
       "      <td>Game Play</td>\n",
       "      <td>0</td>\n",
       "    </tr>\n",
       "    <tr>\n",
       "      <th>47</th>\n",
       "      <td>9</td>\n",
       "      <td>Game Store</td>\n",
       "      <td>0</td>\n",
       "    </tr>\n",
       "    <tr>\n",
       "      <th>48</th>\n",
       "      <td>9</td>\n",
       "      <td>Level End</td>\n",
       "      <td>10</td>\n",
       "    </tr>\n",
       "    <tr>\n",
       "      <th>49</th>\n",
       "      <td>9</td>\n",
       "      <td>Menu</td>\n",
       "      <td>7</td>\n",
       "    </tr>\n",
       "  </tbody>\n",
       "</table>\n",
       "</div>"
      ],
      "text/plain": [
       "   nudge_mins    Location in game  freq\n",
       "0           0  Death/Mission Fail     1\n",
       "1           0           Game Play     0\n",
       "2           0          Game Store     0\n",
       "3           0           Level End     6\n",
       "4           0                Menu    11\n",
       "5           1  Death/Mission Fail     2\n",
       "6           1           Game Play     0\n",
       "7           1          Game Store     0\n",
       "8           1           Level End     3\n",
       "9           1                Menu     6\n",
       "10          2  Death/Mission Fail     1\n",
       "11          2           Game Play     0\n",
       "12          2          Game Store     1\n",
       "13          2           Level End     4\n",
       "14          2                Menu    17\n",
       "15          3  Death/Mission Fail     1\n",
       "16          3           Game Play     0\n",
       "17          3          Game Store     0\n",
       "18          3           Level End     5\n",
       "19          3                Menu     4\n",
       "20          4  Death/Mission Fail     0\n",
       "21          4           Game Play     0\n",
       "22          4          Game Store     0\n",
       "23          4           Level End     6\n",
       "24          4                Menu    18\n",
       "25          5  Death/Mission Fail     2\n",
       "26          5           Game Play     0\n",
       "27          5          Game Store     0\n",
       "28          5           Level End     2\n",
       "29          5                Menu     5\n",
       "30          6  Death/Mission Fail     2\n",
       "31          6           Game Play     1\n",
       "32          6          Game Store     0\n",
       "33          6           Level End     4\n",
       "34          6                Menu     5\n",
       "35          7  Death/Mission Fail     2\n",
       "36          7           Game Play     0\n",
       "37          7          Game Store     0\n",
       "38          7           Level End     5\n",
       "39          7                Menu    24\n",
       "40          8  Death/Mission Fail     1\n",
       "41          8           Game Play     0\n",
       "42          8          Game Store     0\n",
       "43          8           Level End     2\n",
       "44          8                Menu     6\n",
       "45          9  Death/Mission Fail     0\n",
       "46          9           Game Play     0\n",
       "47          9          Game Store     0\n",
       "48          9           Level End    10\n",
       "49          9                Menu     7"
      ]
     },
     "execution_count": 70,
     "metadata": {},
     "output_type": "execute_result"
    }
   ],
   "source": [
    "game_location_pattern"
   ]
  },
  {
   "cell_type": "code",
   "execution_count": 71,
   "metadata": {
    "ExecuteTime": {
     "end_time": "2020-06-21T14:05:13.749387Z",
     "start_time": "2020-06-21T14:05:13.742406Z"
    }
   },
   "outputs": [],
   "source": [
    "if np.std(game_location_pattern['freq']) > 1:\n",
    "    recommended_ad_consistency = \"Game Ads can display more consistently on a high frequency!\""
   ]
  },
  {
   "cell_type": "markdown",
   "metadata": {},
   "source": [
    "## Ad Type Pattern"
   ]
  },
  {
   "cell_type": "code",
   "execution_count": 72,
   "metadata": {
    "ExecuteTime": {
     "end_time": "2020-06-21T14:05:13.765344Z",
     "start_time": "2020-06-21T14:05:13.750384Z"
    }
   },
   "outputs": [],
   "source": [
    "ad_type_pattern = log_data.groupby(['nudge_mins', 'AD type']).size().reset_index().rename(columns={0:'freq'})\n",
    "# ad_type_pattern"
   ]
  },
  {
   "cell_type": "code",
   "execution_count": 73,
   "metadata": {
    "ExecuteTime": {
     "end_time": "2020-06-21T14:05:14.046592Z",
     "start_time": "2020-06-21T14:05:13.766341Z"
    }
   },
   "outputs": [
    {
     "data": {
      "image/png": "[encoded data removed]",
      "text/plain": [
       "<Figure size 432x288 with 1 Axes>"
      ]
     },
     "metadata": {
      "needs_background": "light"
     },
     "output_type": "display_data"
    }
   ],
   "source": [
    "import seaborn as sns\n",
    "import matplotlib.pyplot as plt\n",
    "ax = sns.lineplot(x=\"nudge_mins\", y=\"freq\", hue=\"AD type\",\n",
    "                  data=ad_type_pattern)\n",
    "ax.figure.savefig('Ad_type_across_average_game_duration.png', bbox_inches='tight')"
   ]
  },
  {
   "cell_type": "markdown",
   "metadata": {},
   "source": [
    "## Ad Format Pattern"
   ]
  },
  {
   "cell_type": "code",
   "execution_count": 74,
   "metadata": {
    "ExecuteTime": {
     "end_time": "2020-06-21T14:05:14.056566Z",
     "start_time": "2020-06-21T14:05:14.047590Z"
    },
    "scrolled": true
   },
   "outputs": [],
   "source": [
    "ad_format_pattern = log_data.groupby(['nudge_mins', 'AD Format:']).size().reset_index().rename(columns={0:'freq'})\n",
    "# ad_format_pattern"
   ]
  },
  {
   "cell_type": "code",
   "execution_count": 75,
   "metadata": {
    "ExecuteTime": {
     "end_time": "2020-06-21T14:05:14.061553Z",
     "start_time": "2020-06-21T14:05:14.057563Z"
    }
   },
   "outputs": [],
   "source": [
    "#nudges per mins\n",
    "#graph out all the sessions and get the moving averarge and the change in nudge density over the course of the gameplay"
   ]
  },
  {
   "cell_type": "code",
   "execution_count": 76,
   "metadata": {
    "ExecuteTime": {
     "end_time": "2020-06-21T14:05:14.301909Z",
     "start_time": "2020-06-21T14:05:14.062550Z"
    }
   },
   "outputs": [
    {
     "data": {
      "image/png": "[encoded data removed]",
      "text/plain": [
       "<Figure size 432x288 with 1 Axes>"
      ]
     },
     "metadata": {
      "needs_background": "light"
     },
     "output_type": "display_data"
    }
   ],
   "source": [
    "import seaborn as sns\n",
    "import matplotlib.pyplot as plt\n",
    "ax = sns.lineplot(x=\"nudge_mins\", y=\"freq\", hue=\"AD Format:\",\n",
    "                  data=ad_format_pattern)\n",
    "ax.figure.savefig('Ad_category_across_average_game_duration.png', bbox_inches='tight')"
   ]
  },
  {
   "cell_type": "markdown",
   "metadata": {},
   "source": [
    "## Ad Format Cat "
   ]
  },
  {
   "cell_type": "code",
   "execution_count": 77,
   "metadata": {
    "ExecuteTime": {
     "end_time": "2020-06-21T14:05:14.307893Z",
     "start_time": "2020-06-21T14:05:14.302906Z"
    }
   },
   "outputs": [
    {
     "data": {
      "text/plain": [
       "['Banner', 'Interstitial', 'Rewarded']"
      ]
     },
     "execution_count": 77,
     "metadata": {},
     "output_type": "execute_result"
    }
   ],
   "source": [
    "ad_cols"
   ]
  },
  {
   "cell_type": "code",
   "execution_count": 78,
   "metadata": {
    "ExecuteTime": {
     "end_time": "2020-06-21T14:05:14.324847Z",
     "start_time": "2020-06-21T14:05:14.308891Z"
    }
   },
   "outputs": [
    {
     "data": {
      "text/html": [
       "<div>\n",
       "<style scoped>\n",
       "    .dataframe tbody tr th:only-of-type {\n",
       "        vertical-align: middle;\n",
       "    }\n",
       "\n",
       "    .dataframe tbody tr th {\n",
       "        vertical-align: top;\n",
       "    }\n",
       "\n",
       "    .dataframe thead th {\n",
       "        text-align: right;\n",
       "    }\n",
       "</style>\n",
       "<table border=\"1\" class=\"dataframe\">\n",
       "  <thead>\n",
       "    <tr style=\"text-align: right;\">\n",
       "      <th></th>\n",
       "      <th>AD Format:</th>\n",
       "      <th>freq</th>\n",
       "    </tr>\n",
       "  </thead>\n",
       "  <tbody>\n",
       "    <tr>\n",
       "      <th>0</th>\n",
       "      <td>Rewarded</td>\n",
       "      <td>164</td>\n",
       "    </tr>\n",
       "    <tr>\n",
       "      <th>1</th>\n",
       "      <td>Banner</td>\n",
       "      <td>0</td>\n",
       "    </tr>\n",
       "    <tr>\n",
       "      <th>2</th>\n",
       "      <td>Interstitial</td>\n",
       "      <td>0</td>\n",
       "    </tr>\n",
       "  </tbody>\n",
       "</table>\n",
       "</div>"
      ],
      "text/plain": [
       "     AD Format:  freq\n",
       "0      Rewarded   164\n",
       "1        Banner     0\n",
       "2  Interstitial     0"
      ]
     },
     "execution_count": 78,
     "metadata": {},
     "output_type": "execute_result"
    }
   ],
   "source": [
    "ad_format_pattern_cat = ad_format_pattern.groupby(['AD Format:']).sum().reset_index().rename(columns={0:'freq'})\n",
    "\n",
    "for i in ad_cols:\n",
    "    if i not in ad_format_pattern_cat['AD Format:'].values:\n",
    "        ad_format_pattern_cat = ad_format_pattern_cat.append({'AD Format:': i, 'freq':0}, ignore_index=True)\n",
    "ad_format_pattern_cat"
   ]
  },
  {
   "cell_type": "code",
   "execution_count": 79,
   "metadata": {
    "ExecuteTime": {
     "end_time": "2020-06-21T14:05:14.461482Z",
     "start_time": "2020-06-21T14:05:14.325845Z"
    }
   },
   "outputs": [
    {
     "data": {
      "image/png": "[encoded data removed]",
      "text/plain": [
       "<Figure size 720x360 with 1 Axes>"
      ]
     },
     "metadata": {},
     "output_type": "display_data"
    }
   ],
   "source": [
    "fig1, ax1 = plt.subplots(figsize=(10,5))\n",
    "ax1.pie(ad_format_pattern_cat['freq'], autopct='%1.1f%%',\n",
    "        shadow=True, startangle=90)\n",
    "ax1.legend(labels=ad_format_pattern_cat['AD Format:'], loc='best')\n",
    "# Equal aspect ratio ensures that pie is drawn as a circle\n",
    "ax1.axis('equal')  \n",
    "plt.tight_layout()\n",
    "plt.show()\n",
    "fig1.savefig('Ad_category_in_game.png', bbox_inches='tight')"
   ]
  },
  {
   "cell_type": "markdown",
   "metadata": {},
   "source": [
    "## Ad Reward Stacked Pattern"
   ]
  },
  {
   "cell_type": "code",
   "execution_count": 80,
   "metadata": {
    "ExecuteTime": {
     "end_time": "2020-06-21T14:05:14.480432Z",
     "start_time": "2020-06-21T14:05:14.462479Z"
    },
    "scrolled": true
   },
   "outputs": [
    {
     "data": {
      "text/html": [
       "<div>\n",
       "<style scoped>\n",
       "    .dataframe tbody tr th:only-of-type {\n",
       "        vertical-align: middle;\n",
       "    }\n",
       "\n",
       "    .dataframe tbody tr th {\n",
       "        vertical-align: top;\n",
       "    }\n",
       "\n",
       "    .dataframe thead th {\n",
       "        text-align: right;\n",
       "    }\n",
       "</style>\n",
       "<table border=\"1\" class=\"dataframe\">\n",
       "  <thead>\n",
       "    <tr style=\"text-align: right;\">\n",
       "      <th></th>\n",
       "      <th>nudge_mins</th>\n",
       "      <th>AD Stacked Rewards (Y/N)</th>\n",
       "      <th>y_freq</th>\n",
       "      <th>total</th>\n",
       "      <th>n_freq</th>\n",
       "    </tr>\n",
       "  </thead>\n",
       "  <tbody>\n",
       "    <tr>\n",
       "      <th>0</th>\n",
       "      <td>0</td>\n",
       "      <td>n</td>\n",
       "      <td>2</td>\n",
       "      <td>18</td>\n",
       "      <td>16</td>\n",
       "    </tr>\n",
       "    <tr>\n",
       "      <th>1</th>\n",
       "      <td>1</td>\n",
       "      <td>n</td>\n",
       "      <td>4</td>\n",
       "      <td>11</td>\n",
       "      <td>7</td>\n",
       "    </tr>\n",
       "    <tr>\n",
       "      <th>2</th>\n",
       "      <td>2</td>\n",
       "      <td>n</td>\n",
       "      <td>4</td>\n",
       "      <td>23</td>\n",
       "      <td>19</td>\n",
       "    </tr>\n",
       "    <tr>\n",
       "      <th>3</th>\n",
       "      <td>3</td>\n",
       "      <td>n</td>\n",
       "      <td>3</td>\n",
       "      <td>10</td>\n",
       "      <td>7</td>\n",
       "    </tr>\n",
       "    <tr>\n",
       "      <th>4</th>\n",
       "      <td>4</td>\n",
       "      <td>n</td>\n",
       "      <td>3</td>\n",
       "      <td>24</td>\n",
       "      <td>21</td>\n",
       "    </tr>\n",
       "    <tr>\n",
       "      <th>5</th>\n",
       "      <td>5</td>\n",
       "      <td>n</td>\n",
       "      <td>2</td>\n",
       "      <td>9</td>\n",
       "      <td>7</td>\n",
       "    </tr>\n",
       "    <tr>\n",
       "      <th>6</th>\n",
       "      <td>6</td>\n",
       "      <td>n</td>\n",
       "      <td>5</td>\n",
       "      <td>12</td>\n",
       "      <td>7</td>\n",
       "    </tr>\n",
       "    <tr>\n",
       "      <th>7</th>\n",
       "      <td>7</td>\n",
       "      <td>n</td>\n",
       "      <td>5</td>\n",
       "      <td>31</td>\n",
       "      <td>26</td>\n",
       "    </tr>\n",
       "    <tr>\n",
       "      <th>8</th>\n",
       "      <td>8</td>\n",
       "      <td>n</td>\n",
       "      <td>2</td>\n",
       "      <td>9</td>\n",
       "      <td>7</td>\n",
       "    </tr>\n",
       "    <tr>\n",
       "      <th>9</th>\n",
       "      <td>9</td>\n",
       "      <td>n</td>\n",
       "      <td>3</td>\n",
       "      <td>17</td>\n",
       "      <td>14</td>\n",
       "    </tr>\n",
       "  </tbody>\n",
       "</table>\n",
       "</div>"
      ],
      "text/plain": [
       "  nudge_mins AD Stacked Rewards (Y/N)  y_freq  total  n_freq\n",
       "0          0                        n       2     18      16\n",
       "1          1                        n       4     11       7\n",
       "2          2                        n       4     23      19\n",
       "3          3                        n       3     10       7\n",
       "4          4                        n       3     24      21\n",
       "5          5                        n       2      9       7\n",
       "6          6                        n       5     12       7\n",
       "7          7                        n       5     31      26\n",
       "8          8                        n       2      9       7\n",
       "9          9                        n       3     17      14"
      ]
     },
     "execution_count": 80,
     "metadata": {},
     "output_type": "execute_result"
    }
   ],
   "source": [
    "stacked_pattern = log_data.groupby(['nudge_mins', 'AD Stacked Rewards (Y/N)']).size().reset_index().rename(columns={0:'y_freq'})\n",
    "ad_format_pattern_rewarded = ad_format_pattern[ad_format_pattern['AD Format:'] == 'Rewarded']\n",
    "stacked_pattern['total'] = ad_format_pattern.groupby('nudge_mins')['freq'].sum()\n",
    "stacked_pattern['n_freq'] = stacked_pattern['total'] - stacked_pattern['y_freq']\n",
    "stacked_pattern"
   ]
  },
  {
   "cell_type": "raw",
   "metadata": {
    "ExecuteTime": {
     "end_time": "2020-06-17T05:42:09.149072Z",
     "start_time": "2020-06-17T05:42:08.904726Z"
    }
   },
   "source": [
    "import seaborn as sns\n",
    "import matplotlib.pyplot as plt\n",
    "ax = sns.lineplot(x=\"nudge_mins\", y=\"y_freq\", hue=\"AD Stacked Rewards (Y/N)\",\n",
    "                  data=stacked_pattern)\n",
    "ax.figure.savefig('Ad_stacked_rewards_across_average_game_duration.png', bbox_inches='tight')"
   ]
  },
  {
   "cell_type": "code",
   "execution_count": 81,
   "metadata": {
    "ExecuteTime": {
     "end_time": "2020-06-21T14:05:14.689872Z",
     "start_time": "2020-06-21T14:05:14.481429Z"
    }
   },
   "outputs": [
    {
     "data": {
      "image/png": "[encoded data removed]",
      "text/plain": [
       "<Figure size 432x288 with 1 Axes>"
      ]
     },
     "metadata": {
      "needs_background": "light"
     },
     "output_type": "display_data"
    }
   ],
   "source": [
    "# multiple line plot\n",
    "ax = plt.plot( 'nudge_mins', 'y_freq', data=stacked_pattern, markerfacecolor='blue', markersize=12, color='skyblue', linewidth=4)\n",
    "ax = plt.plot( 'nudge_mins', 'n_freq', data=stacked_pattern, color='olive', linewidth=2)\n",
    "ax = plt.legend()\n",
    "ax.figure.savefig('Ad_stacked_rewards_across_average_game_duration.png', bbox_inches='tight')"
   ]
  },
  {
   "cell_type": "markdown",
   "metadata": {},
   "source": [
    "# Undesirable Ad Patterns"
   ]
  },
  {
   "cell_type": "code",
   "execution_count": 82,
   "metadata": {
    "ExecuteTime": {
     "end_time": "2020-06-21T14:05:14.695855Z",
     "start_time": "2020-06-21T14:05:14.691866Z"
    }
   },
   "outputs": [],
   "source": [
    "anti_ad_patterns = 0\n",
    "max_level = 0"
   ]
  },
  {
   "cell_type": "code",
   "execution_count": 83,
   "metadata": {
    "ExecuteTime": {
     "end_time": "2020-06-21T14:05:14.705340Z",
     "start_time": "2020-06-21T14:05:14.696852Z"
    }
   },
   "outputs": [],
   "source": [
    "#Get all the anti-ad patterns"
   ]
  },
  {
   "cell_type": "code",
   "execution_count": 84,
   "metadata": {
    "ExecuteTime": {
     "end_time": "2020-06-21T14:05:14.713318Z",
     "start_time": "2020-06-21T14:05:14.706337Z"
    }
   },
   "outputs": [],
   "source": [
    "max_level += 1\n",
    "if ad_placement_cat[ad_placement_cat['Location in game'] != 'Game Play'].sum()['Banner'] > 0:\n",
    "    anti_ad_patterns += 1"
   ]
  },
  {
   "cell_type": "code",
   "execution_count": 85,
   "metadata": {
    "ExecuteTime": {
     "end_time": "2020-06-21T14:05:14.718305Z",
     "start_time": "2020-06-21T14:05:14.714319Z"
    }
   },
   "outputs": [],
   "source": [
    "max_level += 1\n",
    "if str(time_to_first_ad) < '00:00:05':\n",
    "    anti_ad_patterns += 1"
   ]
  },
  {
   "cell_type": "code",
   "execution_count": 86,
   "metadata": {
    "ExecuteTime": {
     "end_time": "2020-06-21T14:05:14.728278Z",
     "start_time": "2020-06-21T14:05:14.719302Z"
    }
   },
   "outputs": [
    {
     "data": {
      "text/plain": [
       "0.0"
      ]
     },
     "execution_count": 86,
     "metadata": {},
     "output_type": "execute_result"
    }
   ],
   "source": [
    "anti_ad_patterns/max_level"
   ]
  },
  {
   "cell_type": "markdown",
   "metadata": {},
   "source": [
    "# Desirable Ad Patterns "
   ]
  },
  {
   "cell_type": "markdown",
   "metadata": {},
   "source": [
    "## Daily reward when open game"
   ]
  },
  {
   "cell_type": "code",
   "execution_count": 87,
   "metadata": {
    "ExecuteTime": {
     "end_time": "2020-06-21T14:05:14.734262Z",
     "start_time": "2020-06-21T14:05:14.729275Z"
    }
   },
   "outputs": [
    {
     "data": {
      "text/plain": [
       "['AD',\n",
       " 'App Start',\n",
       " 'Death/Mission',\n",
       " 'Game Pause',\n",
       " 'Game Play',\n",
       " 'Game Store',\n",
       " 'Level End',\n",
       " 'Load Screen',\n",
       " 'Menu',\n",
       " 'Other']"
      ]
     },
     "execution_count": 87,
     "metadata": {},
     "output_type": "execute_result"
    }
   ],
   "source": [
    "game_location_cols"
   ]
  },
  {
   "cell_type": "code",
   "execution_count": 88,
   "metadata": {
    "ExecuteTime": {
     "end_time": "2020-06-21T14:05:14.741244Z",
     "start_time": "2020-06-21T14:05:14.735259Z"
    }
   },
   "outputs": [
    {
     "data": {
      "text/plain": [
       "'You can create and gift daily reward to gamers when they return to the game! This helps with retention rate by rewarding users to return to the game on a daily basis.'"
      ]
     },
     "execution_count": 88,
     "metadata": {},
     "output_type": "execute_result"
    }
   ],
   "source": [
    "if ad_placement_cat[ad_placement_cat['Location in game'] == 'App Start']['Rewarded'].values > 0:\n",
    "    print('Desired Ad Achieved: Daily reward when open game')\n",
    "else:\n",
    "    recommended_desire1 = \"You can create and gift daily reward to gamers when they return to the game! This helps with retention rate by rewarding users to return to the game on a daily basis.\"\n",
    "recommended_desire1"
   ]
  },
  {
   "cell_type": "markdown",
   "metadata": {},
   "source": [
    "## RV to double reward"
   ]
  },
  {
   "cell_type": "code",
   "execution_count": 89,
   "metadata": {
    "ExecuteTime": {
     "end_time": "2020-06-21T14:05:14.748225Z",
     "start_time": "2020-06-21T14:05:14.743239Z"
    }
   },
   "outputs": [],
   "source": [
    "if rv_rewards_stacked['y'].sum():\n",
    "    print('Desired Ad Achieved: RV to double reward')\n",
    "else:\n",
    "    recommended_desire2 = \"When the Level completes, add RV to double the rewards!\""
   ]
  },
  {
   "cell_type": "markdown",
   "metadata": {},
   "source": [
    "## RV for Hint"
   ]
  },
  {
   "cell_type": "code",
   "execution_count": 90,
   "metadata": {
    "ExecuteTime": {
     "end_time": "2020-06-21T14:05:14.756202Z",
     "start_time": "2020-06-21T14:05:14.750220Z"
    }
   },
   "outputs": [],
   "source": [
    "if rv_rewards_cat[rv_rewards_cat['If Rewarded? Type?'] == 'Hint/Information'][0].values > 0:\n",
    "    print('Desired Ad Achieved: RV for hint')\n",
    "else:\n",
    "    recommended_desire3 = \"You can add RV to give gamers' hint in the game! This  \\\n",
    "players to progress more rapidly through the game and drives \\\n",
    "higher retention.\" "
   ]
  },
  {
   "cell_type": "markdown",
   "metadata": {},
   "source": [
    "## RV for level end"
   ]
  },
  {
   "cell_type": "code",
   "execution_count": 91,
   "metadata": {
    "ExecuteTime": {
     "end_time": "2020-06-21T14:05:14.763185Z",
     "start_time": "2020-06-21T14:05:14.757201Z"
    }
   },
   "outputs": [
    {
     "name": "stdout",
     "output_type": "stream",
     "text": [
      "Desired Ad Achieved: RV to reach level end\n"
     ]
    }
   ],
   "source": [
    "if ad_placement_cat[ad_placement_cat['Location in game'] == 'Level End']['Rewarded'].values > 0:\n",
    "    print('Desired Ad Achieved: RV to reach level end')\n",
    "else:\n",
    "    recommended_desire4 = \"After every level use an option to get double coins by seeing a RV or Interstitial Ads! \""
   ]
  },
  {
   "cell_type": "markdown",
   "metadata": {},
   "source": [
    "## RV to continue"
   ]
  },
  {
   "cell_type": "code",
   "execution_count": 92,
   "metadata": {
    "ExecuteTime": {
     "end_time": "2020-06-21T14:05:14.769169Z",
     "start_time": "2020-06-21T14:05:14.764182Z"
    }
   },
   "outputs": [],
   "source": [
    "if ad_placement_cat[ad_placement_cat['Location in game'] == 'Death/Mission']['Rewarded'].values > 0:\n",
    "    print('Desired Ad Achieved: RV to continue')\n",
    "else:\n",
    "    recommended_desire5 = \"Let players see a RV and continue every time they fail! Allow them to resume playing from the same place.\""
   ]
  },
  {
   "cell_type": "markdown",
   "metadata": {},
   "source": [
    "## RV for resource"
   ]
  },
  {
   "cell_type": "code",
   "execution_count": 93,
   "metadata": {
    "ExecuteTime": {
     "end_time": "2020-06-21T14:05:14.777147Z",
     "start_time": "2020-06-21T14:05:14.770166Z"
    }
   },
   "outputs": [
    {
     "name": "stdout",
     "output_type": "stream",
     "text": [
      "Desired Ad Achieved: RV to get resource when out of resource\n"
     ]
    }
   ],
   "source": [
    "if rv_rewards_cat[rv_rewards_cat['If Rewarded? Type?'] == 'In-game items'][0].values > 0:\n",
    "    print('Desired Ad Achieved: RV to get resource when out of resource')\n",
    "else:\n",
    "    recommended_desire6 = \"Please add an option to see a RV to get more items!\""
   ]
  },
  {
   "cell_type": "markdown",
   "metadata": {},
   "source": [
    "## RV to skip level "
   ]
  },
  {
   "cell_type": "code",
   "execution_count": 94,
   "metadata": {
    "ExecuteTime": {
     "end_time": "2020-06-21T14:05:14.783131Z",
     "start_time": "2020-06-21T14:05:14.778144Z"
    }
   },
   "outputs": [],
   "source": [
    "if rv_rewards_cat[rv_rewards_cat['If Rewarded? Type?'] == 'Faster Progression'][0].values > 0:\n",
    "    print('Desired Ad Achieved: RV to get skip level')\n",
    "else:\n",
    "    recommended_desire7 = \"Please add an option to watch an ad to skip to the next level of the game. Currently the levels are unlocked by winning the previous level. But you can add the option for player to see an Ad to skip.\""
   ]
  },
  {
   "cell_type": "markdown",
   "metadata": {},
   "source": [
    "## RV to get more time "
   ]
  },
  {
   "cell_type": "code",
   "execution_count": 95,
   "metadata": {
    "ExecuteTime": {
     "end_time": "2020-06-21T14:05:14.789119Z",
     "start_time": "2020-06-21T14:05:14.784128Z"
    }
   },
   "outputs": [
    {
     "name": "stdout",
     "output_type": "stream",
     "text": [
      "Desired Ad Achieved: RV to get more time\n"
     ]
    }
   ],
   "source": [
    "if rv_rewards_cat[rv_rewards_cat['If Rewarded? Type?'] == 'Play Time'][0].values > 0:\n",
    "    print('Desired Ad Achieved: RV to get more time')\n",
    "else:\n",
    "    recommended_desire8 = 'You can add RV to reward gamers more game time!'"
   ]
  },
  {
   "cell_type": "markdown",
   "metadata": {},
   "source": [
    "## RV Interstitial Ads Recommendation"
   ]
  },
  {
   "cell_type": "code",
   "execution_count": 96,
   "metadata": {
    "ExecuteTime": {
     "end_time": "2020-06-21T14:05:14.795099Z",
     "start_time": "2020-06-21T14:05:14.790113Z"
    }
   },
   "outputs": [],
   "source": [
    "recommended_desire9 = \"The optimal display interval for interstitial differs from game to game, we recommend A/B testing the optimal display interval \\\n",
    "for \" + str(game) + \" starting with 120 seconds / interstitial, then \\\n",
    "decreasing it by gradually using dynamic server side \\\n",
    "parameters while monitoring retention. Keep reducing the \\\n",
    "display interval by 15-30 seconds as long as retention doesn't \\\n",
    "decrease to achieve optimal revenue with the best player \\\n",
    "experience.\""
   ]
  },
  {
   "cell_type": "markdown",
   "metadata": {},
   "source": [
    "# Ad Design Score"
   ]
  },
  {
   "cell_type": "code",
   "execution_count": 97,
   "metadata": {
    "ExecuteTime": {
     "end_time": "2020-06-21T14:05:14.819035Z",
     "start_time": "2020-06-21T14:05:14.796097Z"
    }
   },
   "outputs": [
    {
     "data": {
      "text/html": [
       "<div>\n",
       "<style scoped>\n",
       "    .dataframe tbody tr th:only-of-type {\n",
       "        vertical-align: middle;\n",
       "    }\n",
       "\n",
       "    .dataframe tbody tr th {\n",
       "        vertical-align: top;\n",
       "    }\n",
       "\n",
       "    .dataframe thead th {\n",
       "        text-align: right;\n",
       "    }\n",
       "</style>\n",
       "<table border=\"1\" class=\"dataframe\">\n",
       "  <thead>\n",
       "    <tr style=\"text-align: right;\">\n",
       "      <th></th>\n",
       "      <th>Session Number</th>\n",
       "      <th>Start Type</th>\n",
       "      <th>AD Format:</th>\n",
       "      <th>Rewarded</th>\n",
       "      <th>Playable</th>\n",
       "      <th>Video</th>\n",
       "      <th>Session Duration</th>\n",
       "      <th>Game Initiated</th>\n",
       "      <th>Location Marker</th>\n",
       "      <th>Player Initiated</th>\n",
       "      <th>...</th>\n",
       "      <th>Interstitial_Game Initiated</th>\n",
       "      <th>Ad velocity</th>\n",
       "      <th>Banner velocity</th>\n",
       "      <th>Interstitial velocity</th>\n",
       "      <th>Rewarded velocity</th>\n",
       "      <th>Ad proactiveness</th>\n",
       "      <th>Banner proactiveness</th>\n",
       "      <th>Interstitial proactiveness</th>\n",
       "      <th>Rewarded proactiveness</th>\n",
       "      <th>Static</th>\n",
       "    </tr>\n",
       "  </thead>\n",
       "  <tbody>\n",
       "    <tr>\n",
       "      <th>0</th>\n",
       "      <td>1.000000</td>\n",
       "      <td>76.000000</td>\n",
       "      <td>23.000000</td>\n",
       "      <td>23.000000</td>\n",
       "      <td>NaN</td>\n",
       "      <td>6.000000</td>\n",
       "      <td>00:10:25</td>\n",
       "      <td>2.000000</td>\n",
       "      <td>0.000000</td>\n",
       "      <td>21.000000</td>\n",
       "      <td>...</td>\n",
       "      <td>NaN</td>\n",
       "      <td>00:00:27.173913</td>\n",
       "      <td>0 days</td>\n",
       "      <td>0 days</td>\n",
       "      <td>00:00:27.173913</td>\n",
       "      <td>0.086957</td>\n",
       "      <td>NaN</td>\n",
       "      <td>NaN</td>\n",
       "      <td>0.086957</td>\n",
       "      <td>NaN</td>\n",
       "    </tr>\n",
       "    <tr>\n",
       "      <th>1</th>\n",
       "      <td>2.000000</td>\n",
       "      <td>85.000000</td>\n",
       "      <td>25.000000</td>\n",
       "      <td>25.000000</td>\n",
       "      <td>NaN</td>\n",
       "      <td>9.000000</td>\n",
       "      <td>00:10:05</td>\n",
       "      <td>0.000000</td>\n",
       "      <td>1.000000</td>\n",
       "      <td>24.000000</td>\n",
       "      <td>...</td>\n",
       "      <td>NaN</td>\n",
       "      <td>00:00:24.200000</td>\n",
       "      <td>0 days</td>\n",
       "      <td>0 days</td>\n",
       "      <td>00:00:24.200000</td>\n",
       "      <td>0.000000</td>\n",
       "      <td>NaN</td>\n",
       "      <td>NaN</td>\n",
       "      <td>NaN</td>\n",
       "      <td>NaN</td>\n",
       "    </tr>\n",
       "    <tr>\n",
       "      <th>2</th>\n",
       "      <td>3.000000</td>\n",
       "      <td>109.000000</td>\n",
       "      <td>31.000000</td>\n",
       "      <td>31.000000</td>\n",
       "      <td>1.0</td>\n",
       "      <td>5.000000</td>\n",
       "      <td>00:10:50</td>\n",
       "      <td>0.000000</td>\n",
       "      <td>0.000000</td>\n",
       "      <td>31.000000</td>\n",
       "      <td>...</td>\n",
       "      <td>NaN</td>\n",
       "      <td>00:00:20.967741</td>\n",
       "      <td>0 days</td>\n",
       "      <td>0 days</td>\n",
       "      <td>00:00:20.967741</td>\n",
       "      <td>0.000000</td>\n",
       "      <td>NaN</td>\n",
       "      <td>NaN</td>\n",
       "      <td>NaN</td>\n",
       "      <td>NaN</td>\n",
       "    </tr>\n",
       "    <tr>\n",
       "      <th>3</th>\n",
       "      <td>4.000000</td>\n",
       "      <td>101.000000</td>\n",
       "      <td>30.000000</td>\n",
       "      <td>30.000000</td>\n",
       "      <td>1.0</td>\n",
       "      <td>5.000000</td>\n",
       "      <td>00:11:21.188118</td>\n",
       "      <td>0.000000</td>\n",
       "      <td>0.000000</td>\n",
       "      <td>30.000000</td>\n",
       "      <td>...</td>\n",
       "      <td>NaN</td>\n",
       "      <td>00:00:22.706270</td>\n",
       "      <td>0 days</td>\n",
       "      <td>0 days</td>\n",
       "      <td>00:00:22.706270</td>\n",
       "      <td>0.000000</td>\n",
       "      <td>NaN</td>\n",
       "      <td>NaN</td>\n",
       "      <td>NaN</td>\n",
       "      <td>NaN</td>\n",
       "    </tr>\n",
       "    <tr>\n",
       "      <th>4</th>\n",
       "      <td>5.000000</td>\n",
       "      <td>113.000000</td>\n",
       "      <td>31.000000</td>\n",
       "      <td>31.000000</td>\n",
       "      <td>NaN</td>\n",
       "      <td>7.000000</td>\n",
       "      <td>00:11:44</td>\n",
       "      <td>0.000000</td>\n",
       "      <td>1.000000</td>\n",
       "      <td>30.000000</td>\n",
       "      <td>...</td>\n",
       "      <td>NaN</td>\n",
       "      <td>00:00:22.709677</td>\n",
       "      <td>0 days</td>\n",
       "      <td>0 days</td>\n",
       "      <td>00:00:22.709677</td>\n",
       "      <td>0.000000</td>\n",
       "      <td>NaN</td>\n",
       "      <td>NaN</td>\n",
       "      <td>NaN</td>\n",
       "      <td>NaN</td>\n",
       "    </tr>\n",
       "    <tr>\n",
       "      <th>5</th>\n",
       "      <td>6.000000</td>\n",
       "      <td>115.000000</td>\n",
       "      <td>32.000000</td>\n",
       "      <td>32.000000</td>\n",
       "      <td>1.0</td>\n",
       "      <td>3.000000</td>\n",
       "      <td>00:10:04</td>\n",
       "      <td>0.000000</td>\n",
       "      <td>0.000000</td>\n",
       "      <td>32.000000</td>\n",
       "      <td>...</td>\n",
       "      <td>NaN</td>\n",
       "      <td>00:00:18.875000</td>\n",
       "      <td>0 days</td>\n",
       "      <td>0 days</td>\n",
       "      <td>00:00:18.875000</td>\n",
       "      <td>0.000000</td>\n",
       "      <td>NaN</td>\n",
       "      <td>NaN</td>\n",
       "      <td>NaN</td>\n",
       "      <td>NaN</td>\n",
       "    </tr>\n",
       "    <tr>\n",
       "      <th>average</th>\n",
       "      <td>3.500000</td>\n",
       "      <td>99.833333</td>\n",
       "      <td>28.666667</td>\n",
       "      <td>28.666667</td>\n",
       "      <td>1.0</td>\n",
       "      <td>5.833333</td>\n",
       "      <td>00:10:44.864686</td>\n",
       "      <td>0.333333</td>\n",
       "      <td>0.333333</td>\n",
       "      <td>28.000000</td>\n",
       "      <td>...</td>\n",
       "      <td>NaN</td>\n",
       "      <td>00:00:22.772100</td>\n",
       "      <td>0 days</td>\n",
       "      <td>0 days</td>\n",
       "      <td>00:00:22.772100</td>\n",
       "      <td>0.014493</td>\n",
       "      <td>NaN</td>\n",
       "      <td>NaN</td>\n",
       "      <td>0.086957</td>\n",
       "      <td>NaN</td>\n",
       "    </tr>\n",
       "    <tr>\n",
       "      <th>variety</th>\n",
       "      <td>1.707825</td>\n",
       "      <td>14.587856</td>\n",
       "      <td>3.399346</td>\n",
       "      <td>3.399346</td>\n",
       "      <td>0.0</td>\n",
       "      <td>1.863390</td>\n",
       "      <td>00:00:37.630816</td>\n",
       "      <td>0.745356</td>\n",
       "      <td>0.471405</td>\n",
       "      <td>4.041452</td>\n",
       "      <td>...</td>\n",
       "      <td>NaN</td>\n",
       "      <td>00:00:02.577666</td>\n",
       "      <td>0 days</td>\n",
       "      <td>0 days</td>\n",
       "      <td>00:00:02.577666</td>\n",
       "      <td>0.032407</td>\n",
       "      <td>NaN</td>\n",
       "      <td>NaN</td>\n",
       "      <td>0.000000</td>\n",
       "      <td>NaN</td>\n",
       "    </tr>\n",
       "  </tbody>\n",
       "</table>\n",
       "<p>8 rows × 26 columns</p>\n",
       "</div>"
      ],
      "text/plain": [
       "         Session Number  Start Type  AD Format:   Rewarded  Playable  \\\n",
       "0              1.000000   76.000000   23.000000  23.000000       NaN   \n",
       "1              2.000000   85.000000   25.000000  25.000000       NaN   \n",
       "2              3.000000  109.000000   31.000000  31.000000       1.0   \n",
       "3              4.000000  101.000000   30.000000  30.000000       1.0   \n",
       "4              5.000000  113.000000   31.000000  31.000000       NaN   \n",
       "5              6.000000  115.000000   32.000000  32.000000       1.0   \n",
       "average        3.500000   99.833333   28.666667  28.666667       1.0   \n",
       "variety        1.707825   14.587856    3.399346   3.399346       0.0   \n",
       "\n",
       "            Video Session Duration  Game Initiated  Location Marker  \\\n",
       "0        6.000000         00:10:25        2.000000         0.000000   \n",
       "1        9.000000         00:10:05        0.000000         1.000000   \n",
       "2        5.000000         00:10:50        0.000000         0.000000   \n",
       "3        5.000000  00:11:21.188118        0.000000         0.000000   \n",
       "4        7.000000         00:11:44        0.000000         1.000000   \n",
       "5        3.000000         00:10:04        0.000000         0.000000   \n",
       "average  5.833333  00:10:44.864686        0.333333         0.333333   \n",
       "variety  1.863390  00:00:37.630816        0.745356         0.471405   \n",
       "\n",
       "         Player Initiated  ...  Interstitial_Game Initiated     Ad velocity  \\\n",
       "0               21.000000  ...                          NaN 00:00:27.173913   \n",
       "1               24.000000  ...                          NaN 00:00:24.200000   \n",
       "2               31.000000  ...                          NaN 00:00:20.967741   \n",
       "3               30.000000  ...                          NaN 00:00:22.706270   \n",
       "4               30.000000  ...                          NaN 00:00:22.709677   \n",
       "5               32.000000  ...                          NaN 00:00:18.875000   \n",
       "average         28.000000  ...                          NaN 00:00:22.772100   \n",
       "variety          4.041452  ...                          NaN 00:00:02.577666   \n",
       "\n",
       "         Banner velocity  Interstitial velocity  Rewarded velocity  \\\n",
       "0                 0 days                 0 days    00:00:27.173913   \n",
       "1                 0 days                 0 days    00:00:24.200000   \n",
       "2                 0 days                 0 days    00:00:20.967741   \n",
       "3                 0 days                 0 days    00:00:22.706270   \n",
       "4                 0 days                 0 days    00:00:22.709677   \n",
       "5                 0 days                 0 days    00:00:18.875000   \n",
       "average           0 days                 0 days    00:00:22.772100   \n",
       "variety           0 days                 0 days    00:00:02.577666   \n",
       "\n",
       "         Ad proactiveness  Banner proactiveness Interstitial proactiveness  \\\n",
       "0                0.086957                   NaN                        NaN   \n",
       "1                0.000000                   NaN                        NaN   \n",
       "2                0.000000                   NaN                        NaN   \n",
       "3                0.000000                   NaN                        NaN   \n",
       "4                0.000000                   NaN                        NaN   \n",
       "5                0.000000                   NaN                        NaN   \n",
       "average          0.014493                   NaN                        NaN   \n",
       "variety          0.032407                   NaN                        NaN   \n",
       "\n",
       "        Rewarded proactiveness Static  \n",
       "0                     0.086957    NaN  \n",
       "1                          NaN    NaN  \n",
       "2                          NaN    NaN  \n",
       "3                          NaN    NaN  \n",
       "4                          NaN    NaN  \n",
       "5                          NaN    NaN  \n",
       "average               0.086957    NaN  \n",
       "variety               0.000000    NaN  \n",
       "\n",
       "[8 rows x 26 columns]"
      ]
     },
     "execution_count": 97,
     "metadata": {},
     "output_type": "execute_result"
    }
   ],
   "source": [
    "nudge_stats"
   ]
  },
  {
   "cell_type": "code",
   "execution_count": 98,
   "metadata": {
    "ExecuteTime": {
     "end_time": "2020-06-21T14:05:14.825020Z",
     "start_time": "2020-06-21T14:05:14.820032Z"
    }
   },
   "outputs": [
    {
     "data": {
      "text/plain": [
       "Index(['Session Number', 'Start Type', 'AD Format:', 'Rewarded', 'Playable',\n",
       "       'Video', 'Session Duration', 'Game Initiated', 'Location Marker',\n",
       "       'Player Initiated', 'Rewarded_Game Initiated',\n",
       "       'Rewarded_Player Initiated', 'Rewarded_Location Marker', 'Banner',\n",
       "       'Interstitial', 'Banner_Game Initiated', 'Interstitial_Game Initiated',\n",
       "       'Ad velocity', 'Banner velocity', 'Interstitial velocity',\n",
       "       'Rewarded velocity', 'Ad proactiveness', 'Banner proactiveness',\n",
       "       'Interstitial proactiveness', 'Rewarded proactiveness', 'Static'],\n",
       "      dtype='object')"
      ]
     },
     "execution_count": 98,
     "metadata": {},
     "output_type": "execute_result"
    }
   ],
   "source": [
    "nudge_stats.columns"
   ]
  },
  {
   "cell_type": "code",
   "execution_count": 99,
   "metadata": {
    "ExecuteTime": {
     "end_time": "2020-06-21T14:05:14.837989Z",
     "start_time": "2020-06-21T14:05:14.826017Z"
    }
   },
   "outputs": [
    {
     "data": {
      "text/html": [
       "<div>\n",
       "<style scoped>\n",
       "    .dataframe tbody tr th:only-of-type {\n",
       "        vertical-align: middle;\n",
       "    }\n",
       "\n",
       "    .dataframe tbody tr th {\n",
       "        vertical-align: top;\n",
       "    }\n",
       "\n",
       "    .dataframe thead th {\n",
       "        text-align: right;\n",
       "    }\n",
       "</style>\n",
       "<table border=\"1\" class=\"dataframe\">\n",
       "  <thead>\n",
       "    <tr style=\"text-align: right;\">\n",
       "      <th></th>\n",
       "      <th>metrics</th>\n",
       "      <th>averages</th>\n",
       "    </tr>\n",
       "  </thead>\n",
       "  <tbody>\n",
       "    <tr>\n",
       "      <th>0</th>\n",
       "      <td>Ad velocity</td>\n",
       "      <td>22.772101</td>\n",
       "    </tr>\n",
       "    <tr>\n",
       "      <th>1</th>\n",
       "      <td>Banner velocity</td>\n",
       "      <td>0.000000</td>\n",
       "    </tr>\n",
       "    <tr>\n",
       "      <th>2</th>\n",
       "      <td>Interstitial velocity</td>\n",
       "      <td>0.000000</td>\n",
       "    </tr>\n",
       "    <tr>\n",
       "      <th>3</th>\n",
       "      <td>Rewarded velocity</td>\n",
       "      <td>22.772101</td>\n",
       "    </tr>\n",
       "  </tbody>\n",
       "</table>\n",
       "</div>"
      ],
      "text/plain": [
       "                 metrics   averages\n",
       "0            Ad velocity  22.772101\n",
       "1        Banner velocity   0.000000\n",
       "2  Interstitial velocity   0.000000\n",
       "3      Rewarded velocity  22.772101"
      ]
     },
     "execution_count": 99,
     "metadata": {},
     "output_type": "execute_result"
    }
   ],
   "source": [
    "ad_metrics_averages1 = nudge_stats[['Ad velocity', 'Banner velocity',\n",
    "       'Interstitial velocity', 'Rewarded velocity']].loc['average'].reset_index().rename(columns={'index':'metrics', 'average':'averages'})\n",
    "ad_metrics_averages1['averages'] = ad_metrics_averages1['averages'].dt.total_seconds()\n",
    "ad_metrics_averages1"
   ]
  },
  {
   "cell_type": "code",
   "execution_count": 100,
   "metadata": {
    "ExecuteTime": {
     "end_time": "2020-06-21T14:05:14.850950Z",
     "start_time": "2020-06-21T14:05:14.838982Z"
    }
   },
   "outputs": [
    {
     "data": {
      "text/html": [
       "<div>\n",
       "<style scoped>\n",
       "    .dataframe tbody tr th:only-of-type {\n",
       "        vertical-align: middle;\n",
       "    }\n",
       "\n",
       "    .dataframe tbody tr th {\n",
       "        vertical-align: top;\n",
       "    }\n",
       "\n",
       "    .dataframe thead th {\n",
       "        text-align: right;\n",
       "    }\n",
       "</style>\n",
       "<table border=\"1\" class=\"dataframe\">\n",
       "  <thead>\n",
       "    <tr style=\"text-align: right;\">\n",
       "      <th></th>\n",
       "      <th>metrics</th>\n",
       "      <th>averages</th>\n",
       "    </tr>\n",
       "  </thead>\n",
       "  <tbody>\n",
       "    <tr>\n",
       "      <th>0</th>\n",
       "      <td>AD Format:</td>\n",
       "      <td>28.666667</td>\n",
       "    </tr>\n",
       "    <tr>\n",
       "      <th>1</th>\n",
       "      <td>Banner</td>\n",
       "      <td>NaN</td>\n",
       "    </tr>\n",
       "    <tr>\n",
       "      <th>2</th>\n",
       "      <td>Interstitial</td>\n",
       "      <td>NaN</td>\n",
       "    </tr>\n",
       "    <tr>\n",
       "      <th>3</th>\n",
       "      <td>Rewarded</td>\n",
       "      <td>28.666667</td>\n",
       "    </tr>\n",
       "    <tr>\n",
       "      <th>4</th>\n",
       "      <td>Ad proactiveness</td>\n",
       "      <td>0.014493</td>\n",
       "    </tr>\n",
       "    <tr>\n",
       "      <th>5</th>\n",
       "      <td>Banner proactiveness</td>\n",
       "      <td>NaN</td>\n",
       "    </tr>\n",
       "    <tr>\n",
       "      <th>6</th>\n",
       "      <td>Interstitial proactiveness</td>\n",
       "      <td>NaN</td>\n",
       "    </tr>\n",
       "    <tr>\n",
       "      <th>7</th>\n",
       "      <td>Rewarded proactiveness</td>\n",
       "      <td>0.086957</td>\n",
       "    </tr>\n",
       "  </tbody>\n",
       "</table>\n",
       "</div>"
      ],
      "text/plain": [
       "                      metrics   averages\n",
       "0                  AD Format:  28.666667\n",
       "1                      Banner        NaN\n",
       "2                Interstitial        NaN\n",
       "3                    Rewarded  28.666667\n",
       "4            Ad proactiveness   0.014493\n",
       "5        Banner proactiveness        NaN\n",
       "6  Interstitial proactiveness        NaN\n",
       "7      Rewarded proactiveness   0.086957"
      ]
     },
     "execution_count": 100,
     "metadata": {},
     "output_type": "execute_result"
    }
   ],
   "source": [
    "ad_metrics_averages2 = nudge_stats[['AD Format:', 'Banner', 'Interstitial',\n",
    "       'Rewarded', 'Ad proactiveness',\n",
    "       'Banner proactiveness', 'Interstitial proactiveness',\n",
    "       'Rewarded proactiveness']].loc['average'].reset_index().rename(columns={'index':'metrics', 'average':'averages'})\n",
    "ad_metrics_averages2"
   ]
  },
  {
   "cell_type": "code",
   "execution_count": 101,
   "metadata": {
    "ExecuteTime": {
     "end_time": "2020-06-21T14:05:14.860924Z",
     "start_time": "2020-06-21T14:05:14.851947Z"
    }
   },
   "outputs": [
    {
     "data": {
      "text/html": [
       "<div>\n",
       "<style scoped>\n",
       "    .dataframe tbody tr th:only-of-type {\n",
       "        vertical-align: middle;\n",
       "    }\n",
       "\n",
       "    .dataframe tbody tr th {\n",
       "        vertical-align: top;\n",
       "    }\n",
       "\n",
       "    .dataframe thead th {\n",
       "        text-align: right;\n",
       "    }\n",
       "</style>\n",
       "<table border=\"1\" class=\"dataframe\">\n",
       "  <thead>\n",
       "    <tr style=\"text-align: right;\">\n",
       "      <th></th>\n",
       "      <th>metrics</th>\n",
       "      <th>averages</th>\n",
       "    </tr>\n",
       "  </thead>\n",
       "  <tbody>\n",
       "    <tr>\n",
       "      <th>0</th>\n",
       "      <td>ad_variety_score</td>\n",
       "      <td>0.333333</td>\n",
       "    </tr>\n",
       "    <tr>\n",
       "      <th>1</th>\n",
       "      <td>ad_placement_variety_score</td>\n",
       "      <td>0.500000</td>\n",
       "    </tr>\n",
       "    <tr>\n",
       "      <th>2</th>\n",
       "      <td>rv_rewards_stacked_average</td>\n",
       "      <td>0.000000</td>\n",
       "    </tr>\n",
       "  </tbody>\n",
       "</table>\n",
       "</div>"
      ],
      "text/plain": [
       "                      metrics  averages\n",
       "0            ad_variety_score  0.333333\n",
       "1  ad_placement_variety_score  0.500000\n",
       "2  rv_rewards_stacked_average  0.000000"
      ]
     },
     "execution_count": 101,
     "metadata": {},
     "output_type": "execute_result"
    }
   ],
   "source": [
    "ad_metrics_averages3 = {'ad_variety_score':ad_variety_score,\n",
    "                  'ad_placement_variety_score':ad_placement_variety_score,\n",
    "                  'rv_rewards_stacked_average':rv_rewards_stacked_average}\n",
    "ad_metrics_averages3 = pd.DataFrame(ad_metrics_averages3.items()).rename(columns={0:'metrics', 1:'averages'})\n",
    "ad_metrics_averages3"
   ]
  },
  {
   "cell_type": "code",
   "execution_count": 102,
   "metadata": {
    "ExecuteTime": {
     "end_time": "2020-06-21T14:05:14.872891Z",
     "start_time": "2020-06-21T14:05:14.861921Z"
    }
   },
   "outputs": [
    {
     "data": {
      "text/html": [
       "<div>\n",
       "<style scoped>\n",
       "    .dataframe tbody tr th:only-of-type {\n",
       "        vertical-align: middle;\n",
       "    }\n",
       "\n",
       "    .dataframe tbody tr th {\n",
       "        vertical-align: top;\n",
       "    }\n",
       "\n",
       "    .dataframe thead th {\n",
       "        text-align: right;\n",
       "    }\n",
       "</style>\n",
       "<table border=\"1\" class=\"dataframe\">\n",
       "  <thead>\n",
       "    <tr style=\"text-align: right;\">\n",
       "      <th></th>\n",
       "      <th>metrics</th>\n",
       "      <th>averages</th>\n",
       "    </tr>\n",
       "  </thead>\n",
       "  <tbody>\n",
       "    <tr>\n",
       "      <th>0</th>\n",
       "      <td>time_to_first_ad</td>\n",
       "      <td>110.0</td>\n",
       "    </tr>\n",
       "    <tr>\n",
       "      <th>1</th>\n",
       "      <td>time_to_first_banner</td>\n",
       "      <td>NaN</td>\n",
       "    </tr>\n",
       "    <tr>\n",
       "      <th>2</th>\n",
       "      <td>time_to_first_interstitial</td>\n",
       "      <td>NaN</td>\n",
       "    </tr>\n",
       "    <tr>\n",
       "      <th>3</th>\n",
       "      <td>time_to_first_rewarded</td>\n",
       "      <td>110.0</td>\n",
       "    </tr>\n",
       "  </tbody>\n",
       "</table>\n",
       "</div>"
      ],
      "text/plain": [
       "                      metrics  averages\n",
       "0            time_to_first_ad     110.0\n",
       "1        time_to_first_banner       NaN\n",
       "2  time_to_first_interstitial       NaN\n",
       "3      time_to_first_rewarded     110.0"
      ]
     },
     "execution_count": 102,
     "metadata": {},
     "output_type": "execute_result"
    }
   ],
   "source": [
    "ad_metrics_averages4 = {'time_to_first_ad':time_to_first_ad,\n",
    "                        'time_to_first_banner':time_to_first_banner,\n",
    "                        'time_to_first_interstitial':time_to_first_interstitial,\n",
    "                        'time_to_first_rewarded':time_to_first_rewarded}\n",
    "ad_metrics_averages4 = pd.DataFrame(ad_metrics_averages4.items()).rename(columns={0:'metrics', 1:'averages'})\n",
    "ad_metrics_averages4['averages'] = pd.to_timedelta(ad_metrics_averages4['averages'].astype(str)).dt.total_seconds()\n",
    "ad_metrics_averages4"
   ]
  },
  {
   "cell_type": "code",
   "execution_count": 103,
   "metadata": {
    "ExecuteTime": {
     "end_time": "2020-06-21T14:05:14.883862Z",
     "start_time": "2020-06-21T14:05:14.873888Z"
    }
   },
   "outputs": [
    {
     "data": {
      "text/html": [
       "<div>\n",
       "<style scoped>\n",
       "    .dataframe tbody tr th:only-of-type {\n",
       "        vertical-align: middle;\n",
       "    }\n",
       "\n",
       "    .dataframe tbody tr th {\n",
       "        vertical-align: top;\n",
       "    }\n",
       "\n",
       "    .dataframe thead th {\n",
       "        text-align: right;\n",
       "    }\n",
       "</style>\n",
       "<table border=\"1\" class=\"dataframe\">\n",
       "  <thead>\n",
       "    <tr style=\"text-align: right;\">\n",
       "      <th></th>\n",
       "      <th>metrics</th>\n",
       "      <th>averages</th>\n",
       "    </tr>\n",
       "  </thead>\n",
       "  <tbody>\n",
       "    <tr>\n",
       "      <th>0</th>\n",
       "      <td>Ad velocity</td>\n",
       "      <td>22.772101</td>\n",
       "    </tr>\n",
       "    <tr>\n",
       "      <th>1</th>\n",
       "      <td>Banner velocity</td>\n",
       "      <td>0.000000</td>\n",
       "    </tr>\n",
       "    <tr>\n",
       "      <th>2</th>\n",
       "      <td>Interstitial velocity</td>\n",
       "      <td>0.000000</td>\n",
       "    </tr>\n",
       "    <tr>\n",
       "      <th>3</th>\n",
       "      <td>Rewarded velocity</td>\n",
       "      <td>22.772101</td>\n",
       "    </tr>\n",
       "    <tr>\n",
       "      <th>4</th>\n",
       "      <td>AD Format:</td>\n",
       "      <td>28.666667</td>\n",
       "    </tr>\n",
       "    <tr>\n",
       "      <th>5</th>\n",
       "      <td>Banner</td>\n",
       "      <td>NaN</td>\n",
       "    </tr>\n",
       "    <tr>\n",
       "      <th>6</th>\n",
       "      <td>Interstitial</td>\n",
       "      <td>NaN</td>\n",
       "    </tr>\n",
       "    <tr>\n",
       "      <th>7</th>\n",
       "      <td>Rewarded</td>\n",
       "      <td>28.666667</td>\n",
       "    </tr>\n",
       "    <tr>\n",
       "      <th>8</th>\n",
       "      <td>Ad proactiveness</td>\n",
       "      <td>0.014493</td>\n",
       "    </tr>\n",
       "    <tr>\n",
       "      <th>9</th>\n",
       "      <td>Banner proactiveness</td>\n",
       "      <td>NaN</td>\n",
       "    </tr>\n",
       "    <tr>\n",
       "      <th>10</th>\n",
       "      <td>Interstitial proactiveness</td>\n",
       "      <td>NaN</td>\n",
       "    </tr>\n",
       "    <tr>\n",
       "      <th>11</th>\n",
       "      <td>Rewarded proactiveness</td>\n",
       "      <td>0.086957</td>\n",
       "    </tr>\n",
       "    <tr>\n",
       "      <th>12</th>\n",
       "      <td>ad_variety_score</td>\n",
       "      <td>0.333333</td>\n",
       "    </tr>\n",
       "    <tr>\n",
       "      <th>13</th>\n",
       "      <td>ad_placement_variety_score</td>\n",
       "      <td>0.500000</td>\n",
       "    </tr>\n",
       "    <tr>\n",
       "      <th>14</th>\n",
       "      <td>rv_rewards_stacked_average</td>\n",
       "      <td>0.000000</td>\n",
       "    </tr>\n",
       "    <tr>\n",
       "      <th>15</th>\n",
       "      <td>time_to_first_ad</td>\n",
       "      <td>110.000000</td>\n",
       "    </tr>\n",
       "    <tr>\n",
       "      <th>16</th>\n",
       "      <td>time_to_first_banner</td>\n",
       "      <td>NaN</td>\n",
       "    </tr>\n",
       "    <tr>\n",
       "      <th>17</th>\n",
       "      <td>time_to_first_interstitial</td>\n",
       "      <td>NaN</td>\n",
       "    </tr>\n",
       "    <tr>\n",
       "      <th>18</th>\n",
       "      <td>time_to_first_rewarded</td>\n",
       "      <td>110.000000</td>\n",
       "    </tr>\n",
       "  </tbody>\n",
       "</table>\n",
       "</div>"
      ],
      "text/plain": [
       "                       metrics    averages\n",
       "0                  Ad velocity   22.772101\n",
       "1              Banner velocity    0.000000\n",
       "2        Interstitial velocity    0.000000\n",
       "3            Rewarded velocity   22.772101\n",
       "4                   AD Format:   28.666667\n",
       "5                       Banner         NaN\n",
       "6                 Interstitial         NaN\n",
       "7                     Rewarded   28.666667\n",
       "8             Ad proactiveness    0.014493\n",
       "9         Banner proactiveness         NaN\n",
       "10  Interstitial proactiveness         NaN\n",
       "11      Rewarded proactiveness    0.086957\n",
       "12            ad_variety_score    0.333333\n",
       "13  ad_placement_variety_score    0.500000\n",
       "14  rv_rewards_stacked_average    0.000000\n",
       "15            time_to_first_ad  110.000000\n",
       "16        time_to_first_banner         NaN\n",
       "17  time_to_first_interstitial         NaN\n",
       "18      time_to_first_rewarded  110.000000"
      ]
     },
     "execution_count": 103,
     "metadata": {},
     "output_type": "execute_result"
    }
   ],
   "source": [
    "ad_metrics_averages = pd.concat([ad_metrics_averages1, ad_metrics_averages2, ad_metrics_averages3, ad_metrics_averages4], ignore_index=True)\n",
    "ad_metrics_averages"
   ]
  },
  {
   "cell_type": "code",
   "execution_count": 104,
   "metadata": {
    "ExecuteTime": {
     "end_time": "2020-06-21T14:05:14.896828Z",
     "start_time": "2020-06-21T14:05:14.884859Z"
    }
   },
   "outputs": [
    {
     "data": {
      "text/html": [
       "<div>\n",
       "<style scoped>\n",
       "    .dataframe tbody tr th:only-of-type {\n",
       "        vertical-align: middle;\n",
       "    }\n",
       "\n",
       "    .dataframe tbody tr th {\n",
       "        vertical-align: top;\n",
       "    }\n",
       "\n",
       "    .dataframe thead th {\n",
       "        text-align: right;\n",
       "    }\n",
       "</style>\n",
       "<table border=\"1\" class=\"dataframe\">\n",
       "  <thead>\n",
       "    <tr style=\"text-align: right;\">\n",
       "      <th></th>\n",
       "      <th>sme_metrics</th>\n",
       "      <th>sme</th>\n",
       "    </tr>\n",
       "  </thead>\n",
       "  <tbody>\n",
       "    <tr>\n",
       "      <th>0</th>\n",
       "      <td>sme_ad_velocity_ad</td>\n",
       "      <td>30.0</td>\n",
       "    </tr>\n",
       "    <tr>\n",
       "      <th>1</th>\n",
       "      <td>sme_banner_velocity_ad</td>\n",
       "      <td>30.0</td>\n",
       "    </tr>\n",
       "    <tr>\n",
       "      <th>2</th>\n",
       "      <td>sme_interstitial_velocity_ad</td>\n",
       "      <td>30.0</td>\n",
       "    </tr>\n",
       "    <tr>\n",
       "      <th>3</th>\n",
       "      <td>sme_rewarded_velocity_ad</td>\n",
       "      <td>30.0</td>\n",
       "    </tr>\n",
       "    <tr>\n",
       "      <th>4</th>\n",
       "      <td>sme_ad_occurence_ad</td>\n",
       "      <td>20.0</td>\n",
       "    </tr>\n",
       "    <tr>\n",
       "      <th>5</th>\n",
       "      <td>sme_banner_occurence_ad</td>\n",
       "      <td>7.0</td>\n",
       "    </tr>\n",
       "    <tr>\n",
       "      <th>6</th>\n",
       "      <td>sme_interstitial_occurence_ad</td>\n",
       "      <td>7.0</td>\n",
       "    </tr>\n",
       "    <tr>\n",
       "      <th>7</th>\n",
       "      <td>sme_rewarded_occurence_ad</td>\n",
       "      <td>7.0</td>\n",
       "    </tr>\n",
       "    <tr>\n",
       "      <th>8</th>\n",
       "      <td>sme_ad_proactiveness_ad</td>\n",
       "      <td>0.5</td>\n",
       "    </tr>\n",
       "    <tr>\n",
       "      <th>9</th>\n",
       "      <td>sme_banner_proactiveness_ad</td>\n",
       "      <td>0.5</td>\n",
       "    </tr>\n",
       "    <tr>\n",
       "      <th>10</th>\n",
       "      <td>sme_interstitial_proactiveness_ad</td>\n",
       "      <td>0.5</td>\n",
       "    </tr>\n",
       "    <tr>\n",
       "      <th>11</th>\n",
       "      <td>sme_rewarded_proactiveness_ad</td>\n",
       "      <td>0.5</td>\n",
       "    </tr>\n",
       "    <tr>\n",
       "      <th>12</th>\n",
       "      <td>sme_ad_variety_score_ad</td>\n",
       "      <td>1.0</td>\n",
       "    </tr>\n",
       "    <tr>\n",
       "      <th>13</th>\n",
       "      <td>sme_ad_placement_variety_score_ad</td>\n",
       "      <td>1.0</td>\n",
       "    </tr>\n",
       "    <tr>\n",
       "      <th>14</th>\n",
       "      <td>sme_rv_rewards_stacked_ad</td>\n",
       "      <td>0.5</td>\n",
       "    </tr>\n",
       "    <tr>\n",
       "      <th>15</th>\n",
       "      <td>sme_time_to_first_ad_ad</td>\n",
       "      <td>30.0</td>\n",
       "    </tr>\n",
       "    <tr>\n",
       "      <th>16</th>\n",
       "      <td>sme_time_to_first_banner_ad</td>\n",
       "      <td>15.0</td>\n",
       "    </tr>\n",
       "    <tr>\n",
       "      <th>17</th>\n",
       "      <td>sme_time_to_first_interstitial_ad</td>\n",
       "      <td>30.0</td>\n",
       "    </tr>\n",
       "    <tr>\n",
       "      <th>18</th>\n",
       "      <td>sme_time_to_first_rewarded_ad</td>\n",
       "      <td>15.0</td>\n",
       "    </tr>\n",
       "  </tbody>\n",
       "</table>\n",
       "</div>"
      ],
      "text/plain": [
       "                          sme_metrics   sme\n",
       "0                  sme_ad_velocity_ad  30.0\n",
       "1              sme_banner_velocity_ad  30.0\n",
       "2        sme_interstitial_velocity_ad  30.0\n",
       "3            sme_rewarded_velocity_ad  30.0\n",
       "4                 sme_ad_occurence_ad  20.0\n",
       "5             sme_banner_occurence_ad   7.0\n",
       "6       sme_interstitial_occurence_ad   7.0\n",
       "7           sme_rewarded_occurence_ad   7.0\n",
       "8             sme_ad_proactiveness_ad   0.5\n",
       "9         sme_banner_proactiveness_ad   0.5\n",
       "10  sme_interstitial_proactiveness_ad   0.5\n",
       "11      sme_rewarded_proactiveness_ad   0.5\n",
       "12            sme_ad_variety_score_ad   1.0\n",
       "13  sme_ad_placement_variety_score_ad   1.0\n",
       "14          sme_rv_rewards_stacked_ad   0.5\n",
       "15            sme_time_to_first_ad_ad  30.0\n",
       "16        sme_time_to_first_banner_ad  15.0\n",
       "17  sme_time_to_first_interstitial_ad  30.0\n",
       "18      sme_time_to_first_rewarded_ad  15.0"
      ]
     },
     "execution_count": 104,
     "metadata": {},
     "output_type": "execute_result"
    }
   ],
   "source": [
    "sme_metrics = {'sme_ad_velocity_ad':sme_ad_velocity_ad,\n",
    "              'sme_banner_velocity_ad':sme_banner_velocity_ad,\n",
    "              'sme_interstitial_velocity_ad':sme_interstitial_velocity_ad,\n",
    "              'sme_rewarded_velocity_ad':sme_rewarded_velocity_ad,\n",
    "               'sme_ad_occurence_ad':sme_ad_occurence_ad,\n",
    "              'sme_banner_occurence_ad':sme_banner_occurence_ad,\n",
    "              'sme_interstitial_occurence_ad':sme_interstitial_occurence_ad,\n",
    "              'sme_rewarded_occurence_ad':sme_rewarded_occurence_ad,\n",
    "              'sme_ad_proactiveness_ad':sme_ad_proactiveness_ad,\n",
    "              'sme_banner_proactiveness_ad':sme_banner_proactiveness_ad,\n",
    "              'sme_interstitial_proactiveness_ad':sme_interstitial_proactiveness_ad,\n",
    "              'sme_rewarded_proactiveness_ad':sme_rewarded_proactiveness_ad,\n",
    "              'sme_ad_variety_score_ad':sme_ad_variety_score_ad,\n",
    "              'sme_ad_placement_variety_score_ad':sme_ad_placement_variety_score_ad,\n",
    "              'sme_rv_rewards_stacked_ad':sme_rv_rewards_stacked_ad,\n",
    "              'sme_time_to_first_ad_ad':sme_time_to_first_ad_ad,\n",
    "              'sme_time_to_first_banner_ad':sme_time_to_first_banner_ad,\n",
    "              'sme_time_to_first_interstitial_ad':sme_time_to_first_interstitial_ad,\n",
    "              'sme_time_to_first_rewarded_ad':sme_time_to_first_rewarded_ad}\n",
    "sme_metrics = pd.DataFrame(sme_metrics.items()).rename(columns={0:'sme_metrics', 1:'sme'})\n",
    "sme_metrics"
   ]
  },
  {
   "cell_type": "code",
   "execution_count": 105,
   "metadata": {
    "ExecuteTime": {
     "end_time": "2020-06-21T14:05:14.916773Z",
     "start_time": "2020-06-21T14:05:14.898822Z"
    }
   },
   "outputs": [
    {
     "data": {
      "text/html": [
       "<div>\n",
       "<style scoped>\n",
       "    .dataframe tbody tr th:only-of-type {\n",
       "        vertical-align: middle;\n",
       "    }\n",
       "\n",
       "    .dataframe tbody tr th {\n",
       "        vertical-align: top;\n",
       "    }\n",
       "\n",
       "    .dataframe thead th {\n",
       "        text-align: right;\n",
       "    }\n",
       "</style>\n",
       "<table border=\"1\" class=\"dataframe\">\n",
       "  <thead>\n",
       "    <tr style=\"text-align: right;\">\n",
       "      <th></th>\n",
       "      <th>metrics</th>\n",
       "      <th>averages</th>\n",
       "      <th>sme_metrics</th>\n",
       "      <th>sme</th>\n",
       "      <th>score</th>\n",
       "      <th>shortfall</th>\n",
       "      <th>total</th>\n",
       "    </tr>\n",
       "  </thead>\n",
       "  <tbody>\n",
       "    <tr>\n",
       "      <th>0</th>\n",
       "      <td>Ad velocity</td>\n",
       "      <td>22.772101</td>\n",
       "      <td>sme_ad_velocity_ad</td>\n",
       "      <td>30.0</td>\n",
       "      <td>0.759070</td>\n",
       "      <td>0.240930</td>\n",
       "      <td>1.0</td>\n",
       "    </tr>\n",
       "    <tr>\n",
       "      <th>1</th>\n",
       "      <td>Banner velocity</td>\n",
       "      <td>0.000000</td>\n",
       "      <td>sme_banner_velocity_ad</td>\n",
       "      <td>30.0</td>\n",
       "      <td>0.000000</td>\n",
       "      <td>1.000000</td>\n",
       "      <td>1.0</td>\n",
       "    </tr>\n",
       "    <tr>\n",
       "      <th>2</th>\n",
       "      <td>Interstitial velocity</td>\n",
       "      <td>0.000000</td>\n",
       "      <td>sme_interstitial_velocity_ad</td>\n",
       "      <td>30.0</td>\n",
       "      <td>0.000000</td>\n",
       "      <td>1.000000</td>\n",
       "      <td>1.0</td>\n",
       "    </tr>\n",
       "    <tr>\n",
       "      <th>3</th>\n",
       "      <td>Rewarded velocity</td>\n",
       "      <td>22.772101</td>\n",
       "      <td>sme_rewarded_velocity_ad</td>\n",
       "      <td>30.0</td>\n",
       "      <td>0.759070</td>\n",
       "      <td>0.240930</td>\n",
       "      <td>1.0</td>\n",
       "    </tr>\n",
       "    <tr>\n",
       "      <th>4</th>\n",
       "      <td>AD Format:</td>\n",
       "      <td>28.666667</td>\n",
       "      <td>sme_ad_occurence_ad</td>\n",
       "      <td>20.0</td>\n",
       "      <td>1.000000</td>\n",
       "      <td>0.000000</td>\n",
       "      <td>1.0</td>\n",
       "    </tr>\n",
       "    <tr>\n",
       "      <th>5</th>\n",
       "      <td>Banner</td>\n",
       "      <td>NaN</td>\n",
       "      <td>sme_banner_occurence_ad</td>\n",
       "      <td>7.0</td>\n",
       "      <td>0.000000</td>\n",
       "      <td>1.000000</td>\n",
       "      <td>1.0</td>\n",
       "    </tr>\n",
       "    <tr>\n",
       "      <th>6</th>\n",
       "      <td>Interstitial</td>\n",
       "      <td>NaN</td>\n",
       "      <td>sme_interstitial_occurence_ad</td>\n",
       "      <td>7.0</td>\n",
       "      <td>0.000000</td>\n",
       "      <td>1.000000</td>\n",
       "      <td>1.0</td>\n",
       "    </tr>\n",
       "    <tr>\n",
       "      <th>7</th>\n",
       "      <td>Rewarded</td>\n",
       "      <td>28.666667</td>\n",
       "      <td>sme_rewarded_occurence_ad</td>\n",
       "      <td>7.0</td>\n",
       "      <td>1.000000</td>\n",
       "      <td>0.000000</td>\n",
       "      <td>1.0</td>\n",
       "    </tr>\n",
       "    <tr>\n",
       "      <th>8</th>\n",
       "      <td>Ad proactiveness</td>\n",
       "      <td>0.014493</td>\n",
       "      <td>sme_ad_proactiveness_ad</td>\n",
       "      <td>0.5</td>\n",
       "      <td>0.028986</td>\n",
       "      <td>0.971014</td>\n",
       "      <td>1.0</td>\n",
       "    </tr>\n",
       "    <tr>\n",
       "      <th>9</th>\n",
       "      <td>Banner proactiveness</td>\n",
       "      <td>NaN</td>\n",
       "      <td>sme_banner_proactiveness_ad</td>\n",
       "      <td>0.5</td>\n",
       "      <td>0.000000</td>\n",
       "      <td>1.000000</td>\n",
       "      <td>1.0</td>\n",
       "    </tr>\n",
       "    <tr>\n",
       "      <th>10</th>\n",
       "      <td>Interstitial proactiveness</td>\n",
       "      <td>NaN</td>\n",
       "      <td>sme_interstitial_proactiveness_ad</td>\n",
       "      <td>0.5</td>\n",
       "      <td>0.000000</td>\n",
       "      <td>1.000000</td>\n",
       "      <td>1.0</td>\n",
       "    </tr>\n",
       "    <tr>\n",
       "      <th>11</th>\n",
       "      <td>Rewarded proactiveness</td>\n",
       "      <td>0.086957</td>\n",
       "      <td>sme_rewarded_proactiveness_ad</td>\n",
       "      <td>0.5</td>\n",
       "      <td>0.173913</td>\n",
       "      <td>0.826087</td>\n",
       "      <td>1.0</td>\n",
       "    </tr>\n",
       "    <tr>\n",
       "      <th>12</th>\n",
       "      <td>ad_variety_score</td>\n",
       "      <td>0.333333</td>\n",
       "      <td>sme_ad_variety_score_ad</td>\n",
       "      <td>1.0</td>\n",
       "      <td>0.333333</td>\n",
       "      <td>0.666667</td>\n",
       "      <td>1.0</td>\n",
       "    </tr>\n",
       "    <tr>\n",
       "      <th>13</th>\n",
       "      <td>ad_placement_variety_score</td>\n",
       "      <td>0.500000</td>\n",
       "      <td>sme_ad_placement_variety_score_ad</td>\n",
       "      <td>1.0</td>\n",
       "      <td>0.500000</td>\n",
       "      <td>0.500000</td>\n",
       "      <td>1.0</td>\n",
       "    </tr>\n",
       "    <tr>\n",
       "      <th>14</th>\n",
       "      <td>rv_rewards_stacked_average</td>\n",
       "      <td>0.000000</td>\n",
       "      <td>sme_rv_rewards_stacked_ad</td>\n",
       "      <td>0.5</td>\n",
       "      <td>0.000000</td>\n",
       "      <td>1.000000</td>\n",
       "      <td>1.0</td>\n",
       "    </tr>\n",
       "    <tr>\n",
       "      <th>15</th>\n",
       "      <td>time_to_first_ad</td>\n",
       "      <td>110.000000</td>\n",
       "      <td>sme_time_to_first_ad_ad</td>\n",
       "      <td>30.0</td>\n",
       "      <td>1.000000</td>\n",
       "      <td>0.000000</td>\n",
       "      <td>1.0</td>\n",
       "    </tr>\n",
       "    <tr>\n",
       "      <th>16</th>\n",
       "      <td>time_to_first_banner</td>\n",
       "      <td>NaN</td>\n",
       "      <td>sme_time_to_first_banner_ad</td>\n",
       "      <td>15.0</td>\n",
       "      <td>0.000000</td>\n",
       "      <td>1.000000</td>\n",
       "      <td>1.0</td>\n",
       "    </tr>\n",
       "    <tr>\n",
       "      <th>17</th>\n",
       "      <td>time_to_first_interstitial</td>\n",
       "      <td>NaN</td>\n",
       "      <td>sme_time_to_first_interstitial_ad</td>\n",
       "      <td>30.0</td>\n",
       "      <td>0.000000</td>\n",
       "      <td>1.000000</td>\n",
       "      <td>1.0</td>\n",
       "    </tr>\n",
       "    <tr>\n",
       "      <th>18</th>\n",
       "      <td>time_to_first_rewarded</td>\n",
       "      <td>110.000000</td>\n",
       "      <td>sme_time_to_first_rewarded_ad</td>\n",
       "      <td>15.0</td>\n",
       "      <td>1.000000</td>\n",
       "      <td>0.000000</td>\n",
       "      <td>1.0</td>\n",
       "    </tr>\n",
       "  </tbody>\n",
       "</table>\n",
       "</div>"
      ],
      "text/plain": [
       "                       metrics    averages                        sme_metrics  \\\n",
       "0                  Ad velocity   22.772101                 sme_ad_velocity_ad   \n",
       "1              Banner velocity    0.000000             sme_banner_velocity_ad   \n",
       "2        Interstitial velocity    0.000000       sme_interstitial_velocity_ad   \n",
       "3            Rewarded velocity   22.772101           sme_rewarded_velocity_ad   \n",
       "4                   AD Format:   28.666667                sme_ad_occurence_ad   \n",
       "5                       Banner         NaN            sme_banner_occurence_ad   \n",
       "6                 Interstitial         NaN      sme_interstitial_occurence_ad   \n",
       "7                     Rewarded   28.666667          sme_rewarded_occurence_ad   \n",
       "8             Ad proactiveness    0.014493            sme_ad_proactiveness_ad   \n",
       "9         Banner proactiveness         NaN        sme_banner_proactiveness_ad   \n",
       "10  Interstitial proactiveness         NaN  sme_interstitial_proactiveness_ad   \n",
       "11      Rewarded proactiveness    0.086957      sme_rewarded_proactiveness_ad   \n",
       "12            ad_variety_score    0.333333            sme_ad_variety_score_ad   \n",
       "13  ad_placement_variety_score    0.500000  sme_ad_placement_variety_score_ad   \n",
       "14  rv_rewards_stacked_average    0.000000          sme_rv_rewards_stacked_ad   \n",
       "15            time_to_first_ad  110.000000            sme_time_to_first_ad_ad   \n",
       "16        time_to_first_banner         NaN        sme_time_to_first_banner_ad   \n",
       "17  time_to_first_interstitial         NaN  sme_time_to_first_interstitial_ad   \n",
       "18      time_to_first_rewarded  110.000000      sme_time_to_first_rewarded_ad   \n",
       "\n",
       "     sme     score  shortfall  total  \n",
       "0   30.0  0.759070   0.240930    1.0  \n",
       "1   30.0  0.000000   1.000000    1.0  \n",
       "2   30.0  0.000000   1.000000    1.0  \n",
       "3   30.0  0.759070   0.240930    1.0  \n",
       "4   20.0  1.000000   0.000000    1.0  \n",
       "5    7.0  0.000000   1.000000    1.0  \n",
       "6    7.0  0.000000   1.000000    1.0  \n",
       "7    7.0  1.000000   0.000000    1.0  \n",
       "8    0.5  0.028986   0.971014    1.0  \n",
       "9    0.5  0.000000   1.000000    1.0  \n",
       "10   0.5  0.000000   1.000000    1.0  \n",
       "11   0.5  0.173913   0.826087    1.0  \n",
       "12   1.0  0.333333   0.666667    1.0  \n",
       "13   1.0  0.500000   0.500000    1.0  \n",
       "14   0.5  0.000000   1.000000    1.0  \n",
       "15  30.0  1.000000   0.000000    1.0  \n",
       "16  15.0  0.000000   1.000000    1.0  \n",
       "17  30.0  0.000000   1.000000    1.0  \n",
       "18  15.0  1.000000   0.000000    1.0  "
      ]
     },
     "execution_count": 105,
     "metadata": {},
     "output_type": "execute_result"
    }
   ],
   "source": [
    "metrics_compare = pd.concat([ad_metrics_averages, sme_metrics.reindex(ad_metrics_averages.index)], axis=1)\n",
    "metrics_compare['score'] = metrics_compare['averages']/metrics_compare['sme']\n",
    "metrics_compare['score'] = (metrics_compare['score'].apply(lambda x: 1 if x > 1 else x)).fillna(0)\n",
    "metrics_compare['shortfall'] = (1 - metrics_compare['score']).fillna(1)\n",
    "metrics_compare['total'] = (metrics_compare['score'] + metrics_compare['shortfall']).fillna(1)\n",
    "metrics_compare"
   ]
  },
  {
   "cell_type": "code",
   "execution_count": 106,
   "metadata": {
    "ExecuteTime": {
     "end_time": "2020-06-21T14:05:14.923755Z",
     "start_time": "2020-06-21T14:05:14.917772Z"
    }
   },
   "outputs": [
    {
     "data": {
      "text/plain": [
       "\"Against our internal expert review, your ad design have tremendous room for improvements. No worries as we are with you throughout! You can do a lot to enhance your ad design and increase your revenue. Take our recommendations and you'll see excellent improvements in your ad monetization!\""
      ]
     },
     "execution_count": 106,
     "metadata": {},
     "output_type": "execute_result"
    }
   ],
   "source": [
    "ad_design_score = metrics_compare['score'].mean()\n",
    "\n",
    "if ad_design_score > 0.75:\n",
    "    ad_design_evaluation = \"Against our internal expert review, your ad design is superb. Keep up the good work. There are definitely still room for improvements\"\n",
    "elif ad_design_score > 0.6:\n",
    "    ad_design_evaluation = \"Against our internal expert review, your ad design is good. Keep it up! Take our recommendations and you'll see excellent improvements in your ad monetization!\"\n",
    "elif ad_design_score > 0.5:\n",
    "    ad_design_evaluation = \"Against our internal expert review, your ad design passed. You can do a lot to enhance your ad design and increase your revenue. Take our recommendations and you'll see excellent improvements in your ad monetization!\"\n",
    "else:\n",
    "    ad_design_evaluation = \"Against our internal expert review, your ad design have tremendous room for improvements. No worries as we are with you throughout! You can do a lot to enhance your ad design and increase your revenue. Take our recommendations and you'll see excellent improvements in your ad monetization!\"\n",
    "ad_design_evaluation   \n",
    "#Give it A, B, C, D"
   ]
  },
  {
   "cell_type": "code",
   "execution_count": 107,
   "metadata": {
    "ExecuteTime": {
     "end_time": "2020-06-21T14:05:14.930737Z",
     "start_time": "2020-06-21T14:05:14.924753Z"
    }
   },
   "outputs": [
    {
     "data": {
      "text/plain": [
       "Index(['metrics', 'averages', 'sme_metrics', 'sme', 'score', 'shortfall',\n",
       "       'total'],\n",
       "      dtype='object')"
      ]
     },
     "execution_count": 107,
     "metadata": {},
     "output_type": "execute_result"
    }
   ],
   "source": [
    "metrics_compare.columns"
   ]
  },
  {
   "cell_type": "code",
   "execution_count": 108,
   "metadata": {
    "ExecuteTime": {
     "end_time": "2020-06-21T14:05:15.670755Z",
     "start_time": "2020-06-21T14:05:14.931734Z"
    }
   },
   "outputs": [
    {
     "data": {
      "image/png": "[encoded data removed]",
      "text/plain": [
       "<Figure size 360x864 with 1 Axes>"
      ]
     },
     "metadata": {},
     "output_type": "display_data"
    }
   ],
   "source": [
    "# #Set general plot properties\n",
    "# sns.set_style(\"white\")\n",
    "# sns.set_context({\"figure.figsize\": (24, 10)})\n",
    "\n",
    "# #Plot 1 - background - \"total\" (top) series\n",
    "# sns.barplot(x = metrics_compare.metrics, y = metrics_compare.total, color = \"red\")\n",
    "\n",
    "# #Plot 2 - overlay - \"bottom\" series\n",
    "# bottom_plot = sns.barplot(x = metrics_compare.metrics, y = metrics_compare.score, color = \"green\")\n",
    "\n",
    "# topbar = plt.Rectangle((0,0),1,1,fc=\"red\", edgecolor = 'none')\n",
    "# bottombar = plt.Rectangle((0,0),1,1,fc='#0000A3',  edgecolor = 'none')\n",
    "# l = plt.legend([bottombar, topbar], ['Bottom Bar', 'Top Bar'], loc=1, ncol = 2, prop={'size':16})\n",
    "# l.draw_frame(False)\n",
    "\n",
    "# #Optional code - Make plot look nicer\n",
    "# sns.despine(left=True)\n",
    "# bottom_plot.set_ylabel(\"Y-axis label\")\n",
    "# bottom_plot.set_xlabel(\"X-axis label\")\n",
    "\n",
    "# #Set fonts to consistent 16pt size\n",
    "# for item in ([bottom_plot.xaxis.label, bottom_plot.yaxis.label] +\n",
    "#              bottom_plot.get_xticklabels() + bottom_plot.get_yticklabels()):\n",
    "#     item.set_fontsize(16)\n",
    "\n",
    "#Set general plot properties\n",
    "sns.set(style=\"whitegrid\")\n",
    "# Initialize the matplotlib figure\n",
    "f, ax = plt.subplots(figsize=(5, 12))\n",
    "\n",
    "# Plot the total maximum score possible\n",
    "sns.set_color_codes(\"pastel\")\n",
    "sns.barplot(x=\"total\", y=\"sme_metrics\", data=metrics_compare,\n",
    "            label=\"Total\", color=\"r\")\n",
    "\n",
    "# Plot the score\n",
    "sns.set_color_codes(\"muted\")\n",
    "sns.barplot(x=\"score\", y=\"sme_metrics\", data=metrics_compare,\n",
    "            label=\"Score\", color=\"g\")\n",
    "\n",
    "# Add a legend and informative axis label\n",
    "ax.legend(ncol=2, loc=\"lower right\", frameon=True)\n",
    "ax.set(xlim=(0, 1), ylabel=\"Metrics\",\n",
    "       xlabel=\"Ad Performance\")\n",
    "sns.despine(left=True, bottom=True)\n",
    "f.savefig('metrics_stacked.png', bbox_inches='tight')"
   ]
  },
  {
   "cell_type": "markdown",
   "metadata": {},
   "source": [
    "# Extracting pictures from videos (Awaiting more Automation) "
   ]
  },
  {
   "cell_type": "code",
   "execution_count": 109,
   "metadata": {
    "ExecuteTime": {
     "end_time": "2020-06-21T14:05:15.678754Z",
     "start_time": "2020-06-21T14:05:15.671781Z"
    }
   },
   "outputs": [
    {
     "data": {
      "text/plain": [
       "['../Game Play Recordings\\\\YODO1_AnnaMakris_s1_Beat Blade_ Dash Dance_062120.mp4',\n",
       " '../Game Play Recordings\\\\YODO1_AnnaMakris_s2_Beat Blade_ Dash Dance_062120.mp4',\n",
       " '../Game Play Recordings\\\\YODO1_AnnaMakris_s3_Beat Blade_ Dash Dance_062120.mp4',\n",
       " '../Game Play Recordings\\\\YODO1_AnnaMakris_s4_Beat Blade_ Dash Dance_062120.mp4',\n",
       " '../Game Play Recordings\\\\YODO1_AnnaMakris_s5_Beat Blade_ Dash Dance_062120.mp4',\n",
       " '../Game Play Recordings\\\\YODO1_AnnaMakris_s6_Beat Blade_ Dash Dance_062120.mp4']"
      ]
     },
     "execution_count": 109,
     "metadata": {},
     "output_type": "execute_result"
    }
   ],
   "source": [
    "import glob, os\n",
    "videos = []\n",
    "for video in glob.glob(\"../Game Play Recordings/*.mp4\"):\n",
    "    videos.append(video)\n",
    "    \n",
    "videos"
   ]
  },
  {
   "cell_type": "code",
   "execution_count": 110,
   "metadata": {
    "ExecuteTime": {
     "end_time": "2020-06-21T14:05:15.685743Z",
     "start_time": "2020-06-21T14:05:15.679732Z"
    }
   },
   "outputs": [
    {
     "data": {
      "text/plain": [
       "array(['App Start', 'Level End', 'Game Play', 'Menu', 'Other', 'AD',\n",
       "       'Death/Mission Fail', 'Load Screen', 'Game Store'], dtype=object)"
      ]
     },
     "execution_count": 110,
     "metadata": {},
     "output_type": "execute_result"
    }
   ],
   "source": [
    "log_data['Location in game'].unique()"
   ]
  },
  {
   "cell_type": "code",
   "execution_count": 111,
   "metadata": {
    "ExecuteTime": {
     "end_time": "2020-06-21T14:05:15.727633Z",
     "start_time": "2020-06-21T14:05:15.686713Z"
    }
   },
   "outputs": [],
   "source": [
    "#Daily reward\n",
    "min_session1 = min(log_data[log_data['Location in game'] == 'Load Screen']['Session Number'])\n",
    "dt_nudge1 = log_data[(log_data['Location in game'] == 'Load Screen') & (log_data['Session Number'] == min_session1)]['Nudge Time (HH:MM:SS)'].iloc[0]\n",
    "min_session1 = 's' + str(min_session1)\n",
    "dt_nudge1 = dt_nudge1.total_seconds()*1000\n",
    "\n",
    "#RV Level End\n",
    "min_session2 = min(log_data[log_data['Location in game'] == 'Level End']['Session Number'])\n",
    "dt_nudge2 = log_data[(log_data['Location in game'] == 'Level End') & (log_data['Session Number'] == min_session2)]['Nudge Time (HH:MM:SS)'].iloc[0]\n",
    "min_session2 = 's' + str(min_session2)\n",
    "dt_nudge2 = dt_nudge2.total_seconds()*1000\n",
    "\n",
    "#RV Hint\n",
    "min_session3 = min(log_data[log_data['Location in game'] == 'Menu']['Session Number'])\n",
    "dt_nudge3 = log_data[(log_data['Location in game'] == 'Menu') & (log_data['Session Number'] == min_session3)]['Nudge Time (HH:MM:SS)'].iloc[0]\n",
    "min_session3 = 's' + str(min_session3)\n",
    "dt_nudge3 = dt_nudge3.total_seconds()*1000\n",
    "\n",
    "#RV Level End\n",
    "min_session4 = min(log_data[log_data['Location in game'] == 'Level End']['Session Number'])\n",
    "dt_nudge4 = log_data[(log_data['Location in game'] == 'Level End') & (log_data['Session Number'] == min_session4)]['Nudge Time (HH:MM:SS)'].iloc[1]\n",
    "min_session4 = 's' + str(min_session4)\n",
    "dt_nudge4 = dt_nudge4.total_seconds()*1000\n",
    "\n",
    "#RV continue\n",
    "min_session5 = min(log_data[log_data['Location in game'] == 'Death/Mission Fail']['Session Number'])\n",
    "dt_nudge5 = log_data[(log_data['Location in game'] == 'Death/Mission Fail') & (log_data['Session Number'] == min_session5)]['Nudge Time (HH:MM:SS)'].iloc[0]\n",
    "min_session5 = 's' + str(min_session5)\n",
    "dt_nudge5 = dt_nudge5.total_seconds()*1000\n",
    "\n",
    "#RV more resource\n",
    "min_session6 = min(log_data[log_data['Location in game'] == 'Game Play']['Session Number'])\n",
    "dt_nudge6 = log_data[(log_data['Location in game'] == 'Game Play') & (log_data['Session Number'] == min_session6)]['Nudge Time (HH:MM:SS)'].iloc[0]\n",
    "min_session6 = 's' + str(min_session6)\n",
    "dt_nudge6 = dt_nudge6.total_seconds()*1000\n",
    "\n",
    "#RV skip level\n",
    "min_session7 = min(log_data[log_data['Location in game'] == 'Death/Mission Fail']['Session Number'])\n",
    "dt_nudge7 = log_data[(log_data['Location in game'] == 'Death/Mission Fail') & (log_data['Session Number'] == min_session7)]['Nudge Time (HH:MM:SS)'].iloc[1]\n",
    "min_session7 = 's' + str(min_session7)\n",
    "dt_nudge7 = dt_nudge7.total_seconds()*1000\n",
    "\n",
    "#RV get more time\n",
    "min_session8 = min(log_data[log_data['Location in game'] == 'Menu']['Session Number'])\n",
    "dt_nudge8 = log_data[(log_data['Location in game'] == 'Menu') & (log_data['Session Number'] == min_session8)]['Nudge Time (HH:MM:SS)'].iloc[1]\n",
    "min_session8 = 's' + str(min_session8)\n",
    "dt_nudge8 = dt_nudge8.total_seconds()*1000"
   ]
  },
  {
   "cell_type": "code",
   "execution_count": 125,
   "metadata": {
    "ExecuteTime": {
     "end_time": "2020-06-21T14:09:39.268705Z",
     "start_time": "2020-06-21T14:09:38.371069Z"
    }
   },
   "outputs": [
    {
     "name": "stdout",
     "output_type": "stream",
     "text": [
      "Success\n",
      "Success\n",
      "Success\n",
      "Success\n",
      "Success\n",
      "Success\n",
      "Success\n",
      "Success\n"
     ]
    }
   ],
   "source": [
    "import cv2\n",
    "\n",
    "# os.chdir(r\"C:\\Users\\User\\Desktop\\Fresh\\Yodo1\\Ad Design\\Prototyping\")\n",
    "\n",
    "for video in videos:\n",
    "    if min_session1 in video:    \n",
    "        cam = cv2.VideoCapture(video)\n",
    "        cam.set(cv2.CAP_PROP_POS_MSEC,dt_nudge1)  \n",
    "\n",
    "        success, image = cam.read()\n",
    "\n",
    "        if success:\n",
    "            cv2.imwrite(\"open_game_reward.png\", image)\n",
    "            print('Success')\n",
    "    \n",
    "    if min_session2 in video:    \n",
    "        cam = cv2.VideoCapture(video)\n",
    "        cam.set(cv2.CAP_PROP_POS_MSEC,dt_nudge2)  \n",
    "\n",
    "        success, image = cam.read()\n",
    "\n",
    "        if success:\n",
    "            cv2.imwrite(\"rv_double_reward.png\", image)\n",
    "            print('Success')\n",
    "    \n",
    "    if min_session3 in video:    \n",
    "        cam = cv2.VideoCapture(video)\n",
    "        cam.set(cv2.CAP_PROP_POS_MSEC,dt_nudge3)  \n",
    "\n",
    "        success, image = cam.read()\n",
    "\n",
    "        if success:\n",
    "            cv2.imwrite(\"rv_hint.png\", image)\n",
    "            print('Success')\n",
    "    \n",
    "    if min_session4 in video:    \n",
    "        cam = cv2.VideoCapture(video)\n",
    "        cam.set(cv2.CAP_PROP_POS_MSEC,dt_nudge4)  \n",
    "\n",
    "        success, image = cam.read()\n",
    "\n",
    "        if success:\n",
    "            cv2.imwrite(\"rv_level_end.png\", image)\n",
    "            print('Success')\n",
    "    \n",
    "    if min_session5 in video:    \n",
    "        cam = cv2.VideoCapture(video)\n",
    "        cam.set(cv2.CAP_PROP_POS_MSEC,dt_nudge5)  \n",
    "\n",
    "        success, image = cam.read()\n",
    "\n",
    "        if success:\n",
    "            cv2.imwrite(\"rv_continue.png\", image)\n",
    "            print('Success')\n",
    "\n",
    "    if min_session6 in video:    \n",
    "        cam = cv2.VideoCapture(video)\n",
    "        cam.set(cv2.CAP_PROP_POS_MSEC,dt_nudge6)  \n",
    "\n",
    "        success, image = cam.read()\n",
    "\n",
    "        if success:\n",
    "            cv2.imwrite(\"rv_resource.png\", image)\n",
    "            print('Success')\n",
    "\n",
    "    if min_session7 in video:    \n",
    "        cam = cv2.VideoCapture(video)\n",
    "        cam.set(cv2.CAP_PROP_POS_MSEC,dt_nudge7)  \n",
    "\n",
    "        success, image = cam.read()\n",
    "\n",
    "        if success:\n",
    "            cv2.imwrite(\"rv_skip_level.png\", image)\n",
    "            print('Success')\n",
    "            \n",
    "    if min_session8 in video:    \n",
    "        cam = cv2.VideoCapture(video)\n",
    "        cam.set(cv2.CAP_PROP_POS_MSEC,dt_nudge8)  \n",
    "\n",
    "        success, image = cam.read()\n",
    "\n",
    "        if success:\n",
    "            cv2.imwrite(\"rv_more_time.png\", image)\n",
    "            print('Success')"
   ]
  },
  {
   "cell_type": "markdown",
   "metadata": {},
   "source": [
    "# PDF Export "
   ]
  },
  {
   "cell_type": "markdown",
   "metadata": {},
   "source": [
    "## Test 1 "
   ]
  },
  {
   "cell_type": "raw",
   "metadata": {
    "ExecuteTime": {
     "end_time": "2020-06-17T07:00:15.278231Z",
     "start_time": "2020-06-17T07:00:15.260279Z"
    }
   },
   "source": [
    "from matplotlib.backends.backend_pdf import PdfPages"
   ]
  },
  {
   "cell_type": "raw",
   "metadata": {
    "ExecuteTime": {
     "end_time": "2020-06-17T07:00:15.587404Z",
     "start_time": "2020-06-17T07:00:15.280226Z"
    }
   },
   "source": [
    "with PdfPages(r'./ad_design_report_v1.pdf') as export_pdf:\n",
    "  \n",
    "   #Set general plot properties\n",
    "    sns.set(style=\"whitegrid\")\n",
    "    # Initialize the matplotlib figure\n",
    "    f, ax = plt.subplots(figsize=(6, 15))\n",
    "\n",
    "    # Plot the total maximum score possible\n",
    "    sns.set_color_codes(\"pastel\")\n",
    "    sns.barplot(x=\"total\", y=\"sme_metrics\", data=metrics_compare,\n",
    "                label=\"Total\", color=\"r\")\n",
    "\n",
    "    # Plot the score\n",
    "    sns.set_color_codes(\"muted\")\n",
    "    sns.barplot(x=\"score\", y=\"sme_metrics\", data=metrics_compare,\n",
    "                label=\"Score\", color=\"g\")\n",
    "\n",
    "    # Add a legend and informative axis label\n",
    "    ax.legend(ncol=2, loc=\"lower right\", frameon=True)\n",
    "    ax.set(xlim=(0, 1), ylabel=\"\",\n",
    "           xlabel=\"Ad Performance\")\n",
    "    sns.despine(left=True, bottom=True)\n",
    "    export_pdf.savefig()\n",
    "    plt.close()\n",
    "      \n",
    "#     plt.plot(df2['Year'], df2['Unemployment_Rate'], color='red', marker='o')\n",
    "#     plt.title('Unemployment Rate Vs Year', fontsize=10)\n",
    "#     plt.xlabel('Year', fontsize=8)\n",
    "#     plt.ylabel('Unemployment Rate', fontsize=8)\n",
    "#     plt.grid(True)\n",
    "#     export_pdf.savefig()\n",
    "#     plt.close()"
   ]
  },
  {
   "cell_type": "markdown",
   "metadata": {},
   "source": [
    "## Test 2 (Awaiting more Automation)"
   ]
  },
  {
   "cell_type": "raw",
   "metadata": {
    "ExecuteTime": {
     "end_time": "2020-06-17T07:00:15.601368Z",
     "start_time": "2020-06-17T07:00:15.589399Z"
    }
   },
   "source": [
    "count= 0\n",
    "import glob, os\n",
    "os.chdir(r\"C:\\Users\\User\\Desktop\\Fresh\\Yodo1\\Ad Design\\Prototyping\")\n",
    "for file in glob.glob(\"*.png\"):\n",
    "    print(file)\n",
    "    count += 1\n",
    "count"
   ]
  },
  {
   "cell_type": "code",
   "execution_count": 113,
   "metadata": {
    "ExecuteTime": {
     "end_time": "2020-06-21T14:05:16.676067Z",
     "start_time": "2020-06-21T14:05:16.666092Z"
    }
   },
   "outputs": [],
   "source": [
    "ad_design_score = str(int(ad_design_score*100)) + '/100'\n",
    "average_ad_velocity = str(timedelta(seconds=int(nudge_stats['Ad velocity']['average'].total_seconds())))\n",
    "ad_placement_number = str(ad_placement['Location in game'].nunique()) + '/7'\n",
    "ad_placement_locations = ad_placement['Location in game'].dropna().unique()\n",
    "ad_format_number = str(log_data['AD Format:'].nunique()) + '/3'\n",
    "ad_format_used = log_data['AD Format:'].dropna().unique()\n",
    "time_to_first_ad = str(time_to_first_ad)\n",
    "compliance = str(1 - anti_ad_patterns) + '/1'"
   ]
  },
  {
   "cell_type": "code",
   "execution_count": 114,
   "metadata": {
    "ExecuteTime": {
     "end_time": "2020-06-21T14:05:16.683047Z",
     "start_time": "2020-06-21T14:05:16.678060Z"
    }
   },
   "outputs": [],
   "source": [
    "separator = ', '\n",
    "separator2 = ' and '\n",
    "ad_placement_locations = separator.join(ad_placement_locations)\n",
    "ad_format_used = separator.join(ad_format_used)"
   ]
  },
  {
   "cell_type": "code",
   "execution_count": 115,
   "metadata": {
    "ExecuteTime": {
     "end_time": "2020-06-21T14:05:16.690029Z",
     "start_time": "2020-06-21T14:05:16.684045Z"
    }
   },
   "outputs": [],
   "source": [
    "recommended_locations = list(set(game_location_cols) - set(ad_placement['Location in game'].unique()))\n",
    "recommended_locations.remove('Other')\n",
    "recommended_locations = separator.join(recommended_locations)"
   ]
  },
  {
   "cell_type": "code",
   "execution_count": 116,
   "metadata": {
    "ExecuteTime": {
     "end_time": "2020-06-21T14:05:16.698007Z",
     "start_time": "2020-06-21T14:05:16.692024Z"
    }
   },
   "outputs": [
    {
     "data": {
      "text/plain": [
       "'Banner, Interstitial'"
      ]
     },
     "execution_count": 116,
     "metadata": {},
     "output_type": "execute_result"
    }
   ],
   "source": [
    "recommend_ads = list(set(ad_cols) - set(log_data['AD Format:'].unique()))\n",
    "recommend_ads = separator.join(recommend_ads)\n",
    "recommend_ads"
   ]
  },
  {
   "cell_type": "code",
   "execution_count": 117,
   "metadata": {
    "ExecuteTime": {
     "end_time": "2020-06-21T14:05:16.708979Z",
     "start_time": "2020-06-21T14:05:16.700002Z"
    }
   },
   "outputs": [
    {
     "data": {
      "text/plain": [
       "'The current monetization model is heavily dependent on Rewardedsds. The game has no Banner, Interstitialads. Thus, we recommend to inject some Banner, Interstitial ads, which will increase the revenue and improve user experience, retention.'"
      ]
     },
     "execution_count": 117,
     "metadata": {},
     "output_type": "execute_result"
    }
   ],
   "source": [
    "current_ads = log_data['AD Format:'].dropna().unique()\n",
    "if len(current_ads) == 2:\n",
    "    current_ads = separator2.join(current_ads)\n",
    "else:\n",
    "    current_ads = separator.join(current_ads)\n",
    "recommended_ads = \"The current monetization model is heavily dependent on \" + current_ads + \"sds. The game has no \" + recommend_ads + \"ads. Thus, we recommend to inject some \" + recommend_ads + \" ads, which will increase the revenue and improve user experience, retention.\"\n",
    "recommended_ads"
   ]
  },
  {
   "cell_type": "code",
   "execution_count": 118,
   "metadata": {
    "ExecuteTime": {
     "end_time": "2020-06-21T14:05:16.715959Z",
     "start_time": "2020-06-21T14:05:16.710973Z"
    }
   },
   "outputs": [],
   "source": [
    "recommended_locations = list(set(game_location_cols) - set(ad_placement['Location in game'].unique()))\n",
    "recommended_locations.remove('Other')\n",
    "recommended_locations = separator.join(recommended_locations)"
   ]
  },
  {
   "cell_type": "code",
   "execution_count": 119,
   "metadata": {
    "ExecuteTime": {
     "end_time": "2020-06-21T14:05:16.750866Z",
     "start_time": "2020-06-21T14:05:16.717955Z"
    }
   },
   "outputs": [
    {
     "data": {
      "text/html": [
       "<div>\n",
       "<style scoped>\n",
       "    .dataframe tbody tr th:only-of-type {\n",
       "        vertical-align: middle;\n",
       "    }\n",
       "\n",
       "    .dataframe tbody tr th {\n",
       "        vertical-align: top;\n",
       "    }\n",
       "\n",
       "    .dataframe thead th {\n",
       "        text-align: right;\n",
       "    }\n",
       "</style>\n",
       "<table border=\"1\" class=\"dataframe\">\n",
       "  <thead>\n",
       "    <tr style=\"text-align: right;\">\n",
       "      <th></th>\n",
       "      <th>Session Number</th>\n",
       "      <th>Start Type</th>\n",
       "      <th>AD Format:</th>\n",
       "      <th>Rewarded</th>\n",
       "      <th>Playable</th>\n",
       "      <th>Video</th>\n",
       "      <th>Session Duration</th>\n",
       "      <th>Game Initiated</th>\n",
       "      <th>Location Marker</th>\n",
       "      <th>Player Initiated</th>\n",
       "      <th>...</th>\n",
       "      <th>Interstitial_Game Initiated</th>\n",
       "      <th>Ad velocity</th>\n",
       "      <th>Banner velocity</th>\n",
       "      <th>Interstitial velocity</th>\n",
       "      <th>Rewarded velocity</th>\n",
       "      <th>Ad proactiveness</th>\n",
       "      <th>Banner proactiveness</th>\n",
       "      <th>Interstitial proactiveness</th>\n",
       "      <th>Rewarded proactiveness</th>\n",
       "      <th>Static</th>\n",
       "    </tr>\n",
       "  </thead>\n",
       "  <tbody>\n",
       "    <tr>\n",
       "      <th>0</th>\n",
       "      <td>1.000000</td>\n",
       "      <td>76.000000</td>\n",
       "      <td>23.000000</td>\n",
       "      <td>23.000000</td>\n",
       "      <td>NaN</td>\n",
       "      <td>6.000000</td>\n",
       "      <td>00:10:25</td>\n",
       "      <td>2.000000</td>\n",
       "      <td>0.000000</td>\n",
       "      <td>21.000000</td>\n",
       "      <td>...</td>\n",
       "      <td>NaN</td>\n",
       "      <td>00:00:27.173913</td>\n",
       "      <td>0 days</td>\n",
       "      <td>0 days</td>\n",
       "      <td>00:00:27.173913</td>\n",
       "      <td>0.086957</td>\n",
       "      <td>NaN</td>\n",
       "      <td>NaN</td>\n",
       "      <td>0.086957</td>\n",
       "      <td>NaN</td>\n",
       "    </tr>\n",
       "    <tr>\n",
       "      <th>1</th>\n",
       "      <td>2.000000</td>\n",
       "      <td>85.000000</td>\n",
       "      <td>25.000000</td>\n",
       "      <td>25.000000</td>\n",
       "      <td>NaN</td>\n",
       "      <td>9.000000</td>\n",
       "      <td>00:10:05</td>\n",
       "      <td>0.000000</td>\n",
       "      <td>1.000000</td>\n",
       "      <td>24.000000</td>\n",
       "      <td>...</td>\n",
       "      <td>NaN</td>\n",
       "      <td>00:00:24.200000</td>\n",
       "      <td>0 days</td>\n",
       "      <td>0 days</td>\n",
       "      <td>00:00:24.200000</td>\n",
       "      <td>0.000000</td>\n",
       "      <td>NaN</td>\n",
       "      <td>NaN</td>\n",
       "      <td>NaN</td>\n",
       "      <td>NaN</td>\n",
       "    </tr>\n",
       "    <tr>\n",
       "      <th>2</th>\n",
       "      <td>3.000000</td>\n",
       "      <td>109.000000</td>\n",
       "      <td>31.000000</td>\n",
       "      <td>31.000000</td>\n",
       "      <td>1.0</td>\n",
       "      <td>5.000000</td>\n",
       "      <td>00:10:50</td>\n",
       "      <td>0.000000</td>\n",
       "      <td>0.000000</td>\n",
       "      <td>31.000000</td>\n",
       "      <td>...</td>\n",
       "      <td>NaN</td>\n",
       "      <td>00:00:20.967741</td>\n",
       "      <td>0 days</td>\n",
       "      <td>0 days</td>\n",
       "      <td>00:00:20.967741</td>\n",
       "      <td>0.000000</td>\n",
       "      <td>NaN</td>\n",
       "      <td>NaN</td>\n",
       "      <td>NaN</td>\n",
       "      <td>NaN</td>\n",
       "    </tr>\n",
       "    <tr>\n",
       "      <th>3</th>\n",
       "      <td>4.000000</td>\n",
       "      <td>101.000000</td>\n",
       "      <td>30.000000</td>\n",
       "      <td>30.000000</td>\n",
       "      <td>1.0</td>\n",
       "      <td>5.000000</td>\n",
       "      <td>00:11:21.188118</td>\n",
       "      <td>0.000000</td>\n",
       "      <td>0.000000</td>\n",
       "      <td>30.000000</td>\n",
       "      <td>...</td>\n",
       "      <td>NaN</td>\n",
       "      <td>00:00:22.706270</td>\n",
       "      <td>0 days</td>\n",
       "      <td>0 days</td>\n",
       "      <td>00:00:22.706270</td>\n",
       "      <td>0.000000</td>\n",
       "      <td>NaN</td>\n",
       "      <td>NaN</td>\n",
       "      <td>NaN</td>\n",
       "      <td>NaN</td>\n",
       "    </tr>\n",
       "    <tr>\n",
       "      <th>4</th>\n",
       "      <td>5.000000</td>\n",
       "      <td>113.000000</td>\n",
       "      <td>31.000000</td>\n",
       "      <td>31.000000</td>\n",
       "      <td>NaN</td>\n",
       "      <td>7.000000</td>\n",
       "      <td>00:11:44</td>\n",
       "      <td>0.000000</td>\n",
       "      <td>1.000000</td>\n",
       "      <td>30.000000</td>\n",
       "      <td>...</td>\n",
       "      <td>NaN</td>\n",
       "      <td>00:00:22.709677</td>\n",
       "      <td>0 days</td>\n",
       "      <td>0 days</td>\n",
       "      <td>00:00:22.709677</td>\n",
       "      <td>0.000000</td>\n",
       "      <td>NaN</td>\n",
       "      <td>NaN</td>\n",
       "      <td>NaN</td>\n",
       "      <td>NaN</td>\n",
       "    </tr>\n",
       "    <tr>\n",
       "      <th>5</th>\n",
       "      <td>6.000000</td>\n",
       "      <td>115.000000</td>\n",
       "      <td>32.000000</td>\n",
       "      <td>32.000000</td>\n",
       "      <td>1.0</td>\n",
       "      <td>3.000000</td>\n",
       "      <td>00:10:04</td>\n",
       "      <td>0.000000</td>\n",
       "      <td>0.000000</td>\n",
       "      <td>32.000000</td>\n",
       "      <td>...</td>\n",
       "      <td>NaN</td>\n",
       "      <td>00:00:18.875000</td>\n",
       "      <td>0 days</td>\n",
       "      <td>0 days</td>\n",
       "      <td>00:00:18.875000</td>\n",
       "      <td>0.000000</td>\n",
       "      <td>NaN</td>\n",
       "      <td>NaN</td>\n",
       "      <td>NaN</td>\n",
       "      <td>NaN</td>\n",
       "    </tr>\n",
       "    <tr>\n",
       "      <th>average</th>\n",
       "      <td>3.500000</td>\n",
       "      <td>99.833333</td>\n",
       "      <td>28.666667</td>\n",
       "      <td>28.666667</td>\n",
       "      <td>1.0</td>\n",
       "      <td>5.833333</td>\n",
       "      <td>00:10:44.864686</td>\n",
       "      <td>0.333333</td>\n",
       "      <td>0.333333</td>\n",
       "      <td>28.000000</td>\n",
       "      <td>...</td>\n",
       "      <td>NaN</td>\n",
       "      <td>00:00:22.772100</td>\n",
       "      <td>0 days</td>\n",
       "      <td>0 days</td>\n",
       "      <td>00:00:22.772100</td>\n",
       "      <td>0.014493</td>\n",
       "      <td>NaN</td>\n",
       "      <td>NaN</td>\n",
       "      <td>0.086957</td>\n",
       "      <td>NaN</td>\n",
       "    </tr>\n",
       "    <tr>\n",
       "      <th>variety</th>\n",
       "      <td>1.707825</td>\n",
       "      <td>14.587856</td>\n",
       "      <td>3.399346</td>\n",
       "      <td>3.399346</td>\n",
       "      <td>0.0</td>\n",
       "      <td>1.863390</td>\n",
       "      <td>00:00:37.630816</td>\n",
       "      <td>0.745356</td>\n",
       "      <td>0.471405</td>\n",
       "      <td>4.041452</td>\n",
       "      <td>...</td>\n",
       "      <td>NaN</td>\n",
       "      <td>00:00:02.577666</td>\n",
       "      <td>0 days</td>\n",
       "      <td>0 days</td>\n",
       "      <td>00:00:02.577666</td>\n",
       "      <td>0.032407</td>\n",
       "      <td>NaN</td>\n",
       "      <td>NaN</td>\n",
       "      <td>0.000000</td>\n",
       "      <td>NaN</td>\n",
       "    </tr>\n",
       "  </tbody>\n",
       "</table>\n",
       "<p>8 rows × 26 columns</p>\n",
       "</div>"
      ],
      "text/plain": [
       "         Session Number  Start Type  AD Format:   Rewarded  Playable  \\\n",
       "0              1.000000   76.000000   23.000000  23.000000       NaN   \n",
       "1              2.000000   85.000000   25.000000  25.000000       NaN   \n",
       "2              3.000000  109.000000   31.000000  31.000000       1.0   \n",
       "3              4.000000  101.000000   30.000000  30.000000       1.0   \n",
       "4              5.000000  113.000000   31.000000  31.000000       NaN   \n",
       "5              6.000000  115.000000   32.000000  32.000000       1.0   \n",
       "average        3.500000   99.833333   28.666667  28.666667       1.0   \n",
       "variety        1.707825   14.587856    3.399346   3.399346       0.0   \n",
       "\n",
       "            Video Session Duration  Game Initiated  Location Marker  \\\n",
       "0        6.000000         00:10:25        2.000000         0.000000   \n",
       "1        9.000000         00:10:05        0.000000         1.000000   \n",
       "2        5.000000         00:10:50        0.000000         0.000000   \n",
       "3        5.000000  00:11:21.188118        0.000000         0.000000   \n",
       "4        7.000000         00:11:44        0.000000         1.000000   \n",
       "5        3.000000         00:10:04        0.000000         0.000000   \n",
       "average  5.833333  00:10:44.864686        0.333333         0.333333   \n",
       "variety  1.863390  00:00:37.630816        0.745356         0.471405   \n",
       "\n",
       "         Player Initiated  ...  Interstitial_Game Initiated     Ad velocity  \\\n",
       "0               21.000000  ...                          NaN 00:00:27.173913   \n",
       "1               24.000000  ...                          NaN 00:00:24.200000   \n",
       "2               31.000000  ...                          NaN 00:00:20.967741   \n",
       "3               30.000000  ...                          NaN 00:00:22.706270   \n",
       "4               30.000000  ...                          NaN 00:00:22.709677   \n",
       "5               32.000000  ...                          NaN 00:00:18.875000   \n",
       "average         28.000000  ...                          NaN 00:00:22.772100   \n",
       "variety          4.041452  ...                          NaN 00:00:02.577666   \n",
       "\n",
       "         Banner velocity  Interstitial velocity  Rewarded velocity  \\\n",
       "0                 0 days                 0 days    00:00:27.173913   \n",
       "1                 0 days                 0 days    00:00:24.200000   \n",
       "2                 0 days                 0 days    00:00:20.967741   \n",
       "3                 0 days                 0 days    00:00:22.706270   \n",
       "4                 0 days                 0 days    00:00:22.709677   \n",
       "5                 0 days                 0 days    00:00:18.875000   \n",
       "average           0 days                 0 days    00:00:22.772100   \n",
       "variety           0 days                 0 days    00:00:02.577666   \n",
       "\n",
       "         Ad proactiveness  Banner proactiveness Interstitial proactiveness  \\\n",
       "0                0.086957                   NaN                        NaN   \n",
       "1                0.000000                   NaN                        NaN   \n",
       "2                0.000000                   NaN                        NaN   \n",
       "3                0.000000                   NaN                        NaN   \n",
       "4                0.000000                   NaN                        NaN   \n",
       "5                0.000000                   NaN                        NaN   \n",
       "average          0.014493                   NaN                        NaN   \n",
       "variety          0.032407                   NaN                        NaN   \n",
       "\n",
       "        Rewarded proactiveness Static  \n",
       "0                     0.086957    NaN  \n",
       "1                          NaN    NaN  \n",
       "2                          NaN    NaN  \n",
       "3                          NaN    NaN  \n",
       "4                          NaN    NaN  \n",
       "5                          NaN    NaN  \n",
       "average               0.086957    NaN  \n",
       "variety               0.000000    NaN  \n",
       "\n",
       "[8 rows x 26 columns]"
      ]
     },
     "execution_count": 119,
     "metadata": {},
     "output_type": "execute_result"
    }
   ],
   "source": [
    "nudge_stats"
   ]
  },
  {
   "cell_type": "code",
   "execution_count": 120,
   "metadata": {
    "ExecuteTime": {
     "end_time": "2020-06-21T14:05:16.757848Z",
     "start_time": "2020-06-21T14:05:16.752861Z"
    }
   },
   "outputs": [
    {
     "data": {
      "text/plain": [
       "\"You can add RV to give gamers' hint in the game! This  players to progress more rapidly through the game and drives higher retention.\""
      ]
     },
     "execution_count": 120,
     "metadata": {},
     "output_type": "execute_result"
    }
   ],
   "source": [
    "recommended_desire3"
   ]
  },
  {
   "cell_type": "code",
   "execution_count": 121,
   "metadata": {
    "ExecuteTime": {
     "end_time": "2020-06-21T14:05:16.764829Z",
     "start_time": "2020-06-21T14:05:16.759842Z"
    }
   },
   "outputs": [
    {
     "data": {
      "text/plain": [
       "'When the Level completes, add RV to double the rewards!'"
      ]
     },
     "execution_count": 121,
     "metadata": {},
     "output_type": "execute_result"
    }
   ],
   "source": [
    "recommended_desire2"
   ]
  },
  {
   "cell_type": "code",
   "execution_count": 127,
   "metadata": {
    "ExecuteTime": {
     "end_time": "2020-06-21T14:11:27.356704Z",
     "start_time": "2020-06-21T14:11:21.115439Z"
    },
    "scrolled": true
   },
   "outputs": [
    {
     "name": "stdout",
     "output_type": "stream",
     "text": [
      "You can create and gift daily reward to gamers when they return to the game! This helps with retention rate by rewarding users to return to the game on a daily basis.\n",
      "When the Level completes, add RV to double the rewards!\n",
      "You can add RV to give gamers' hint in the game! This  players to progress more rapidly through the game and drives higher retention.\n",
      "Let players see a RV and continue every time they fail! Allow them to resume playing from the same place.\n",
      "Please add an option to watch an ad to skip to the next level of the game. Currently the levels are unlocked by winning the previous level. But you can add the option for player to see an Ad to skip.\n",
      "The optimal display interval for interstitial differs from game to game, we recommend A/B testing the optimal display interval for Beat Blade  Dash Dance starting with 120 seconds / interstitial, then decreasing it by gradually using dynamic server side parameters while monitoring retention. Keep reducing the display interval by 15-30 seconds as long as retention doesn't decrease to achieve optimal revenue with the best player experience.\n"
     ]
    },
    {
     "data": {
      "text/plain": [
       "''"
      ]
     },
     "execution_count": 127,
     "metadata": {},
     "output_type": "execute_result"
    }
   ],
   "source": [
    "from pylab import title, figure, xlabel, ylabel, xticks, bar, legend, axis, savefig\n",
    "from fpdf import FPDF\n",
    "\n",
    "pdf = FPDF(orientation='P', unit='pt', format='A4')\n",
    "pdf.add_page()\n",
    "# pdf.set_color(255,165,0)\n",
    "pdf.image('Background.png', x = 0, y = 0, w = 600, h = 900)\n",
    "pdf.image('MASlogo.png', x = 50, y = 50, w = 150, h = 100)\n",
    "pdf.image('MASad.png', x = 380, y = 690, w = 200, h = 100)\n",
    "\n",
    "\n",
    "y_axis = 150\n",
    "pdf.set_y(y_axis)\n",
    "pdf.set_font(\"Times\", \"B\", 24)\n",
    "pdf.cell(0, 80, str(game) + \" Ad Design Report\", 0, 1, \"C\")\n",
    "\n",
    "pdf.set_font(\"Times\", \"B\", 14)\n",
    "pdf.cell(160, 25, \"AD Design Score:\")\n",
    "pdf.set_font(\"Times\", \"\", 12)\n",
    "pdf.cell(0, 25, \"{}\".format(ad_design_score), 0, 1)\n",
    "\n",
    "pdf.cell(0, 5, \"\", 0, 1)\n",
    "pdf.set_font(\"Times\", \"B\", 14)\n",
    "pdf.cell(160, 25, \"Average Ad Velocity:\")\n",
    "pdf.set_font(\"Times\", \"\", 12)\n",
    "pdf.cell(0, 25, \"{}\".format(average_ad_velocity), 0, 1)\n",
    "\n",
    "pdf.cell(0, 5, \"\", 0, 1)\n",
    "pdf.set_font(\"Times\", \"B\", 14)\n",
    "pdf.cell(160, 25, \"Ad Placement:\")\n",
    "pdf.set_font(\"Times\", \"\", 12)\n",
    "pdf.cell(0, 25, \"{}\".format(ad_placement_number), 0, 1)\n",
    "\n",
    "pdf.cell(0, 5, \"\", 0, 1)\n",
    "pdf.set_font(\"Times\", \"B\", 14)\n",
    "pdf.cell(160, 25, \"Ad Placement Locations:\")\n",
    "pdf.set_font(\"Times\", \"\", 12)\n",
    "pdf.cell(0, 25, \"{}\".format(ad_placement_locations), 0, 1)\n",
    "\n",
    "pdf.cell(0, 5, \"\", 0, 1)\n",
    "pdf.set_font(\"Times\", \"B\", 14)\n",
    "pdf.cell(160, 25, \"Ad Format:\")\n",
    "pdf.set_font(\"Times\", \"\", 12)\n",
    "pdf.cell(0, 25, \"{}\".format(ad_format_number), 0, 1)\n",
    "\n",
    "pdf.cell(0, 5, \"\", 0, 1)\n",
    "pdf.set_font(\"Times\", \"B\", 14)\n",
    "pdf.cell(160, 25, \"Ad Category Used:\")\n",
    "pdf.set_font(\"Times\", \"\", 12)\n",
    "pdf.cell(0, 25, \"{}\".format(ad_format_used), 0, 1)\n",
    "\n",
    "pdf.cell(0, 5, \"\", 0, 1)\n",
    "pdf.set_font(\"Times\", \"B\", 14)\n",
    "pdf.cell(160, 25, \"Time to first Ad:\")\n",
    "pdf.set_font(\"Times\", \"\", 12)\n",
    "pdf.cell(0, 25, \"{}\".format(time_to_first_ad), 0, 1)\n",
    "\n",
    "pdf.cell(0, 5, \"\", 0, 1)\n",
    "pdf.set_font(\"Times\", \"B\", 14)\n",
    "pdf.cell(160, 25, \"Compliance:\")\n",
    "pdf.set_font(\"Times\", \"\", 12)\n",
    "pdf.cell(0, 25, \"{}\".format(compliance), 0, 1)\n",
    "\n",
    "pdf.cell(0, 5, \"\", 0, 1)\n",
    "pdf.set_font(\"Times\", \"B\", 14)\n",
    "pdf.set_text_color(0, 0, 139)\n",
    "pdf.cell(220, 25, \"You can place ads at more locations:\")\n",
    "pdf.set_font(\"Times\", \"\", 12)\n",
    "pdf.set_text_color(0, 0, 0)\n",
    "pdf.multi_cell(0, 25, \"{}\".format(recommended_locations), 0, 1)\n",
    "\n",
    "pdf.cell(0, 5, \"\", 0, 1)\n",
    "pdf.set_font(\"Times\", \"B\", 14)\n",
    "pdf.set_text_color(0, 0, 139)\n",
    "pdf.cell(220, 25, \"You can explore boosting your ad:\")\n",
    "pdf.set_font(\"Times\", \"\", 12)\n",
    "pdf.set_text_color(0, 0, 0)\n",
    "pdf.multi_cell(0, 25, \"{}\".format(recommended_ads), 0, 1)\n",
    "\n",
    "\n",
    "\n",
    "pdf.add_page()\n",
    "count = 0\n",
    "y_axis = 20\n",
    "\n",
    "if count == 4:\n",
    "    pdf.add_page()\n",
    "    y_axis = 20\n",
    "    \n",
    "try:\n",
    "    print(recommended_desire1)\n",
    "    pdf.set_y(y_axis)\n",
    "    count += 1\n",
    "    pdf.set_font(\"Times\", \"B\", 24)\n",
    "    pdf.set_text_color(255, 140, 0)\n",
    "    pdf.cell(0, 20, \"\", 0, 1)\n",
    "    pdf.multi_cell(300, 20, \"{}\".format(\"RECOMMENDATION \" + str(count) + \":\"), 0, 1, \"L\")\n",
    "    pdf.set_font(\"Times\", \"\", 12)\n",
    "    pdf.set_text_color(0, 0, 0)\n",
    "    pdf.cell(0, 20, \"\", 0, 1)\n",
    "    pdf.multi_cell(300, 20, \"{}\".format(recommended_desire1), 0, 1, \"L\")\n",
    "    pdf.image('open_game_reward.png', x = 400, y = y_axis, w = 0, h = 150)\n",
    "    y_axis +=200\n",
    "except:\n",
    "    pass\n",
    "\n",
    "if count == 4:\n",
    "    pdf.add_page()\n",
    "    y_axis = 20\n",
    "\n",
    "try:\n",
    "    print(recommended_desire2)\n",
    "    pdf.set_y(y_axis)\n",
    "    count += 1\n",
    "    pdf.set_font(\"Times\", \"B\", 24)\n",
    "    pdf.set_text_color(255, 140, 0)\n",
    "    pdf.cell(0, 20, \"\", 0, 1)\n",
    "    pdf.multi_cell(300, 20, \"{}\".format(\"RECOMMENDATION \" + str(count) + \":\"), 0, 1, \"L\")\n",
    "    pdf.set_font(\"Times\", \"\", 12)\n",
    "    pdf.set_text_color(0, 0, 0)\n",
    "    pdf.cell(0, 20, \"\", 0, 1)\n",
    "    pdf.multi_cell(300, 20, \"{}\".format(recommended_desire2), 0, 1, \"L\")\n",
    "    pdf.image('rv_double_reward.png', x = 400, y = y_axis, w = 0, h = 150)\n",
    "    y_axis +=200\n",
    "except:\n",
    "    pass\n",
    "\n",
    "\n",
    "if count == 4:\n",
    "    pdf.add_page()\n",
    "    y_axis = 20\n",
    "\n",
    "try:\n",
    "    print(recommended_desire3)\n",
    "    pdf.set_y(y_axis)\n",
    "    count += 1\n",
    "    pdf.set_font(\"Times\", \"B\", 24)\n",
    "    pdf.set_text_color(255, 140, 0)\n",
    "    pdf.cell(0, 20, \"\", 0, 1)\n",
    "    pdf.multi_cell(300, 20, \"{}\".format(\"RECOMMENDATION \" + str(count) + \":\"), 0, 1, \"L\")\n",
    "    pdf.set_font(\"Times\", \"\", 12)\n",
    "    pdf.set_text_color(0, 0, 0)\n",
    "    pdf.cell(0, 20, \"\", 0, 1)\n",
    "    pdf.multi_cell(300, 20, \"{}\".format(recommended_desire3), 0, 1, \"L\")\n",
    "    pdf.image('rv_hint.png', x = 400, y = y_axis, w = 0, h = 150)\n",
    "    y_axis +=200\n",
    "except:\n",
    "    pass\n",
    "\n",
    "# if count == 4:\n",
    "#     pdf.add_page()\n",
    "#     y_axis = 20\n",
    "    \n",
    "try:\n",
    "    print(recommended_desire4)\n",
    "    pdf.set_y(y_axis)\n",
    "    count += 1\n",
    "    pdf.set_font(\"Times\", \"B\", 24)\n",
    "    pdf.set_text_color(255, 140, 0)\n",
    "    pdf.cell(0, 20, \"\", 0, 1)\n",
    "    pdf.multi_cell(300, 20, \"{}\".format(\"RECOMMENDATION \" + str(count) + \":\"), 0, 1, \"L\")\n",
    "    pdf.set_font(\"Times\", \"\", 12)\n",
    "    pdf.set_text_color(0, 0, 0)\n",
    "    pdf.cell(0, 20, \"\", 0, 1)\n",
    "    pdf.multi_cell(300, 20, \"{}\".format(recommended_desire4), 0, 1, \"L\")\n",
    "    pdf.image('rv_level_end.png', x = 400, y = y_axis, w = 0, h = 150)\n",
    "    y_axis +=200\n",
    "except:\n",
    "    pass\n",
    "\n",
    "# if count == 4:\n",
    "#     pdf.add_page()\n",
    "#     y_axis = 20\n",
    "\n",
    "try:\n",
    "    print(recommended_desire5)\n",
    "    pdf.set_y(y_axis)\n",
    "    count += 1\n",
    "    pdf.set_font(\"Times\", \"B\", 24)\n",
    "    pdf.set_text_color(255, 140, 0)\n",
    "    pdf.cell(0, 20, \"\", 0, 1)\n",
    "    pdf.multi_cell(300, 20, \"{}\".format(\"RECOMMENDATION \" + str(count) + \":\"), 0, 1, \"L\")\n",
    "    pdf.set_font(\"Times\", \"\", 12)\n",
    "    pdf.set_text_color(0, 0, 0)\n",
    "    pdf.cell(0, 20, \"\", 0, 1)\n",
    "    pdf.multi_cell(300, 20, \"{}\".format(recommended_desire5), 0, 1, \"L\")\n",
    "    pdf.image('rv_continue.png', x = 400, y = y_axis, w = 0, h = 150)\n",
    "    y_axis +=200\n",
    "except:\n",
    "    pass\n",
    "\n",
    "# if count == 4:\n",
    "#     pdf.add_page()\n",
    "#     y_axis = 20\n",
    "\n",
    "try:\n",
    "    print(recommended_desire6)\n",
    "    pdf.set_y(y_axis)\n",
    "    count += 1\n",
    "    pdf.set_font(\"Times\", \"B\", 24)\n",
    "    pdf.set_text_color(255, 140, 0)\n",
    "    pdf.cell(0, 20, \"\", 0, 1)\n",
    "    pdf.multi_cell(300, 20, \"{}\".format(\"RECOMMENDATION \" + str(count) + \":\"), 0, 1, \"L\")\n",
    "    pdf.set_font(\"Times\", \"\", 12)\n",
    "    pdf.set_text_color(0, 0, 0)\n",
    "    pdf.cell(0, 20, \"\", 0, 1)\n",
    "    pdf.multi_cell(300, 20, \"{}\".format(recommended_desire6), 0, 1, \"L\")\n",
    "    pdf.image('rv_resource.png', x = 400, y = y_axis, w = 0, h = 150)\n",
    "    y_axis +=200\n",
    "except:\n",
    "    pass\n",
    "\n",
    "if count == 4:\n",
    "    pdf.add_page()\n",
    "    y_axis = 20\n",
    "\n",
    "try:\n",
    "    print(recommended_desire7)\n",
    "    pdf.set_y(y_axis)\n",
    "    count += 1\n",
    "    pdf.set_font(\"Times\", \"B\", 24)\n",
    "    pdf.set_text_color(255, 140, 0)\n",
    "    pdf.cell(0, 20, \"\", 0, 1)\n",
    "    pdf.multi_cell(300, 20, \"{}\".format(\"RECOMMENDATION \" + str(count) + \":\"), 0, 1, \"L\")\n",
    "    pdf.set_font(\"Times\", \"\", 12)\n",
    "    pdf.set_text_color(0, 0, 0)\n",
    "    pdf.cell(0, 20, \"\", 0, 1)\n",
    "    pdf.multi_cell(300, 20, \"{}\".format(recommended_desire7), 0, 1, \"L\")\n",
    "    pdf.image('rv_skip_level.png', x = 400, y = y_axis, w = 0, h = 150)\n",
    "    y_axis +=200\n",
    "except:\n",
    "    pass\n",
    "\n",
    "if count == 4:\n",
    "    pdf.add_page()\n",
    "    y_axis = 20\n",
    "\n",
    "try:\n",
    "    print(recommended_desire8)\n",
    "    pdf.set_y(y_axis)\n",
    "    count += 1\n",
    "    pdf.set_font(\"Times\", \"B\", 24)\n",
    "    pdf.set_text_color(255, 140, 0)\n",
    "    pdf.cell(0, 20, \"\", 0, 1)\n",
    "    pdf.multi_cell(300, 20, \"{}\".format(\"RECOMMENDATION \" + str(count) + \":\"), 0, 1, \"L\")\n",
    "    pdf.set_font(\"Times\", \"\", 12)\n",
    "    pdf.set_text_color(0, 0, 0)\n",
    "    pdf.cell(0, 20, \"\", 0, 1)\n",
    "    pdf.multi_cell(300, 20, \"{}\".format(recommended_desire8), 0, 1, \"L\")\n",
    "    pdf.image('rv_more_time.png', x = 400, y = y_axis, w = 0, h = 150)\n",
    "    y_axis +=200\n",
    "except:\n",
    "    pass\n",
    "\n",
    "if count == 8:\n",
    "    pdf.add_page()\n",
    "    y_axis = 20\n",
    "\n",
    "try:\n",
    "    print(recommended_desire9)\n",
    "    pdf.set_y(y_axis)\n",
    "    count += 1\n",
    "    pdf.set_font(\"Times\", \"B\", 24)\n",
    "    pdf.set_text_color(255, 140, 0)\n",
    "    pdf.cell(0, 20, \"\", 0, 1)\n",
    "    pdf.multi_cell(300, 20, \"{}\".format(\"RECOMMENDATION \" + str(count) + \":\"), 0, 1, \"L\")\n",
    "    pdf.set_font(\"Times\", \"\", 12)\n",
    "    pdf.set_text_color(0, 0, 0)\n",
    "    pdf.cell(0, 20, \"\", 0, 1)\n",
    "    pdf.multi_cell(300, 20, \"{}\".format(recommended_desire9), 0, 1, \"L\")\n",
    "    \n",
    "    pdf.set_x(370)\n",
    "    pdf.set_font(\"Times\", \"I\", 12)\n",
    "    pdf.multi_cell(200, 10, \"Current Ads Velocities\", 0, 0, \"J\")\n",
    "    pdf.image('Average_ad_velocity.png', x = 350, y = y_axis + 50, w = 0, h = 150)\n",
    "\n",
    "    y_axis +=200\n",
    "except:\n",
    "    pass\n",
    "\n",
    "\n",
    "\n",
    "pdf.add_page()\n",
    "###Ad Statistics\n",
    "pdf.set_font(\"Times\", \"B\", 24)\n",
    "pdf.cell(0, 50, \"Some Simple Current Game Ad Statistics\", 0, 1, \"C\")\n",
    "\n",
    "y_axis= 100\n",
    "pdf.set_y(y_axis)\n",
    "\n",
    "# # 1 set of charts\n",
    "# pdf.set_font(\"Times\", \"I\", 13)\n",
    "# pdf.cell(175, 0, \"Ad occurence per 10mins\", 0, 0, \"C\")\n",
    "# pdf.cell(175, 0, \"Current Ads pushed by Game\", 0, 0, \"C\")\n",
    "# pdf.cell(175, 0, \"Current Ads shown in Game\", 0, 0, \"C\")\n",
    "# pdf.image('Ad_average_count.png', x = 30, y = y_axis + 20, w = 0, h = 150)\n",
    "\n",
    "# pdf.cell(0, 5, \"\", 0, 1)\n",
    "# pdf.image('Ad_average_proactiveness.png', x = 205, y = y_axis + 20, w = 0, h = 150)\n",
    "\n",
    "# ##pie charts\n",
    "# pdf.cell(0, 5, \"\", 0, 1)\n",
    "# pdf.image('Ad_category_in_game.png', x = 380, y = y_axis + 70, w = 150, h = 0)\n",
    "\n",
    "# y_axis= y_axis + 230\n",
    "# pdf.set_y(y_axis)\n",
    "# 1 set of charts\n",
    "# pdf.set_font(\"Times\", \"I\", 13)\n",
    "# pdf.cell(175, 0, \"Current Ads placement locations\", 0, 0, \"C\")\n",
    "# pdf.cell(175, 0, \"Current Ads types shown in Game\", 0, 0, \"C\")\n",
    "# pdf.cell(175, 0, \"Current Ads types breakdown\", 0, 0, \"C\")\n",
    "# ##pie charts\n",
    "# pdf.image('Ad_placement_location_proportion.png', x = 30, y = y_axis + 70, w = 150, h = 0)\n",
    "\n",
    "# pdf.cell(0, 5, \"\", 0, 1)\n",
    "# pdf.image('Ad_type_average_count.png', x = 205, y = y_axis + 20, w = 0, h = 150)\n",
    "\n",
    "# ##pie charts\n",
    "# pdf.cell(0, 5, \"\", 0, 1)\n",
    "# pdf.image('ad_type_by_ad_format_distribution_table.png', x = 390, y = y_axis + 70, w = 150, h = 0)\n",
    "\n",
    "# y_axis= y_axis + 230\n",
    "# pdf.set_y(y_axis)\n",
    "# # 1 set of charts\n",
    "pdf.set_font(\"Times\", \"I\", 13)\n",
    "# pdf.cell(175, 10, \"Current Ads velocities\", 0, 0, \"C\")\n",
    "pdf.cell(175, 10, \"Current Ads proactiveness across time\", 0, 0, \"C\")\n",
    "##pie charts\n",
    "# pdf.image('Average_ad_velocity.png', x = 30, y = y_axis + 20, w = 0, h = 150)\n",
    "\n",
    "pdf.cell(0, 5, \"\", 0, 1)\n",
    "pdf.image('Ad_proactiveness_across_average_game_duration.png', x = 30, y = y_axis + 20, w = 150, h = 0)\n",
    "\n",
    "\n",
    "# y_axis= y_axis \n",
    "pdf.set_y(y_axis + 40)\n",
    "pdf.set_x(200)\n",
    "pdf.set_font(\"Times\", \"B\", 12)\n",
    "pdf.set_text_color(255, 0, 0)\n",
    "pdf.multi_cell(300, 20, \"{}\".format(recommended_ads_tightness), 0, 1, \"C\")\n",
    "\n",
    "\n",
    "\n",
    "# pdf.add_page()\n",
    "# 1 set of charts\n",
    "y_axis= y_axis + 180\n",
    "pdf.set_y(y_axis)\n",
    "pdf.cell(0, 5, \"\", 0, 1)\n",
    "pdf.set_font(\"Times\", \"I\", 13)\n",
    "pdf.set_text_color(0, 0, 0)\n",
    "pdf.cell(175, 0, \"Current Ads shown across game\", 0, 0, \"C\")\n",
    "pdf.cell(175, 0, \"Current Ads location across game\", 0, 0, \"C\")\n",
    "pdf.cell(215, 0, \"Current Ads type across game\", 0, 0, \"C\")\n",
    "##pie charts\n",
    "pdf.image('Ad_category_across_average_game_duration.png', x = 30, y = y_axis + 20, w = 150, h = 0)\n",
    "\n",
    "pdf.cell(0, 5, \"\", 0, 1)\n",
    "pdf.image('Ad_location_across_average_game_duration.png', x = 205, y = y_axis + 20, w = 150, h = 0)\n",
    "\n",
    "##table charts\n",
    "pdf.cell(0, 5, \"\", 0, 1)\n",
    "pdf.image('Ad_type_across_average_game_duration.png', x = 400, y = y_axis + 20, w = 150, h = 0)\n",
    "\n",
    "\n",
    "y_axis= y_axis + 180\n",
    "pdf.set_y(y_axis)\n",
    "pdf.set_font(\"Times\", \"B\", 12)\n",
    "pdf.set_text_color(255, 0, 0)\n",
    "pdf.cell(550, 20, \"{}\".format(recommended_ad_consistency), 0, 1, \"C\")\n",
    "\n",
    "\n",
    "# y_axis= 210\n",
    "# pdf.set_y(y_axis)\n",
    "# # 1 set of charts\n",
    "# pdf.cell(0, 5, \"\", 0, 1)\n",
    "# pdf.set_font(\"Times\", \"I\", 13)\n",
    "# pdf.cell(250, 0, \"Interstitial placement breakdown\", 0, 0, \"C\")\n",
    "# pdf.cell(250, 0, \"Rewarded placement breakdown\", 0, 0, \"C\")\n",
    "# ##pie charts\n",
    "# pdf.image('Interstitial_ad_placement_location_proportion.png', x = 40, y = y_axis+20, w = 225, h = 0)\n",
    "\n",
    "# pdf.cell(0, 5, \"\", 0, 1)\n",
    "# pdf.image('Rewarded_ad_placement_location_proportion.png', x = 290, y = y_axis+20, w = 225, h = 0)\n",
    "\n",
    "\n",
    "y_axis= y_axis + 100\n",
    "pdf.set_y(y_axis)\n",
    "# 1 set of charts\n",
    "pdf.cell(0, 5, \"\", 0, 1)\n",
    "pdf.set_text_color(0, 0, 0)\n",
    "pdf.set_font(\"Times\", \"I\", 13)\n",
    "pdf.cell(175, 0, \"Rewarded items breakdown\", 0, 0, \"C\")\n",
    "pdf.cell(175, 0, \"Stacking of Rewards\", 0, 0, \"C\")\n",
    "pdf.cell(175, 0, \"Rewards stacking across game\", 0, 0, \"C\")\n",
    "##pie charts\n",
    "pdf.image('Rewarded_items_proportion.png', x = 20, y = y_axis + 70, w = 150, h = 0)\n",
    "\n",
    "pdf.cell(0, 5, \"\", 0, 1)\n",
    "pdf.image('Rewards_stacked_through_game_play.png', x = 205, y = y_axis + 20, w = 0, h = 150)\n",
    "\n",
    "pdf.cell(0, 5, \"\", 0, 1)\n",
    "pdf.image('Ad_stacked_rewards_across_average_game_duration.png', x = 380, y = y_axis + 70, w = 150, h = 0)\n",
    "\n",
    "\n",
    "y_axis= y_axis + 180\n",
    "pdf.set_y(y_axis)\n",
    "# pdf.set_x(100)\n",
    "pdf.set_font(\"Times\", \"B\", 12)\n",
    "pdf.set_text_color(255, 0, 0)\n",
    "pdf.cell(550, 20, \"{}\".format(recommended_more_rewards), 0, 1, \"C\")\n",
    "pdf.cell(550, 20, \"{}\".format(recommended_stacking_rewards), 0, 1, \"C\")\n",
    "\n",
    "\n",
    "\n",
    "pdf.add_page()\n",
    "y_axis= 40\n",
    "pdf.set_y(y_axis)\n",
    "pdf.cell(0, 5, \"\", 0, 1)\n",
    "pdf.image('metrics_stacked.png', x = 20, y = y_axis + 20, w = 250, h = 0)\n",
    "\n",
    "y_axis= 150\n",
    "pdf.set_y(y_axis)\n",
    "pdf.set_x(300)\n",
    "pdf.set_font(\"Times\", \"B\", 14)\n",
    "pdf.cell(175, 0, \"Overall Metrics and Summary\", 0, 0, \"C\")\n",
    "pdf.cell(0, 10, \"\", 0, 1)\n",
    "pdf.set_text_color(0, 0, 0)\n",
    "y_axis= 200\n",
    "pdf.set_y(y_axis)\n",
    "pdf.set_x(300)\n",
    "pdf.multi_cell(225, 20, \"{}\".format(ad_design_evaluation), 0, 1, \"C\")\n",
    "\n",
    "y_axis= 500\n",
    "pdf.set_y(y_axis)\n",
    "pdf.cell(400, 30, \"Contact your friendly MAS BD/CS Manager right now!\", 0, 0, \"L\")\n",
    "pdf.cell(0, 20, \"\", 0, 1)\n",
    "pdf.cell(400, 30, \"Try out more of our MAS services such as:\", 0, 0, \"L\")\n",
    "pdf.image('bd.png', x = 400, y = y_axis + 10, w = 50, h = 50)\n",
    "pdf.image('cs.png', x = 500, y = y_axis + 10, w = 50, h = 50)\n",
    "\n",
    "\n",
    "\n",
    "pdf.output(str(game) + '_ad_design_report_v1.pdf', 'F')"
   ]
  },
  {
   "cell_type": "code",
   "execution_count": null,
   "metadata": {},
   "outputs": [],
   "source": []
  },
  {
   "cell_type": "code",
   "execution_count": null,
   "metadata": {},
   "outputs": [],
   "source": []
  },
  {
   "cell_type": "code",
   "execution_count": null,
   "metadata": {},
   "outputs": [],
   "source": []
  },
  {
   "cell_type": "code",
   "execution_count": null,
   "metadata": {},
   "outputs": [],
   "source": []
  },
  {
   "cell_type": "markdown",
   "metadata": {},
   "source": [
    "# Test 3 "
   ]
  },
  {
   "cell_type": "raw",
   "metadata": {
    "ExecuteTime": {
     "end_time": "2020-06-18T08:06:16.239049Z",
     "start_time": "2020-06-18T08:06:15.947755Z"
    }
   },
   "source": [
    "import time\n",
    "from reportlab.lib.enums import TA_JUSTIFY\n",
    "from reportlab.lib.pagesizes import letter\n",
    "from reportlab.platypus import SimpleDocTemplate, Paragraph, Spacer, Image\n",
    "from reportlab.lib.styles import getSampleStyleSheet, ParagraphStyle\n",
    "from reportlab.lib.units import inch\n",
    "\n",
    "canvas = canvas.Canvas(\"ad_design_report_v1.pdf\")\n",
    "# doc = SimpleDocTemplate(\"form_letter.pdf\",pagesize=letter,\n",
    "#                         rightMargin=72,leftMargin=72,\n",
    "#                         topMargin=72,bottomMargin=18)\n",
    "\n",
    "canvas.setLineWidth(.3)\n",
    "canvas.setFont('Helvetica', 12)\n",
    "\n",
    "canvas.drawString(100,800,\"Ad Design Report!\")\n",
    "canvas.drawString(30,750,'OFFICIAL COMMUNIQUE')\n",
    "canvas.drawString(30,735,'OF ACME INDUSTRIES')\n",
    "canvas.drawString(500,750,\"12/12/2010\")\n",
    "canvas.line(480,747,580,747)\n",
    "canvas.drawString(275,725,'AMOUNT OWED:')\n",
    "canvas.drawString(500,725,\"$1,000.00\")\n",
    "canvas.line(378,723,580,723)\n",
    "canvas.drawString(30,703,'RECEIVED BY:')\n",
    "canvas.line(120,700,580,700)\n",
    "canvas.drawString(120,703,\"JOHN DOE\")\n",
    "canvas.save()"
   ]
  },
  {
   "cell_type": "raw",
   "metadata": {
    "ExecuteTime": {
     "end_time": "2020-06-18T08:06:16.240049Z",
     "start_time": "2020-06-18T08:05:59.144Z"
    }
   },
   "source": [
    "import time\n",
    "from reportlab.lib.enums import TA_JUSTIFY\n",
    "from reportlab.lib.pagesizes import letter\n",
    "from reportlab.platypus import SimpleDocTemplate, Paragraph, Spacer, Image\n",
    "from reportlab.lib.styles import getSampleStyleSheet, ParagraphStyle\n",
    "from reportlab.lib.units import inch\n",
    "\n",
    "doc = SimpleDocTemplate(\"ad_design_report_v2.pdf\",\n",
    "                        rightMargin=72,leftMargin=72,\n",
    "                        topMargin=72,bottomMargin=18)\n",
    "Story=[]\n",
    "logo = \"yodo1.png\"\n",
    "magName = \"Pythonista\"\n",
    "issueNum = 12\n",
    "subPrice = \"99.00\"\n",
    "limitedDate = \"03/05/2010\"\n",
    "freeGift = \"tin foil hat\"\n",
    "\n",
    "formatted_time = time.ctime()\n",
    "full_name = \"Mike Driscoll\"\n",
    "address_parts = [\"411 State St.\", \"Marshalltown, IA 50158\"]\n",
    "\n",
    "im = Image(logo, 2*inch, 2*inch)\n",
    "Story.append(im)\n",
    "\n",
    "styles=getSampleStyleSheet()\n",
    "styles.add(ParagraphStyle(name='Justify', alignment=TA_JUSTIFY))\n",
    "ptext = '<font size=\"12\">%s</font>' % formatted_time\n",
    "\n",
    "Story.append(Paragraph(ptext, styles[\"Normal\"]))\n",
    "Story.append(Spacer(1, 12))\n",
    "\n",
    "# Create return address\n",
    "ptext = '<font size=\"12\">%s</font>' % full_name\n",
    "Story.append(Paragraph(ptext, styles[\"Normal\"]))       \n",
    "for part in address_parts:\n",
    "    ptext = '<font size=\"12\">%s</font>' % part.strip()\n",
    "    Story.append(Paragraph(ptext, styles[\"Normal\"]))   \n",
    "\n",
    "Story.append(Spacer(1, 12))\n",
    "ptext = '<font size=\"12\">Dear %s:</font>' % full_name.split()[0].strip()\n",
    "Story.append(Paragraph(ptext, styles[\"Normal\"]))\n",
    "Story.append(Spacer(1, 12))\n",
    "\n",
    "ptext = '<font size=\"12\">We would like to welcome you to our subscriber base for %s Magazine! \\\n",
    "        You will receive %s issues at the excellent introductory price of $%s. Please respond by\\\n",
    "        %s to start receiving your subscription and get the following free gift: %s.</font>' % (ad_design_score,\n",
    "                                                                                               average_ad_velocity,\n",
    "                                                                                               ad_placement_number,\n",
    "                                                                                               ad_placement_locations,\n",
    "                                                                                               ad_format_number)\n",
    "# pdf.cell(80, 10, '%s' % (ad_design_score), 1, 0, 'C')\n",
    "# pdf.cell(70, 10, '%s' % (average_ad_velocity), 1, 0, 'C')\n",
    "# pdf.cell(60, 10, '%s' % (ad_placement_number), 1, 0, 'C')\n",
    "# pdf.cell(50, 10, '%s' % (ad_placement_locations), 1, 0, 'C')\n",
    "# pdf.cell(40, 10, '%s' % (ad_format_number), 1, 0, 'C')\n",
    "# pdf.cell(30, 10, '%s' % (ad_format_used), 1, 0, 'C')\n",
    "# pdf.cell(20, 10, '%s' % (time_to_first_ad), 1, 0, 'C')\n",
    "# pdf.cell(10, 10, '%s' % (compliance), 1, 0, 'C')\n",
    "#     magName, \n",
    "#                                                                                                 issueNum,\n",
    "#                                                                                                 subPrice,\n",
    "#                                                                                                 limitedDate,\n",
    "#                                                                                                 freeGift)\n",
    "Story.append(Paragraph(ptext, styles[\"Justify\"]))\n",
    "Story.append(Spacer(1, 12))\n",
    "\n",
    "\n",
    "ptext = '<font size=\"12\">Thank you very much and we look forward to serving you.</font>'\n",
    "Story.append(Paragraph(ptext, styles[\"Justify\"]))\n",
    "Story.append(Spacer(1, 12))\n",
    "ptext = '<font size=\"12\">Sincerely,</font>'\n",
    "Story.append(Paragraph(ptext, styles[\"Normal\"]))\n",
    "Story.append(Spacer(1, 48))\n",
    "ptext = '<font size=\"12\">Ima Sucker</font>'\n",
    "Story.append(Paragraph(ptext, styles[\"Normal\"]))\n",
    "Story.append(Spacer(1, 12))\n",
    "doc.build(Story)"
   ]
  },
  {
   "cell_type": "raw",
   "metadata": {},
   "source": []
  },
  {
   "cell_type": "code",
   "execution_count": null,
   "metadata": {},
   "outputs": [],
   "source": []
  },
  {
   "cell_type": "code",
   "execution_count": null,
   "metadata": {},
   "outputs": [],
   "source": []
  }
 ],
 "metadata": {
  "kernelspec": {
   "display_name": "Python 3",
   "language": "python",
   "name": "python3"
  },
  "language_info": {
   "codemirror_mode": {
    "name": "ipython",
    "version": 3
   },
   "file_extension": ".py",
   "mimetype": "text/x-python",
   "name": "python",
   "nbconvert_exporter": "python",
   "pygments_lexer": "ipython3",
   "version": "3.7.4"
  },
  "toc": {
   "base_numbering": 1,
   "nav_menu": {},
   "number_sections": true,
   "sideBar": true,
   "skip_h1_title": false,
   "title_cell": "Table of Contents",
   "title_sidebar": "Contents",
   "toc_cell": false,
   "toc_position": {
    "height": "calc(100% - 180px)",
    "left": "10px",
    "top": "150px",
    "width": "265.225px"
   },
   "toc_section_display": true,
   "toc_window_display": true
  }
 },
 "nbformat": 4,
 "nbformat_minor": 2
}
